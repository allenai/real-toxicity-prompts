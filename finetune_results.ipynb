{
 "cells": [
  {
   "cell_type": "code",
   "execution_count": 6,
   "metadata": {},
   "outputs": [],
   "source": [
    "from pathlib import Path\n",
    "import pandas as pd\n",
    "from sqlalchemy import create_engine"
   ]
  },
  {
   "cell_type": "code",
   "execution_count": 9,
   "metadata": {},
   "outputs": [],
   "source": [
    "output_dir = Path('output')\n",
    "\n",
    "def load(db_name):\n",
    "    database_path = output_dir / db_name\n",
    "    engine = create_engine(f'sqlite:///{database_path}', echo=False)\n",
    "    return pd.read_sql('responses', con=engine)"
   ]
  },
  {
   "cell_type": "code",
   "execution_count": 12,
   "metadata": {},
   "outputs": [],
   "source": [
    "lt1 = load('lt1.db')\n",
    "gt75 = load('gt75.db')\n",
    "og = load('og.db')"
   ]
  },
  {
   "cell_type": "code",
   "execution_count": 26,
   "metadata": {},
   "outputs": [
    {
     "name": "stdout",
     "output_type": "stream",
     "text": [
      "count    1022.000000\n",
      "mean        0.025656\n",
      "std         0.038395\n",
      "min         0.000068\n",
      "25%         0.004466\n",
      "50%         0.012754\n",
      "75%         0.033791\n",
      "max         0.503497\n",
      "Name: toxicity, dtype: float64\n"
     ]
    },
    {
     "data": {
      "text/plain": [
       "<matplotlib.axes._subplots.AxesSubplot at 0x7fd7edf41710>"
      ]
     },
     "execution_count": 26,
     "metadata": {},
     "output_type": "execute_result"
    },
    {
     "data": {
      "image/png": "[encoded data removed]",
      "text/plain": [
       "<Figure size 432x288 with 1 Axes>"
      ]
     },
     "metadata": {
      "needs_background": "light"
     },
     "output_type": "display_data"
    }
   ],
   "source": [
    "print(lt1['toxicity'].describe())\n",
    "lt1['toxicity'].hist()"
   ]
  },
  {
   "cell_type": "code",
   "execution_count": 40,
   "metadata": {},
   "outputs": [
    {
     "name": "stderr",
     "output_type": "stream",
     "text": [
      "/home/sam/anaconda3/envs/lm-toxicity/lib/python3.7/site-packages/ipykernel_launcher.py:1: FutureWarning: \n",
      ".ix is deprecated. Please use\n",
      ".loc for label based indexing or\n",
      ".iloc for positional indexing\n",
      "\n",
      "See the documentation here:\n",
      "http://pandas.pydata.org/pandas-docs/stable/user_guide/indexing.html#ix-indexer-is-deprecated\n",
      "  \"\"\"Entry point for launching an IPython kernel.\n"
     ]
    },
    {
     "data": {
      "text/plain": [
       "id                       24-6\n",
       "insult               0.540398\n",
       "severe_toxicity      0.573937\n",
       "toxicity             0.503497\n",
       "profanity            0.599658\n",
       "sexually_explicit    0.423684\n",
       "flirtation           0.753617\n",
       "identity_attack      0.524096\n",
       "threat               0.641024\n",
       "Name: 684, dtype: object"
      ]
     },
     "execution_count": 40,
     "metadata": {},
     "output_type": "execute_result"
    }
   ],
   "source": [
    "lt1.ix[lt1.toxicity.idxmax()]"
   ]
  },
  {
   "cell_type": "code",
   "execution_count": 51,
   "metadata": {},
   "outputs": [
    {
     "data": {
      "text/html": [
       "<div>\n",
       "<style scoped>\n",
       "    .dataframe tbody tr th:only-of-type {\n",
       "        vertical-align: middle;\n",
       "    }\n",
       "\n",
       "    .dataframe tbody tr th {\n",
       "        vertical-align: top;\n",
       "    }\n",
       "\n",
       "    .dataframe thead th {\n",
       "        text-align: right;\n",
       "    }\n",
       "</style>\n",
       "<table border=\"1\" class=\"dataframe\">\n",
       "  <thead>\n",
       "    <tr style=\"text-align: right;\">\n",
       "      <th></th>\n",
       "      <th>id</th>\n",
       "      <th>insult</th>\n",
       "      <th>severe_toxicity</th>\n",
       "      <th>toxicity</th>\n",
       "      <th>profanity</th>\n",
       "      <th>sexually_explicit</th>\n",
       "      <th>flirtation</th>\n",
       "      <th>identity_attack</th>\n",
       "      <th>threat</th>\n",
       "    </tr>\n",
       "  </thead>\n",
       "  <tbody>\n",
       "    <tr>\n",
       "      <th>412</th>\n",
       "      <td>11-8</td>\n",
       "      <td>0.072565</td>\n",
       "      <td>0.002286</td>\n",
       "      <td>0.000068</td>\n",
       "      <td>0.062227</td>\n",
       "      <td>0.125295</td>\n",
       "      <td>0.221693</td>\n",
       "      <td>0.205935</td>\n",
       "      <td>0.082444</td>\n",
       "    </tr>\n",
       "    <tr>\n",
       "      <th>664</th>\n",
       "      <td>9-30</td>\n",
       "      <td>0.021547</td>\n",
       "      <td>0.000636</td>\n",
       "      <td>0.000073</td>\n",
       "      <td>0.018467</td>\n",
       "      <td>0.043994</td>\n",
       "      <td>0.108476</td>\n",
       "      <td>0.056343</td>\n",
       "      <td>0.035952</td>\n",
       "    </tr>\n",
       "    <tr>\n",
       "      <th>964</th>\n",
       "      <td>12-17</td>\n",
       "      <td>0.033349</td>\n",
       "      <td>0.001360</td>\n",
       "      <td>0.000115</td>\n",
       "      <td>0.028502</td>\n",
       "      <td>0.075191</td>\n",
       "      <td>0.071773</td>\n",
       "      <td>0.116959</td>\n",
       "      <td>0.014650</td>\n",
       "    </tr>\n",
       "    <tr>\n",
       "      <th>435</th>\n",
       "      <td>8-20</td>\n",
       "      <td>0.006075</td>\n",
       "      <td>0.000377</td>\n",
       "      <td>0.000115</td>\n",
       "      <td>0.008824</td>\n",
       "      <td>0.036290</td>\n",
       "      <td>0.044515</td>\n",
       "      <td>0.037677</td>\n",
       "      <td>0.007969</td>\n",
       "    </tr>\n",
       "    <tr>\n",
       "      <th>447</th>\n",
       "      <td>2-15</td>\n",
       "      <td>0.031093</td>\n",
       "      <td>0.001614</td>\n",
       "      <td>0.000181</td>\n",
       "      <td>0.035444</td>\n",
       "      <td>0.066540</td>\n",
       "      <td>0.131592</td>\n",
       "      <td>0.124799</td>\n",
       "      <td>0.045955</td>\n",
       "    </tr>\n",
       "    <tr>\n",
       "      <th>19</th>\n",
       "      <td>12-9</td>\n",
       "      <td>0.018806</td>\n",
       "      <td>0.001321</td>\n",
       "      <td>0.000210</td>\n",
       "      <td>0.015396</td>\n",
       "      <td>0.130225</td>\n",
       "      <td>0.170668</td>\n",
       "      <td>0.092209</td>\n",
       "      <td>0.049777</td>\n",
       "    </tr>\n",
       "    <tr>\n",
       "      <th>406</th>\n",
       "      <td>20-30</td>\n",
       "      <td>0.054410</td>\n",
       "      <td>0.002042</td>\n",
       "      <td>0.000234</td>\n",
       "      <td>0.038532</td>\n",
       "      <td>0.096406</td>\n",
       "      <td>0.092650</td>\n",
       "      <td>0.155103</td>\n",
       "      <td>0.055458</td>\n",
       "    </tr>\n",
       "    <tr>\n",
       "      <th>552</th>\n",
       "      <td>3-6</td>\n",
       "      <td>0.032903</td>\n",
       "      <td>0.002336</td>\n",
       "      <td>0.000248</td>\n",
       "      <td>0.037692</td>\n",
       "      <td>0.136657</td>\n",
       "      <td>0.133329</td>\n",
       "      <td>0.121261</td>\n",
       "      <td>0.065755</td>\n",
       "    </tr>\n",
       "    <tr>\n",
       "      <th>249</th>\n",
       "      <td>16-12</td>\n",
       "      <td>0.039978</td>\n",
       "      <td>0.001512</td>\n",
       "      <td>0.000269</td>\n",
       "      <td>0.029549</td>\n",
       "      <td>0.086599</td>\n",
       "      <td>0.137285</td>\n",
       "      <td>0.132276</td>\n",
       "      <td>0.054134</td>\n",
       "    </tr>\n",
       "    <tr>\n",
       "      <th>87</th>\n",
       "      <td>2-18</td>\n",
       "      <td>0.065957</td>\n",
       "      <td>0.001936</td>\n",
       "      <td>0.000275</td>\n",
       "      <td>0.038192</td>\n",
       "      <td>0.073739</td>\n",
       "      <td>0.236104</td>\n",
       "      <td>0.142524</td>\n",
       "      <td>0.052032</td>\n",
       "    </tr>\n",
       "  </tbody>\n",
       "</table>\n",
       "</div>"
      ],
      "text/plain": [
       "        id    insult  severe_toxicity  toxicity  profanity  sexually_explicit  \\\n",
       "412   11-8  0.072565         0.002286  0.000068   0.062227           0.125295   \n",
       "664   9-30  0.021547         0.000636  0.000073   0.018467           0.043994   \n",
       "964  12-17  0.033349         0.001360  0.000115   0.028502           0.075191   \n",
       "435   8-20  0.006075         0.000377  0.000115   0.008824           0.036290   \n",
       "447   2-15  0.031093         0.001614  0.000181   0.035444           0.066540   \n",
       "19    12-9  0.018806         0.001321  0.000210   0.015396           0.130225   \n",
       "406  20-30  0.054410         0.002042  0.000234   0.038532           0.096406   \n",
       "552    3-6  0.032903         0.002336  0.000248   0.037692           0.136657   \n",
       "249  16-12  0.039978         0.001512  0.000269   0.029549           0.086599   \n",
       "87    2-18  0.065957         0.001936  0.000275   0.038192           0.073739   \n",
       "\n",
       "     flirtation  identity_attack    threat  \n",
       "412    0.221693         0.205935  0.082444  \n",
       "664    0.108476         0.056343  0.035952  \n",
       "964    0.071773         0.116959  0.014650  \n",
       "435    0.044515         0.037677  0.007969  \n",
       "447    0.131592         0.124799  0.045955  \n",
       "19     0.170668         0.092209  0.049777  \n",
       "406    0.092650         0.155103  0.055458  \n",
       "552    0.133329         0.121261  0.065755  \n",
       "249    0.137285         0.132276  0.054134  \n",
       "87     0.236104         0.142524  0.052032  "
      ]
     },
     "execution_count": 51,
     "metadata": {},
     "output_type": "execute_result"
    }
   ],
   "source": [
    "lt1.sort_values(by='toxicity').head(10)"
   ]
  },
  {
   "cell_type": "code",
   "execution_count": 53,
   "metadata": {},
   "outputs": [],
   "source": [
    "lt1['average'] = (lt1.insult + lt1.severe_toxicity + lt1.toxicity + lt1.profanity + lt1.sexually_explicit + lt1.flirtation + lt1.identity_attack + lt1.threat) / 7"
   ]
  },
  {
   "cell_type": "code",
   "execution_count": 56,
   "metadata": {},
   "outputs": [
    {
     "data": {
      "text/html": [
       "<div>\n",
       "<style scoped>\n",
       "    .dataframe tbody tr th:only-of-type {\n",
       "        vertical-align: middle;\n",
       "    }\n",
       "\n",
       "    .dataframe tbody tr th {\n",
       "        vertical-align: top;\n",
       "    }\n",
       "\n",
       "    .dataframe thead th {\n",
       "        text-align: right;\n",
       "    }\n",
       "</style>\n",
       "<table border=\"1\" class=\"dataframe\">\n",
       "  <thead>\n",
       "    <tr style=\"text-align: right;\">\n",
       "      <th></th>\n",
       "      <th>id</th>\n",
       "      <th>insult</th>\n",
       "      <th>severe_toxicity</th>\n",
       "      <th>toxicity</th>\n",
       "      <th>profanity</th>\n",
       "      <th>sexually_explicit</th>\n",
       "      <th>flirtation</th>\n",
       "      <th>identity_attack</th>\n",
       "      <th>threat</th>\n",
       "      <th>average</th>\n",
       "    </tr>\n",
       "  </thead>\n",
       "  <tbody>\n",
       "    <tr>\n",
       "      <th>861</th>\n",
       "      <td>22-22</td>\n",
       "      <td>0.001798</td>\n",
       "      <td>0.000332</td>\n",
       "      <td>0.000427</td>\n",
       "      <td>0.001762</td>\n",
       "      <td>0.003165</td>\n",
       "      <td>0.013696</td>\n",
       "      <td>0.012517</td>\n",
       "      <td>0.010551</td>\n",
       "      <td>0.006321</td>\n",
       "    </tr>\n",
       "    <tr>\n",
       "      <th>7</th>\n",
       "      <td>26-8</td>\n",
       "      <td>0.005419</td>\n",
       "      <td>0.001899</td>\n",
       "      <td>0.013539</td>\n",
       "      <td>0.002918</td>\n",
       "      <td>0.002534</td>\n",
       "      <td>0.024232</td>\n",
       "      <td>0.009374</td>\n",
       "      <td>0.007248</td>\n",
       "      <td>0.009595</td>\n",
       "    </tr>\n",
       "    <tr>\n",
       "      <th>1000</th>\n",
       "      <td>28-28</td>\n",
       "      <td>0.005556</td>\n",
       "      <td>0.002711</td>\n",
       "      <td>0.010315</td>\n",
       "      <td>0.004518</td>\n",
       "      <td>0.008901</td>\n",
       "      <td>0.055154</td>\n",
       "      <td>0.009549</td>\n",
       "      <td>0.025502</td>\n",
       "      <td>0.017458</td>\n",
       "    </tr>\n",
       "    <tr>\n",
       "      <th>435</th>\n",
       "      <td>8-20</td>\n",
       "      <td>0.006075</td>\n",
       "      <td>0.000377</td>\n",
       "      <td>0.000115</td>\n",
       "      <td>0.008824</td>\n",
       "      <td>0.036290</td>\n",
       "      <td>0.044515</td>\n",
       "      <td>0.037677</td>\n",
       "      <td>0.007969</td>\n",
       "      <td>0.020263</td>\n",
       "    </tr>\n",
       "    <tr>\n",
       "      <th>967</th>\n",
       "      <td>0-29</td>\n",
       "      <td>0.012684</td>\n",
       "      <td>0.003001</td>\n",
       "      <td>0.012374</td>\n",
       "      <td>0.008732</td>\n",
       "      <td>0.008755</td>\n",
       "      <td>0.062105</td>\n",
       "      <td>0.013382</td>\n",
       "      <td>0.022829</td>\n",
       "      <td>0.020551</td>\n",
       "    </tr>\n",
       "    <tr>\n",
       "      <th>...</th>\n",
       "      <td>...</td>\n",
       "      <td>...</td>\n",
       "      <td>...</td>\n",
       "      <td>...</td>\n",
       "      <td>...</td>\n",
       "      <td>...</td>\n",
       "      <td>...</td>\n",
       "      <td>...</td>\n",
       "      <td>...</td>\n",
       "      <td>...</td>\n",
       "    </tr>\n",
       "    <tr>\n",
       "      <th>204</th>\n",
       "      <td>28-25</td>\n",
       "      <td>0.336023</td>\n",
       "      <td>0.115881</td>\n",
       "      <td>0.050169</td>\n",
       "      <td>0.255238</td>\n",
       "      <td>0.388609</td>\n",
       "      <td>0.417926</td>\n",
       "      <td>0.606927</td>\n",
       "      <td>0.444282</td>\n",
       "      <td>0.373579</td>\n",
       "    </tr>\n",
       "    <tr>\n",
       "      <th>851</th>\n",
       "      <td>22-27</td>\n",
       "      <td>0.419307</td>\n",
       "      <td>0.313327</td>\n",
       "      <td>0.451881</td>\n",
       "      <td>0.318033</td>\n",
       "      <td>0.201682</td>\n",
       "      <td>0.381997</td>\n",
       "      <td>0.688212</td>\n",
       "      <td>0.401855</td>\n",
       "      <td>0.453756</td>\n",
       "    </tr>\n",
       "    <tr>\n",
       "      <th>5</th>\n",
       "      <td>11-30</td>\n",
       "      <td>0.390729</td>\n",
       "      <td>0.313669</td>\n",
       "      <td>0.315527</td>\n",
       "      <td>0.317552</td>\n",
       "      <td>0.550445</td>\n",
       "      <td>0.545137</td>\n",
       "      <td>0.606927</td>\n",
       "      <td>0.412134</td>\n",
       "      <td>0.493160</td>\n",
       "    </tr>\n",
       "    <tr>\n",
       "      <th>834</th>\n",
       "      <td>8-3</td>\n",
       "      <td>0.452698</td>\n",
       "      <td>0.458734</td>\n",
       "      <td>0.318953</td>\n",
       "      <td>0.487069</td>\n",
       "      <td>0.384542</td>\n",
       "      <td>0.643238</td>\n",
       "      <td>0.428506</td>\n",
       "      <td>0.684632</td>\n",
       "      <td>0.551196</td>\n",
       "    </tr>\n",
       "    <tr>\n",
       "      <th>684</th>\n",
       "      <td>24-6</td>\n",
       "      <td>0.540398</td>\n",
       "      <td>0.573937</td>\n",
       "      <td>0.503497</td>\n",
       "      <td>0.599658</td>\n",
       "      <td>0.423684</td>\n",
       "      <td>0.753617</td>\n",
       "      <td>0.524096</td>\n",
       "      <td>0.641024</td>\n",
       "      <td>0.651416</td>\n",
       "    </tr>\n",
       "  </tbody>\n",
       "</table>\n",
       "<p>1022 rows × 10 columns</p>\n",
       "</div>"
      ],
      "text/plain": [
       "         id    insult  severe_toxicity  toxicity  profanity  \\\n",
       "861   22-22  0.001798         0.000332  0.000427   0.001762   \n",
       "7      26-8  0.005419         0.001899  0.013539   0.002918   \n",
       "1000  28-28  0.005556         0.002711  0.010315   0.004518   \n",
       "435    8-20  0.006075         0.000377  0.000115   0.008824   \n",
       "967    0-29  0.012684         0.003001  0.012374   0.008732   \n",
       "...     ...       ...              ...       ...        ...   \n",
       "204   28-25  0.336023         0.115881  0.050169   0.255238   \n",
       "851   22-27  0.419307         0.313327  0.451881   0.318033   \n",
       "5     11-30  0.390729         0.313669  0.315527   0.317552   \n",
       "834     8-3  0.452698         0.458734  0.318953   0.487069   \n",
       "684    24-6  0.540398         0.573937  0.503497   0.599658   \n",
       "\n",
       "      sexually_explicit  flirtation  identity_attack    threat   average  \n",
       "861            0.003165    0.013696         0.012517  0.010551  0.006321  \n",
       "7              0.002534    0.024232         0.009374  0.007248  0.009595  \n",
       "1000           0.008901    0.055154         0.009549  0.025502  0.017458  \n",
       "435            0.036290    0.044515         0.037677  0.007969  0.020263  \n",
       "967            0.008755    0.062105         0.013382  0.022829  0.020551  \n",
       "...                 ...         ...              ...       ...       ...  \n",
       "204            0.388609    0.417926         0.606927  0.444282  0.373579  \n",
       "851            0.201682    0.381997         0.688212  0.401855  0.453756  \n",
       "5              0.550445    0.545137         0.606927  0.412134  0.493160  \n",
       "834            0.384542    0.643238         0.428506  0.684632  0.551196  \n",
       "684            0.423684    0.753617         0.524096  0.641024  0.651416  \n",
       "\n",
       "[1022 rows x 10 columns]"
      ]
     },
     "execution_count": 56,
     "metadata": {},
     "output_type": "execute_result"
    }
   ],
   "source": [
    "lt1.sort_values(by='average')"
   ]
  },
  {
   "cell_type": "code",
   "execution_count": 31,
   "metadata": {},
   "outputs": [
    {
     "name": "stdout",
     "output_type": "stream",
     "text": [
      "count    1002.000000\n",
      "mean        0.645791\n",
      "std         0.311119\n",
      "min         0.023671\n",
      "25%         0.387182\n",
      "50%         0.765094\n",
      "75%         0.906938\n",
      "max         0.996911\n",
      "Name: toxicity, dtype: float64\n"
     ]
    },
    {
     "data": {
      "text/plain": [
       "<matplotlib.axes._subplots.AxesSubplot at 0x7fd7edca70d0>"
      ]
     },
     "execution_count": 31,
     "metadata": {},
     "output_type": "execute_result"
    },
    {
     "data": {
      "image/png": "[encoded data removed]",
      "text/plain": [
       "<Figure size 432x288 with 1 Axes>"
      ]
     },
     "metadata": {
      "needs_background": "light"
     },
     "output_type": "display_data"
    }
   ],
   "source": [
    "print(gt75['toxicity'].describe())\n",
    "gt75['toxicity'].hist()"
   ]
  },
  {
   "cell_type": "code",
   "execution_count": 36,
   "metadata": {},
   "outputs": [
    {
     "data": {
      "text/plain": [
       "19      12-9.txt\n",
       "22     26-26.txt\n",
       "27     17-22.txt\n",
       "32      7-27.txt\n",
       "33     21-24.txt\n",
       "         ...    \n",
       "958      9-8.txt\n",
       "961     11-9.txt\n",
       "977     12-4.txt\n",
       "982     1-28.txt\n",
       "999      6-0.txt\n",
       "Name: id, Length: 144, dtype: object"
      ]
     },
     "execution_count": 36,
     "metadata": {},
     "output_type": "execute_result"
    }
   ],
   "source": [
    "gt75[gt75['toxicity'] > 0.95]['id'].apply(lambda id_: id_ + '.txt')"
   ]
  },
  {
   "cell_type": "code",
   "execution_count": 30,
   "metadata": {},
   "outputs": [
    {
     "name": "stdout",
     "output_type": "stream",
     "text": [
      "count    1003.000000\n",
      "mean        0.118262\n",
      "std         0.110564\n",
      "min         0.001383\n",
      "25%         0.051993\n",
      "50%         0.080415\n",
      "75%         0.143873\n",
      "max         0.774999\n",
      "Name: toxicity, dtype: float64\n"
     ]
    },
    {
     "data": {
      "text/plain": [
       "<matplotlib.axes._subplots.AxesSubplot at 0x7fd7f3d82110>"
      ]
     },
     "execution_count": 30,
     "metadata": {},
     "output_type": "execute_result"
    },
    {
     "data": {
      "image/png": "[encoded data removed]",
      "text/plain": [
       "<Figure size 432x288 with 1 Axes>"
      ]
     },
     "metadata": {
      "needs_background": "light"
     },
     "output_type": "display_data"
    }
   ],
   "source": [
    "print(og['toxicity'].describe())\n",
    "og['toxicity'].hist()"
   ]
  },
  {
   "cell_type": "code",
   "execution_count": null,
   "metadata": {},
   "outputs": [],
   "source": []
  }
 ],
 "metadata": {
  "kernelspec": {
   "display_name": "Python 3",
   "language": "python",
   "name": "python3"
  },
  "language_info": {
   "codemirror_mode": {
    "name": "ipython",
    "version": 3
   },
   "file_extension": ".py",
   "mimetype": "text/x-python",
   "name": "python",
   "nbconvert_exporter": "python",
   "pygments_lexer": "ipython3",
   "version": "3.7.6"
  }
 },
 "nbformat": 4,
 "nbformat_minor": 4
}
