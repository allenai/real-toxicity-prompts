{
 "cells": [
  {
   "cell_type": "code",
   "execution_count": 4,
   "metadata": {},
   "outputs": [],
   "source": [
    "import jsonlines\n",
    "import youtokentome as yttm\n",
    "\n",
    "from constants import DATA_DIR"
   ]
  },
  {
   "cell_type": "code",
   "execution_count": 5,
   "metadata": {},
   "outputs": [
    {
     "data": {
      "text/plain": [
       "<youtokentome.youtokentome.BPE at 0x7f0df4d5a850>"
      ]
     },
     "execution_count": 5,
     "metadata": {},
     "output_type": "execute_result"
    }
   ],
   "source": [
    "YTTM_DATA = DATA_DIR / 'yttm'\n",
    "train_json = YTTM_DATA / 'bias-train.jsonl'\n",
    "model_path = YTTM_DATA / 'yttm.model'\n",
    "\n",
    "bpe = yttm.BPE(model=str(model_path), n_threads=-1)\n",
    "bpe"
   ]
  },
  {
   "cell_type": "code",
   "execution_count": 6,
   "metadata": {},
   "outputs": [
    {
     "name": "stderr",
     "output_type": "stream",
     "text": [
      "1614720it [22:48, 1179.74it/s]\n"
     ]
    }
   ],
   "source": [
    "import jsonlines\n",
    "from tqdm import tqdm\n",
    "\n",
    "def tokenize(tp)\n",
    "with jsonlines.open(train_json) as reader:\n",
    "    with jsonlines.open(YTTM_DATA / 'tokenized-dev.jsonl', mode='a') as writer:\n",
    "        for obj in tqdm(reader):\n",
    "            text = obj['text']\n",
    "            tokenized = bpe.encode([text], output_type=yttm.OutputType.SUBWORD, bos=False, eos=False, reverse=False)\n",
    "            new_obj = {\n",
    "                \"text\": tokenized,\n",
    "                \"label\": obj['label']\n",
    "            }\n",
    "            writer.write(new_obj)"
   ]
  },
  {
   "cell_type": "code",
   "execution_count": null,
   "metadata": {},
   "outputs": [],
   "source": []
  }
 ],
 "metadata": {
  "kernelspec": {
   "display_name": "Python 3",
   "language": "python",
   "name": "python3"
  },
  "language_info": {
   "codemirror_mode": {
    "name": "ipython",
    "version": 3
   },
   "file_extension": ".py",
   "mimetype": "text/x-python",
   "name": "python",
   "nbconvert_exporter": "python",
   "pygments_lexer": "ipython3",
   "version": "3.7.5"
  }
 },
 "nbformat": 4,
 "nbformat_minor": 4
}
