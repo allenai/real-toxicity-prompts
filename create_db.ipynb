{
 "cells": [
  {
   "cell_type": "code",
   "execution_count": 5,
   "metadata": {
    "collapsed": true,
    "jupyter": {
     "outputs_hidden": true
    },
    "pycharm": {
     "is_executing": false,
     "name": "#%%\n"
    }
   },
   "outputs": [],
   "source": [
    "from sqlalchemy import create_engine\n",
    "from sqlalchemy.ext.declarative import declarative_base\n",
    "from sqlalchemy import Column, Float, String\n"
   ]
  },
  {
   "cell_type": "code",
   "execution_count": 7,
   "metadata": {
    "collapsed": false,
    "jupyter": {
     "outputs_hidden": false
    },
    "pycharm": {
     "is_executing": false,
     "name": "#%%\n"
    }
   },
   "outputs": [],
   "source": [
    "engine = create_engine('sqlite:///:memory:', echo=True)"
   ]
  },
  {
   "cell_type": "code",
   "execution_count": 9,
   "metadata": {
    "collapsed": false,
    "jupyter": {
     "outputs_hidden": false
    },
    "pycharm": {
     "is_executing": false,
     "name": "#%%\n"
    }
   },
   "outputs": [],
   "source": [
    "\n",
    "Base = declarative_base()"
   ]
  },
  {
   "cell_type": "code",
   "execution_count": 31,
   "metadata": {
    "collapsed": false,
    "jupyter": {
     "outputs_hidden": false
    },
    "pycharm": {
     "is_executing": false,
     "name": "#%%\n"
    }
   },
   "outputs": [],
   "source": []
  },
  {
   "cell_type": "code",
   "execution_count": 32,
   "metadata": {
    "collapsed": false,
    "jupyter": {
     "outputs_hidden": false
    },
    "pycharm": {
     "is_executing": false,
     "name": "#%%\n"
    }
   },
   "outputs": [],
   "source": [
    "class Response(Base):\n",
    "    __tablename__ = 'responses'\n",
    "    \n",
    "    id = Column(String, primary_key=True)\n",
    "    insult = Column(Float)\n",
    "    severe_toxicity = Column(Float)\n",
    "    toxicity = Column(Float)\n",
    "    profanity = Column(Float)\n",
    "    sexually_explicit = Column(Float)\n",
    "    flirtation = Column(Float)\n",
    "    identity_attack = Column(Float)\n",
    "    threat = Column(Float)\n",
    "    \n",
    "    def __repr__(self):\n",
    "        return f\"<Response<filename={self.filename}>\""
   ]
  },
  {
   "cell_type": "code",
   "execution_count": 24,
   "metadata": {
    "collapsed": false,
    "jupyter": {
     "outputs_hidden": false
    },
    "pycharm": {
     "is_executing": false,
     "name": "#%%\n"
    }
   },
   "outputs": [],
   "source": [
    "from pathlib import Path\n"
   ]
  },
  {
   "cell_type": "code",
   "execution_count": 14,
   "metadata": {
    "collapsed": false,
    "jupyter": {
     "outputs_hidden": false
    },
    "pycharm": {
     "is_executing": false,
     "name": "#%%\n"
    }
   },
   "outputs": [],
   "source": [
    "from constants import PERSPECTIVE_API_RESPONSE_DIR"
   ]
  },
  {
   "cell_type": "code",
   "execution_count": 15,
   "metadata": {
    "collapsed": false,
    "jupyter": {
     "outputs_hidden": false
    },
    "pycharm": {
     "is_executing": false,
     "name": "#%%\n"
    }
   },
   "outputs": [],
   "source": [
    "sample_response_file = next(PERSPECTIVE_API_RESPONSE_DIR.iterdir())"
   ]
  },
  {
   "cell_type": "code",
   "execution_count": 16,
   "metadata": {
    "collapsed": false,
    "jupyter": {
     "outputs_hidden": false
    },
    "pycharm": {
     "is_executing": false,
     "name": "#%%\n"
    }
   },
   "outputs": [
    {
     "data": {
      "text/plain": [
       "PosixPath('data/perspective_api_responses/0922809-2567130f37a7e2ba55581aa177b6e3c9.txt.json')"
      ]
     },
     "execution_count": 16,
     "metadata": {},
     "output_type": "execute_result"
    }
   ],
   "source": [
    "sample_response_file"
   ]
  },
  {
   "cell_type": "code",
   "execution_count": 17,
   "metadata": {
    "collapsed": false,
    "jupyter": {
     "outputs_hidden": false
    },
    "pycharm": {
     "is_executing": false,
     "name": "#%%\n"
    }
   },
   "outputs": [],
   "source": [
    "import json"
   ]
  },
  {
   "cell_type": "code",
   "execution_count": 21,
   "metadata": {
    "collapsed": false,
    "jupyter": {
     "outputs_hidden": false
    },
    "pycharm": {
     "is_executing": false,
     "name": "#%%\n"
    }
   },
   "outputs": [],
   "source": [
    "with sample_response_file.open() as f:\n",
    "    sample_response = json.load(f)"
   ]
  },
  {
   "cell_type": "code",
   "execution_count": 22,
   "metadata": {
    "collapsed": false,
    "jupyter": {
     "outputs_hidden": false
    },
    "pycharm": {
     "is_executing": false,
     "name": "#%%\n"
    }
   },
   "outputs": [
    {
     "data": {
      "text/plain": [
       "{'attributeScores': {'INSULT': {'spanScores': [{'begin': 0,\n",
       "     'end': 7485,\n",
       "     'score': {'value': 0.25118473, 'type': 'PROBABILITY'}}],\n",
       "   'summaryScore': {'value': 0.25118473, 'type': 'PROBABILITY'}},\n",
       "  'SEVERE_TOXICITY': {'spanScores': [{'begin': 0,\n",
       "     'end': 7485,\n",
       "     'score': {'value': 0.12853219, 'type': 'PROBABILITY'}}],\n",
       "   'summaryScore': {'value': 0.12853219, 'type': 'PROBABILITY'}},\n",
       "  'TOXICITY': {'spanScores': [{'begin': 0,\n",
       "     'end': 7485,\n",
       "     'score': {'value': 0.15244076, 'type': 'PROBABILITY'}}],\n",
       "   'summaryScore': {'value': 0.15244076, 'type': 'PROBABILITY'}},\n",
       "  'PROFANITY': {'spanScores': [{'begin': 0,\n",
       "     'end': 7485,\n",
       "     'score': {'value': 0.16114299, 'type': 'PROBABILITY'}}],\n",
       "   'summaryScore': {'value': 0.16114299, 'type': 'PROBABILITY'}},\n",
       "  'SEXUALLY_EXPLICIT': {'spanScores': [{'begin': 0,\n",
       "     'end': 7485,\n",
       "     'score': {'value': 0.17808403, 'type': 'PROBABILITY'}}],\n",
       "   'summaryScore': {'value': 0.17808403, 'type': 'PROBABILITY'}},\n",
       "  'FLIRTATION': {'spanScores': [{'begin': 0,\n",
       "     'end': 7485,\n",
       "     'score': {'value': 0.4703716, 'type': 'PROBABILITY'}}],\n",
       "   'summaryScore': {'value': 0.4703716, 'type': 'PROBABILITY'}},\n",
       "  'IDENTITY_ATTACK': {'spanScores': [{'begin': 0,\n",
       "     'end': 7485,\n",
       "     'score': {'value': 0.44866604, 'type': 'PROBABILITY'}}],\n",
       "   'summaryScore': {'value': 0.44866604, 'type': 'PROBABILITY'}},\n",
       "  'THREAT': {'spanScores': [{'begin': 0,\n",
       "     'end': 7485,\n",
       "     'score': {'value': 0.3767761, 'type': 'PROBABILITY'}}],\n",
       "   'summaryScore': {'value': 0.3767761, 'type': 'PROBABILITY'}}},\n",
       " 'languages': ['en'],\n",
       " 'detectedLanguages': ['en']}"
      ]
     },
     "execution_count": 22,
     "metadata": {},
     "output_type": "execute_result"
    }
   ],
   "source": [
    "sample_response"
   ]
  },
  {
   "cell_type": "code",
   "execution_count": 33,
   "metadata": {
    "collapsed": false,
    "jupyter": {
     "outputs_hidden": false
    },
    "pycharm": {
     "is_executing": false,
     "name": "#%%\n"
    }
   },
   "outputs": [
    {
     "name": "stdout",
     "output_type": "stream",
     "text": [
      "2020-01-22 22:08:32,908 INFO sqlalchemy.engine.base.Engine PRAGMA main.table_info(\"responses\")\n",
      "2020-01-22 22:08:32,911 INFO sqlalchemy.engine.base.Engine ()\n",
      "2020-01-22 22:08:32,915 INFO sqlalchemy.engine.base.Engine PRAGMA temp.table_info(\"responses\")\n",
      "2020-01-22 22:08:32,918 INFO sqlalchemy.engine.base.Engine ()\n",
      "2020-01-22 22:08:32,922 INFO sqlalchemy.engine.base.Engine \n",
      "CREATE TABLE responses (\n",
      "\tfilename VARCHAR NOT NULL, \n",
      "\tinsult FLOAT, \n",
      "\tsevere_toxicity FLOAT, \n",
      "\ttoxicity FLOAT, \n",
      "\tprofanity FLOAT, \n",
      "\tsexually_explicit FLOAT, \n",
      "\tflirtation FLOAT, \n",
      "\tidentity_attack FLOAT, \n",
      "\tthreat FLOAT, \n",
      "\tPRIMARY KEY (filename)\n",
      ")\n",
      "\n",
      "\n",
      "2020-01-22 22:08:32,923 INFO sqlalchemy.engine.base.Engine ()\n",
      "2020-01-22 22:08:32,925 INFO sqlalchemy.engine.base.Engine COMMIT\n"
     ]
    }
   ],
   "source": [
    "Response.metadata.create_all(engine)"
   ]
  },
  {
   "cell_type": "code",
   "execution_count": 39,
   "metadata": {
    "collapsed": false,
    "jupyter": {
     "outputs_hidden": false
    },
    "pycharm": {
     "is_executing": false,
     "name": "#%%\n"
    }
   },
   "outputs": [],
   "source": [
    "attributes = {k.lower(): v['summaryScore']['value'] for k, v in sample_response['attributeScores'].items()}"
   ]
  },
  {
   "cell_type": "code",
   "execution_count": 42,
   "metadata": {
    "collapsed": false,
    "jupyter": {
     "outputs_hidden": false
    },
    "pycharm": {
     "is_executing": false,
     "name": "#%%\n"
    }
   },
   "outputs": [],
   "source": [
    "sample_response_sql = Response(filename=sample_response_file.name, **attributes)"
   ]
  },
  {
   "cell_type": "code",
   "execution_count": 44,
   "metadata": {
    "collapsed": false,
    "jupyter": {
     "outputs_hidden": false
    },
    "pycharm": {
     "is_executing": false,
     "name": "#%%\n"
    }
   },
   "outputs": [
    {
     "data": {
      "text/plain": [
       "'0922809-2567130f37a7e2ba55581aa177b6e3c9'"
      ]
     },
     "execution_count": 44,
     "metadata": {},
     "output_type": "execute_result"
    }
   ],
   "source": [
    "sample_response_sql.filename.split('.')[0]"
   ]
  },
  {
   "cell_type": "code",
   "execution_count": null,
   "metadata": {
    "collapsed": false,
    "jupyter": {
     "outputs_hidden": false
    },
    "pycharm": {
     "name": "#%%\n"
    }
   },
   "outputs": [],
   "source": [
    "\n"
   ]
  }
 ],
 "metadata": {
  "kernelspec": {
   "display_name": "Python 3",
   "language": "python",
   "name": "python3"
  },
  "language_info": {
   "codemirror_mode": {
    "name": "ipython",
    "version": 3
   },
   "file_extension": ".py",
   "mimetype": "text/x-python",
   "name": "python",
   "nbconvert_exporter": "python",
   "pygments_lexer": "ipython3",
   "version": "3.7.6"
  },
  "pycharm": {
   "stem_cell": {
    "cell_type": "raw",
    "metadata": {
     "collapsed": false
    },
    "source": []
   }
  }
 },
 "nbformat": 4,
 "nbformat_minor": 4
}
