{
 "cells": [
  {
   "cell_type": "code",
   "execution_count": 5,
   "metadata": {
    "collapsed": true,
    "pycharm": {
     "is_executing": false,
     "name": "#%%\n"
    }
   },
   "outputs": [],
   "source": [
    "from sqlalchemy import create_engine\n",
    "from sqlalchemy.ext.declarative import declarative_base\n",
    "from sqlalchemy import Column, Float, String\n"
   ]
  },
  {
   "cell_type": "code",
   "execution_count": 7,
   "outputs": [],
   "source": [
    "engine = create_engine('sqlite:///:memory:', echo=True)"
   ],
   "metadata": {
    "collapsed": false,
    "pycharm": {
     "name": "#%%\n",
     "is_executing": false
    }
   }
  },
  {
   "cell_type": "code",
   "execution_count": 9,
   "outputs": [],
   "source": [
    "\n",
    "Base = declarative_base()"
   ],
   "metadata": {
    "collapsed": false,
    "pycharm": {
     "name": "#%%\n",
     "is_executing": false
    }
   }
  },
  {
   "cell_type": "code",
   "execution_count": 31,
   "outputs": [],
   "source": [],
   "metadata": {
    "collapsed": false,
    "pycharm": {
     "name": "#%%\n",
     "is_executing": false
    }
   }
  },
  {
   "cell_type": "code",
   "execution_count": 32,
   "outputs": [],
   "source": [
    "class Response(Base):\n",
    "    __tablename__ = 'responses'\n",
    "    \n",
    "    id = Column(String, primary_key=True)\n",
    "    insult = Column(Float)\n",
    "    severe_toxicity = Column(Float)\n",
    "    toxicity = Column(Float)\n",
    "    profanity = Column(Float)\n",
    "    sexually_explicit = Column(Float)\n",
    "    flirtation = Column(Float)\n",
    "    identity_attack = Column(Float)\n",
    "    threat = Column(Float)\n",
    "    \n",
    "    def __repr__(self):\n",
    "        return f\"<Response<filename={self.filename}>\""
   ],
   "metadata": {
    "collapsed": false,
    "pycharm": {
     "name": "#%%\n",
     "is_executing": false
    }
   }
  },
  {
   "cell_type": "code",
   "execution_count": 24,
   "outputs": [],
   "source": [
    "from pathlib import Path\n"
   ],
   "metadata": {
    "collapsed": false,
    "pycharm": {
     "name": "#%%\n",
     "is_executing": false
    }
   }
  },
  {
   "cell_type": "code",
   "execution_count": 14,
   "outputs": [],
   "source": [
    "from constants import PERSPECTIVE_API_RESPONSE_DIR"
   ],
   "metadata": {
    "collapsed": false,
    "pycharm": {
     "name": "#%%\n",
     "is_executing": false
    }
   }
  },
  {
   "cell_type": "code",
   "execution_count": 15,
   "outputs": [],
   "source": [
    "sample_response_file = next(PERSPECTIVE_API_RESPONSE_DIR.iterdir())"
   ],
   "metadata": {
    "collapsed": false,
    "pycharm": {
     "name": "#%%\n",
     "is_executing": false
    }
   }
  },
  {
   "cell_type": "code",
   "execution_count": 16,
   "outputs": [
    {
     "data": {
      "text/plain": "PosixPath('data/perspective_api_responses/0922809-2567130f37a7e2ba55581aa177b6e3c9.txt.json')"
     },
     "metadata": {},
     "output_type": "execute_result",
     "execution_count": 16
    }
   ],
   "source": [
    "sample_response_file"
   ],
   "metadata": {
    "collapsed": false,
    "pycharm": {
     "name": "#%%\n",
     "is_executing": false
    }
   }
  },
  {
   "cell_type": "code",
   "execution_count": 17,
   "outputs": [],
   "source": [
    "import json"
   ],
   "metadata": {
    "collapsed": false,
    "pycharm": {
     "name": "#%%\n",
     "is_executing": false
    }
   }
  },
  {
   "cell_type": "code",
   "execution_count": 21,
   "outputs": [],
   "source": [
    "with sample_response_file.open() as f:\n",
    "    sample_response = json.load(f)"
   ],
   "metadata": {
    "collapsed": false,
    "pycharm": {
     "name": "#%%\n",
     "is_executing": false
    }
   }
  },
  {
   "cell_type": "code",
   "execution_count": 22,
   "outputs": [
    {
     "data": {
      "text/plain": "{'attributeScores': {'INSULT': {'spanScores': [{'begin': 0,\n     'end': 7485,\n     'score': {'value': 0.25118473, 'type': 'PROBABILITY'}}],\n   'summaryScore': {'value': 0.25118473, 'type': 'PROBABILITY'}},\n  'SEVERE_TOXICITY': {'spanScores': [{'begin': 0,\n     'end': 7485,\n     'score': {'value': 0.12853219, 'type': 'PROBABILITY'}}],\n   'summaryScore': {'value': 0.12853219, 'type': 'PROBABILITY'}},\n  'TOXICITY': {'spanScores': [{'begin': 0,\n     'end': 7485,\n     'score': {'value': 0.15244076, 'type': 'PROBABILITY'}}],\n   'summaryScore': {'value': 0.15244076, 'type': 'PROBABILITY'}},\n  'PROFANITY': {'spanScores': [{'begin': 0,\n     'end': 7485,\n     'score': {'value': 0.16114299, 'type': 'PROBABILITY'}}],\n   'summaryScore': {'value': 0.16114299, 'type': 'PROBABILITY'}},\n  'SEXUALLY_EXPLICIT': {'spanScores': [{'begin': 0,\n     'end': 7485,\n     'score': {'value': 0.17808403, 'type': 'PROBABILITY'}}],\n   'summaryScore': {'value': 0.17808403, 'type': 'PROBABILITY'}},\n  'FLIRTATION': {'spanScores': [{'begin': 0,\n     'end': 7485,\n     'score': {'value': 0.4703716, 'type': 'PROBABILITY'}}],\n   'summaryScore': {'value': 0.4703716, 'type': 'PROBABILITY'}},\n  'IDENTITY_ATTACK': {'spanScores': [{'begin': 0,\n     'end': 7485,\n     'score': {'value': 0.44866604, 'type': 'PROBABILITY'}}],\n   'summaryScore': {'value': 0.44866604, 'type': 'PROBABILITY'}},\n  'THREAT': {'spanScores': [{'begin': 0,\n     'end': 7485,\n     'score': {'value': 0.3767761, 'type': 'PROBABILITY'}}],\n   'summaryScore': {'value': 0.3767761, 'type': 'PROBABILITY'}}},\n 'languages': ['en'],\n 'detectedLanguages': ['en']}"
     },
     "metadata": {},
     "output_type": "execute_result",
     "execution_count": 22
    }
   ],
   "source": [
    "sample_response"
   ],
   "metadata": {
    "collapsed": false,
    "pycharm": {
     "name": "#%%\n",
     "is_executing": false
    }
   }
  },
  {
   "cell_type": "code",
   "execution_count": 33,
   "outputs": [
    {
     "name": "stdout",
     "text": [
      "2020-01-22 22:08:32,908 INFO sqlalchemy.engine.base.Engine PRAGMA main.table_info(\"responses\")\n",
      "2020-01-22 22:08:32,911 INFO sqlalchemy.engine.base.Engine ()\n",
      "2020-01-22 22:08:32,915 INFO sqlalchemy.engine.base.Engine PRAGMA temp.table_info(\"responses\")\n",
      "2020-01-22 22:08:32,918 INFO sqlalchemy.engine.base.Engine ()\n",
      "2020-01-22 22:08:32,922 INFO sqlalchemy.engine.base.Engine \n",
      "CREATE TABLE responses (\n",
      "\tfilename VARCHAR NOT NULL, \n",
      "\tinsult FLOAT, \n",
      "\tsevere_toxicity FLOAT, \n",
      "\ttoxicity FLOAT, \n",
      "\tprofanity FLOAT, \n",
      "\tsexually_explicit FLOAT, \n",
      "\tflirtation FLOAT, \n",
      "\tidentity_attack FLOAT, \n",
      "\tthreat FLOAT, \n",
      "\tPRIMARY KEY (filename)\n",
      ")\n",
      "\n",
      "\n",
      "2020-01-22 22:08:32,923 INFO sqlalchemy.engine.base.Engine ()\n",
      "2020-01-22 22:08:32,925 INFO sqlalchemy.engine.base.Engine COMMIT\n"
     ],
     "output_type": "stream"
    }
   ],
   "source": [
    "Response.metadata.create_all(engine)"
   ],
   "metadata": {
    "collapsed": false,
    "pycharm": {
     "name": "#%%\n",
     "is_executing": false
    }
   }
  },
  {
   "cell_type": "code",
   "execution_count": 39,
   "outputs": [],
   "source": [
    "attributes = {k.lower(): v['summaryScore']['value'] for k, v in sample_response['attributeScores'].items()}"
   ],
   "metadata": {
    "collapsed": false,
    "pycharm": {
     "name": "#%%\n",
     "is_executing": false
    }
   }
  },
  {
   "cell_type": "code",
   "execution_count": 42,
   "outputs": [],
   "source": [
    "sample_response_sql = Response(filename=sample_response_file.name, **attributes)"
   ],
   "metadata": {
    "collapsed": false,
    "pycharm": {
     "name": "#%%\n",
     "is_executing": false
    }
   }
  },
  {
   "cell_type": "code",
   "execution_count": 44,
   "outputs": [
    {
     "data": {
      "text/plain": "'0922809-2567130f37a7e2ba55581aa177b6e3c9'"
     },
     "metadata": {},
     "output_type": "execute_result",
     "execution_count": 44
    }
   ],
   "source": [
    "sample_response_sql.filename.split('.')[0]"
   ],
   "metadata": {
    "collapsed": false,
    "pycharm": {
     "name": "#%%\n",
     "is_executing": false
    }
   }
  },
  {
   "cell_type": "code",
   "execution_count": null,
   "outputs": [],
   "source": [
    "\n"
   ],
   "metadata": {
    "collapsed": false,
    "pycharm": {
     "name": "#%%\n"
    }
   }
  }
 ],
 "metadata": {
  "kernelspec": {
   "display_name": "Python 3",
   "language": "python",
   "name": "python3"
  },
  "language_info": {
   "codemirror_mode": {
    "name": "ipython",
    "version": 2
   },
   "file_extension": ".py",
   "mimetype": "text/x-python",
   "name": "python",
   "nbconvert_exporter": "python",
   "pygments_lexer": "ipython2",
   "version": "2.7.6"
  },
  "pycharm": {
   "stem_cell": {
    "cell_type": "raw",
    "source": [],
    "metadata": {
     "collapsed": false
    }
   }
  }
 },
 "nbformat": 4,
 "nbformat_minor": 0
}