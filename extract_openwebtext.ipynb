{
 "cells": [
  {
   "cell_type": "markdown",
   "metadata": {
    "colab_type": "text",
    "id": "0uYfZOAHP1sv"
   },
   "source": [
    "# Full Dataset"
   ]
  },
  {
   "cell_type": "code",
   "execution_count": 4,
   "metadata": {
    "colab": {},
    "colab_type": "code",
    "id": "xAnLm1lV4Czn"
   },
   "outputs": [],
   "source": [
    "import os\n",
    "from pathlib import Path\n",
    "\n",
    "archive_path = Path(\"data/openwebtext.tar.xz\")\n",
    "dataset_path = Path(\"data/openwebtext\")\n",
    "\n",
    "if not dataset_path.exists():\n",
    "    if not archive_path.exists():\n",
    "        # Download the dataset\n",
    "        !pip install gdown\n",
    "        !gdown https://drive.google.com/uc?id=1EA5V0oetDCOke7afsktL_JDQ-ETtNOvx\n",
    "        assert(archive_path.exists())\n",
    "\n",
    "    # Un-archive the dataset\n",
    "    !tar -xf {archive_path}\n",
    "    assert(dataset_path.exists())"
   ]
  },
  {
   "cell_type": "code",
   "execution_count": null,
   "metadata": {
    "colab": {},
    "colab_type": "code",
    "id": "mwznMvt04Mz5"
   },
   "outputs": [
    {
     "name": "stderr",
     "output_type": "stream",
     "text": [
      " 91%|█████████ | 18717/20609 [14:14<01:18, 23.96it/s]"
     ]
    }
   ],
   "source": [
    "from multiprocessing.pool import ThreadPool\n",
    "from tqdm import tqdm\n",
    "import tarfile\n",
    "\n",
    "final_dataset_path = Path('data/openwebtext_final')\n",
    "\n",
    "def extract_tar(tarfile_path):\n",
    "    archive = tarfile.open(tarfile_path)\n",
    "    archive.extractall(final_dataset_path)\n",
    "    archive.close()\n",
    "    \n",
    "def extract_subset_archives(openwebtext_dir):\n",
    "    # Extract files\n",
    "    num_threads = 16\n",
    "    pool = ThreadPool(num_threads)\n",
    "    subset_archive_paths = list(openwebtext_dir.iterdir())\n",
    "    with tqdm(total=len(subset_archive_paths)) as t:\n",
    "        for _ in pool.imap_unordered(extract_tar, subset_archive_paths):\n",
    "            t.update(1)\n",
    "            \n",
    "extract_subset_archives(dataset_path)"
   ]
  }
 ],
 "metadata": {
  "accelerator": "GPU",
  "colab": {
   "name": "toxic-language.ipynb",
   "provenance": [],
   "toc_visible": true
  },
  "kernelspec": {
   "display_name": "Python 3",
   "language": "python",
   "name": "python3"
  },
  "language_info": {
   "codemirror_mode": {
    "name": "ipython",
    "version": 3
   },
   "file_extension": ".py",
   "mimetype": "text/x-python",
   "name": "python",
   "nbconvert_exporter": "python",
   "pygments_lexer": "ipython3",
   "version": "3.7.3"
  }
 },
 "nbformat": 4,
 "nbformat_minor": 2
}
