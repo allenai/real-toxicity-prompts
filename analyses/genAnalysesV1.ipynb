{
 "cells": [
  {
   "cell_type": "code",
   "execution_count": 1,
   "metadata": {},
   "outputs": [],
   "source": [
    "import sys, os\n",
    "import argparse\n",
    "import numpy as np\n",
    "import pandas as pd\n",
    "import json\n",
    "from random import sample\n",
    "from tqdm.auto import tqdm\n",
    "import seaborn as sns\n",
    "import matplotlib.pyplot as plt\n",
    "sns.set(color_codes=True)\n",
    "\n",
    "sys.path.append(os.path.join(os.path.expanduser(\"~\"),\"resources/\"))\n",
    "from stats import statstools\n",
    "from idp import idp\n",
    "from sklearn.feature_extraction.text import CountVectorizer\n",
    "\n",
    "\n",
    "\n",
    "promptsFile = (\"/data/language-model-toxicity/generations/prompt_n_50percent_toxicity_quartiles_25k_subsample/\"\n",
    "                \"gpt2/prompt_n_50percent_toxicity_quartiles_25k_subsample_gpt2.jsonl\")\n",
    "perspCols = ['insult', 'severe_toxicity', 'toxicity', 'profanity',\n",
    "             'sexually_explicit', 'identity_attack', 'flirtation', 'threat']\n",
    "contPerspCols = [f\"cont_{c}\" for c in perspCols]\n",
    "promptPerspCols = [f\"prompt_{c}\" for c in perspCols]\n",
    "genAvgPerspCols = [f\"gens_{c}_avg\" for c in perspCols]\n",
    "genStdPerspCols = [f\"gens_{c}_std\" for c in perspCols]\n",
    "genMaxPerspCols = [f\"gens_{c}_max\" for c in perspCols]\n",
    "gen1qtPerspCols = [f\"gens_{c}_1qt\" for c in perspCols]\n",
    "gen3qtPerspCols = [f\"gens_{c}_3qt\" for c in perspCols]\n",
    "genMinPerspCols = [f\"gens_{c}_min\" for c in perspCols]\n",
    "genMedPerspCols = [f\"gens_{c}_med\" for c in perspCols]\n",
    "genPctGt50PerspCols = [f\"gens_{c}_pctGt50\" for c in perspCols]"
   ]
  },
  {
   "cell_type": "markdown",
   "metadata": {},
   "source": [
    "\n",
    "## Data formatting"
   ]
  },
  {
   "cell_type": "code",
   "execution_count": 2,
   "metadata": {},
   "outputs": [
    {
     "data": {
      "application/vnd.jupyter.widget-view+json": {
       "model_id": "014e530256d84c768798e89b8a08820e",
       "version_major": 2,
       "version_minor": 0
      },
      "text/plain": [
       "HBox(children=(FloatProgress(value=1.0, bar_style='info', description='Loading file', max=1.0, style=ProgressS…"
      ]
     },
     "metadata": {},
     "output_type": "display_data"
    },
    {
     "name": "stdout",
     "output_type": "stream",
     "text": [
      "\n",
      "100000\n"
     ]
    }
   ],
   "source": [
    "# data: json with 'filename', 'begin', 'end', 'prompt', 'continuation', 'generations'\n",
    "# prompt, continuation: text + perspCols\n",
    "# generations: list of text+perspCols\n",
    "with open(promptsFile) as f:\n",
    "    data = [json.loads(l) for i,l in tqdm(enumerate(f),desc=\"Loading file\")]\n",
    "print(len(data))\n",
    "# data = list(sample(data,50000))"
   ]
  },
  {
   "cell_type": "code",
   "execution_count": 3,
   "metadata": {},
   "outputs": [
    {
     "data": {
      "application/vnd.jupyter.widget-view+json": {
       "model_id": "78677ae17a654072a61152f7fcc1c1af",
       "version_major": 2,
       "version_minor": 0
      },
      "text/plain": [
       "HBox(children=(FloatProgress(value=0.0, description='Aggregating', max=100000.0, style=ProgressStyle(descripti…"
      ]
     },
     "metadata": {},
     "output_type": "display_data"
    },
    {
     "name": "stdout",
     "output_type": "stream",
     "text": [
      "\n"
     ]
    },
    {
     "data": {
      "application/vnd.jupyter.widget-view+json": {
       "model_id": "34e10a55414d4b57ae59734c1cae42d3",
       "version_major": 2,
       "version_minor": 0
      },
      "text/plain": [
       "HBox(children=(FloatProgress(value=1.0, bar_style='info', description='Generations', max=1.0, style=ProgressSt…"
      ]
     },
     "metadata": {},
     "output_type": "display_data"
    },
    {
     "name": "stdout",
     "output_type": "stream",
     "text": [
      "\n"
     ]
    }
   ],
   "source": [
    "# Aggregating data\n",
    "def aggregateGenInfo(gens,c):\n",
    "    gen_vals = [g[c] for g in gens if g[c] is not None and not pd.isnull(g[c])]\n",
    "    if not len(gen_vals): return []\n",
    "    out = list(zip([\"min\",\"1qt\",\"med\",\"3qt\",\"max\"],np.percentile(gen_vals,[0,25,50,75,100])))\n",
    "    out.append((\"std\",np.std(gen_vals)))\n",
    "    out.append((\"avg\",np.mean(gen_vals)))\n",
    "    out.append((\"pctGt50\",np.mean([i>.5 for i in gen_vals])))\n",
    "    return out\n",
    "\n",
    "fData = []\n",
    "for d in tqdm(data,desc=\"Aggregating\"):\n",
    "    newD = {c: d[c] for c in ['filename', 'begin', 'end']}\n",
    "    for c in [\"text\"]+perspCols:\n",
    "        newD[\"prompt_\"+c] = d[\"prompt\"][c]\n",
    "        newD[\"cont_\"+c] = d[\"continuation\"][c]\n",
    "        if c == \"text\": continue\n",
    "        for k, v in aggregateGenInfo(d[\"generations\"],c):\n",
    "            newD[\"gens_\"+c+\"_\"+k] = v\n",
    "        \n",
    "        # newD[\"gens_\"+c+\"_avg\"] = \n",
    "            \n",
    "    fData.append(newD)\n",
    "df = pd.DataFrame(fData)\n",
    "df.index.name = \"id\"\n",
    "df.reset_index(\"id\",inplace=True)\n",
    "\n",
    "# Long generations dataframe\n",
    "gensData = {(i,j): gd for i,d in tqdm(enumerate(data),desc=\"Generations\") for j,gd in enumerate(d[\"generations\"])}\n",
    "longDf = pd.DataFrame.from_dict(gensData,orient=\"index\")\n",
    "longDf.index.names = \"id\",\"gen_id\"\n",
    "longDf.reset_index(inplace=True)"
   ]
  },
  {
   "cell_type": "code",
   "execution_count": 14,
   "metadata": {},
   "outputs": [
    {
     "name": "stdout",
     "output_type": "stream",
     "text": [
      "0    78112\n",
      "1    21888\n",
      "Name: toxicPrompt, dtype: int64 \n",
      "\n",
      "0    76673\n",
      "1    23327\n",
      "Name: toxicGens, dtype: int64 \n",
      "\n",
      "0    66270\n",
      "1    33730\n",
      "Name: toxicCont, dtype: int64 \n",
      "\n",
      "21888 0.21888\n",
      "77576 0.77576\n"
     ]
    }
   ],
   "source": [
    "# Create subsets of prompts\n",
    "df[\"toxicPrompt\"] = (df[\"prompt_toxicity\"]>.5).astype(int)\n",
    "print(df.toxicPrompt.value_counts(),\"\\n\")\n",
    "\n",
    "\n",
    "df[\"toxicGens\"] = (df[\"gens_toxicity_pctGt50\"]>.1).astype(int)\n",
    "print(df.toxicGens.value_counts(),\"\\n\")\n",
    "\n",
    "df[\"toxicCont\"] = (df[\"cont_toxicity\"] > .5).astype(int)\n",
    "print(df.toxicCont.value_counts(),\"\\n\")\n",
    "\n",
    "toxicPromptDf = df.query(\"prompt_toxicity >.5\").copy()\n",
    "print(len(toxicPromptDf), len(toxicPromptDf) / len(df))\n",
    "nonToxicPromptDf = df.query(\"prompt_toxicity <=.5\").copy()\n",
    "print(len(nonToxicPromptDf), len(nonToxicPromptDf) / len(df))"
   ]
  },
  {
   "cell_type": "markdown",
   "metadata": {},
   "source": [
    "##  Basic stats (prompts and continuations)\n",
    "The joint plot indicates that toxicity usually comes from one part of the sentence in real data. But it's only a small effect (Pearson $r=-0.08$, $p<0.001$)."
   ]
  },
  {
   "cell_type": "code",
   "execution_count": 15,
   "metadata": {},
   "outputs": [
    {
     "name": "stdout",
     "output_type": "stream",
     "text": [
      "                     n    p       r  p_holm\n",
      "cont_toxicity  98893.0  0.0 -0.0802     0.0\n"
     ]
    },
    {
     "data": {
      "image/png": "[encoded data removed]",
      "text/plain": [
       "<Figure size 432x432 with 3 Axes>"
      ]
     },
     "metadata": {},
     "output_type": "display_data"
    }
   ],
   "source": [
    "promptContToxicityDf = df.melt(id_vars=\"id\",var_name=\"category\",value_name=\"toxicity\",\n",
    "                               value_vars=['prompt_toxicity',\"cont_toxicity\",\"gens_toxicity_avg\",\n",
    "                                           \"gens_toxicity_3qt\",\"gens_toxicity_max\"])\n",
    "# g = sns.FacetGrid(promptContToxicityDf, col=\"category\",hue=\"category\")\n",
    "# g.map(sns.distplot,\"toxicity\")\n",
    "sns.jointplot(x=\"prompt_toxicity\", y=\"cont_toxicity\", data=df, kind=\"reg\")\n",
    "print(statstools.correlSummaries(df,\"prompt_toxicity\",[\"cont_toxicity\"]).round(4))\n",
    "\n",
    "# print(statstools.correlSummaries(\n",
    "#     toxicPromptDf,\"cont_toxicity\",[\"gens_toxicity_pctGt50\",\"gens_toxicity_avg\",\"gens_toxicity_3qt\"]).round(4))"
   ]
  },
  {
   "cell_type": "markdown",
   "metadata": {},
   "source": [
    "### Toxic prompts only (toxicity>.5)\n",
    "Joint plot indicates that, when prompt is toxic, the continuation's toxicity is slightly anti-correlated prompt toxicity (Pearson $r=-0.06$, $p<0.001$)"
   ]
  },
  {
   "cell_type": "code",
   "execution_count": 18,
   "metadata": {},
   "outputs": [
    {
     "name": "stdout",
     "output_type": "stream",
     "text": [
      "{'n': 21747, 'r': -0.0641026186552826, 'p': 3.0119995693633177e-21}\n"
     ]
    },
    {
     "data": {
      "image/png": "[encoded data removed]",
      "text/plain": [
       "<Figure size 432x432 with 3 Axes>"
      ]
     },
     "metadata": {},
     "output_type": "display_data"
    }
   ],
   "source": [
    "toxicPrompts = toxicPromptDf.melt(id_vars=\"id\",var_name=\"category\",value_name=\"toxicity\",\n",
    "                                  value_vars=['prompt_toxicity',\"cont_toxicity\",\"gens_toxicity_avg\",\n",
    "                                              \"gens_toxicity_3qt\",\"gens_toxicity_max\"])\n",
    "# g = sns.FacetGrid(toxicPrompts, col=\"category\",hue=\"category\")\n",
    "# g.map(sns.distplot,\"toxicity\")\n",
    "sns.jointplot(x=\"prompt_toxicity\", y=\"cont_toxicity\", data=toxicPromptDf, kind=\"reg\")\n",
    "\n",
    "print(statstools.correlSummary(toxicPromptDf,\"prompt_toxicity\",\"cont_toxicity\"))"
   ]
  },
  {
   "cell_type": "markdown",
   "metadata": {},
   "source": [
    "### Non-toxic prompts only (toxicity <= .5)\n",
    "When prompts aren't toxic, the toxicity of the prompt is correlated with toxicity of continuation, though the effect is SUPER small ($r=0.02$, $p<0.001$)"
   ]
  },
  {
   "cell_type": "code",
   "execution_count": 17,
   "metadata": {},
   "outputs": [
    {
     "name": "stdout",
     "output_type": "stream",
     "text": [
      "{'n': 77146, 'r': 0.021643784284189244, 'p': 1.8301734064243883e-09}\n"
     ]
    },
    {
     "data": {
      "image/png": "[encoded data removed]",
      "text/plain": [
       "<Figure size 432x432 with 3 Axes>"
      ]
     },
     "metadata": {},
     "output_type": "display_data"
    }
   ],
   "source": [
    "nonToxicPrompts = nonToxicPromptDf.melt(id_vars=\"id\",var_name=\"category\",value_name=\"toxicity\",\n",
    "                               value_vars=['prompt_toxicity',\"cont_toxicity\",\"gens_toxicity_avg\",\n",
    "                                          \"gens_toxicity_3qt\",\"gens_toxicity_max\"])\n",
    "# g = sns.FacetGrid(nonToxicPrompts, col=\"category\",hue=\"category\")\n",
    "# g.map(sns.distplot,\"toxicity\")\n",
    "sns.jointplot(x=\"prompt_toxicity\", y=\"cont_toxicity\", data=nonToxicPromptDf, kind=\"reg\")\n",
    "\n",
    "print(statstools.correlSummary(nonToxicPromptDf,\"prompt_toxicity\",\"cont_toxicity\"))"
   ]
  },
  {
   "cell_type": "markdown",
   "metadata": {},
   "source": [
    "## Stats with continuations / generations\n",
    "Overall, we find pretty decent correlation ($r=0.25$) between GPT2 generation's toxicity and continuation toxicity This effect remains when the prompts are highly toxic ($r=0.29$), or highly non-toxic ($r=0.38$).\n",
    "This indicates that continuation toxicity could be a decent proxy for whether the model is likely to generate toxic language, but might not be enough."
   ]
  },
  {
   "cell_type": "code",
   "execution_count": 5,
   "metadata": {},
   "outputs": [
    {
     "name": "stdout",
     "output_type": "stream",
     "text": [
      "100000\n"
     ]
    },
    {
     "data": {
      "text/html": [
       "<div>\n",
       "<style scoped>\n",
       "    .dataframe tbody tr th:only-of-type {\n",
       "        vertical-align: middle;\n",
       "    }\n",
       "\n",
       "    .dataframe tbody tr th {\n",
       "        vertical-align: top;\n",
       "    }\n",
       "\n",
       "    .dataframe thead th {\n",
       "        text-align: right;\n",
       "    }\n",
       "</style>\n",
       "<table border=\"1\" class=\"dataframe\">\n",
       "  <thead>\n",
       "    <tr style=\"text-align: right;\">\n",
       "      <th></th>\n",
       "      <th>cont_toxicity</th>\n",
       "      <th>gens_toxicity_avg</th>\n",
       "    </tr>\n",
       "  </thead>\n",
       "  <tbody>\n",
       "    <tr>\n",
       "      <th>cont_toxicity</th>\n",
       "      <td>1.000000</td>\n",
       "      <td>0.254145</td>\n",
       "    </tr>\n",
       "    <tr>\n",
       "      <th>gens_toxicity_avg</th>\n",
       "      <td>0.254145</td>\n",
       "      <td>1.000000</td>\n",
       "    </tr>\n",
       "  </tbody>\n",
       "</table>\n",
       "</div>"
      ],
      "text/plain": [
       "                   cont_toxicity  gens_toxicity_avg\n",
       "cont_toxicity           1.000000           0.254145\n",
       "gens_toxicity_avg       0.254145           1.000000"
      ]
     },
     "execution_count": 5,
     "metadata": {},
     "output_type": "execute_result"
    }
   ],
   "source": [
    "print(len(df))\n",
    "df[[\"cont_toxicity\",\"gens_toxicity_avg\"]].corr()"
   ]
  },
  {
   "cell_type": "code",
   "execution_count": 6,
   "metadata": {},
   "outputs": [
    {
     "name": "stdout",
     "output_type": "stream",
     "text": [
      "Toxic prompts (n=21888)\n"
     ]
    },
    {
     "data": {
      "text/html": [
       "<div>\n",
       "<style scoped>\n",
       "    .dataframe tbody tr th:only-of-type {\n",
       "        vertical-align: middle;\n",
       "    }\n",
       "\n",
       "    .dataframe tbody tr th {\n",
       "        vertical-align: top;\n",
       "    }\n",
       "\n",
       "    .dataframe thead th {\n",
       "        text-align: right;\n",
       "    }\n",
       "</style>\n",
       "<table border=\"1\" class=\"dataframe\">\n",
       "  <thead>\n",
       "    <tr style=\"text-align: right;\">\n",
       "      <th></th>\n",
       "      <th>cont_toxicity</th>\n",
       "      <th>gens_toxicity_avg</th>\n",
       "    </tr>\n",
       "  </thead>\n",
       "  <tbody>\n",
       "    <tr>\n",
       "      <th>cont_toxicity</th>\n",
       "      <td>1.000000</td>\n",
       "      <td>0.293868</td>\n",
       "    </tr>\n",
       "    <tr>\n",
       "      <th>gens_toxicity_avg</th>\n",
       "      <td>0.293868</td>\n",
       "      <td>1.000000</td>\n",
       "    </tr>\n",
       "  </tbody>\n",
       "</table>\n",
       "</div>"
      ],
      "text/plain": [
       "                   cont_toxicity  gens_toxicity_avg\n",
       "cont_toxicity           1.000000           0.293868\n",
       "gens_toxicity_avg       0.293868           1.000000"
      ]
     },
     "execution_count": 6,
     "metadata": {},
     "output_type": "execute_result"
    }
   ],
   "source": [
    "print(f\"Toxic prompts (n={len(toxicPromptDf)})\")\n",
    "toxicPromptDf[[\"cont_toxicity\",\"gens_toxicity_avg\"]].corr()"
   ]
  },
  {
   "cell_type": "code",
   "execution_count": 7,
   "metadata": {},
   "outputs": [
    {
     "name": "stdout",
     "output_type": "stream",
     "text": [
      "Potentially adversarial (non-toxic) prompts (n=77576)\n"
     ]
    },
    {
     "data": {
      "text/html": [
       "<div>\n",
       "<style scoped>\n",
       "    .dataframe tbody tr th:only-of-type {\n",
       "        vertical-align: middle;\n",
       "    }\n",
       "\n",
       "    .dataframe tbody tr th {\n",
       "        vertical-align: top;\n",
       "    }\n",
       "\n",
       "    .dataframe thead th {\n",
       "        text-align: right;\n",
       "    }\n",
       "</style>\n",
       "<table border=\"1\" class=\"dataframe\">\n",
       "  <thead>\n",
       "    <tr style=\"text-align: right;\">\n",
       "      <th></th>\n",
       "      <th>cont_toxicity</th>\n",
       "      <th>gens_toxicity_avg</th>\n",
       "    </tr>\n",
       "  </thead>\n",
       "  <tbody>\n",
       "    <tr>\n",
       "      <th>cont_toxicity</th>\n",
       "      <td>1.000000</td>\n",
       "      <td>0.387725</td>\n",
       "    </tr>\n",
       "    <tr>\n",
       "      <th>gens_toxicity_avg</th>\n",
       "      <td>0.387725</td>\n",
       "      <td>1.000000</td>\n",
       "    </tr>\n",
       "  </tbody>\n",
       "</table>\n",
       "</div>"
      ],
      "text/plain": [
       "                   cont_toxicity  gens_toxicity_avg\n",
       "cont_toxicity           1.000000           0.387725\n",
       "gens_toxicity_avg       0.387725           1.000000"
      ]
     },
     "execution_count": 7,
     "metadata": {},
     "output_type": "execute_result"
    }
   ],
   "source": [
    "print(f\"Potentially adversarial (non-toxic) prompts (n={len(nonToxicPromptDf)})\")\n",
    "nonToxicPromptDf[[\"cont_toxicity\",\"gens_toxicity_avg\"]].corr()"
   ]
  },
  {
   "cell_type": "markdown",
   "metadata": {},
   "source": [
    "We further verify this by checking whether prompts with toxic continuations have substantially higher average generation toxicity compared to prompts with non toxic continuations.\n",
    "Overall, they do (Cohen's $d=0.42$, $m_{toxicCont}=.21$, $m_{nonToxicCont}=.16$)"
   ]
  },
  {
   "cell_type": "code",
   "execution_count": 9,
   "metadata": {},
   "outputs": [
    {
     "data": {
      "text/html": [
       "<div>\n",
       "<style scoped>\n",
       "    .dataframe tbody tr th:only-of-type {\n",
       "        vertical-align: middle;\n",
       "    }\n",
       "\n",
       "    .dataframe tbody tr th {\n",
       "        vertical-align: top;\n",
       "    }\n",
       "\n",
       "    .dataframe thead th {\n",
       "        text-align: right;\n",
       "    }\n",
       "</style>\n",
       "<table border=\"1\" class=\"dataframe\">\n",
       "  <thead>\n",
       "    <tr style=\"text-align: right;\">\n",
       "      <th></th>\n",
       "      <th>mean_0</th>\n",
       "      <th>mean_1</th>\n",
       "      <th>std_0</th>\n",
       "      <th>std_1</th>\n",
       "      <th>n_0</th>\n",
       "      <th>n_1</th>\n",
       "      <th>t</th>\n",
       "      <th>p</th>\n",
       "      <th>d</th>\n",
       "      <th>p_holm</th>\n",
       "      <th>higher?</th>\n",
       "    </tr>\n",
       "  </thead>\n",
       "  <tbody>\n",
       "    <tr>\n",
       "      <th>gens_toxicity_avg</th>\n",
       "      <td>0.1671</td>\n",
       "      <td>0.2091</td>\n",
       "      <td>0.0905</td>\n",
       "      <td>0.1056</td>\n",
       "      <td>66181.0</td>\n",
       "      <td>33686.0</td>\n",
       "      <td>-65.3693</td>\n",
       "      <td>0.0</td>\n",
       "      <td>-0.4265</td>\n",
       "      <td>0.0</td>\n",
       "      <td>mean_1</td>\n",
       "    </tr>\n",
       "    <tr>\n",
       "      <th>gens_toxicity_pctGt50</th>\n",
       "      <td>0.0595</td>\n",
       "      <td>0.0968</td>\n",
       "      <td>0.1020</td>\n",
       "      <td>0.1329</td>\n",
       "      <td>66181.0</td>\n",
       "      <td>33686.0</td>\n",
       "      <td>-49.1358</td>\n",
       "      <td>0.0</td>\n",
       "      <td>-0.3147</td>\n",
       "      <td>0.0</td>\n",
       "      <td>mean_1</td>\n",
       "    </tr>\n",
       "    <tr>\n",
       "      <th>gens_toxicity_med</th>\n",
       "      <td>0.1293</td>\n",
       "      <td>0.1663</td>\n",
       "      <td>0.0861</td>\n",
       "      <td>0.1140</td>\n",
       "      <td>66181.0</td>\n",
       "      <td>33686.0</td>\n",
       "      <td>-57.4647</td>\n",
       "      <td>0.0</td>\n",
       "      <td>-0.3671</td>\n",
       "      <td>0.0</td>\n",
       "      <td>mean_1</td>\n",
       "    </tr>\n",
       "    <tr>\n",
       "      <th>toxicGens</th>\n",
       "      <td>0.1912</td>\n",
       "      <td>0.3160</td>\n",
       "      <td>0.3932</td>\n",
       "      <td>0.4649</td>\n",
       "      <td>66270.0</td>\n",
       "      <td>33730.0</td>\n",
       "      <td>-44.5738</td>\n",
       "      <td>0.0</td>\n",
       "      <td>-0.2900</td>\n",
       "      <td>0.0</td>\n",
       "      <td>mean_1</td>\n",
       "    </tr>\n",
       "  </tbody>\n",
       "</table>\n",
       "</div>"
      ],
      "text/plain": [
       "                       mean_0  mean_1   std_0   std_1      n_0      n_1  \\\n",
       "gens_toxicity_avg      0.1671  0.2091  0.0905  0.1056  66181.0  33686.0   \n",
       "gens_toxicity_pctGt50  0.0595  0.0968  0.1020  0.1329  66181.0  33686.0   \n",
       "gens_toxicity_med      0.1293  0.1663  0.0861  0.1140  66181.0  33686.0   \n",
       "toxicGens              0.1912  0.3160  0.3932  0.4649  66270.0  33730.0   \n",
       "\n",
       "                             t    p       d  p_holm higher?  \n",
       "gens_toxicity_avg     -65.3693  0.0 -0.4265     0.0  mean_1  \n",
       "gens_toxicity_pctGt50 -49.1358  0.0 -0.3147     0.0  mean_1  \n",
       "gens_toxicity_med     -57.4647  0.0 -0.3671     0.0  mean_1  \n",
       "toxicGens             -44.5738  0.0 -0.2900     0.0  mean_1  "
      ]
     },
     "execution_count": 9,
     "metadata": {},
     "output_type": "execute_result"
    }
   ],
   "source": [
    "r = statstools.ttestSummaries(df,\"toxicCont\",[\n",
    "    \"gens_toxicity_avg\",\"gens_toxicity_pctGt50\",\"gens_toxicity_med\",\"toxicGens\"])\n",
    "r[\"higher?\"] = r[[\"mean_0\",\"mean_1\"]].idxmax(axis=1)\n",
    "r.round(4)"
   ]
  },
  {
   "cell_type": "markdown",
   "metadata": {},
   "source": [
    "So we can pick adversarial prompts based on how toxic continutations are AND how toxic the prompt is"
   ]
  },
  {
   "cell_type": "code",
   "execution_count": 62,
   "metadata": {},
   "outputs": [
    {
     "name": "stdout",
     "output_type": "stream",
     "text": [
      "Number of toxic continuations: 33730 (33.73% of data)\n",
      "Number of prompts that will likely lead to toxic continuations: 50035 (50.03% of data)\n",
      "Number of adversarial (harmless) prompts that lead to toxic continuations: 28147 (28.15% of data)\n"
     ]
    }
   ],
   "source": [
    "hC = df[\"toxicCont\"] == 0\n",
    "tC = df[\"toxicCont\"] == 1\n",
    "hP = df[\"toxicPrompt\"] == 0\n",
    "tP = df[\"toxicPrompt\"] == 1\n",
    "print(f\"Number of toxic continuations: {sum(tC)} ({100*sum(tC) / len(df):.2f}% of data)\")\n",
    "tPhC = tP & hC\n",
    "tPtC = tP & tC\n",
    "hPtC = hP & tC\n",
    "hPhC = hP & hC\n",
    "probTC = tC | tPhC\n",
    "adv = hPtC\n",
    "print(\"Number of prompts that will likely lead to toxic continuations:\"\n",
    "      f\" {sum(probTC)} ({100*sum(probTC) / len(df):.2f}% of data)\")\n",
    "print(\"Number of adversarial (harmless) prompts that lead to toxic continuations:\"\n",
    "      f\" {sum(adv)} ({100*sum(adv) / len(df):.2f}% of data)\")\n",
    "\n",
    "df[\"likelyToxicCont\"] = probTC.astype(int)\n",
    "df[\"adversarialPrompt\"] = adv.astype(int)\n",
    "\n",
    "assert ((hPtC | probHC) == probHC).all(), \"hPtC should be a subset of probTC\"\n",
    "# pd.crosstab(df[\"toxicCont\"],df[\"toxicPrompt\"])"
   ]
  },
  {
   "cell_type": "code",
   "execution_count": 67,
   "metadata": {},
   "outputs": [
    {
     "data": {
      "text/html": [
       "<div>\n",
       "<style scoped>\n",
       "    .dataframe tbody tr th:only-of-type {\n",
       "        vertical-align: middle;\n",
       "    }\n",
       "\n",
       "    .dataframe tbody tr th {\n",
       "        vertical-align: top;\n",
       "    }\n",
       "\n",
       "    .dataframe thead th {\n",
       "        text-align: right;\n",
       "    }\n",
       "</style>\n",
       "<table border=\"1\" class=\"dataframe\">\n",
       "  <thead>\n",
       "    <tr style=\"text-align: right;\">\n",
       "      <th>toxicCont</th>\n",
       "      <th>0</th>\n",
       "      <th>1</th>\n",
       "    </tr>\n",
       "    <tr>\n",
       "      <th>toxicPrompt</th>\n",
       "      <th></th>\n",
       "      <th></th>\n",
       "    </tr>\n",
       "  </thead>\n",
       "  <tbody>\n",
       "    <tr>\n",
       "      <th>0</th>\n",
       "      <td>0</td>\n",
       "      <td>28147</td>\n",
       "    </tr>\n",
       "    <tr>\n",
       "      <th>1</th>\n",
       "      <td>16305</td>\n",
       "      <td>5583</td>\n",
       "    </tr>\n",
       "  </tbody>\n",
       "</table>\n",
       "</div>"
      ],
      "text/plain": [
       "toxicCont        0      1\n",
       "toxicPrompt              \n",
       "0                0  28147\n",
       "1            16305   5583"
      ]
     },
     "execution_count": 67,
     "metadata": {},
     "output_type": "execute_result"
    }
   ],
   "source": [
    "pd.crosstab(df.loc[probTC,\"toxicPrompt\"],df.loc[probTC,\"toxicCont\"])"
   ]
  },
  {
   "cell_type": "markdown",
   "metadata": {},
   "source": [
    "Using `likelyToxicCont` yield MUCH higher difference in toxicity of GPT2 generations, compared to using only toxicity of continuation ($d=0.96$ vs. $d=0.43$)."
   ]
  },
  {
   "cell_type": "code",
   "execution_count": 70,
   "metadata": {},
   "outputs": [
    {
     "data": {
      "text/html": [
       "<div>\n",
       "<style scoped>\n",
       "    .dataframe tbody tr th:only-of-type {\n",
       "        vertical-align: middle;\n",
       "    }\n",
       "\n",
       "    .dataframe tbody tr th {\n",
       "        vertical-align: top;\n",
       "    }\n",
       "\n",
       "    .dataframe thead th {\n",
       "        text-align: right;\n",
       "    }\n",
       "</style>\n",
       "<table border=\"1\" class=\"dataframe\">\n",
       "  <thead>\n",
       "    <tr style=\"text-align: right;\">\n",
       "      <th></th>\n",
       "      <th>mean_0</th>\n",
       "      <th>mean_1</th>\n",
       "      <th>std_0</th>\n",
       "      <th>std_1</th>\n",
       "      <th>n_0</th>\n",
       "      <th>n_1</th>\n",
       "      <th>t</th>\n",
       "      <th>p</th>\n",
       "      <th>d</th>\n",
       "      <th>p_holm</th>\n",
       "      <th>higher?</th>\n",
       "    </tr>\n",
       "  </thead>\n",
       "  <tbody>\n",
       "    <tr>\n",
       "      <th>gens_toxicity_avg</th>\n",
       "      <td>0.1388</td>\n",
       "      <td>0.2237</td>\n",
       "      <td>0.0598</td>\n",
       "      <td>0.1094</td>\n",
       "      <td>49900.0</td>\n",
       "      <td>49967.0</td>\n",
       "      <td>-152.1374</td>\n",
       "      <td>0.0</td>\n",
       "      <td>-0.9630</td>\n",
       "      <td>0.0</td>\n",
       "      <td>mean_1</td>\n",
       "    </tr>\n",
       "    <tr>\n",
       "      <th>gens_toxicity_pctGt50</th>\n",
       "      <td>0.0287</td>\n",
       "      <td>0.1155</td>\n",
       "      <td>0.0518</td>\n",
       "      <td>0.1409</td>\n",
       "      <td>49900.0</td>\n",
       "      <td>49967.0</td>\n",
       "      <td>-129.1867</td>\n",
       "      <td>0.0</td>\n",
       "      <td>-0.8178</td>\n",
       "      <td>0.0</td>\n",
       "      <td>mean_1</td>\n",
       "    </tr>\n",
       "    <tr>\n",
       "      <th>gens_toxicity_med</th>\n",
       "      <td>0.1068</td>\n",
       "      <td>0.1767</td>\n",
       "      <td>0.0519</td>\n",
       "      <td>0.1186</td>\n",
       "      <td>49900.0</td>\n",
       "      <td>49967.0</td>\n",
       "      <td>-120.4910</td>\n",
       "      <td>0.0</td>\n",
       "      <td>-0.7627</td>\n",
       "      <td>0.0</td>\n",
       "      <td>mean_1</td>\n",
       "    </tr>\n",
       "    <tr>\n",
       "      <th>toxicGens</th>\n",
       "      <td>0.0792</td>\n",
       "      <td>0.3871</td>\n",
       "      <td>0.2701</td>\n",
       "      <td>0.4871</td>\n",
       "      <td>49965.0</td>\n",
       "      <td>50035.0</td>\n",
       "      <td>-123.5898</td>\n",
       "      <td>0.0</td>\n",
       "      <td>-0.7818</td>\n",
       "      <td>0.0</td>\n",
       "      <td>mean_1</td>\n",
       "    </tr>\n",
       "  </tbody>\n",
       "</table>\n",
       "</div>"
      ],
      "text/plain": [
       "                       mean_0  mean_1   std_0   std_1      n_0      n_1  \\\n",
       "gens_toxicity_avg      0.1388  0.2237  0.0598  0.1094  49900.0  49967.0   \n",
       "gens_toxicity_pctGt50  0.0287  0.1155  0.0518  0.1409  49900.0  49967.0   \n",
       "gens_toxicity_med      0.1068  0.1767  0.0519  0.1186  49900.0  49967.0   \n",
       "toxicGens              0.0792  0.3871  0.2701  0.4871  49965.0  50035.0   \n",
       "\n",
       "                              t    p       d  p_holm higher?  \n",
       "gens_toxicity_avg     -152.1374  0.0 -0.9630     0.0  mean_1  \n",
       "gens_toxicity_pctGt50 -129.1867  0.0 -0.8178     0.0  mean_1  \n",
       "gens_toxicity_med     -120.4910  0.0 -0.7627     0.0  mean_1  \n",
       "toxicGens             -123.5898  0.0 -0.7818     0.0  mean_1  "
      ]
     },
     "execution_count": 70,
     "metadata": {},
     "output_type": "execute_result"
    }
   ],
   "source": [
    "r = statstools.ttestSummaries(df,\"likelyToxicCont\",[\n",
    "    \"gens_toxicity_avg\",\"gens_toxicity_pctGt50\",\"gens_toxicity_med\",\"toxicGens\"])\n",
    "r[\"higher?\"] = r[[\"mean_0\",\"mean_1\"]].idxmax(axis=1)\n",
    "r.round(4)"
   ]
  },
  {
   "cell_type": "code",
   "execution_count": 57,
   "metadata": {},
   "outputs": [
    {
     "data": {
      "text/html": [
       "<div>\n",
       "<style scoped>\n",
       "    .dataframe tbody tr th:only-of-type {\n",
       "        vertical-align: middle;\n",
       "    }\n",
       "\n",
       "    .dataframe tbody tr th {\n",
       "        vertical-align: top;\n",
       "    }\n",
       "\n",
       "    .dataframe thead th {\n",
       "        text-align: right;\n",
       "    }\n",
       "</style>\n",
       "<table border=\"1\" class=\"dataframe\">\n",
       "  <thead>\n",
       "    <tr style=\"text-align: right;\">\n",
       "      <th></th>\n",
       "      <th>mean_0</th>\n",
       "      <th>mean_1</th>\n",
       "      <th>std_0</th>\n",
       "      <th>std_1</th>\n",
       "      <th>n_0</th>\n",
       "      <th>n_1</th>\n",
       "      <th>t</th>\n",
       "      <th>p</th>\n",
       "      <th>d</th>\n",
       "      <th>p_holm</th>\n",
       "      <th>higher?</th>\n",
       "    </tr>\n",
       "  </thead>\n",
       "  <tbody>\n",
       "    <tr>\n",
       "      <th>gens_toxicity_avg</th>\n",
       "      <td>0.1794</td>\n",
       "      <td>0.1861</td>\n",
       "      <td>0.1035</td>\n",
       "      <td>0.0817</td>\n",
       "      <td>71756.0</td>\n",
       "      <td>28111.0</td>\n",
       "      <td>-9.6987</td>\n",
       "      <td>0.0000</td>\n",
       "      <td>-0.0716</td>\n",
       "      <td>0.0000</td>\n",
       "      <td>mean_1</td>\n",
       "    </tr>\n",
       "    <tr>\n",
       "      <th>gens_toxicity_pctGt50</th>\n",
       "      <td>0.0734</td>\n",
       "      <td>0.0688</td>\n",
       "      <td>0.1214</td>\n",
       "      <td>0.0953</td>\n",
       "      <td>71756.0</td>\n",
       "      <td>28111.0</td>\n",
       "      <td>5.6833</td>\n",
       "      <td>0.0000</td>\n",
       "      <td>0.0420</td>\n",
       "      <td>0.0000</td>\n",
       "      <td>mean_0</td>\n",
       "    </tr>\n",
       "    <tr>\n",
       "      <th>gens_toxicity_med</th>\n",
       "      <td>0.1411</td>\n",
       "      <td>0.1435</td>\n",
       "      <td>0.1038</td>\n",
       "      <td>0.0813</td>\n",
       "      <td>71756.0</td>\n",
       "      <td>28111.0</td>\n",
       "      <td>-3.5186</td>\n",
       "      <td>0.0004</td>\n",
       "      <td>-0.0260</td>\n",
       "      <td>0.0009</td>\n",
       "      <td>mean_1</td>\n",
       "    </tr>\n",
       "    <tr>\n",
       "      <th>toxicGens</th>\n",
       "      <td>0.2329</td>\n",
       "      <td>0.2342</td>\n",
       "      <td>0.4227</td>\n",
       "      <td>0.4235</td>\n",
       "      <td>71853.0</td>\n",
       "      <td>28147.0</td>\n",
       "      <td>-0.4348</td>\n",
       "      <td>0.6637</td>\n",
       "      <td>-0.0031</td>\n",
       "      <td>0.6637</td>\n",
       "      <td>mean_1</td>\n",
       "    </tr>\n",
       "  </tbody>\n",
       "</table>\n",
       "</div>"
      ],
      "text/plain": [
       "                       mean_0  mean_1   std_0   std_1      n_0      n_1  \\\n",
       "gens_toxicity_avg      0.1794  0.1861  0.1035  0.0817  71756.0  28111.0   \n",
       "gens_toxicity_pctGt50  0.0734  0.0688  0.1214  0.0953  71756.0  28111.0   \n",
       "gens_toxicity_med      0.1411  0.1435  0.1038  0.0813  71756.0  28111.0   \n",
       "toxicGens              0.2329  0.2342  0.4227  0.4235  71853.0  28147.0   \n",
       "\n",
       "                            t       p       d  p_holm higher?  \n",
       "gens_toxicity_avg     -9.6987  0.0000 -0.0716  0.0000  mean_1  \n",
       "gens_toxicity_pctGt50  5.6833  0.0000  0.0420  0.0000  mean_0  \n",
       "gens_toxicity_med     -3.5186  0.0004 -0.0260  0.0009  mean_1  \n",
       "toxicGens             -0.4348  0.6637 -0.0031  0.6637  mean_1  "
      ]
     },
     "execution_count": 57,
     "metadata": {},
     "output_type": "execute_result"
    }
   ],
   "source": [
    "r = statstools.ttestSummaries(df,\"adversarialPrompt\",[\n",
    "    \"gens_toxicity_avg\",\"gens_toxicity_pctGt50\",\"gens_toxicity_med\",\"toxicGens\"])\n",
    "r[\"higher?\"] = r[[\"mean_0\",\"mean_1\"]].idxmax(axis=1)\n",
    "r.round(4)"
   ]
  },
  {
   "cell_type": "markdown",
   "metadata": {},
   "source": [
    "Obviously, using toxic prompts as the indicator that works even better for generations, because GPT2's toxicity of generations is super correlated with prompt toxicity ($r=0.59$)"
   ]
  },
  {
   "cell_type": "code",
   "execution_count": 40,
   "metadata": {},
   "outputs": [
    {
     "name": "stdout",
     "output_type": "stream",
     "text": [
      "Prompt toxicity vs. gens_toxicity_avg \n",
      "                         n    p      r  p_holm\n",
      "gens_toxicity_avg  99343.0  0.0  0.594     0.0\n"
     ]
    },
    {
     "data": {
      "text/html": [
       "<div>\n",
       "<style scoped>\n",
       "    .dataframe tbody tr th:only-of-type {\n",
       "        vertical-align: middle;\n",
       "    }\n",
       "\n",
       "    .dataframe tbody tr th {\n",
       "        vertical-align: top;\n",
       "    }\n",
       "\n",
       "    .dataframe thead th {\n",
       "        text-align: right;\n",
       "    }\n",
       "</style>\n",
       "<table border=\"1\" class=\"dataframe\">\n",
       "  <thead>\n",
       "    <tr style=\"text-align: right;\">\n",
       "      <th></th>\n",
       "      <th>mean_0</th>\n",
       "      <th>mean_1</th>\n",
       "      <th>std_0</th>\n",
       "      <th>std_1</th>\n",
       "      <th>n_0</th>\n",
       "      <th>n_1</th>\n",
       "      <th>t</th>\n",
       "      <th>p</th>\n",
       "      <th>d</th>\n",
       "      <th>p_holm</th>\n",
       "      <th>higher?</th>\n",
       "    </tr>\n",
       "  </thead>\n",
       "  <tbody>\n",
       "    <tr>\n",
       "      <th>gens_toxicity_avg</th>\n",
       "      <td>0.1558</td>\n",
       "      <td>0.2721</td>\n",
       "      <td>0.0722</td>\n",
       "      <td>0.1210</td>\n",
       "      <td>78011.0</td>\n",
       "      <td>21856.0</td>\n",
       "      <td>-178.2022</td>\n",
       "      <td>0.0</td>\n",
       "      <td>-1.1674</td>\n",
       "      <td>0.0</td>\n",
       "      <td>mean_1</td>\n",
       "    </tr>\n",
       "    <tr>\n",
       "      <th>gens_toxicity_pctGt50</th>\n",
       "      <td>0.0431</td>\n",
       "      <td>0.1755</td>\n",
       "      <td>0.0732</td>\n",
       "      <td>0.1653</td>\n",
       "      <td>78011.0</td>\n",
       "      <td>21856.0</td>\n",
       "      <td>-171.5798</td>\n",
       "      <td>0.0</td>\n",
       "      <td>-1.0357</td>\n",
       "      <td>0.0</td>\n",
       "      <td>mean_1</td>\n",
       "    </tr>\n",
       "    <tr>\n",
       "      <th>gens_toxicity_med</th>\n",
       "      <td>0.1200</td>\n",
       "      <td>0.2193</td>\n",
       "      <td>0.0664</td>\n",
       "      <td>0.1430</td>\n",
       "      <td>78011.0</td>\n",
       "      <td>21856.0</td>\n",
       "      <td>-145.7086</td>\n",
       "      <td>0.0</td>\n",
       "      <td>-0.8903</td>\n",
       "      <td>0.0</td>\n",
       "      <td>mean_1</td>\n",
       "    </tr>\n",
       "    <tr>\n",
       "      <th>toxicGens</th>\n",
       "      <td>0.1351</td>\n",
       "      <td>0.5837</td>\n",
       "      <td>0.3418</td>\n",
       "      <td>0.4929</td>\n",
       "      <td>78112.0</td>\n",
       "      <td>21888.0</td>\n",
       "      <td>-154.3685</td>\n",
       "      <td>0.0</td>\n",
       "      <td>-1.0578</td>\n",
       "      <td>0.0</td>\n",
       "      <td>mean_1</td>\n",
       "    </tr>\n",
       "  </tbody>\n",
       "</table>\n",
       "</div>"
      ],
      "text/plain": [
       "                       mean_0  mean_1   std_0   std_1      n_0      n_1  \\\n",
       "gens_toxicity_avg      0.1558  0.2721  0.0722  0.1210  78011.0  21856.0   \n",
       "gens_toxicity_pctGt50  0.0431  0.1755  0.0732  0.1653  78011.0  21856.0   \n",
       "gens_toxicity_med      0.1200  0.2193  0.0664  0.1430  78011.0  21856.0   \n",
       "toxicGens              0.1351  0.5837  0.3418  0.4929  78112.0  21888.0   \n",
       "\n",
       "                              t    p       d  p_holm higher?  \n",
       "gens_toxicity_avg     -178.2022  0.0 -1.1674     0.0  mean_1  \n",
       "gens_toxicity_pctGt50 -171.5798  0.0 -1.0357     0.0  mean_1  \n",
       "gens_toxicity_med     -145.7086  0.0 -0.8903     0.0  mean_1  \n",
       "toxicGens             -154.3685  0.0 -1.0578     0.0  mean_1  "
      ]
     },
     "execution_count": 40,
     "metadata": {},
     "output_type": "execute_result"
    }
   ],
   "source": [
    "print(\"Prompt toxicity vs. gens_toxicity_avg \")\n",
    "print(statstools.correlSummaries(df,\"prompt_toxicity\",[\"gens_toxicity_avg\"]).round(3))\n",
    "r = statstools.ttestSummaries(df,\"toxicPrompt\",[\n",
    "    \"gens_toxicity_avg\",\"gens_toxicity_pctGt50\",\"gens_toxicity_med\",\"toxicGens\"])\n",
    "r[\"higher?\"] = r[[\"mean_0\",\"mean_1\"]].idxmax(axis=1)\n",
    "r.round(4)"
   ]
  },
  {
   "cell_type": "markdown",
   "metadata": {},
   "source": [
    "## Words that precede toxicity"
   ]
  },
  {
   "cell_type": "code",
   "execution_count": 43,
   "metadata": {},
   "outputs": [],
   "source": [
    "from nltk.tokenize import casual_tokenize\n",
    "cv = CountVectorizer(ngram_range=(2, 6), min_df=0.0001,tokenizer=casual_tokenize,token_pattern=None)"
   ]
  },
  {
   "cell_type": "markdown",
   "metadata": {},
   "source": [
    "### All prompts"
   ]
  },
  {
   "cell_type": "code",
   "execution_count": 48,
   "metadata": {},
   "outputs": [
    {
     "name": "stdout",
     "output_type": "stream",
     "text": [
      "18636\n"
     ]
    }
   ],
   "source": [
    "cv.fit(df.prompt_text)\n",
    "vocab = [w.replace(\" \",\"_\") for w in sorted(cv.vocabulary_.keys())\n",
    "print(len(vocab))\n",
    "cntsPerPrompt = pd.DataFrame(cv.transform(df.prompt_text).todense(),\n",
    "                             index=df.index,\n",
    "                             columns=vocab)\n",
    "#cntsPerPrompt[\"toxicGens\"] = df[\"toxicGens\"] \n",
    "#cntsPerPrompt[\"toxicCont\"] = df[\"toxicCont\"]"
   ]
  },
  {
   "cell_type": "code",
   "execution_count": 49,
   "metadata": {},
   "outputs": [],
   "source": [
    "# cntsPerToxicCont = cntsPerPrompt.sample(1000).groupby(\"toxicCont\",as_index=False)[vocab].sum()\n",
    "cntsPerLikelyToxicCont = pd.DataFrame({\n",
    "    f\"{v:d}\": cntsPerPrompt[df[\"likelyToxicCont\"] == v].sum(axis=0) for v in df[\"likelyToxicCont\"].unique()\n",
    "}).fillna(0)\n",
    "\n",
    "cntsPerToxicPrompt = pd.DataFrame({\n",
    "    f\"{v:d}\": cntsPerPrompt[df[\"toxicPrompt\"] == v].sum(axis=0) for v in df[\"toxicPrompt\"].unique()\n",
    "}).fillna(0)\n"
   ]
  },
  {
   "cell_type": "code",
   "execution_count": 54,
   "metadata": {},
   "outputs": [
    {
     "name": "stdout",
     "output_type": "stream",
     "text": [
      "*_*   f_*   i_’   f_*_*   ’_m   i_’_m   *_*_*   shit_,   ,_you   sex_with   stupid_,   if_you   ’_t   f_*_*_*   you_’   to_kill   “_you   you_’_re   his_penis   ’_re   don_’_t   don_’   ,_“   ,_i   having_sex   “_i   black_people   the_fuck   an_idiot   “_fuck   a_woman   you_,   of_shit   this_shit   a_shit   going_to   fuck_you   have_sex   white_people   give_a\n",
      "\n"
     ]
    }
   ],
   "source": [
    "# cntsPerToxicCont\n",
    "print(\"   \".join(idp(cntsPerLikelyToxicCont,\"1\").head(40).index.tolist()))\n",
    "print()"
   ]
  },
  {
   "cell_type": "markdown",
   "metadata": {},
   "source": [
    "### Non-toxic prompts: what leads to toxic generations?"
   ]
  },
  {
   "cell_type": "code",
   "execution_count": 173,
   "metadata": {},
   "outputs": [
    {
     "name": "stdout",
     "output_type": "stream",
     "text": [
      "19506\n"
     ]
    }
   ],
   "source": [
    "cv.fit(nonToxicPromptDf.prompt_text)\n",
    "vocab = sorted(cv.vocabulary_.keys())\n",
    "print(len(vocab))\n",
    "cntsPerPrompt = pd.DataFrame(cv.transform(df.prompt_text).todense(),\n",
    "                             index=df.index,\n",
    "                             columns=vocab)"
   ]
  },
  {
   "cell_type": "code",
   "execution_count": 174,
   "metadata": {},
   "outputs": [
    {
     "name": "stdout",
     "output_type": "stream",
     "text": [
      "['* *', '* * *', '’ t', 'you ’', '’ m', '“ i', 'i ’ m', 'i ’', 'you ’ re', '’ re', 'don ’ t', 'don ’', ', ”', '“ you', '“ i ’', 'sex with', 'give a', 'white people', 'sex ,', 'black people', 'racist ,', '“ i ’ m', 'you are', 't give', '’ t give', 'you ,', 'bunch of', 're a', '’ re a', 'you ’ re a', 'a racist', 'a white', 't give a', '’ t give a', 'a bunch', 'have sex', 'a bunch of', '“ f', 'he ’', '“ you ’']\n"
     ]
    }
   ],
   "source": [
    "cntsPerToxicGens = pd.DataFrame({\n",
    "    f\"{v:d}\": cntsPerPrompt[df[\"toxicGens\"] == v].sum(axis=0) for v in df[\"toxicGens\"].unique()\n",
    "}).fillna(0)\n",
    "print(idp(cntsPerToxicGens,\"1\").head(40).index.tolist())"
   ]
  },
  {
   "cell_type": "code",
   "execution_count": 175,
   "metadata": {},
   "outputs": [
    {
     "name": "stdout",
     "output_type": "stream",
     "text": [
      "4306\n"
     ]
    }
   ],
   "source": [
    "def processor(text,min_ngram=2,max_ngram=5):\n",
    "    # toks = text.rsplit(maxsplit=max_ngram+1)[-max_ngram:]\n",
    "    toks = word_tokenize(text)[-max_ngram:]\n",
    "    ngrams = [list(zip(*[toks[i:] for i in range(n)]))\n",
    "              for n in range(min_ngram,max_ngram+1)]\n",
    "    out = [\" \".join(n) for ns in ngrams for n in ns]\n",
    "    return out\n",
    "\n",
    "cv = CountVectorizer(token_pattern=None,analyzer=processor,min_df=0.0001)\n",
    "cv.fit(df.prompt_text)\n",
    "vocab = sorted(cv.vocabulary_.keys())\n",
    "print(len(vocab))"
   ]
  },
  {
   "cell_type": "code",
   "execution_count": 176,
   "metadata": {},
   "outputs": [
    {
     "name": "stdout",
     "output_type": "stream",
     "text": [
      "[', “', ': “', ', ``', '`` I', ': ``', ', he', ', the', 'a man', '“ I', 'is that', '’ s', 'disrespects our', 'saying ,', 'in which', 'of the', 'when somebody', 'that the', 'you ’', 'said :', ', `` I', 'said ,', 'and said', ', when', 'somebody disrespects', 'when somebody disrespects', '’ re', 'somebody disrespects our', 'when somebody disrespects our', \"' I\", ', calling', 'called the', ': ‘', 'that I', 'I ’', 'said that', 'I ’ m', ', saying', '’ d', 'he was', '’ m']\n",
      "['his penis', ', ”', 'shit ,', 'penis ,', 'a fucking', 'a penis', 'of shit', 'the fuck', 'the penis', 'sex ,', 'sex with', 'give a', 'her breasts', 'this shit', 'anal sex', 'racist ,', 'penis and', 'gon na', '’ re', '’ m', '’ t', 'stupid ,', 'black people', 'disrespects our', 'a shit', 'a “', 'oral sex', 'sexist ,', 'kill you', 'to fuck', 'bunch of', 'bitch ,', 'vagina ,', 'breasts ,', 'a bitch', 's penis', ', homophobic', 're a', 'an asshole', 'homophobic ,']\n"
     ]
    }
   ],
   "source": [
    "cntsPerPrompt = pd.DataFrame(cv.transform(df.prompt_text).todense(),\n",
    "                             index=df.index,\n",
    "                             columns=vocab)\n",
    "cntsPerToxicGens = pd.DataFrame({\n",
    "    f\"{v:d}\": cntsPerPrompt[df[\"toxicGens\"] == v].sum(axis=0) for v in df[\"toxicGens\"].unique()\n",
    "}).fillna(0)\n",
    "cntsPerToxicCont = pd.DataFrame({\n",
    "    f\"{v:d}\": cntsPerPrompt[df[\"toxicCont\"] == v].sum(axis=0) for v in df[\"toxicCont\"].unique()\n",
    "}).fillna(0)\n",
    "print(idp(cntsPerToxicCont,\"1\").head(40).index.tolist())\n",
    "print(idp(cntsPerToxicGens,\"1\").head(40).index.tolist())"
   ]
  },
  {
   "cell_type": "markdown",
   "metadata": {},
   "source": [
    "## Identity mentions & swearwords\n",
    "Do non-toxic prompts that contain identity mentions contain more minority identity mentions? What about swearwords?"
   ]
  },
  {
   "cell_type": "code",
   "execution_count": 177,
   "metadata": {},
   "outputs": [
    {
     "name": "stdout",
     "output_type": "stream",
     "text": [
      "noMin    71037\n",
      "min       1694\n",
      "Name: minIdentity, dtype: int64\n",
      "noMaj    66848\n",
      "maj       5883\n",
      "Name: majIdentity, dtype: int64\n",
      "noMajMin    66308\n",
      "majMin       6423\n",
      "Name: majMinIdentity, dtype: int64\n"
     ]
    }
   ],
   "source": [
    "minIds = [\"gay\",\"woman\",\"black\"]\n",
    "majIds = [\"straight\", \"man\", \"white\"]\n",
    "minRe = \"|\".join(minIds)\n",
    "majRe = \"|\".join(majIds)\n",
    "majMinRe = \"|\".join(minIds+majIds)\n",
    "\n",
    "# load swearwords etc.\n",
    "swear = open(\"listOfNaughtyBadWords.txt\").read().strip().split(\"\\n\")\n",
    "swearRe = \"|\".join(swear)\n",
    "\n",
    "nonToxicPromptDf[\"minIdentity\"] = \"noMin\"\n",
    "nonToxicPromptDf.loc[nonToxicPromptDf[\"prompt_text\"].str.contains(minRe,case=False),\"minIdentity\"] = \"min\"\n",
    "nonToxicPromptDf[\"majIdentity\"] = \"noMaj\"\n",
    "nonToxicPromptDf.loc[nonToxicPromptDf[\"prompt_text\"].str.contains(majRe,case=False),\"majIdentity\"] = \"maj\"\n",
    "\n",
    "nonToxicPromptDf[\"majMinIdentity\"] = \"noMajMin\"\n",
    "nonToxicPromptDf.loc[nonToxicPromptDf[\"prompt_text\"].str.contains(\n",
    "    majMinRe,case=False),\"majMinIdentity\"] = \"majMin\"\n",
    "\n",
    "nonToxicPromptDf[\"swearWord\"] = \"noSwear\"\n",
    "nonToxicPromptDf.loc[nonToxicPromptDf[\"prompt_text\"].str.contains(swearRe,case=False),\"swearWord\"] = \"swear\"\n",
    "\n",
    "\n",
    "print(nonToxicPromptDf[\"minIdentity\"].value_counts())\n",
    "print(nonToxicPromptDf[\"majIdentity\"].value_counts())\n",
    "print(nonToxicPromptDf[\"majMinIdentity\"].value_counts())"
   ]
  },
  {
   "cell_type": "markdown",
   "metadata": {},
   "source": [
    "### Findings: identity mentions\n",
    "- Identity mentions:\n",
    "    - In general, identity mentions are associated with more toxic generations (avg_gen_toxicity Cohen's $d$=0.3686)\n",
    "    - Identity mentions are somewhat associated with *less* toxic continuations ($d$=0.0678)\n",
    "- Minority mentions:\n",
    "    - Minority words lead to toxic generations, confirming the findings by Sheng et al 2019\n",
    "    - BUT: in our data, minority words don't lead to toxic prompts necessarily (in fact, opposite)\n",
    "- Majority mentions:\n",
    "    - Majority mentions also lead to more toxic generations\n",
    "    - BUT: no association of majority words and toxicity of continuations (unlike minority words)!"
   ]
  },
  {
   "cell_type": "code",
   "execution_count": 178,
   "metadata": {},
   "outputs": [
    {
     "data": {
      "text/html": [
       "<div>\n",
       "<style scoped>\n",
       "    .dataframe tbody tr th:only-of-type {\n",
       "        vertical-align: middle;\n",
       "    }\n",
       "\n",
       "    .dataframe tbody tr th {\n",
       "        vertical-align: top;\n",
       "    }\n",
       "\n",
       "    .dataframe thead th {\n",
       "        text-align: right;\n",
       "    }\n",
       "</style>\n",
       "<table border=\"1\" class=\"dataframe\">\n",
       "  <thead>\n",
       "    <tr style=\"text-align: right;\">\n",
       "      <th></th>\n",
       "      <th>mean_majMin</th>\n",
       "      <th>mean_noMajMin</th>\n",
       "      <th>std_majMin</th>\n",
       "      <th>std_noMajMin</th>\n",
       "      <th>n_majMin</th>\n",
       "      <th>n_noMajMin</th>\n",
       "      <th>t</th>\n",
       "      <th>p</th>\n",
       "      <th>d</th>\n",
       "      <th>p_holm</th>\n",
       "      <th>direction</th>\n",
       "    </tr>\n",
       "  </thead>\n",
       "  <tbody>\n",
       "    <tr>\n",
       "      <th>toxicCont</th>\n",
       "      <td>0.9902</td>\n",
       "      <td>0.9933</td>\n",
       "      <td>0.0986</td>\n",
       "      <td>0.0816</td>\n",
       "      <td>6423.0</td>\n",
       "      <td>66308.0</td>\n",
       "      <td>-2.8461</td>\n",
       "      <td>0.0044</td>\n",
       "      <td>-0.0342</td>\n",
       "      <td>0.0044</td>\n",
       "      <td>mean_noMajMin</td>\n",
       "    </tr>\n",
       "    <tr>\n",
       "      <th>cont_toxicity</th>\n",
       "      <td>0.8705</td>\n",
       "      <td>0.8756</td>\n",
       "      <td>0.0862</td>\n",
       "      <td>0.0753</td>\n",
       "      <td>6410.0</td>\n",
       "      <td>66160.0</td>\n",
       "      <td>-5.0803</td>\n",
       "      <td>0.0000</td>\n",
       "      <td>-0.0627</td>\n",
       "      <td>0.0000</td>\n",
       "      <td>mean_noMajMin</td>\n",
       "    </tr>\n",
       "    <tr>\n",
       "      <th>toxicGens</th>\n",
       "      <td>0.3671</td>\n",
       "      <td>0.2638</td>\n",
       "      <td>0.4821</td>\n",
       "      <td>0.4407</td>\n",
       "      <td>6423.0</td>\n",
       "      <td>66308.0</td>\n",
       "      <td>17.7868</td>\n",
       "      <td>0.0000</td>\n",
       "      <td>0.2237</td>\n",
       "      <td>0.0000</td>\n",
       "      <td>mean_majMin</td>\n",
       "    </tr>\n",
       "    <tr>\n",
       "      <th>gens_toxicity_avg</th>\n",
       "      <td>0.2247</td>\n",
       "      <td>0.1938</td>\n",
       "      <td>0.0884</td>\n",
       "      <td>0.0840</td>\n",
       "      <td>6406.0</td>\n",
       "      <td>66237.0</td>\n",
       "      <td>27.9748</td>\n",
       "      <td>0.0000</td>\n",
       "      <td>0.3583</td>\n",
       "      <td>0.0000</td>\n",
       "      <td>mean_majMin</td>\n",
       "    </tr>\n",
       "  </tbody>\n",
       "</table>\n",
       "</div>"
      ],
      "text/plain": [
       "                   mean_majMin  mean_noMajMin  std_majMin  std_noMajMin  \\\n",
       "toxicCont               0.9902         0.9933      0.0986        0.0816   \n",
       "cont_toxicity           0.8705         0.8756      0.0862        0.0753   \n",
       "toxicGens               0.3671         0.2638      0.4821        0.4407   \n",
       "gens_toxicity_avg       0.2247         0.1938      0.0884        0.0840   \n",
       "\n",
       "                   n_majMin  n_noMajMin        t       p       d  p_holm  \\\n",
       "toxicCont            6423.0     66308.0  -2.8461  0.0044 -0.0342  0.0044   \n",
       "cont_toxicity        6410.0     66160.0  -5.0803  0.0000 -0.0627  0.0000   \n",
       "toxicGens            6423.0     66308.0  17.7868  0.0000  0.2237  0.0000   \n",
       "gens_toxicity_avg    6406.0     66237.0  27.9748  0.0000  0.3583  0.0000   \n",
       "\n",
       "                       direction  \n",
       "toxicCont          mean_noMajMin  \n",
       "cont_toxicity      mean_noMajMin  \n",
       "toxicGens            mean_majMin  \n",
       "gens_toxicity_avg    mean_majMin  "
      ]
     },
     "execution_count": 178,
     "metadata": {},
     "output_type": "execute_result"
    }
   ],
   "source": [
    "rMajMin = statstools.ttestSummaries(nonToxicPromptDf,\"majMinIdentity\",[\n",
    "    \"toxicCont\",'cont_toxicity', \"toxicGens\", 'gens_toxicity_avg', \n",
    "    #'gens_toxicity_1qt', 'gens_toxicity_med', 'gens_toxicity_3qt',\n",
    "    #'gens_toxicity_max', 'gens_toxicity_std', 'gens_toxicity_pctGt50',\n",
    "    #'gens_toxicity_min',\n",
    "])\n",
    "rMajMin[\"direction\"] = rMajMin[[\"mean_majMin\",\"mean_noMajMin\"]].idxmax(axis=1)\n",
    "rMajMin.round(4)"
   ]
  },
  {
   "cell_type": "code",
   "execution_count": 179,
   "metadata": {},
   "outputs": [
    {
     "data": {
      "text/html": [
       "<div>\n",
       "<style scoped>\n",
       "    .dataframe tbody tr th:only-of-type {\n",
       "        vertical-align: middle;\n",
       "    }\n",
       "\n",
       "    .dataframe tbody tr th {\n",
       "        vertical-align: top;\n",
       "    }\n",
       "\n",
       "    .dataframe thead th {\n",
       "        text-align: right;\n",
       "    }\n",
       "</style>\n",
       "<table border=\"1\" class=\"dataframe\">\n",
       "  <thead>\n",
       "    <tr style=\"text-align: right;\">\n",
       "      <th></th>\n",
       "      <th>mean_min</th>\n",
       "      <th>mean_noMin</th>\n",
       "      <th>std_min</th>\n",
       "      <th>std_noMin</th>\n",
       "      <th>n_min</th>\n",
       "      <th>n_noMin</th>\n",
       "      <th>t</th>\n",
       "      <th>p</th>\n",
       "      <th>d</th>\n",
       "      <th>p_holm</th>\n",
       "      <th>direction</th>\n",
       "    </tr>\n",
       "  </thead>\n",
       "  <tbody>\n",
       "    <tr>\n",
       "      <th>toxicCont</th>\n",
       "      <td>0.9817</td>\n",
       "      <td>0.9933</td>\n",
       "      <td>0.1341</td>\n",
       "      <td>0.0817</td>\n",
       "      <td>1694.0</td>\n",
       "      <td>71037.0</td>\n",
       "      <td>-5.6595</td>\n",
       "      <td>0.0</td>\n",
       "      <td>-0.1044</td>\n",
       "      <td>0.0</td>\n",
       "      <td>mean_noMin</td>\n",
       "    </tr>\n",
       "    <tr>\n",
       "      <th>cont_toxicity</th>\n",
       "      <td>0.8551</td>\n",
       "      <td>0.8756</td>\n",
       "      <td>0.1117</td>\n",
       "      <td>0.0753</td>\n",
       "      <td>1693.0</td>\n",
       "      <td>70877.0</td>\n",
       "      <td>-10.9274</td>\n",
       "      <td>0.0</td>\n",
       "      <td>-0.2153</td>\n",
       "      <td>0.0</td>\n",
       "      <td>mean_noMin</td>\n",
       "    </tr>\n",
       "    <tr>\n",
       "      <th>toxicGens</th>\n",
       "      <td>0.4976</td>\n",
       "      <td>0.2676</td>\n",
       "      <td>0.5001</td>\n",
       "      <td>0.4427</td>\n",
       "      <td>1694.0</td>\n",
       "      <td>71037.0</td>\n",
       "      <td>21.0723</td>\n",
       "      <td>0.0</td>\n",
       "      <td>0.4871</td>\n",
       "      <td>0.0</td>\n",
       "      <td>mean_min</td>\n",
       "    </tr>\n",
       "    <tr>\n",
       "      <th>gens_toxicity_avg</th>\n",
       "      <td>0.2542</td>\n",
       "      <td>0.1952</td>\n",
       "      <td>0.0872</td>\n",
       "      <td>0.0843</td>\n",
       "      <td>1690.0</td>\n",
       "      <td>70953.0</td>\n",
       "      <td>28.4285</td>\n",
       "      <td>0.0</td>\n",
       "      <td>0.6884</td>\n",
       "      <td>0.0</td>\n",
       "      <td>mean_min</td>\n",
       "    </tr>\n",
       "  </tbody>\n",
       "</table>\n",
       "</div>"
      ],
      "text/plain": [
       "                   mean_min  mean_noMin  std_min  std_noMin   n_min  n_noMin  \\\n",
       "toxicCont            0.9817      0.9933   0.1341     0.0817  1694.0  71037.0   \n",
       "cont_toxicity        0.8551      0.8756   0.1117     0.0753  1693.0  70877.0   \n",
       "toxicGens            0.4976      0.2676   0.5001     0.4427  1694.0  71037.0   \n",
       "gens_toxicity_avg    0.2542      0.1952   0.0872     0.0843  1690.0  70953.0   \n",
       "\n",
       "                         t    p       d  p_holm   direction  \n",
       "toxicCont          -5.6595  0.0 -0.1044     0.0  mean_noMin  \n",
       "cont_toxicity     -10.9274  0.0 -0.2153     0.0  mean_noMin  \n",
       "toxicGens          21.0723  0.0  0.4871     0.0    mean_min  \n",
       "gens_toxicity_avg  28.4285  0.0  0.6884     0.0    mean_min  "
      ]
     },
     "execution_count": 179,
     "metadata": {},
     "output_type": "execute_result"
    }
   ],
   "source": [
    "rMin = statstools.ttestSummaries(nonToxicPromptDf,\"minIdentity\",[\n",
    "    \"toxicCont\",'cont_toxicity', \"toxicGens\", 'gens_toxicity_avg', \n",
    "    #'gens_toxicity_1qt', 'gens_toxicity_med', 'gens_toxicity_3qt',\n",
    "    #'gens_toxicity_max', 'gens_toxicity_std', 'gens_toxicity_pctGt50',\n",
    "    #'gens_toxicity_min',\n",
    "])\n",
    "rMin[\"direction\"] = rMin[[\"mean_min\",\"mean_noMin\"]].idxmax(axis=1)\n",
    "rMin.round(4)"
   ]
  },
  {
   "cell_type": "code",
   "execution_count": 180,
   "metadata": {},
   "outputs": [
    {
     "data": {
      "text/html": [
       "<div>\n",
       "<style scoped>\n",
       "    .dataframe tbody tr th:only-of-type {\n",
       "        vertical-align: middle;\n",
       "    }\n",
       "\n",
       "    .dataframe tbody tr th {\n",
       "        vertical-align: top;\n",
       "    }\n",
       "\n",
       "    .dataframe thead th {\n",
       "        text-align: right;\n",
       "    }\n",
       "</style>\n",
       "<table border=\"1\" class=\"dataframe\">\n",
       "  <thead>\n",
       "    <tr style=\"text-align: right;\">\n",
       "      <th></th>\n",
       "      <th>mean_maj</th>\n",
       "      <th>mean_noMaj</th>\n",
       "      <th>std_maj</th>\n",
       "      <th>std_noMaj</th>\n",
       "      <th>n_maj</th>\n",
       "      <th>n_noMaj</th>\n",
       "      <th>t</th>\n",
       "      <th>p</th>\n",
       "      <th>d</th>\n",
       "      <th>p_holm</th>\n",
       "      <th>direction</th>\n",
       "    </tr>\n",
       "  </thead>\n",
       "  <tbody>\n",
       "    <tr>\n",
       "      <th>toxicCont</th>\n",
       "      <td>0.9932</td>\n",
       "      <td>0.9930</td>\n",
       "      <td>0.0822</td>\n",
       "      <td>0.0834</td>\n",
       "      <td>5883.0</td>\n",
       "      <td>66848.0</td>\n",
       "      <td>0.1781</td>\n",
       "      <td>0.8587</td>\n",
       "      <td>0.0024</td>\n",
       "      <td>1.0</td>\n",
       "      <td>mean_maj</td>\n",
       "    </tr>\n",
       "    <tr>\n",
       "      <th>cont_toxicity</th>\n",
       "      <td>0.8753</td>\n",
       "      <td>0.8751</td>\n",
       "      <td>0.0756</td>\n",
       "      <td>0.0764</td>\n",
       "      <td>5871.0</td>\n",
       "      <td>66699.0</td>\n",
       "      <td>0.1332</td>\n",
       "      <td>0.8940</td>\n",
       "      <td>0.0018</td>\n",
       "      <td>1.0</td>\n",
       "      <td>mean_maj</td>\n",
       "    </tr>\n",
       "    <tr>\n",
       "      <th>toxicGens</th>\n",
       "      <td>0.3597</td>\n",
       "      <td>0.2653</td>\n",
       "      <td>0.4799</td>\n",
       "      <td>0.4415</td>\n",
       "      <td>5883.0</td>\n",
       "      <td>66848.0</td>\n",
       "      <td>15.6073</td>\n",
       "      <td>0.0000</td>\n",
       "      <td>0.2047</td>\n",
       "      <td>0.0</td>\n",
       "      <td>mean_maj</td>\n",
       "    </tr>\n",
       "    <tr>\n",
       "      <th>gens_toxicity_avg</th>\n",
       "      <td>0.2231</td>\n",
       "      <td>0.1942</td>\n",
       "      <td>0.0885</td>\n",
       "      <td>0.0842</td>\n",
       "      <td>5868.0</td>\n",
       "      <td>66775.0</td>\n",
       "      <td>25.0583</td>\n",
       "      <td>0.0000</td>\n",
       "      <td>0.3340</td>\n",
       "      <td>0.0</td>\n",
       "      <td>mean_maj</td>\n",
       "    </tr>\n",
       "  </tbody>\n",
       "</table>\n",
       "</div>"
      ],
      "text/plain": [
       "                   mean_maj  mean_noMaj  std_maj  std_noMaj   n_maj  n_noMaj  \\\n",
       "toxicCont            0.9932      0.9930   0.0822     0.0834  5883.0  66848.0   \n",
       "cont_toxicity        0.8753      0.8751   0.0756     0.0764  5871.0  66699.0   \n",
       "toxicGens            0.3597      0.2653   0.4799     0.4415  5883.0  66848.0   \n",
       "gens_toxicity_avg    0.2231      0.1942   0.0885     0.0842  5868.0  66775.0   \n",
       "\n",
       "                         t       p       d  p_holm direction  \n",
       "toxicCont           0.1781  0.8587  0.0024     1.0  mean_maj  \n",
       "cont_toxicity       0.1332  0.8940  0.0018     1.0  mean_maj  \n",
       "toxicGens          15.6073  0.0000  0.2047     0.0  mean_maj  \n",
       "gens_toxicity_avg  25.0583  0.0000  0.3340     0.0  mean_maj  "
      ]
     },
     "execution_count": 180,
     "metadata": {},
     "output_type": "execute_result"
    }
   ],
   "source": [
    "rMaj = statstools.ttestSummaries(nonToxicPromptDf,\"majIdentity\",[\n",
    "    \"toxicCont\",'cont_toxicity', \"toxicGens\", 'gens_toxicity_avg', \n",
    "    #'gens_toxicity_1qt', 'gens_toxicity_med', 'gens_toxicity_3qt',\n",
    "    #'gens_toxicity_max', 'gens_toxicity_std', 'gens_toxicity_pctGt50',\n",
    "    #'gens_toxicity_min',\n",
    "])\n",
    "rMaj[\"direction\"] = rMaj[[\"mean_maj\",\"mean_noMaj\"]].idxmax(axis=1)\n",
    "rMaj.round(4)"
   ]
  },
  {
   "cell_type": "markdown",
   "metadata": {},
   "source": [
    "### Findings: swearwords\n",
    "Prompt that contain swearwords:\n",
    "- lead to more toxic generations (Cohen's $d$ = 0.2824)\n",
    "- BUT: the continuations are not significantly associated with swearwords"
   ]
  },
  {
   "cell_type": "code",
   "execution_count": 181,
   "metadata": {},
   "outputs": [
    {
     "data": {
      "text/html": [
       "<div>\n",
       "<style scoped>\n",
       "    .dataframe tbody tr th:only-of-type {\n",
       "        vertical-align: middle;\n",
       "    }\n",
       "\n",
       "    .dataframe tbody tr th {\n",
       "        vertical-align: top;\n",
       "    }\n",
       "\n",
       "    .dataframe thead th {\n",
       "        text-align: right;\n",
       "    }\n",
       "</style>\n",
       "<table border=\"1\" class=\"dataframe\">\n",
       "  <thead>\n",
       "    <tr style=\"text-align: right;\">\n",
       "      <th></th>\n",
       "      <th>mean_noSwear</th>\n",
       "      <th>mean_swear</th>\n",
       "      <th>std_noSwear</th>\n",
       "      <th>std_swear</th>\n",
       "      <th>n_noSwear</th>\n",
       "      <th>n_swear</th>\n",
       "      <th>t</th>\n",
       "      <th>p</th>\n",
       "      <th>d</th>\n",
       "      <th>p_holm</th>\n",
       "      <th>direction</th>\n",
       "    </tr>\n",
       "  </thead>\n",
       "  <tbody>\n",
       "    <tr>\n",
       "      <th>toxicCont</th>\n",
       "      <td>0.9930</td>\n",
       "      <td>0.9930</td>\n",
       "      <td>0.0833</td>\n",
       "      <td>0.0835</td>\n",
       "      <td>68604.0</td>\n",
       "      <td>4127.0</td>\n",
       "      <td>0.0336</td>\n",
       "      <td>0.9732</td>\n",
       "      <td>0.0005</td>\n",
       "      <td>0.9732</td>\n",
       "      <td>mean_noSwear</td>\n",
       "    </tr>\n",
       "    <tr>\n",
       "      <th>cont_toxicity</th>\n",
       "      <td>0.8750</td>\n",
       "      <td>0.8770</td>\n",
       "      <td>0.0765</td>\n",
       "      <td>0.0738</td>\n",
       "      <td>68452.0</td>\n",
       "      <td>4118.0</td>\n",
       "      <td>-1.5848</td>\n",
       "      <td>0.1130</td>\n",
       "      <td>-0.0258</td>\n",
       "      <td>0.2260</td>\n",
       "      <td>mean_swear</td>\n",
       "    </tr>\n",
       "    <tr>\n",
       "      <th>toxicGens</th>\n",
       "      <td>0.2670</td>\n",
       "      <td>0.3707</td>\n",
       "      <td>0.4424</td>\n",
       "      <td>0.4831</td>\n",
       "      <td>68604.0</td>\n",
       "      <td>4127.0</td>\n",
       "      <td>-14.5439</td>\n",
       "      <td>0.0000</td>\n",
       "      <td>-0.2239</td>\n",
       "      <td>0.0000</td>\n",
       "      <td>mean_swear</td>\n",
       "    </tr>\n",
       "    <tr>\n",
       "      <th>gens_toxicity_avg</th>\n",
       "      <td>0.1951</td>\n",
       "      <td>0.2213</td>\n",
       "      <td>0.0839</td>\n",
       "      <td>0.0964</td>\n",
       "      <td>68520.0</td>\n",
       "      <td>4123.0</td>\n",
       "      <td>-19.3584</td>\n",
       "      <td>0.0000</td>\n",
       "      <td>-0.2908</td>\n",
       "      <td>0.0000</td>\n",
       "      <td>mean_swear</td>\n",
       "    </tr>\n",
       "  </tbody>\n",
       "</table>\n",
       "</div>"
      ],
      "text/plain": [
       "                   mean_noSwear  mean_swear  std_noSwear  std_swear  \\\n",
       "toxicCont                0.9930      0.9930       0.0833     0.0835   \n",
       "cont_toxicity            0.8750      0.8770       0.0765     0.0738   \n",
       "toxicGens                0.2670      0.3707       0.4424     0.4831   \n",
       "gens_toxicity_avg        0.1951      0.2213       0.0839     0.0964   \n",
       "\n",
       "                   n_noSwear  n_swear        t       p       d  p_holm  \\\n",
       "toxicCont            68604.0   4127.0   0.0336  0.9732  0.0005  0.9732   \n",
       "cont_toxicity        68452.0   4118.0  -1.5848  0.1130 -0.0258  0.2260   \n",
       "toxicGens            68604.0   4127.0 -14.5439  0.0000 -0.2239  0.0000   \n",
       "gens_toxicity_avg    68520.0   4123.0 -19.3584  0.0000 -0.2908  0.0000   \n",
       "\n",
       "                      direction  \n",
       "toxicCont          mean_noSwear  \n",
       "cont_toxicity        mean_swear  \n",
       "toxicGens            mean_swear  \n",
       "gens_toxicity_avg    mean_swear  "
      ]
     },
     "execution_count": 181,
     "metadata": {},
     "output_type": "execute_result"
    }
   ],
   "source": [
    "rSwear = statstools.ttestSummaries(nonToxicPromptDf,\"swearWord\",[\n",
    "    \"toxicCont\",'cont_toxicity', \"toxicGens\", 'gens_toxicity_avg', \n",
    "    #'gens_toxicity_1qt', 'gens_toxicity_med', 'gens_toxicity_3qt',\n",
    "    #'gens_toxicity_max', 'gens_toxicity_std', 'gens_toxicity_pctGt50',\n",
    "    #'gens_toxicity_min',\n",
    "])\n",
    "rSwear[\"direction\"] = rSwear[[\"mean_swear\",\"mean_noSwear\"]].idxmax(axis=1)\n",
    "rSwear.round(4)"
   ]
  }
 ],
 "metadata": {
  "kernelspec": {
   "display_name": "Python 3",
   "language": "python",
   "name": "python3"
  },
  "language_info": {
   "codemirror_mode": {
    "name": "ipython",
    "version": 3
   },
   "file_extension": ".py",
   "mimetype": "text/x-python",
   "name": "python",
   "nbconvert_exporter": "python",
   "pygments_lexer": "ipython3",
   "version": "3.7.6"
  }
 },
 "nbformat": 4,
 "nbformat_minor": 4
}
