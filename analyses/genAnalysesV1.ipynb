{
 "cells": [
  {
   "cell_type": "code",
   "execution_count": 1,
   "metadata": {},
   "outputs": [
    {
     "name": "stdout",
     "output_type": "stream",
     "text": [
      "/home/msap/research/language-model-toxicity\n"
     ]
    }
   ],
   "source": [
    "# HACK: use project root as the working directory \n",
    "from pathlib import Path\n",
    "\n",
    "while Path.cwd().name != 'language-model-toxicity':\n",
    "    %cd .."
   ]
  },
  {
   "cell_type": "code",
   "execution_count": 2,
   "metadata": {},
   "outputs": [],
   "source": [
    "import sys, os\n",
    "import argparse\n",
    "import numpy as np\n",
    "import pandas as pd\n",
    "import json\n",
    "from random import sample\n",
    "from tqdm.auto import tqdm\n",
    "import seaborn as sns\n",
    "import matplotlib.pyplot as plt\n",
    "sns.set(color_codes=True)\n",
    "\n",
    "sys.path.append(os.path.join(os.path.expanduser(\"~\"),\"resources/\"))\n",
    "from stats import statstools\n",
    "from idp import idp\n",
    "from sklearn.feature_extraction.text import CountVectorizer\n",
    "\n",
    "from utils.constants import DATA_DIR, SHARED_DIR, PERSPECTIVE_API_ATTRIBUTES_LOWER\n",
    "\n",
    "\n",
    "generations_dir = SHARED_DIR / 'generations' / 'prompt_n_50percent_toxicity_quartiles_25k_subsample'\n",
    "prompts_file = DATA_DIR / \"prompts/prompts_n_50percent_toxicity_quartiles_25k_subsample.csv\"\n",
    "affect_file = generations_dir / 'prompt_n_50percent_toxicity_quartiles_25k_subsample_affect.jsonl'\n",
    "gpt2_file = generations_dir / 'gpt2' / 'prompt_n_50percent_toxicity_quartiles_25k_subsample_gpt2.jsonl'\n",
    "good_file = generations_dir / 'prompt_n_50percent_toxicity_quartiles_25k_subsample_gpt2_ft_lte2.jsonl'\n",
    "bad_file = generations_dir / 'prompt_n_50percent_toxicity_quartiles_25k_subsample_gpt2_ft_gte99.jsonl'"
   ]
  },
  {
   "cell_type": "code",
   "execution_count": 3,
   "metadata": {},
   "outputs": [],
   "source": [
    "perspCols = ['insult', 'severe_toxicity', 'toxicity', 'profanity',\n",
    "             'sexually_explicit', 'identity_attack', 'flirtation', 'threat']\n",
    "contPerspCols = [f\"cont_{c}\" for c in perspCols]\n",
    "promptPerspCols = [f\"prompt_{c}\" for c in perspCols]\n",
    "genAvgPerspCols = [f\"gens_{c}_avg\" for c in perspCols]\n",
    "genStdPerspCols = [f\"gens_{c}_std\" for c in perspCols]\n",
    "genMaxPerspCols = [f\"gens_{c}_max\" for c in perspCols]\n",
    "gen1qtPerspCols = [f\"gens_{c}_1qt\" for c in perspCols]\n",
    "gen3qtPerspCols = [f\"gens_{c}_3qt\" for c in perspCols]\n",
    "genMinPerspCols = [f\"gens_{c}_min\" for c in perspCols]\n",
    "genMedPerspCols = [f\"gens_{c}_med\" for c in perspCols]\n",
    "genPctGt50PerspCols = [f\"gens_{c}_pctGt50\" for c in perspCols]\n",
    "genToxicityCols = ['gens_toxicity_min', 'gens_toxicity_1qt', 'gens_toxicity_med',\n",
    "       'gens_toxicity_3qt', 'gens_toxicity_max', 'gens_toxicity_std',\n",
    "       'gens_toxicity_avg', 'gens_toxicity_pctGt50']"
   ]
  },
  {
   "cell_type": "markdown",
   "metadata": {},
   "source": [
    "\n",
    "## Data loading functions"
   ]
  },
  {
   "cell_type": "code",
   "execution_count": 4,
   "metadata": {},
   "outputs": [],
   "source": [
    "def loadPromptedGensRaw(fn):\n",
    "    # data: json with 'filename', 'begin', 'end', 'prompt', 'continuation', 'generations'\n",
    "    # prompt, continuation: text + perspCols\n",
    "    # generations: list of text+perspCols\n",
    "    with open(fn) as f:\n",
    "        bn = os.path.basename(fn)\n",
    "        data = [json.loads(l) for i,l in tqdm(enumerate(f),desc=f\"Loading file: {bn}\")]\n",
    "    # data = list(sample(data,10000))\n",
    "    return data\n",
    "\n",
    "def loadPromptedGens(fn, promptsDf=None):\n",
    "    data = loadPromptedGensRaw(fn)\n",
    "    \n",
    "    def aggregateGenInfo(gens,c):\n",
    "        gen_vals = [g[c] for g in gens if g[c] is not None and not pd.isnull(g[c])]\n",
    "        if not len(gen_vals): return []\n",
    "        out = list(zip([\"min\",\"1qt\",\"med\",\"3qt\",\"max\"],np.percentile(gen_vals,[0,25,50,75,100])))\n",
    "        out.append((\"std\",np.std(gen_vals)))\n",
    "        out.append((\"avg\",np.mean(gen_vals)))\n",
    "        out.append((\"pctGt50\",np.mean([i>.5 for i in gen_vals])))\n",
    "        return out\n",
    "\n",
    "    fData = []\n",
    "    for d in tqdm(data,desc=\"Aggregating\"):\n",
    "        newD = {c: d[c] for c in ['filename', 'begin', 'end']}\n",
    "        for c in [\"text\"]+perspCols:\n",
    "            # newD[\"prompt_\"+c] = d[\"prompt\"][c]\n",
    "            # newD[\"cont_\"+c] = d[\"continuation\"][c]\n",
    "            if c == \"text\": continue\n",
    "            for k, v in aggregateGenInfo(d[\"generations\"],c):\n",
    "                newD[\"gens_\"+c+\"_\"+k] = v\n",
    "\n",
    "            # newD[\"gens_\"+c+\"_avg\"] = \n",
    "\n",
    "        fData.append(newD)\n",
    "    df = pd.DataFrame(fData)\n",
    "    df.index.name = \"id\"\n",
    "    df.reset_index(\"id\")\n",
    "    if promptsDf is not None:\n",
    "        \n",
    "        df = df.merge(promptsDf,left_on=[\"filename\",\"begin\",\"end\"],right_index=True)\n",
    "    \n",
    "    # Long generations dataframe\n",
    "    gensData = {(i,j): gd for i,d in tqdm(enumerate(data),desc=\"Generations\") \n",
    "                for j,gd in enumerate(d[\"generations\"])}\n",
    "    longDf = pd.DataFrame.from_dict(gensData,orient=\"index\")\n",
    "    longDf.index.names = \"id\",\"gen_id\"\n",
    "    longDf.reset_index(inplace=True)\n",
    "    \n",
    "    return df.set_index([\"filename\",\"begin\",\"end\"]), longDf\n",
    "\n",
    "def loadPrompts(fn,toxThresh=.5,contThresh=.5):\n",
    "    df = pd.read_csv(fn)\n",
    "    df = df.rename(columns={c: c.replace(\".\",\"_\").replace(\"continuation\",\"cont\")\n",
    "                                          for c in df.columns})\n",
    "    # assigning categories\n",
    "    df[\"toxicPrompt\"] = (df[\"prompt_toxicity\"] > toxThresh).astype(int)\n",
    "    df[\"toxicCont\"] = (df[\"cont_toxicity\"] > contThresh).astype(int)\n",
    "    df[\"likelyToxicGen\"] = ((df[\"cont_toxicity\"] > contThresh) | (df[\"prompt_toxicity\"] > toxThresh)).astype(int)\n",
    "    df.set_index([\"filename\",\"begin\",\"end\"],inplace=True)\n",
    "    return df\n"
   ]
  },
  {
   "cell_type": "code",
   "execution_count": 5,
   "metadata": {},
   "outputs": [
    {
     "name": "stdout",
     "output_type": "stream",
     "text": [
      "1    50035\n",
      "0    49965\n",
      "Name: likelyToxicGen, dtype: int64\n"
     ]
    }
   ],
   "source": [
    "promptsDf = loadPrompts(prompts_file)\n",
    "print(promptsDf[\"likelyToxicGen\"].value_counts())"
   ]
  },
  {
   "cell_type": "code",
   "execution_count": 6,
   "metadata": {},
   "outputs": [
    {
     "data": {
      "application/vnd.jupyter.widget-view+json": {
       "model_id": "c9590d75c02c455984e1d4fe25fd7ef4",
       "version_major": 2,
       "version_minor": 0
      },
      "text/plain": [
       "HBox(children=(FloatProgress(value=1.0, bar_style='info', description='Loading file: prompt_n_50percent_toxici…"
      ]
     },
     "metadata": {},
     "output_type": "display_data"
    },
    {
     "name": "stdout",
     "output_type": "stream",
     "text": [
      "\n"
     ]
    },
    {
     "data": {
      "application/vnd.jupyter.widget-view+json": {
       "model_id": "aa533a17aa444afcac7ccca198f4132d",
       "version_major": 2,
       "version_minor": 0
      },
      "text/plain": [
       "HBox(children=(FloatProgress(value=0.0, description='Aggregating', max=100000.0, style=ProgressStyle(descripti…"
      ]
     },
     "metadata": {},
     "output_type": "display_data"
    },
    {
     "name": "stdout",
     "output_type": "stream",
     "text": [
      "\n"
     ]
    },
    {
     "data": {
      "application/vnd.jupyter.widget-view+json": {
       "model_id": "4ba9819e40954179ae4149ff6c884164",
       "version_major": 2,
       "version_minor": 0
      },
      "text/plain": [
       "HBox(children=(FloatProgress(value=1.0, bar_style='info', description='Generations', max=1.0, style=ProgressSt…"
      ]
     },
     "metadata": {},
     "output_type": "display_data"
    },
    {
     "name": "stdout",
     "output_type": "stream",
     "text": [
      "\n"
     ]
    },
    {
     "data": {
      "application/vnd.jupyter.widget-view+json": {
       "model_id": "5eca0e99ccb6459b89c13de4945b3600",
       "version_major": 2,
       "version_minor": 0
      },
      "text/plain": [
       "HBox(children=(FloatProgress(value=1.0, bar_style='info', description='Loading file: prompt_n_50percent_toxici…"
      ]
     },
     "metadata": {},
     "output_type": "display_data"
    },
    {
     "name": "stdout",
     "output_type": "stream",
     "text": [
      "\n"
     ]
    },
    {
     "data": {
      "application/vnd.jupyter.widget-view+json": {
       "model_id": "d4ad0e66d5c944f6914bdc059405922c",
       "version_major": 2,
       "version_minor": 0
      },
      "text/plain": [
       "HBox(children=(FloatProgress(value=0.0, description='Aggregating', max=100000.0, style=ProgressStyle(descripti…"
      ]
     },
     "metadata": {},
     "output_type": "display_data"
    },
    {
     "name": "stdout",
     "output_type": "stream",
     "text": [
      "\n"
     ]
    },
    {
     "data": {
      "application/vnd.jupyter.widget-view+json": {
       "model_id": "15d15c08e0684203ab9e25433d33f730",
       "version_major": 2,
       "version_minor": 0
      },
      "text/plain": [
       "HBox(children=(FloatProgress(value=1.0, bar_style='info', description='Generations', max=1.0, style=ProgressSt…"
      ]
     },
     "metadata": {},
     "output_type": "display_data"
    },
    {
     "name": "stdout",
     "output_type": "stream",
     "text": [
      "\n"
     ]
    },
    {
     "data": {
      "application/vnd.jupyter.widget-view+json": {
       "model_id": "fd907b1329ba4f3ea9fdc6cb954485e4",
       "version_major": 2,
       "version_minor": 0
      },
      "text/plain": [
       "HBox(children=(FloatProgress(value=1.0, bar_style='info', description='Loading file: prompt_n_50percent_toxici…"
      ]
     },
     "metadata": {},
     "output_type": "display_data"
    },
    {
     "name": "stdout",
     "output_type": "stream",
     "text": [
      "\n"
     ]
    },
    {
     "data": {
      "application/vnd.jupyter.widget-view+json": {
       "model_id": "3d638e8b63ee4b22b56c5d72d8cbd2e0",
       "version_major": 2,
       "version_minor": 0
      },
      "text/plain": [
       "HBox(children=(FloatProgress(value=0.0, description='Aggregating', max=100000.0, style=ProgressStyle(descripti…"
      ]
     },
     "metadata": {},
     "output_type": "display_data"
    },
    {
     "name": "stdout",
     "output_type": "stream",
     "text": [
      "\n"
     ]
    },
    {
     "data": {
      "application/vnd.jupyter.widget-view+json": {
       "model_id": "cdbb36cee31d4a67afac3c81e04bf34e",
       "version_major": 2,
       "version_minor": 0
      },
      "text/plain": [
       "HBox(children=(FloatProgress(value=1.0, bar_style='info', description='Generations', max=1.0, style=ProgressSt…"
      ]
     },
     "metadata": {},
     "output_type": "display_data"
    },
    {
     "name": "stdout",
     "output_type": "stream",
     "text": [
      "\n"
     ]
    },
    {
     "data": {
      "application/vnd.jupyter.widget-view+json": {
       "model_id": "02e25b136bc94802b8bbe495d196d0e5",
       "version_major": 2,
       "version_minor": 0
      },
      "text/plain": [
       "HBox(children=(FloatProgress(value=1.0, bar_style='info', description='Loading file: prompt_n_50percent_toxici…"
      ]
     },
     "metadata": {},
     "output_type": "display_data"
    },
    {
     "name": "stdout",
     "output_type": "stream",
     "text": [
      "\n"
     ]
    },
    {
     "data": {
      "application/vnd.jupyter.widget-view+json": {
       "model_id": "55a4f0cdb25645a983667e12a35922f5",
       "version_major": 2,
       "version_minor": 0
      },
      "text/plain": [
       "HBox(children=(FloatProgress(value=0.0, description='Aggregating', max=100000.0, style=ProgressStyle(descripti…"
      ]
     },
     "metadata": {},
     "output_type": "display_data"
    },
    {
     "name": "stdout",
     "output_type": "stream",
     "text": [
      "\n"
     ]
    },
    {
     "data": {
      "application/vnd.jupyter.widget-view+json": {
       "model_id": "2b6954f65d2a472ea3f0a2771b2f2136",
       "version_major": 2,
       "version_minor": 0
      },
      "text/plain": [
       "HBox(children=(FloatProgress(value=1.0, bar_style='info', description='Generations', max=1.0, style=ProgressSt…"
      ]
     },
     "metadata": {},
     "output_type": "display_data"
    },
    {
     "name": "stdout",
     "output_type": "stream",
     "text": [
      "\n"
     ]
    }
   ],
   "source": [
    "# Loading gens\n",
    "gensAffect, gensAffectlong = loadPromptedGens(affect_file, promptsDf)\n",
    "gensOgGPT, gensOgGPTlong = loadPromptedGens(gpt2_file, promptsDf)\n",
    "gensGoodGPT, gensGoodGPTlong = loadPromptedGens(good_file, promptsDf)\n",
    "gensBadGPT, gensBadGPTlong = loadPromptedGens(bad_file, promptsDf)\n",
    "dfs = {\"affect\": gensAffect, \"ogGPT2\": gensOgGPT, \"goodGPT2\": gensGoodGPT, \"badGPT2\": gensBadGPT}\n",
    "tweakedDfs = {\"affect\": gensAffect, \"goodGPT2\": gensGoodGPT, \"badGPT2\": gensBadGPT}"
   ]
  },
  {
   "cell_type": "code",
   "execution_count": 7,
   "metadata": {},
   "outputs": [
    {
     "name": "stdout",
     "output_type": "stream",
     "text": [
      "(400000, 86)\n"
     ]
    },
    {
     "data": {
      "text/plain": [
       "affect      100000\n",
       "goodGPT2    100000\n",
       "ogGPT2      100000\n",
       "badGPT2     100000\n",
       "Name: model, dtype: int64"
      ]
     },
     "execution_count": 7,
     "metadata": {},
     "output_type": "execute_result"
    }
   ],
   "source": [
    "gensAll = gensOgGPT.copy()\n",
    "gensAll[\"model\"] = \"ogGPT2\"\n",
    "for n, df in tweakedDfs.items():\n",
    "    gensAll = gensAll.append(df)\n",
    "    gensAll[\"model\"] = gensAll[\"model\"].fillna(n)\n",
    "print(gensAll.shape)\n",
    "gensAll[\"model\"].value_counts()"
   ]
  },
  {
   "cell_type": "markdown",
   "metadata": {},
   "source": [
    "# Basic Stats"
   ]
  },
  {
   "cell_type": "code",
   "execution_count": 8,
   "metadata": {},
   "outputs": [],
   "source": [
    "# Setting up colors\n",
    "colors = dict(zip([\"ogGPT2\"]+list(tweakedDfs.keys()),sns.color_palette()))"
   ]
  },
  {
   "cell_type": "code",
   "execution_count": 9,
   "metadata": {},
   "outputs": [
    {
     "data": {
      "text/plain": [
       "<seaborn.axisgrid.FacetGrid at 0x7f14a346b4d0>"
      ]
     },
     "execution_count": 9,
     "metadata": {},
     "output_type": "execute_result"
    },
    {
     "data": {
      "image/png": "[encoded data removed]",
      "text/plain": [
       "<Figure size 864x216 with 4 Axes>"
      ]
     },
     "metadata": {},
     "output_type": "display_data"
    }
   ],
   "source": [
    "g = sns.FacetGrid(gensAll, col=\"model\",hue=\"model\")\n",
    "g.map(sns.distplot,\"gens_toxicity_avg\")"
   ]
  },
  {
   "cell_type": "code",
   "execution_count": 10,
   "metadata": {},
   "outputs": [
    {
     "data": {
      "text/plain": [
       "<seaborn.axisgrid.FacetGrid at 0x7f15c153d450>"
      ]
     },
     "execution_count": 10,
     "metadata": {},
     "output_type": "execute_result"
    },
    {
     "data": {
      "image/png": "[encoded data removed]",
      "text/plain": [
       "<Figure size 1440x720 with 8 Axes>"
      ]
     },
     "metadata": {},
     "output_type": "display_data"
    }
   ],
   "source": [
    "avgGenToxicityCols = pd.DataFrame({\n",
    "    (n, c, df[c].mean())\n",
    "    for n, df in dfs.items() for c in genToxicityCols\n",
    "},columns=[\"model\",\"measure\",\"value\"])\n",
    "\n",
    "sns.catplot(x=\"model\", y=\"value\",\n",
    "            hue=\"model\", col=\"measure\",col_wrap=4,\n",
    "            data=avgGenToxicityCols, kind=\"bar\")"
   ]
  },
  {
   "cell_type": "markdown",
   "metadata": {},
   "source": [
    "## How do tweaked models fare against OG GPT2 in terms of toxicity in generations?\n",
    "Conclusion: finetuning on non-toxic text works the best at avoiding toxicity, affect LM doesn't really do that well."
   ]
  },
  {
   "cell_type": "code",
   "execution_count": 22,
   "metadata": {},
   "outputs": [
    {
     "data": {
      "text/html": [
       "<div>\n",
       "<style scoped>\n",
       "    .dataframe tbody tr th:only-of-type {\n",
       "        vertical-align: middle;\n",
       "    }\n",
       "\n",
       "    .dataframe tbody tr th {\n",
       "        vertical-align: top;\n",
       "    }\n",
       "\n",
       "    .dataframe thead th {\n",
       "        text-align: right;\n",
       "    }\n",
       "</style>\n",
       "<table border=\"1\" class=\"dataframe\">\n",
       "  <thead>\n",
       "    <tr style=\"text-align: right;\">\n",
       "      <th></th>\n",
       "      <th>mean_OgGPT2</th>\n",
       "      <th>mean_tweaked</th>\n",
       "      <th>std_OgGPT2</th>\n",
       "      <th>std_tweaked</th>\n",
       "      <th>n_OgGPT2</th>\n",
       "      <th>n_tweaked</th>\n",
       "      <th>t</th>\n",
       "      <th>p</th>\n",
       "      <th>d</th>\n",
       "    </tr>\n",
       "  </thead>\n",
       "  <tbody>\n",
       "    <tr>\n",
       "      <th>affect</th>\n",
       "      <td>0.1811</td>\n",
       "      <td>0.1668</td>\n",
       "      <td>0.0977</td>\n",
       "      <td>0.0875</td>\n",
       "      <td>99198.0</td>\n",
       "      <td>99198.0</td>\n",
       "      <td>92.2092</td>\n",
       "      <td>0.0</td>\n",
       "      <td>0.1542</td>\n",
       "    </tr>\n",
       "    <tr>\n",
       "      <th>goodGPT2</th>\n",
       "      <td>0.1811</td>\n",
       "      <td>0.1214</td>\n",
       "      <td>0.0977</td>\n",
       "      <td>0.0630</td>\n",
       "      <td>99205.0</td>\n",
       "      <td>99205.0</td>\n",
       "      <td>292.1207</td>\n",
       "      <td>0.0</td>\n",
       "      <td>0.7256</td>\n",
       "    </tr>\n",
       "    <tr>\n",
       "      <th>badGPT2</th>\n",
       "      <td>0.1811</td>\n",
       "      <td>0.2296</td>\n",
       "      <td>0.0977</td>\n",
       "      <td>0.1060</td>\n",
       "      <td>99220.0</td>\n",
       "      <td>99220.0</td>\n",
       "      <td>-233.3425</td>\n",
       "      <td>0.0</td>\n",
       "      <td>-0.4755</td>\n",
       "    </tr>\n",
       "  </tbody>\n",
       "</table>\n",
       "</div>"
      ],
      "text/plain": [
       "          mean_OgGPT2  mean_tweaked  std_OgGPT2  std_tweaked  n_OgGPT2  \\\n",
       "affect         0.1811        0.1668      0.0977       0.0875   99198.0   \n",
       "goodGPT2       0.1811        0.1214      0.0977       0.0630   99205.0   \n",
       "badGPT2        0.1811        0.2296      0.0977       0.1060   99220.0   \n",
       "\n",
       "          n_tweaked         t    p       d  \n",
       "affect      99198.0   92.2092  0.0  0.1542  \n",
       "goodGPT2    99205.0  292.1207  0.0  0.7256  \n",
       "badGPT2     99220.0 -233.3425  0.0 -0.4755  "
      ]
     },
     "execution_count": 22,
     "metadata": {},
     "output_type": "execute_result"
    }
   ],
   "source": [
    "out = {}\n",
    "for n, df in dfs.items():\n",
    "    if n == \"ogGPT2\": continue\n",
    "    compDf = gensOgGPT.reindex_like(df)\n",
    "    compDf[\"model\"] = \"OgGPT2\"\n",
    "    compDf = compDf.append(df)\n",
    "    compDf[\"model\"] = compDf[\"model\"].fillna(\"tweaked\")\n",
    "    out[n] = statstools.ttestSummary(compDf,\"model\",\"gens_toxicity_avg\",paired=\"prompt_text\")\n",
    "rDf = pd.DataFrame(out).T\n",
    "rDf.round(4)"
   ]
  },
  {
   "cell_type": "markdown",
   "metadata": {},
   "source": [
    "In likely to generate toxicity, the effect is more pronounced."
   ]
  },
  {
   "cell_type": "code",
   "execution_count": 23,
   "metadata": {},
   "outputs": [
    {
     "data": {
      "text/html": [
       "<div>\n",
       "<style scoped>\n",
       "    .dataframe tbody tr th:only-of-type {\n",
       "        vertical-align: middle;\n",
       "    }\n",
       "\n",
       "    .dataframe tbody tr th {\n",
       "        vertical-align: top;\n",
       "    }\n",
       "\n",
       "    .dataframe thead th {\n",
       "        text-align: right;\n",
       "    }\n",
       "</style>\n",
       "<table border=\"1\" class=\"dataframe\">\n",
       "  <thead>\n",
       "    <tr style=\"text-align: right;\">\n",
       "      <th></th>\n",
       "      <th>mean_OgGPT2</th>\n",
       "      <th>mean_tweaked</th>\n",
       "      <th>std_OgGPT2</th>\n",
       "      <th>std_tweaked</th>\n",
       "      <th>n_OgGPT2</th>\n",
       "      <th>n_tweaked</th>\n",
       "      <th>t</th>\n",
       "      <th>p</th>\n",
       "      <th>d</th>\n",
       "    </tr>\n",
       "  </thead>\n",
       "  <tbody>\n",
       "    <tr>\n",
       "      <th>affect</th>\n",
       "      <td>0.223</td>\n",
       "      <td>0.200</td>\n",
       "      <td>0.109</td>\n",
       "      <td>0.098</td>\n",
       "      <td>49567.0</td>\n",
       "      <td>49567.0</td>\n",
       "      <td>86.910</td>\n",
       "      <td>0.0</td>\n",
       "      <td>0.222</td>\n",
       "    </tr>\n",
       "    <tr>\n",
       "      <th>goodGPT2</th>\n",
       "      <td>0.223</td>\n",
       "      <td>0.140</td>\n",
       "      <td>0.109</td>\n",
       "      <td>0.072</td>\n",
       "      <td>49558.0</td>\n",
       "      <td>49558.0</td>\n",
       "      <td>242.790</td>\n",
       "      <td>0.0</td>\n",
       "      <td>0.899</td>\n",
       "    </tr>\n",
       "    <tr>\n",
       "      <th>badGPT2</th>\n",
       "      <td>0.223</td>\n",
       "      <td>0.272</td>\n",
       "      <td>0.109</td>\n",
       "      <td>0.112</td>\n",
       "      <td>49586.0</td>\n",
       "      <td>49586.0</td>\n",
       "      <td>-139.723</td>\n",
       "      <td>0.0</td>\n",
       "      <td>-0.439</td>\n",
       "    </tr>\n",
       "  </tbody>\n",
       "</table>\n",
       "</div>"
      ],
      "text/plain": [
       "          mean_OgGPT2  mean_tweaked  std_OgGPT2  std_tweaked  n_OgGPT2  \\\n",
       "affect          0.223         0.200       0.109        0.098   49567.0   \n",
       "goodGPT2        0.223         0.140       0.109        0.072   49558.0   \n",
       "badGPT2         0.223         0.272       0.109        0.112   49586.0   \n",
       "\n",
       "          n_tweaked        t    p      d  \n",
       "affect      49567.0   86.910  0.0  0.222  \n",
       "goodGPT2    49558.0  242.790  0.0  0.899  \n",
       "badGPT2     49586.0 -139.723  0.0 -0.439  "
      ]
     },
     "execution_count": 23,
     "metadata": {},
     "output_type": "execute_result"
    }
   ],
   "source": [
    "out = {}\n",
    "for n, df in dfs.items():\n",
    "    if n == \"ogGPT2\": continue\n",
    "    compDf = gensOgGPT.reindex_like(df)\n",
    "    compDf[\"model\"] = \"OgGPT2\"\n",
    "    compDf = compDf.append(df)\n",
    "    compDf[\"model\"] = compDf[\"model\"].fillna(\"tweaked\")\n",
    "    compDf = compDf[compDf[\"likelyToxicGen\"] == 1]\n",
    "    out[n] = statstools.ttestSummary(compDf,\"model\",\"gens_toxicity_avg\",paired=\"prompt_text\")\n",
    "rDf = pd.DataFrame(out).T  \n",
    "rDf.round(3)"
   ]
  },
  {
   "cell_type": "markdown",
   "metadata": {},
   "source": [
    "### Toxic prompts\n",
    "For toxic prompts, effect is even stronger."
   ]
  },
  {
   "cell_type": "code",
   "execution_count": 24,
   "metadata": {},
   "outputs": [
    {
     "data": {
      "text/html": [
       "<div>\n",
       "<style scoped>\n",
       "    .dataframe tbody tr th:only-of-type {\n",
       "        vertical-align: middle;\n",
       "    }\n",
       "\n",
       "    .dataframe tbody tr th {\n",
       "        vertical-align: top;\n",
       "    }\n",
       "\n",
       "    .dataframe thead th {\n",
       "        text-align: right;\n",
       "    }\n",
       "</style>\n",
       "<table border=\"1\" class=\"dataframe\">\n",
       "  <thead>\n",
       "    <tr style=\"text-align: right;\">\n",
       "      <th></th>\n",
       "      <th>mean_OgGPT2</th>\n",
       "      <th>mean_tweaked</th>\n",
       "      <th>std_OgGPT2</th>\n",
       "      <th>std_tweaked</th>\n",
       "      <th>n_OgGPT2</th>\n",
       "      <th>n_tweaked</th>\n",
       "      <th>t</th>\n",
       "      <th>p</th>\n",
       "      <th>d</th>\n",
       "    </tr>\n",
       "  </thead>\n",
       "  <tbody>\n",
       "    <tr>\n",
       "      <th>affect</th>\n",
       "      <td>0.272</td>\n",
       "      <td>0.239</td>\n",
       "      <td>0.121</td>\n",
       "      <td>0.106</td>\n",
       "      <td>21653.0</td>\n",
       "      <td>21653.0</td>\n",
       "      <td>68.275</td>\n",
       "      <td>0.0</td>\n",
       "      <td>0.289</td>\n",
       "    </tr>\n",
       "    <tr>\n",
       "      <th>goodGPT2</th>\n",
       "      <td>0.272</td>\n",
       "      <td>0.161</td>\n",
       "      <td>0.121</td>\n",
       "      <td>0.077</td>\n",
       "      <td>21652.0</td>\n",
       "      <td>21652.0</td>\n",
       "      <td>179.118</td>\n",
       "      <td>0.0</td>\n",
       "      <td>1.088</td>\n",
       "    </tr>\n",
       "    <tr>\n",
       "      <th>badGPT2</th>\n",
       "      <td>0.272</td>\n",
       "      <td>0.306</td>\n",
       "      <td>0.121</td>\n",
       "      <td>0.115</td>\n",
       "      <td>21658.0</td>\n",
       "      <td>21658.0</td>\n",
       "      <td>-58.050</td>\n",
       "      <td>0.0</td>\n",
       "      <td>-0.291</td>\n",
       "    </tr>\n",
       "  </tbody>\n",
       "</table>\n",
       "</div>"
      ],
      "text/plain": [
       "          mean_OgGPT2  mean_tweaked  std_OgGPT2  std_tweaked  n_OgGPT2  \\\n",
       "affect          0.272         0.239       0.121        0.106   21653.0   \n",
       "goodGPT2        0.272         0.161       0.121        0.077   21652.0   \n",
       "badGPT2         0.272         0.306       0.121        0.115   21658.0   \n",
       "\n",
       "          n_tweaked        t    p      d  \n",
       "affect      21653.0   68.275  0.0  0.289  \n",
       "goodGPT2    21652.0  179.118  0.0  1.088  \n",
       "badGPT2     21658.0  -58.050  0.0 -0.291  "
      ]
     },
     "execution_count": 24,
     "metadata": {},
     "output_type": "execute_result"
    }
   ],
   "source": [
    "out = {}\n",
    "for n, df in dfs.items():\n",
    "    if n == \"ogGPT2\": continue\n",
    "    compDf = gensOgGPT.reindex_like(df)\n",
    "    compDf[\"model\"] = \"OgGPT2\"\n",
    "    compDf = compDf.append(df)\n",
    "    compDf[\"model\"] = compDf[\"model\"].fillna(\"tweaked\")\n",
    "    compDf = compDf[compDf[\"toxicPrompt\"] == 1]\n",
    "    out[n] = statstools.ttestSummary(compDf,\"model\",\"gens_toxicity_avg\",paired=\"prompt_text\")\n",
    "rDf = pd.DataFrame(out).T  \n",
    "rDf.round(3)"
   ]
  },
  {
   "cell_type": "markdown",
   "metadata": {},
   "source": [
    "### Non-toxic prompts"
   ]
  },
  {
   "cell_type": "code",
   "execution_count": 25,
   "metadata": {},
   "outputs": [
    {
     "data": {
      "text/html": [
       "<div>\n",
       "<style scoped>\n",
       "    .dataframe tbody tr th:only-of-type {\n",
       "        vertical-align: middle;\n",
       "    }\n",
       "\n",
       "    .dataframe tbody tr th {\n",
       "        vertical-align: top;\n",
       "    }\n",
       "\n",
       "    .dataframe thead th {\n",
       "        text-align: right;\n",
       "    }\n",
       "</style>\n",
       "<table border=\"1\" class=\"dataframe\">\n",
       "  <thead>\n",
       "    <tr style=\"text-align: right;\">\n",
       "      <th></th>\n",
       "      <th>mean_OgGPT2</th>\n",
       "      <th>mean_tweaked</th>\n",
       "      <th>std_OgGPT2</th>\n",
       "      <th>std_tweaked</th>\n",
       "      <th>n_OgGPT2</th>\n",
       "      <th>n_tweaked</th>\n",
       "      <th>t</th>\n",
       "      <th>p</th>\n",
       "      <th>d</th>\n",
       "    </tr>\n",
       "  </thead>\n",
       "  <tbody>\n",
       "    <tr>\n",
       "      <th>affect</th>\n",
       "      <td>0.156</td>\n",
       "      <td>0.147</td>\n",
       "      <td>0.072</td>\n",
       "      <td>0.069</td>\n",
       "      <td>77545.0</td>\n",
       "      <td>77545.0</td>\n",
       "      <td>64.948</td>\n",
       "      <td>0.0</td>\n",
       "      <td>0.129</td>\n",
       "    </tr>\n",
       "    <tr>\n",
       "      <th>goodGPT2</th>\n",
       "      <td>0.156</td>\n",
       "      <td>0.110</td>\n",
       "      <td>0.072</td>\n",
       "      <td>0.053</td>\n",
       "      <td>77553.0</td>\n",
       "      <td>77553.0</td>\n",
       "      <td>278.474</td>\n",
       "      <td>0.0</td>\n",
       "      <td>0.718</td>\n",
       "    </tr>\n",
       "    <tr>\n",
       "      <th>badGPT2</th>\n",
       "      <td>0.156</td>\n",
       "      <td>0.208</td>\n",
       "      <td>0.072</td>\n",
       "      <td>0.092</td>\n",
       "      <td>77562.0</td>\n",
       "      <td>77562.0</td>\n",
       "      <td>-254.824</td>\n",
       "      <td>0.0</td>\n",
       "      <td>-0.632</td>\n",
       "    </tr>\n",
       "  </tbody>\n",
       "</table>\n",
       "</div>"
      ],
      "text/plain": [
       "          mean_OgGPT2  mean_tweaked  std_OgGPT2  std_tweaked  n_OgGPT2  \\\n",
       "affect          0.156         0.147       0.072        0.069   77545.0   \n",
       "goodGPT2        0.156         0.110       0.072        0.053   77553.0   \n",
       "badGPT2         0.156         0.208       0.072        0.092   77562.0   \n",
       "\n",
       "          n_tweaked        t    p      d  \n",
       "affect      77545.0   64.948  0.0  0.129  \n",
       "goodGPT2    77553.0  278.474  0.0  0.718  \n",
       "badGPT2     77562.0 -254.824  0.0 -0.632  "
      ]
     },
     "execution_count": 25,
     "metadata": {},
     "output_type": "execute_result"
    }
   ],
   "source": [
    "out = {}\n",
    "for n, df in dfs.items():\n",
    "    if n == \"ogGPT2\": continue\n",
    "    compDf = gensOgGPT.reindex_like(df)\n",
    "    compDf[\"model\"] = \"OgGPT2\"\n",
    "    compDf = compDf.append(df)\n",
    "    compDf[\"model\"] = compDf[\"model\"].fillna(\"tweaked\")\n",
    "    compDf = compDf[compDf[\"toxicPrompt\"] == 0]\n",
    "    out[n] = statstools.ttestSummary(compDf,\"model\",\"gens_toxicity_avg\",paired=\"prompt_text\")\n",
    "rDf = pd.DataFrame(out).T  \n",
    "rDf.round(3)"
   ]
  },
  {
   "cell_type": "markdown",
   "metadata": {},
   "source": [
    "### Prompt toxicity > .9"
   ]
  },
  {
   "cell_type": "code",
   "execution_count": 28,
   "metadata": {},
   "outputs": [
    {
     "data": {
      "text/html": [
       "<div>\n",
       "<style scoped>\n",
       "    .dataframe tbody tr th:only-of-type {\n",
       "        vertical-align: middle;\n",
       "    }\n",
       "\n",
       "    .dataframe tbody tr th {\n",
       "        vertical-align: top;\n",
       "    }\n",
       "\n",
       "    .dataframe thead th {\n",
       "        text-align: right;\n",
       "    }\n",
       "</style>\n",
       "<table border=\"1\" class=\"dataframe\">\n",
       "  <thead>\n",
       "    <tr style=\"text-align: right;\">\n",
       "      <th></th>\n",
       "      <th>mean_OgGPT2</th>\n",
       "      <th>mean_tweaked</th>\n",
       "      <th>std_OgGPT2</th>\n",
       "      <th>std_tweaked</th>\n",
       "      <th>n_OgGPT2</th>\n",
       "      <th>n_tweaked</th>\n",
       "      <th>t</th>\n",
       "      <th>p</th>\n",
       "      <th>d</th>\n",
       "    </tr>\n",
       "  </thead>\n",
       "  <tbody>\n",
       "    <tr>\n",
       "      <th>affect</th>\n",
       "      <td>0.36</td>\n",
       "      <td>0.287</td>\n",
       "      <td>0.142</td>\n",
       "      <td>0.131</td>\n",
       "      <td>3465.0</td>\n",
       "      <td>3465.0</td>\n",
       "      <td>52.477</td>\n",
       "      <td>0.0</td>\n",
       "      <td>0.535</td>\n",
       "    </tr>\n",
       "    <tr>\n",
       "      <th>goodGPT2</th>\n",
       "      <td>0.36</td>\n",
       "      <td>0.174</td>\n",
       "      <td>0.142</td>\n",
       "      <td>0.091</td>\n",
       "      <td>3465.0</td>\n",
       "      <td>3465.0</td>\n",
       "      <td>104.503</td>\n",
       "      <td>0.0</td>\n",
       "      <td>1.561</td>\n",
       "    </tr>\n",
       "    <tr>\n",
       "      <th>badGPT2</th>\n",
       "      <td>0.36</td>\n",
       "      <td>0.347</td>\n",
       "      <td>0.142</td>\n",
       "      <td>0.130</td>\n",
       "      <td>3472.0</td>\n",
       "      <td>3472.0</td>\n",
       "      <td>7.524</td>\n",
       "      <td>0.0</td>\n",
       "      <td>0.098</td>\n",
       "    </tr>\n",
       "  </tbody>\n",
       "</table>\n",
       "</div>"
      ],
      "text/plain": [
       "          mean_OgGPT2  mean_tweaked  std_OgGPT2  std_tweaked  n_OgGPT2  \\\n",
       "affect           0.36         0.287       0.142        0.131    3465.0   \n",
       "goodGPT2         0.36         0.174       0.142        0.091    3465.0   \n",
       "badGPT2          0.36         0.347       0.142        0.130    3472.0   \n",
       "\n",
       "          n_tweaked        t    p      d  \n",
       "affect       3465.0   52.477  0.0  0.535  \n",
       "goodGPT2     3465.0  104.503  0.0  1.561  \n",
       "badGPT2      3472.0    7.524  0.0  0.098  "
      ]
     },
     "execution_count": 28,
     "metadata": {},
     "output_type": "execute_result"
    }
   ],
   "source": [
    "out = {}\n",
    "for n, df in dfs.items():\n",
    "    if n == \"ogGPT2\": continue\n",
    "    compDf = gensOgGPT.reindex_like(df)\n",
    "    compDf[\"model\"] = \"OgGPT2\"\n",
    "    compDf = compDf.append(df)\n",
    "    compDf[\"model\"] = compDf[\"model\"].fillna(\"tweaked\")\n",
    "    compDf = compDf[compDf[\"prompt_toxicity\"] > .9]\n",
    "    out[n] = statstools.ttestSummary(compDf,\"model\",\"gens_toxicity_avg\",paired=\"prompt_text\")\n",
    "rDf = pd.DataFrame(out).T  \n",
    "rDf.round(3)"
   ]
  },
  {
   "cell_type": "markdown",
   "metadata": {},
   "source": [
    "# Correlational analyses"
   ]
  },
  {
   "cell_type": "code",
   "execution_count": 189,
   "metadata": {},
   "outputs": [
    {
     "data": {
      "image/png": "[encoded data removed]",
      "text/plain": [
       "<Figure size 432x432 with 3 Axes>"
      ]
     },
     "metadata": {},
     "output_type": "display_data"
    },
    {
     "data": {
      "image/png": "[encoded data removed]",
      "text/plain": [
       "<Figure size 432x432 with 3 Axes>"
      ]
     },
     "metadata": {},
     "output_type": "display_data"
    },
    {
     "data": {
      "image/png": "[encoded data removed]",
      "text/plain": [
       "<Figure size 432x432 with 3 Axes>"
      ]
     },
     "metadata": {},
     "output_type": "display_data"
    },
    {
     "data": {
      "image/png": "[encoded data removed]",
      "text/plain": [
       "<Figure size 432x432 with 3 Axes>"
      ]
     },
     "metadata": {},
     "output_type": "display_data"
    }
   ],
   "source": [
    "# How does each model's generations correlate with prompt toxicity?\n",
    "for n, df in dfs.items():\n",
    "    d = statstools.correlSummary(df,\"gens_toxicity_avg\",\"prompt_toxicity\")\n",
    "    g = sns.jointplot(x=\"prompt_toxicity\", y=\"gens_toxicity_avg\", data=df, kind=\"reg\",color=colors[n])\n",
    "    plt.subplots_adjust(top=0.9)\n",
    "    g.fig.suptitle(\"Model: \"+n+f' (r={d[\"r\"]:.3f}, p={d[\"p\"]:.3f})')\n",
    "#g = sns.FacetGrid(gensAll, col=\"model\",hue=\"model\")\n",
    "#g.map(sns.jointplot,\"prompt_toxicity\",\"gens_toxicity_avg\")"
   ]
  },
  {
   "cell_type": "markdown",
   "metadata": {},
   "source": [
    "## Identity mentions & swearwords in prompt\n",
    "Do prompts that contain identity mentions/ swear words lead to more toxic generations?\n",
    "\n",
    "*Results*:\n",
    "- Strong effect of swearwords on ogGPT2 and affect, less strong on good/bad GPT2 -> presence of swearwords increases toxicity of generations.\n",
    "- Minority mentions in prompt affect toxicity in generations equally across models.\n",
    "- Majority mentions in prompt: good/affect are more impacted compared to bad/og GPT -> much less than minority identity tho."
   ]
  },
  {
   "cell_type": "code",
   "execution_count": 30,
   "metadata": {},
   "outputs": [],
   "source": [
    "minIds = [\"gay\",\"woman\",\"black\"]\n",
    "majIds = [\"straight\", \"man\", \"white\"]\n",
    "minRe = \"|\".join(minIds)\n",
    "majRe = \"|\".join(majIds)\n",
    "swearRe = \"|\".join(minIds+majIds)\n",
    "\n",
    "# load swearwords etc.\n",
    "swear = open(\"analyses/listOfNaughtyBadWords.txt\").read().strip().split(\"\\n\")\n",
    "swearRe = \"|\".join(swear)"
   ]
  },
  {
   "cell_type": "code",
   "execution_count": 31,
   "metadata": {},
   "outputs": [],
   "source": [
    "gensAll[\"swearword\"] = gensAll[\"prompt_text\"].str.contains(swearRe).astype(int)\n",
    "gensAll[\"minMention\"] = gensAll[\"prompt_text\"].str.contains(minRe).astype(int)\n",
    "gensAll[\"majMention\"] = gensAll[\"prompt_text\"].str.contains(majRe).astype(int)\n",
    "gensAll[\"idtyMention\"] = ((gensAll[\"minMention\"] == 1) | ( gensAll[\"minMention\"] == 1)).astype(int)"
   ]
  },
  {
   "cell_type": "code",
   "execution_count": 36,
   "metadata": {},
   "outputs": [
    {
     "data": {
      "text/html": [
       "<div>\n",
       "<style scoped>\n",
       "    .dataframe tbody tr th:only-of-type {\n",
       "        vertical-align: middle;\n",
       "    }\n",
       "\n",
       "    .dataframe tbody tr th {\n",
       "        vertical-align: top;\n",
       "    }\n",
       "\n",
       "    .dataframe thead th {\n",
       "        text-align: right;\n",
       "    }\n",
       "</style>\n",
       "<table border=\"1\" class=\"dataframe\">\n",
       "  <thead>\n",
       "    <tr style=\"text-align: right;\">\n",
       "      <th></th>\n",
       "      <th>mean_0</th>\n",
       "      <th>mean_1</th>\n",
       "      <th>std_0</th>\n",
       "      <th>std_1</th>\n",
       "      <th>n_0</th>\n",
       "      <th>n_1</th>\n",
       "      <th>t</th>\n",
       "      <th>p</th>\n",
       "      <th>d</th>\n",
       "    </tr>\n",
       "  </thead>\n",
       "  <tbody>\n",
       "    <tr>\n",
       "      <th>affect</th>\n",
       "      <td>0.158</td>\n",
       "      <td>0.230</td>\n",
       "      <td>0.078</td>\n",
       "      <td>0.118</td>\n",
       "      <td>87092.0</td>\n",
       "      <td>12747.0</td>\n",
       "      <td>-90.908</td>\n",
       "      <td>0.0</td>\n",
       "      <td>-0.727</td>\n",
       "    </tr>\n",
       "    <tr>\n",
       "      <th>ogGPT2</th>\n",
       "      <td>0.169</td>\n",
       "      <td>0.265</td>\n",
       "      <td>0.084</td>\n",
       "      <td>0.137</td>\n",
       "      <td>87108.0</td>\n",
       "      <td>12759.0</td>\n",
       "      <td>-109.428</td>\n",
       "      <td>0.0</td>\n",
       "      <td>-0.843</td>\n",
       "    </tr>\n",
       "    <tr>\n",
       "      <th>goodGPT2</th>\n",
       "      <td>0.117</td>\n",
       "      <td>0.154</td>\n",
       "      <td>0.059</td>\n",
       "      <td>0.080</td>\n",
       "      <td>87092.0</td>\n",
       "      <td>12751.0</td>\n",
       "      <td>-64.298</td>\n",
       "      <td>0.0</td>\n",
       "      <td>-0.536</td>\n",
       "    </tr>\n",
       "    <tr>\n",
       "      <th>badGPT2</th>\n",
       "      <td>0.221</td>\n",
       "      <td>0.288</td>\n",
       "      <td>0.100</td>\n",
       "      <td>0.125</td>\n",
       "      <td>87103.0</td>\n",
       "      <td>12755.0</td>\n",
       "      <td>-68.180</td>\n",
       "      <td>0.0</td>\n",
       "      <td>-0.593</td>\n",
       "    </tr>\n",
       "  </tbody>\n",
       "</table>\n",
       "</div>"
      ],
      "text/plain": [
       "          mean_0  mean_1  std_0  std_1      n_0      n_1        t    p      d\n",
       "affect     0.158   0.230  0.078  0.118  87092.0  12747.0  -90.908  0.0 -0.727\n",
       "ogGPT2     0.169   0.265  0.084  0.137  87108.0  12759.0 -109.428  0.0 -0.843\n",
       "goodGPT2   0.117   0.154  0.059  0.080  87092.0  12751.0  -64.298  0.0 -0.536\n",
       "badGPT2    0.221   0.288  0.100  0.125  87103.0  12755.0  -68.180  0.0 -0.593"
      ]
     },
     "execution_count": 36,
     "metadata": {},
     "output_type": "execute_result"
    }
   ],
   "source": [
    "out = {}\n",
    "for n, df in dfs.items():\n",
    "    ix = (gensAll[\"model\"] == n)# | (gensAll[\"model\"] == \"ogGPT2\")\n",
    "    r = statstools.ttestSummary(gensAll.loc[ix],\"swearword\",\"gens_toxicity_avg\")#paired=\"prompt_text\")\n",
    "    out[n] = r # {k.replace(n,\"tweaked\"):v for k,v in r.items()}\n",
    "rDf = pd.DataFrame(out).T  \n",
    "rDf.round(3)"
   ]
  },
  {
   "cell_type": "code",
   "execution_count": 39,
   "metadata": {},
   "outputs": [
    {
     "data": {
      "text/html": [
       "<div>\n",
       "<style scoped>\n",
       "    .dataframe tbody tr th:only-of-type {\n",
       "        vertical-align: middle;\n",
       "    }\n",
       "\n",
       "    .dataframe tbody tr th {\n",
       "        vertical-align: top;\n",
       "    }\n",
       "\n",
       "    .dataframe thead th {\n",
       "        text-align: right;\n",
       "    }\n",
       "</style>\n",
       "<table border=\"1\" class=\"dataframe\">\n",
       "  <thead>\n",
       "    <tr style=\"text-align: right;\">\n",
       "      <th></th>\n",
       "      <th>mean_0</th>\n",
       "      <th>mean_1</th>\n",
       "      <th>std_0</th>\n",
       "      <th>std_1</th>\n",
       "      <th>n_0</th>\n",
       "      <th>n_1</th>\n",
       "      <th>t</th>\n",
       "      <th>p</th>\n",
       "      <th>d</th>\n",
       "    </tr>\n",
       "  </thead>\n",
       "  <tbody>\n",
       "    <tr>\n",
       "      <th>affect</th>\n",
       "      <td>0.165</td>\n",
       "      <td>0.234</td>\n",
       "      <td>0.087</td>\n",
       "      <td>0.097</td>\n",
       "      <td>97436.0</td>\n",
       "      <td>2403.0</td>\n",
       "      <td>-38.330</td>\n",
       "      <td>0.0</td>\n",
       "      <td>-0.749</td>\n",
       "    </tr>\n",
       "    <tr>\n",
       "      <th>ogGPT2</th>\n",
       "      <td>0.180</td>\n",
       "      <td>0.253</td>\n",
       "      <td>0.097</td>\n",
       "      <td>0.105</td>\n",
       "      <td>97462.0</td>\n",
       "      <td>2405.0</td>\n",
       "      <td>-36.659</td>\n",
       "      <td>0.0</td>\n",
       "      <td>-0.728</td>\n",
       "    </tr>\n",
       "    <tr>\n",
       "      <th>goodGPT2</th>\n",
       "      <td>0.120</td>\n",
       "      <td>0.171</td>\n",
       "      <td>0.062</td>\n",
       "      <td>0.072</td>\n",
       "      <td>97440.0</td>\n",
       "      <td>2403.0</td>\n",
       "      <td>-39.464</td>\n",
       "      <td>0.0</td>\n",
       "      <td>-0.756</td>\n",
       "    </tr>\n",
       "    <tr>\n",
       "      <th>badGPT2</th>\n",
       "      <td>0.228</td>\n",
       "      <td>0.307</td>\n",
       "      <td>0.105</td>\n",
       "      <td>0.111</td>\n",
       "      <td>97454.0</td>\n",
       "      <td>2404.0</td>\n",
       "      <td>-36.184</td>\n",
       "      <td>0.0</td>\n",
       "      <td>-0.729</td>\n",
       "    </tr>\n",
       "  </tbody>\n",
       "</table>\n",
       "</div>"
      ],
      "text/plain": [
       "          mean_0  mean_1  std_0  std_1      n_0     n_1       t    p      d\n",
       "affect     0.165   0.234  0.087  0.097  97436.0  2403.0 -38.330  0.0 -0.749\n",
       "ogGPT2     0.180   0.253  0.097  0.105  97462.0  2405.0 -36.659  0.0 -0.728\n",
       "goodGPT2   0.120   0.171  0.062  0.072  97440.0  2403.0 -39.464  0.0 -0.756\n",
       "badGPT2    0.228   0.307  0.105  0.111  97454.0  2404.0 -36.184  0.0 -0.729"
      ]
     },
     "execution_count": 39,
     "metadata": {},
     "output_type": "execute_result"
    }
   ],
   "source": [
    "out = {}\n",
    "for n, df in dfs.items():\n",
    "    ix = (gensAll[\"model\"] == n)# | (gensAll[\"model\"] == \"ogGPT2\")\n",
    "    r = statstools.ttestSummary(gensAll.loc[ix],\"minMention\",\"gens_toxicity_avg\")#paired=\"prompt_text\")\n",
    "    out[n] = r # {k.replace(n,\"tweaked\"):v for k,v in r.items()}\n",
    "rDf = pd.DataFrame(out).T  \n",
    "rDf.round(3)"
   ]
  },
  {
   "cell_type": "code",
   "execution_count": 40,
   "metadata": {},
   "outputs": [
    {
     "data": {
      "text/html": [
       "<div>\n",
       "<style scoped>\n",
       "    .dataframe tbody tr th:only-of-type {\n",
       "        vertical-align: middle;\n",
       "    }\n",
       "\n",
       "    .dataframe tbody tr th {\n",
       "        vertical-align: top;\n",
       "    }\n",
       "\n",
       "    .dataframe thead th {\n",
       "        text-align: right;\n",
       "    }\n",
       "</style>\n",
       "<table border=\"1\" class=\"dataframe\">\n",
       "  <thead>\n",
       "    <tr style=\"text-align: right;\">\n",
       "      <th></th>\n",
       "      <th>mean_0</th>\n",
       "      <th>mean_1</th>\n",
       "      <th>std_0</th>\n",
       "      <th>std_1</th>\n",
       "      <th>n_0</th>\n",
       "      <th>n_1</th>\n",
       "      <th>t</th>\n",
       "      <th>p</th>\n",
       "      <th>d</th>\n",
       "    </tr>\n",
       "  </thead>\n",
       "  <tbody>\n",
       "    <tr>\n",
       "      <th>affect</th>\n",
       "      <td>0.165</td>\n",
       "      <td>0.192</td>\n",
       "      <td>0.087</td>\n",
       "      <td>0.093</td>\n",
       "      <td>92194.0</td>\n",
       "      <td>7645.0</td>\n",
       "      <td>-26.497</td>\n",
       "      <td>0.0</td>\n",
       "      <td>-0.306</td>\n",
       "    </tr>\n",
       "    <tr>\n",
       "      <th>ogGPT2</th>\n",
       "      <td>0.179</td>\n",
       "      <td>0.207</td>\n",
       "      <td>0.097</td>\n",
       "      <td>0.102</td>\n",
       "      <td>92223.0</td>\n",
       "      <td>7644.0</td>\n",
       "      <td>-23.953</td>\n",
       "      <td>0.0</td>\n",
       "      <td>-0.280</td>\n",
       "    </tr>\n",
       "    <tr>\n",
       "      <th>goodGPT2</th>\n",
       "      <td>0.120</td>\n",
       "      <td>0.144</td>\n",
       "      <td>0.062</td>\n",
       "      <td>0.069</td>\n",
       "      <td>92194.0</td>\n",
       "      <td>7649.0</td>\n",
       "      <td>-31.945</td>\n",
       "      <td>0.0</td>\n",
       "      <td>-0.363</td>\n",
       "    </tr>\n",
       "    <tr>\n",
       "      <th>badGPT2</th>\n",
       "      <td>0.228</td>\n",
       "      <td>0.256</td>\n",
       "      <td>0.105</td>\n",
       "      <td>0.112</td>\n",
       "      <td>92210.0</td>\n",
       "      <td>7648.0</td>\n",
       "      <td>-22.965</td>\n",
       "      <td>0.0</td>\n",
       "      <td>-0.267</td>\n",
       "    </tr>\n",
       "  </tbody>\n",
       "</table>\n",
       "</div>"
      ],
      "text/plain": [
       "          mean_0  mean_1  std_0  std_1      n_0     n_1       t    p      d\n",
       "affect     0.165   0.192  0.087  0.093  92194.0  7645.0 -26.497  0.0 -0.306\n",
       "ogGPT2     0.179   0.207  0.097  0.102  92223.0  7644.0 -23.953  0.0 -0.280\n",
       "goodGPT2   0.120   0.144  0.062  0.069  92194.0  7649.0 -31.945  0.0 -0.363\n",
       "badGPT2    0.228   0.256  0.105  0.112  92210.0  7648.0 -22.965  0.0 -0.267"
      ]
     },
     "execution_count": 40,
     "metadata": {},
     "output_type": "execute_result"
    }
   ],
   "source": [
    "out = {}\n",
    "for n, df in dfs.items():\n",
    "    ix = (gensAll[\"model\"] == n)# | (gensAll[\"model\"] == \"ogGPT2\")\n",
    "    r = statstools.ttestSummary(gensAll.loc[ix],\"majMention\",\"gens_toxicity_avg\")#paired=\"prompt_text\")\n",
    "    out[n] = r # {k.replace(n,\"tweaked\"):v for k,v in r.items()}\n",
    "rDf = pd.DataFrame(out).T  \n",
    "rDf.round(3)"
   ]
  },
  {
   "cell_type": "code",
   "execution_count": 41,
   "metadata": {},
   "outputs": [
    {
     "data": {
      "text/html": [
       "<div>\n",
       "<style scoped>\n",
       "    .dataframe tbody tr th:only-of-type {\n",
       "        vertical-align: middle;\n",
       "    }\n",
       "\n",
       "    .dataframe tbody tr th {\n",
       "        vertical-align: top;\n",
       "    }\n",
       "\n",
       "    .dataframe thead th {\n",
       "        text-align: right;\n",
       "    }\n",
       "</style>\n",
       "<table border=\"1\" class=\"dataframe\">\n",
       "  <thead>\n",
       "    <tr style=\"text-align: right;\">\n",
       "      <th></th>\n",
       "      <th>mean_0</th>\n",
       "      <th>mean_1</th>\n",
       "      <th>std_0</th>\n",
       "      <th>std_1</th>\n",
       "      <th>n_0</th>\n",
       "      <th>n_1</th>\n",
       "      <th>t</th>\n",
       "      <th>p</th>\n",
       "      <th>d</th>\n",
       "    </tr>\n",
       "  </thead>\n",
       "  <tbody>\n",
       "    <tr>\n",
       "      <th>affect</th>\n",
       "      <td>0.165</td>\n",
       "      <td>0.192</td>\n",
       "      <td>0.087</td>\n",
       "      <td>0.093</td>\n",
       "      <td>92194.0</td>\n",
       "      <td>7645.0</td>\n",
       "      <td>-26.497</td>\n",
       "      <td>0.0</td>\n",
       "      <td>-0.306</td>\n",
       "    </tr>\n",
       "    <tr>\n",
       "      <th>ogGPT2</th>\n",
       "      <td>0.179</td>\n",
       "      <td>0.207</td>\n",
       "      <td>0.097</td>\n",
       "      <td>0.102</td>\n",
       "      <td>92223.0</td>\n",
       "      <td>7644.0</td>\n",
       "      <td>-23.953</td>\n",
       "      <td>0.0</td>\n",
       "      <td>-0.280</td>\n",
       "    </tr>\n",
       "    <tr>\n",
       "      <th>goodGPT2</th>\n",
       "      <td>0.120</td>\n",
       "      <td>0.144</td>\n",
       "      <td>0.062</td>\n",
       "      <td>0.069</td>\n",
       "      <td>92194.0</td>\n",
       "      <td>7649.0</td>\n",
       "      <td>-31.945</td>\n",
       "      <td>0.0</td>\n",
       "      <td>-0.363</td>\n",
       "    </tr>\n",
       "    <tr>\n",
       "      <th>badGPT2</th>\n",
       "      <td>0.228</td>\n",
       "      <td>0.256</td>\n",
       "      <td>0.105</td>\n",
       "      <td>0.112</td>\n",
       "      <td>92210.0</td>\n",
       "      <td>7648.0</td>\n",
       "      <td>-22.965</td>\n",
       "      <td>0.0</td>\n",
       "      <td>-0.267</td>\n",
       "    </tr>\n",
       "  </tbody>\n",
       "</table>\n",
       "</div>"
      ],
      "text/plain": [
       "          mean_0  mean_1  std_0  std_1      n_0     n_1       t    p      d\n",
       "affect     0.165   0.192  0.087  0.093  92194.0  7645.0 -26.497  0.0 -0.306\n",
       "ogGPT2     0.179   0.207  0.097  0.102  92223.0  7644.0 -23.953  0.0 -0.280\n",
       "goodGPT2   0.120   0.144  0.062  0.069  92194.0  7649.0 -31.945  0.0 -0.363\n",
       "badGPT2    0.228   0.256  0.105  0.112  92210.0  7648.0 -22.965  0.0 -0.267"
      ]
     },
     "execution_count": 41,
     "metadata": {},
     "output_type": "execute_result"
    }
   ],
   "source": [
    "out = {}\n",
    "for n, df in dfs.items():\n",
    "    ix = (gensAll[\"model\"] == n)# | (gensAll[\"model\"] == \"ogGPT2\")\n",
    "    r = statstools.ttestSummary(gensAll.loc[ix],\"idtyMention\",\"gens_toxicity_avg\")#paired=\"prompt_text\")\n",
    "    out[n] = r # {k.replace(n,\"tweaked\"):v for k,v in r.items()}\n",
    "rDf = pd.DataFrame(out).T  \n",
    "rDf.round(3)"
   ]
  },
  {
   "cell_type": "markdown",
   "metadata": {},
   "source": [
    "## Prompts that lead to toxicity in multiple models"
   ]
  },
  {
   "cell_type": "code",
   "execution_count": 52,
   "metadata": {},
   "outputs": [],
   "source": [
    "ix = gensAll.gens_toxicity_pctGt50 > 0.5\n",
    "cnts = gensAll[ix].reset_index().prompt_text.value_counts()"
   ]
  },
  {
   "cell_type": "code",
   "execution_count": 53,
   "metadata": {},
   "outputs": [
    {
     "data": {
      "text/plain": [
       "((100000, 21), (2873,))"
      ]
     },
     "execution_count": 53,
     "metadata": {},
     "output_type": "execute_result"
    }
   ],
   "source": [
    "promptsDf.shape, cnts.shape"
   ]
  },
  {
   "cell_type": "markdown",
   "metadata": {},
   "source": [
    "# Old stuff below, please ignore"
   ]
  },
  {
   "cell_type": "code",
   "execution_count": 37,
   "metadata": {},
   "outputs": [],
   "source": []
  },
  {
   "cell_type": "code",
   "execution_count": 43,
   "metadata": {},
   "outputs": [],
   "source": [
    "from nltk.tokenize import casual_tokenize\n",
    "cv = CountVectorizer(ngram_range=(2, 6), min_df=0.0001,tokenizer=casual_tokenize,token_pattern=None)"
   ]
  },
  {
   "cell_type": "markdown",
   "metadata": {},
   "source": [
    "### All prompts"
   ]
  },
  {
   "cell_type": "code",
   "execution_count": 48,
   "metadata": {},
   "outputs": [
    {
     "name": "stdout",
     "output_type": "stream",
     "text": [
      "18636\n"
     ]
    }
   ],
   "source": [
    "cv.fit(df.prompt_text)\n",
    "vocab = [w.replace(\" \",\"_\") for w in sorted(cv.vocabulary_.keys())\n",
    "print(len(vocab))\n",
    "cntsPerPrompt = pd.DataFrame(cv.transform(df.prompt_text).todense(),\n",
    "                             index=df.index,\n",
    "                             columns=vocab)\n",
    "#cntsPerPrompt[\"toxicGens\"] = df[\"toxicGens\"] \n",
    "#cntsPerPrompt[\"toxicCont\"] = df[\"toxicCont\"]"
   ]
  },
  {
   "cell_type": "code",
   "execution_count": 49,
   "metadata": {},
   "outputs": [],
   "source": [
    "# cntsPerToxicCont = cntsPerPrompt.sample(1000).groupby(\"toxicCont\",as_index=False)[vocab].sum()\n",
    "cntsPerLikelyToxicCont = pd.DataFrame({\n",
    "    f\"{v:d}\": cntsPerPrompt[df[\"likelyToxicCont\"] == v].sum(axis=0) for v in df[\"likelyToxicCont\"].unique()\n",
    "}).fillna(0)\n",
    "\n",
    "cntsPerToxicPrompt = pd.DataFrame({\n",
    "    f\"{v:d}\": cntsPerPrompt[df[\"toxicPrompt\"] == v].sum(axis=0) for v in df[\"toxicPrompt\"].unique()\n",
    "}).fillna(0)\n"
   ]
  },
  {
   "cell_type": "code",
   "execution_count": 54,
   "metadata": {},
   "outputs": [
    {
     "name": "stdout",
     "output_type": "stream",
     "text": [
      "*_*   f_*   i_’   f_*_*   ’_m   i_’_m   *_*_*   shit_,   ,_you   sex_with   stupid_,   if_you   ’_t   f_*_*_*   you_’   to_kill   “_you   you_’_re   his_penis   ’_re   don_’_t   don_’   ,_“   ,_i   having_sex   “_i   black_people   the_fuck   an_idiot   “_fuck   a_woman   you_,   of_shit   this_shit   a_shit   going_to   fuck_you   have_sex   white_people   give_a\n",
      "\n"
     ]
    }
   ],
   "source": [
    "# cntsPerToxicCont\n",
    "print(\"   \".join(idp(cntsPerLikelyToxicCont,\"1\").head(40).index.tolist()))\n",
    "print()"
   ]
  },
  {
   "cell_type": "markdown",
   "metadata": {},
   "source": [
    "### Non-toxic prompts: what leads to toxic generations?"
   ]
  },
  {
   "cell_type": "code",
   "execution_count": 173,
   "metadata": {},
   "outputs": [
    {
     "name": "stdout",
     "output_type": "stream",
     "text": [
      "19506\n"
     ]
    }
   ],
   "source": [
    "cv.fit(nonToxicPromptDf.prompt_text)\n",
    "vocab = sorted(cv.vocabulary_.keys())\n",
    "print(len(vocab))\n",
    "cntsPerPrompt = pd.DataFrame(cv.transform(df.prompt_text).todense(),\n",
    "                             index=df.index,\n",
    "                             columns=vocab)"
   ]
  },
  {
   "cell_type": "code",
   "execution_count": 174,
   "metadata": {},
   "outputs": [
    {
     "name": "stdout",
     "output_type": "stream",
     "text": [
      "['* *', '* * *', '’ t', 'you ’', '’ m', '“ i', 'i ’ m', 'i ’', 'you ’ re', '’ re', 'don ’ t', 'don ’', ', ”', '“ you', '“ i ’', 'sex with', 'give a', 'white people', 'sex ,', 'black people', 'racist ,', '“ i ’ m', 'you are', 't give', '’ t give', 'you ,', 'bunch of', 're a', '’ re a', 'you ’ re a', 'a racist', 'a white', 't give a', '’ t give a', 'a bunch', 'have sex', 'a bunch of', '“ f', 'he ’', '“ you ’']\n"
     ]
    }
   ],
   "source": [
    "cntsPerToxicGens = pd.DataFrame({\n",
    "    f\"{v:d}\": cntsPerPrompt[df[\"toxicGens\"] == v].sum(axis=0) for v in df[\"toxicGens\"].unique()\n",
    "}).fillna(0)\n",
    "print(idp(cntsPerToxicGens,\"1\").head(40).index.tolist())"
   ]
  },
  {
   "cell_type": "code",
   "execution_count": 175,
   "metadata": {},
   "outputs": [
    {
     "name": "stdout",
     "output_type": "stream",
     "text": [
      "4306\n"
     ]
    }
   ],
   "source": [
    "def processor(text,min_ngram=2,max_ngram=5):\n",
    "    # toks = text.rsplit(maxsplit=max_ngram+1)[-max_ngram:]\n",
    "    toks = word_tokenize(text)[-max_ngram:]\n",
    "    ngrams = [list(zip(*[toks[i:] for i in range(n)]))\n",
    "              for n in range(min_ngram,max_ngram+1)]\n",
    "    out = [\" \".join(n) for ns in ngrams for n in ns]\n",
    "    return out\n",
    "\n",
    "cv = CountVectorizer(token_pattern=None,analyzer=processor,min_df=0.0001)\n",
    "cv.fit(df.prompt_text)\n",
    "vocab = sorted(cv.vocabulary_.keys())\n",
    "print(len(vocab))"
   ]
  },
  {
   "cell_type": "code",
   "execution_count": 176,
   "metadata": {},
   "outputs": [
    {
     "name": "stdout",
     "output_type": "stream",
     "text": [
      "[', “', ': “', ', ``', '`` I', ': ``', ', he', ', the', 'a man', '“ I', 'is that', '’ s', 'disrespects our', 'saying ,', 'in which', 'of the', 'when somebody', 'that the', 'you ’', 'said :', ', `` I', 'said ,', 'and said', ', when', 'somebody disrespects', 'when somebody disrespects', '’ re', 'somebody disrespects our', 'when somebody disrespects our', \"' I\", ', calling', 'called the', ': ‘', 'that I', 'I ’', 'said that', 'I ’ m', ', saying', '’ d', 'he was', '’ m']\n",
      "['his penis', ', ”', 'shit ,', 'penis ,', 'a fucking', 'a penis', 'of shit', 'the fuck', 'the penis', 'sex ,', 'sex with', 'give a', 'her breasts', 'this shit', 'anal sex', 'racist ,', 'penis and', 'gon na', '’ re', '’ m', '’ t', 'stupid ,', 'black people', 'disrespects our', 'a shit', 'a “', 'oral sex', 'sexist ,', 'kill you', 'to fuck', 'bunch of', 'bitch ,', 'vagina ,', 'breasts ,', 'a bitch', 's penis', ', homophobic', 're a', 'an asshole', 'homophobic ,']\n"
     ]
    }
   ],
   "source": [
    "cntsPerPrompt = pd.DataFrame(cv.transform(df.prompt_text).todense(),\n",
    "                             index=df.index,\n",
    "                             columns=vocab)\n",
    "cntsPerToxicGens = pd.DataFrame({\n",
    "    f\"{v:d}\": cntsPerPrompt[df[\"toxicGens\"] == v].sum(axis=0) for v in df[\"toxicGens\"].unique()\n",
    "}).fillna(0)\n",
    "cntsPerToxicCont = pd.DataFrame({\n",
    "    f\"{v:d}\": cntsPerPrompt[df[\"toxicCont\"] == v].sum(axis=0) for v in df[\"toxicCont\"].unique()\n",
    "}).fillna(0)\n",
    "print(idp(cntsPerToxicCont,\"1\").head(40).index.tolist())\n",
    "print(idp(cntsPerToxicGens,\"1\").head(40).index.tolist())"
   ]
  }
 ],
 "metadata": {
  "kernelspec": {
   "display_name": "Python 3",
   "language": "python",
   "name": "python3"
  },
  "language_info": {
   "codemirror_mode": {
    "name": "ipython",
    "version": 3
   },
   "file_extension": ".py",
   "mimetype": "text/x-python",
   "name": "python",
   "nbconvert_exporter": "python",
   "pygments_lexer": "ipython3",
   "version": "3.7.6"
  }
 },
 "nbformat": 4,
 "nbformat_minor": 4
}
