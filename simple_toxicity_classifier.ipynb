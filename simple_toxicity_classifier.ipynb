{
 "cells": [
  {
   "cell_type": "markdown",
   "metadata": {},
   "source": [
    "# Train model"
   ]
  },
  {
   "cell_type": "code",
   "execution_count": null,
   "metadata": {},
   "outputs": [],
   "source": [
    "raw_train = pd.read_csv(DATA_DIR / 'train.csv')\n",
    "labels = list(raw_train.columns[2:])\n",
    "\n",
    "train_df = pd.DataFrame()\n",
    "train_df['text'] = raw_train['comment_text']\n",
    "train_df['labels'] = raw_train[labels].values.tolist()\n",
    "\n",
    "train_df.head()"
   ]
  },
  {
   "cell_type": "code",
   "execution_count": null,
   "metadata": {},
   "outputs": [],
   "source": [
    "raw_test_comments = pd.read_csv(DATA_DIR / 'test.csv')\n",
    "raw_test_labels = pd.read_csv(DATA_DIR / 'test_labels.csv')\n",
    "raw_test_labels = raw_test_labels[raw_test_labels['toxic'] != -1]\n",
    "raw_test = raw_test_comments.merge(raw_test_labels)\n",
    "\n",
    "test_df = pd.DataFrame()\n",
    "test_df['text'] = raw_test['comment_text']\n",
    "test_df['labels'] = raw_test_labels[labels].values.tolist()\n",
    "\n",
    "test_df.head()"
   ]
  },
  {
   "cell_type": "code",
   "execution_count": null,
   "metadata": {},
   "outputs": [],
   "source": [
    "# Create a MultiLabelClassificationModel\n",
    "model = MultiLabelClassificationModel(\n",
    "    'distilbert',\n",
    "    'distilbert-base-uncased',\n",
    "    num_labels=len(labels),\n",
    "    args={'reprocess_input_data': True, 'overwrite_output_dir': True, 'num_train_epochs': 3}\n",
    ")\n",
    "\n",
    "# Train the model\n",
    "model.train_model(train_df)"
   ]
  },
  {
   "cell_type": "code",
   "execution_count": null,
   "metadata": {},
   "outputs": [],
   "source": [
    "# Evaluate the model\n",
    "result, model_outputs, wrong_predictions = model.eval_model(test_df)\n",
    "print(result)\n",
    "print(model_outputs)\n",
    "\n",
    "predictions, raw_outputs = model.predict(['This thing is entirely different from the other thing. '])\n",
    "print(predictions)\n",
    "print(raw_outputs)"
   ]
  },
  {
   "cell_type": "code",
   "execution_count": null,
   "metadata": {},
   "outputs": [],
   "source": [
    "predictions, test_outputs = model.predict(raw_test_comments['comment_text'].tolist())\n",
    "\n",
    "sub_df = pd.DataFrame(test_outputs, columns=labels)\n",
    "sub_df['id'] = raw_test_comments['id']\n",
    "sub_df = sub_df[['id', 'toxic','severe_toxic','obscene','threat','insult','identity_hate']]\n",
    "sub_df.to_csv('submission.csv', index=False)"
   ]
  },
  {
   "cell_type": "markdown",
   "metadata": {},
   "source": [
    "# Predict all data"
   ]
  },
  {
   "cell_type": "code",
   "execution_count": 2,
   "metadata": {},
   "outputs": [],
   "source": [
    "from pathlib import Path\n",
    "import pandas as pd\n",
    "from simpletransformers.classification import MultiLabelClassificationModel\n",
    "\n",
    "\n",
    "ROOT_DIR = Path('../')\n",
    "DATA_DIR = ROOT_DIR / 'data' / 'toxic_comments'"
   ]
  },
  {
   "cell_type": "code",
   "execution_count": null,
   "metadata": {},
   "outputs": [],
   "source": [
    "import itertools\n",
    "\n",
    "def grouper_it(n, it):\n",
    "    while True:\n",
    "        chunk_it = itertools.islice(it, n)\n",
    "        try:\n",
    "            first_el = next(chunk_it)\n",
    "        except StopIteration:\n",
    "            return\n",
    "        yield itertools.chain((first_el,), chunk_it)"
   ]
  },
  {
   "cell_type": "code",
   "execution_count": null,
   "metadata": {},
   "outputs": [],
   "source": [
    "CHUNK_SIZE = 100000\n",
    "TOTAL_ROWS = 8003023\n",
    "TEXTS_DIR = ROOT_DIR / 'data' / 'texts'\n",
    "LABELS = ['toxic','severe_toxic','obscene','threat','insult','identity_hate']"
   ]
  },
  {
   "cell_type": "code",
   "execution_count": null,
   "metadata": {},
   "outputs": [],
   "source": [
    "# Load model\n",
    "model = MultiLabelClassificationModel(\n",
    "    'distilbert',\n",
    "    'outputs/',\n",
    "    num_labels=len(LABELS)\n",
    ")"
   ]
  },
  {
   "cell_type": "code",
   "execution_count": null,
   "metadata": {},
   "outputs": [],
   "source": [
    "from tqdm import tqdm_notebook\n",
    "\n",
    "STORE = pd.HDFStore('toxicity_classifications.h5', mode='w')\n",
    "\n",
    "with tqdm_notebook(total=TOTAL_ROWS) as pbar:\n",
    "    for chunk in grouper_it(CHUNK_SIZE, TEXTS_DIR.iterdir()):\n",
    "        pbar.set_description('Loading texts')\n",
    "        paths = list(chunk)\n",
    "        texts = [file.read_text() for file in paths]\n",
    "\n",
    "        pbar.set_description('Making predictions')\n",
    "        predictions, outputs = model.predict(texts)\n",
    "        \n",
    "        pbar.set_description('Concatenating predictions to dataframe')\n",
    "        filenames = [file.name for file in paths]\n",
    "        df = pd.DataFrame(filenames, columns=['filename'])\n",
    "        df[LABELS] = pd.DataFrame(outputs)\n",
    "        \n",
    "        pbar.set_description('Appending to HDF file')\n",
    "        STORE.append('df', df, expectedrows=TOTAL_ROWS, index=False)\n",
    "            \n",
    "        pbar.update(CHUNK_SIZE)"
   ]
  },
  {
   "cell_type": "markdown",
   "metadata": {},
   "source": [
    "# Load data"
   ]
  },
  {
   "cell_type": "code",
   "execution_count": 1,
   "metadata": {},
   "outputs": [],
   "source": [
    "from pathlib import Path\n",
    "import pandas as pd"
   ]
  },
  {
   "cell_type": "code",
   "execution_count": 2,
   "metadata": {},
   "outputs": [],
   "source": [
    "store = pd.HDFStore('toxicity_classifications.h5')"
   ]
  },
  {
   "cell_type": "code",
   "execution_count": 6,
   "metadata": {},
   "outputs": [],
   "source": [
    "df = store['df']"
   ]
  },
  {
   "cell_type": "code",
   "execution_count": 8,
   "metadata": {},
   "outputs": [
    {
     "data": {
      "text/html": [
       "<div>\n",
       "<style scoped>\n",
       "    .dataframe tbody tr th:only-of-type {\n",
       "        vertical-align: middle;\n",
       "    }\n",
       "\n",
       "    .dataframe tbody tr th {\n",
       "        vertical-align: top;\n",
       "    }\n",
       "\n",
       "    .dataframe thead th {\n",
       "        text-align: right;\n",
       "    }\n",
       "</style>\n",
       "<table border=\"1\" class=\"dataframe\">\n",
       "  <thead>\n",
       "    <tr style=\"text-align: right;\">\n",
       "      <th></th>\n",
       "      <th>filename</th>\n",
       "      <th>toxic</th>\n",
       "      <th>severe_toxic</th>\n",
       "      <th>obscene</th>\n",
       "      <th>threat</th>\n",
       "      <th>insult</th>\n",
       "      <th>identity_hate</th>\n",
       "    </tr>\n",
       "  </thead>\n",
       "  <tbody>\n",
       "    <tr>\n",
       "      <th>50023</th>\n",
       "      <td>0268200-f3ffb0ce62a38c69a22e5f71a78b25d7.txt</td>\n",
       "      <td>0.999969</td>\n",
       "      <td>7.188264e-01</td>\n",
       "      <td>0.999042</td>\n",
       "      <td>9.984918e-03</td>\n",
       "      <td>0.964930</td>\n",
       "      <td>8.156478e-02</td>\n",
       "    </tr>\n",
       "    <tr>\n",
       "      <th>41398</th>\n",
       "      <td>0889736-881ff0021b2c637b077a2f8a3043caad.txt</td>\n",
       "      <td>0.999965</td>\n",
       "      <td>7.398418e-01</td>\n",
       "      <td>0.998936</td>\n",
       "      <td>1.684912e-02</td>\n",
       "      <td>0.954415</td>\n",
       "      <td>5.402331e-02</td>\n",
       "    </tr>\n",
       "    <tr>\n",
       "      <th>52083</th>\n",
       "      <td>0928499-a5045f73bef5b35d70bdf62997596936.txt</td>\n",
       "      <td>0.999962</td>\n",
       "      <td>6.638936e-01</td>\n",
       "      <td>0.998649</td>\n",
       "      <td>6.553145e-03</td>\n",
       "      <td>0.975948</td>\n",
       "      <td>2.995005e-01</td>\n",
       "    </tr>\n",
       "    <tr>\n",
       "      <th>86371</th>\n",
       "      <td>0994084-522158f188c00b021667c11ce23f5e17.txt</td>\n",
       "      <td>0.999961</td>\n",
       "      <td>6.740288e-01</td>\n",
       "      <td>0.998990</td>\n",
       "      <td>4.759024e-03</td>\n",
       "      <td>0.934879</td>\n",
       "      <td>2.318956e-02</td>\n",
       "    </tr>\n",
       "    <tr>\n",
       "      <th>72119</th>\n",
       "      <td>0672031-2e34d061fc3c5e59d8730115bf3ef6b5.txt</td>\n",
       "      <td>0.999959</td>\n",
       "      <td>7.773548e-01</td>\n",
       "      <td>0.998670</td>\n",
       "      <td>9.143099e-03</td>\n",
       "      <td>0.968365</td>\n",
       "      <td>8.965641e-02</td>\n",
       "    </tr>\n",
       "    <tr>\n",
       "      <th>...</th>\n",
       "      <td>...</td>\n",
       "      <td>...</td>\n",
       "      <td>...</td>\n",
       "      <td>...</td>\n",
       "      <td>...</td>\n",
       "      <td>...</td>\n",
       "      <td>...</td>\n",
       "    </tr>\n",
       "    <tr>\n",
       "      <th>84252</th>\n",
       "      <td>0250312-493662392ffc27a3b4ce1dbf4bf25ef7.txt</td>\n",
       "      <td>0.000069</td>\n",
       "      <td>1.842586e-07</td>\n",
       "      <td>0.000039</td>\n",
       "      <td>1.819052e-07</td>\n",
       "      <td>0.000021</td>\n",
       "      <td>6.871662e-07</td>\n",
       "    </tr>\n",
       "    <tr>\n",
       "      <th>24974</th>\n",
       "      <td>0541954-4d98290dc30119365ef44728e1f1c7a3.txt</td>\n",
       "      <td>0.000069</td>\n",
       "      <td>1.912773e-07</td>\n",
       "      <td>0.000040</td>\n",
       "      <td>1.839583e-07</td>\n",
       "      <td>0.000022</td>\n",
       "      <td>6.929150e-07</td>\n",
       "    </tr>\n",
       "    <tr>\n",
       "      <th>68984</th>\n",
       "      <td>0218730-595620768bd5238e5b1fa98c50d3c925.txt</td>\n",
       "      <td>0.000069</td>\n",
       "      <td>1.771524e-07</td>\n",
       "      <td>0.000039</td>\n",
       "      <td>1.788764e-07</td>\n",
       "      <td>0.000021</td>\n",
       "      <td>6.764629e-07</td>\n",
       "    </tr>\n",
       "    <tr>\n",
       "      <th>98059</th>\n",
       "      <td>0491329-b4b2006a1f439b69013027618bdb1f4b.txt</td>\n",
       "      <td>0.000069</td>\n",
       "      <td>1.779267e-07</td>\n",
       "      <td>0.000039</td>\n",
       "      <td>1.788297e-07</td>\n",
       "      <td>0.000021</td>\n",
       "      <td>6.761495e-07</td>\n",
       "    </tr>\n",
       "    <tr>\n",
       "      <th>19824</th>\n",
       "      <td>0863200-1017513eae3272c57cc695973d7946f8.txt</td>\n",
       "      <td>0.000069</td>\n",
       "      <td>1.865083e-07</td>\n",
       "      <td>0.000040</td>\n",
       "      <td>1.809252e-07</td>\n",
       "      <td>0.000021</td>\n",
       "      <td>6.854049e-07</td>\n",
       "    </tr>\n",
       "  </tbody>\n",
       "</table>\n",
       "<p>8003023 rows × 7 columns</p>\n",
       "</div>"
      ],
      "text/plain": [
       "                                           filename     toxic  severe_toxic  \\\n",
       "50023  0268200-f3ffb0ce62a38c69a22e5f71a78b25d7.txt  0.999969  7.188264e-01   \n",
       "41398  0889736-881ff0021b2c637b077a2f8a3043caad.txt  0.999965  7.398418e-01   \n",
       "52083  0928499-a5045f73bef5b35d70bdf62997596936.txt  0.999962  6.638936e-01   \n",
       "86371  0994084-522158f188c00b021667c11ce23f5e17.txt  0.999961  6.740288e-01   \n",
       "72119  0672031-2e34d061fc3c5e59d8730115bf3ef6b5.txt  0.999959  7.773548e-01   \n",
       "...                                             ...       ...           ...   \n",
       "84252  0250312-493662392ffc27a3b4ce1dbf4bf25ef7.txt  0.000069  1.842586e-07   \n",
       "24974  0541954-4d98290dc30119365ef44728e1f1c7a3.txt  0.000069  1.912773e-07   \n",
       "68984  0218730-595620768bd5238e5b1fa98c50d3c925.txt  0.000069  1.771524e-07   \n",
       "98059  0491329-b4b2006a1f439b69013027618bdb1f4b.txt  0.000069  1.779267e-07   \n",
       "19824  0863200-1017513eae3272c57cc695973d7946f8.txt  0.000069  1.865083e-07   \n",
       "\n",
       "        obscene        threat    insult  identity_hate  \n",
       "50023  0.999042  9.984918e-03  0.964930   8.156478e-02  \n",
       "41398  0.998936  1.684912e-02  0.954415   5.402331e-02  \n",
       "52083  0.998649  6.553145e-03  0.975948   2.995005e-01  \n",
       "86371  0.998990  4.759024e-03  0.934879   2.318956e-02  \n",
       "72119  0.998670  9.143099e-03  0.968365   8.965641e-02  \n",
       "...         ...           ...       ...            ...  \n",
       "84252  0.000039  1.819052e-07  0.000021   6.871662e-07  \n",
       "24974  0.000040  1.839583e-07  0.000022   6.929150e-07  \n",
       "68984  0.000039  1.788764e-07  0.000021   6.764629e-07  \n",
       "98059  0.000039  1.788297e-07  0.000021   6.761495e-07  \n",
       "19824  0.000040  1.809252e-07  0.000021   6.854049e-07  \n",
       "\n",
       "[8003023 rows x 7 columns]"
      ]
     },
     "execution_count": 8,
     "metadata": {},
     "output_type": "execute_result"
    }
   ],
   "source": [
    "df.sort_values(by='toxic', ascending=False)"
   ]
  },
  {
   "cell_type": "code",
   "execution_count": null,
   "metadata": {},
   "outputs": [],
   "source": []
  }
 ],
 "metadata": {
  "kernelspec": {
   "display_name": "Python 3",
   "language": "python",
   "name": "python3"
  },
  "language_info": {
   "codemirror_mode": {
    "name": "ipython",
    "version": 3
   },
   "file_extension": ".py",
   "mimetype": "text/x-python",
   "name": "python",
   "nbconvert_exporter": "python",
   "pygments_lexer": "ipython3",
   "version": "3.7.5"
  }
 },
 "nbformat": 4,
 "nbformat_minor": 4
}
