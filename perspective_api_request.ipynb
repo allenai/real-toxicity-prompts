{
 "cells": [
  {
   "cell_type": "code",
   "execution_count": 1,
   "metadata": {},
   "outputs": [],
   "source": [
    "from googleapiclient import discovery\n",
    "from pathlib import Path\n",
    "import json\n",
    "import time\n",
    "from tqdm import tqdm\n",
    "\n",
    "from constants import DATA_DIR, TEXTS_DIR, PERSPECTIVE_API_RESPONSE_DIR, PERSPECTIVE_API_KEY"
   ]
  },
  {
   "cell_type": "code",
   "execution_count": 2,
   "metadata": {},
   "outputs": [],
   "source": [
    "ATTRIBUTES = [\n",
    "    'TOXICITY',\n",
    "    'SEVERE_TOXICITY',\n",
    "    'IDENTITY_ATTACK',\n",
    "    'INSULT',\n",
    "    'THREAT',\n",
    "    'PROFANITY',\n",
    "    'SEXUALLY_EXPLICIT',\n",
    "    'FLIRTATION'\n",
    "]\n",
    "\n",
    "# Generates API client object dynamically based on service name and version.\n",
    "service = discovery.build('commentanalyzer', 'v1alpha1', developerKey=PERSPECTIVE_API_KEY)\n",
    "\n",
    "# All attributes can be found here: \n",
    "# https://github.com/conversationai/perspectiveapi/blob/master/api_reference.md#toxicity-models\n",
    "def request_toxicity(text, response_path):\n",
    "    analyze_request = {\n",
    "      'comment': { 'text': text },\n",
    "      'requestedAttributes': {attr: {} for attr in ATTRIBUTES}\n",
    "    }\n",
    "\n",
    "    return service.comments().analyze(body=analyze_request).execute()"
   ]
  },
  {
   "cell_type": "code",
   "execution_count": 3,
   "metadata": {},
   "outputs": [],
   "source": [
    "def response_file_for(text_file):\n",
    "    response_filename = text_file.name + '.json'\n",
    "    return PERSPECTIVE_API_RESPONSE_DIR / response_filename\n",
    "\n",
    "\n",
    "unrequested_files = {}\n",
    "for text_file in TEXTS_DIR.iterdir():\n",
    "    response_file = response_file_for(text_file)\n",
    "    if response_file.exists():\n",
    "        continue\n",
    "        \n",
    "    unrequested_files[text_file] = response_file"
   ]
  },
  {
   "cell_type": "code",
   "execution_count": 8,
   "metadata": {},
   "outputs": [
    {
     "name": "stdout",
     "output_type": "stream",
     "text": [
      "data/texts/0730921-98339e0384e794bd136e80299edd35f6.txt not in unrequested files\n",
      "data/texts/0587177-c26174192fb0db31d086ed377e82fde7.txt not in unrequested files\n",
      "data/texts/0796570-74e57fde3604254896788e61896a5baf.txt not in unrequested files\n",
      "data/texts/0850053-ca81a29877308292ac8f2eb3f62415da.txt not in unrequested files\n",
      "data/texts/0709609-01857eb399a9cb5018a9d17e5db660ee.txt not in unrequested files\n",
      "data/texts/0430176-d4cd0f49fc8be4a6d277aeb71519ee41.txt not in unrequested files\n",
      "data/texts/0011458-c25a122bad5473f5394b4005ed9f9c1a.txt not in unrequested files\n",
      "data/texts/0643981-8dcf235402e68aed68a9579741c4299f.txt not in unrequested files\n",
      "data/texts/0807943-014f40da5661e197caad6eded9b313a6.txt not in unrequested files\n",
      "data/texts/0120828-e3ed9a0a359dcc7ff96c68807a7f5f24.txt not in unrequested files\n",
      "data/texts/0596284-37b5a424395508cab25fc5d3143504a0.txt not in unrequested files\n",
      "data/texts/0297357-7e206fa9fc4f77285f8da6b43ae26538.txt not in unrequested files\n",
      "data/texts/0069738-72fabadfd79e0f9c13b0f5c6f223ce9a.txt not in unrequested files\n",
      "data/texts/0527911-02726ab6a2743c14d9d33359b0b00bd1.txt not in unrequested files\n",
      "data/texts/0133403-4d152146e5169d6021ccad3efca8c217.txt not in unrequested files\n",
      "data/texts/0292753-15c2148f40de80727ec20ffa72811990.txt not in unrequested files\n",
      "data/texts/0806718-1b061344e21f3c627a59923fa34dbb39.txt not in unrequested files\n",
      "data/texts/0184297-dcd6c9503b4704891b598102460a3557.txt not in unrequested files\n"
     ]
    }
   ],
   "source": [
    "PERSPECTIVE_API_FAILURES = DATA_DIR / 'perspective_api_failures.txt'\n",
    "\n",
    "failure_text_files = PERSPECTIVE_API_FAILURES.read_text().split()\n",
    "failure_text_files = set(TEXTS_DIR / filename for filename in failure_text_files)\n",
    "\n",
    "for failure_file in failure_text_files:\n",
    "    try:\n",
    "        del unrequested_files[failure_file]\n",
    "    except:\n",
    "        print(failure_file, 'not in unrequested files')"
   ]
  },
  {
   "cell_type": "code",
   "execution_count": null,
   "metadata": {},
   "outputs": [
    {
     "name": "stderr",
     "output_type": "stream",
     "text": [
      "  0%|          | 4278/7848977 [07:00<2295:34:39,  1.05s/it]"
     ]
    }
   ],
   "source": [
    "PERSPECTIVE_API_SLEEP_SECONDS = 1\n",
    "PERSPECTIVE_API_LEN_LIMIT = 20480\n",
    "\n",
    "for text_file, response_file in tqdm(unrequested_files.items()):\n",
    "    text = text_file.read_text()\n",
    "    if len(text) > PERSPECTIVE_API_LEN_LIMIT:\n",
    "        continue\n",
    "\n",
    "    try:\n",
    "        response = request_toxicity(text, response_file)\n",
    "        with response_path.open('w') as f:\n",
    "            json.dump(response, f)\n",
    "    except:\n",
    "        with PERSPECTIVE_API_FAILURES.open('a') as f:\n",
    "            print(text_file.name, file=f)\n",
    "\n",
    "    # Sleep for 1 second due to rate limiting by API\n",
    "    time.sleep(PERSPECTIVE_API_SLEEP_SECONDS)"
   ]
  },
  {
   "cell_type": "code",
   "execution_count": null,
   "metadata": {},
   "outputs": [],
   "source": []
  }
 ],
 "metadata": {
  "kernelspec": {
   "display_name": "Python 3",
   "language": "python",
   "name": "python3"
  },
  "language_info": {
   "codemirror_mode": {
    "name": "ipython",
    "version": 3
   },
   "file_extension": ".py",
   "mimetype": "text/x-python",
   "name": "python",
   "nbconvert_exporter": "python",
   "pygments_lexer": "ipython3",
   "version": "3.7.3"
  }
 },
 "nbformat": 4,
 "nbformat_minor": 2
}
