{
 "cells": [
  {
   "cell_type": "code",
   "execution_count": null,
   "metadata": {},
   "outputs": [],
   "source": [
    "from googleapiclient import discovery\n",
    "from pathlib import Path\n",
    "import json\n",
    "import time\n",
    "from tqdm import tqdm\n",
    "\n",
    "from constants import TEXTS_DIR, PERSPECTIVE_API_RESPONSE_DIR, PERSPECTIVE_API_KEY"
   ]
  },
  {
   "cell_type": "code",
   "execution_count": null,
   "metadata": {},
   "outputs": [],
   "source": [
    "# Generates API client object dynamically based on service name and version.\n",
    "service = discovery.build('commentanalyzer', 'v1alpha1', developerKey=PERSPECTIVE_API_KEY)\n",
    "\n",
    "def request_toxicity(text, response_path):\n",
    "    analyze_request = {\n",
    "      'comment': { 'text': text },\n",
    "      'requestedAttributes': {'TOXICITY': {}}\n",
    "    }\n",
    "\n",
    "    response = service.comments().analyze(body=analyze_request).execute()\n",
    "\n",
    "    with response_path.open('w') as f:\n",
    "        json.dump(response, f)"
   ]
  },
  {
   "cell_type": "code",
   "execution_count": null,
   "metadata": {},
   "outputs": [],
   "source": [
    "PERSPECTIVE_API_SLEEP_SECONDS = 1\n",
    "PERSPECTIVE_API_LEN_LIMIT = 20480\n",
    "\n",
    "text_paths = list(TEXTS_DIR.iterdir())\n",
    "for text_file in tqdm_notebook(text_paths):\n",
    "    response_filename = text_file.name + '.json'\n",
    "    response_file = PERSPECTIVE_API_RESPONSE_DIR / response_filename\n",
    "    if response_file.exists():\n",
    "        continue\n",
    "\n",
    "    text = text_file.read_text()\n",
    "    if len(text) > PERSPECTIVE_API_LEN_LIMIT:\n",
    "        continue\n",
    "\n",
    "    try:\n",
    "        request_toxicity(text, response_file)\n",
    "    except:\n",
    "        pass\n",
    "\n",
    "    # Sleep for 1 second due to rate limiting by API\n",
    "    time.sleep(PERSPECTIVE_API_SLEEP_SECONDS)"
   ]
  }
 ],
 "metadata": {
  "kernelspec": {
   "display_name": "Python 3",
   "language": "python",
   "name": "python3"
  },
  "language_info": {
   "codemirror_mode": {
    "name": "ipython",
    "version": 3
   },
   "file_extension": ".py",
   "mimetype": "text/x-python",
   "name": "python",
   "nbconvert_exporter": "python",
   "pygments_lexer": "ipython3",
   "version": "3.7.3"
  }
 },
 "nbformat": 4,
 "nbformat_minor": 2
}
