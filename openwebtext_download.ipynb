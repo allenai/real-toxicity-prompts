{
 "cells": [
  {
   "cell_type": "code",
   "execution_count": 2,
   "metadata": {},
   "outputs": [],
   "source": [
    "import os\n",
    "from pathlib import Path\n",
    "from multiprocessing.pool import ThreadPool\n",
    "from tqdm import tqdm\n",
    "import tarfile\n",
    "\n",
    "from constants import DATA_DIR, OPENWEBTEXT_ARCHIVES_DIR, TEXTS_DIR"
   ]
  },
  {
   "cell_type": "code",
   "execution_count": 7,
   "metadata": {
    "colab": {},
    "colab_type": "code",
    "id": "xAnLm1lV4Czn"
   },
   "outputs": [],
   "source": [
    "# Download and un-tar OpenWebText archive\n",
    "openwebtext_archive_file = DATA_DIR / 'openwebtext.tar.xz'\n",
    "\n",
    "if not OPENWEBTEXT_ARCHIVES_DIR.exists():\n",
    "    if not openwebtext_archive_file.exists():\n",
    "        # Download the dataset\n",
    "        !pip install gdown\n",
    "        !gdown https://drive.google.com/uc?id=1EA5V0oetDCOke7afsktL_JDQ-ETtNOvx\n",
    "        assert openwebtext_archive_file.exists()\n",
    "\n",
    "    # Un-archive the dataset\n",
    "    !tar -xf {openwebtext_archive_file}\n",
    "    assert OPENWEBTEXT_ARCHIVES_DIR.exists()"
   ]
  },
  {
   "cell_type": "code",
   "execution_count": null,
   "metadata": {
    "colab": {},
    "colab_type": "code",
    "id": "mwznMvt04Mz5"
   },
   "outputs": [
    {
     "name": "stderr",
     "output_type": "stream",
     "text": [
      " 91%|█████████ | 18717/20609 [14:14<01:18, 23.96it/s]"
     ]
    }
   ],
   "source": [
    "# Extract text files from OpenWebText\n",
    "# TODO: check whether an archive has already been extracted\n",
    "def extract_tar(tarfile_path):\n",
    "    archive = tarfile.open(tarfile_path)\n",
    "    archive.extractall(final_dataset_path)\n",
    "    archive.close()\n",
    "\n",
    "num_threads = 16\n",
    "\n",
    "subset_archive_paths = list(OPENWEBTEXT_ARCHIVES_DIR.iterdir())\n",
    "with tqdm(total=len(subset_archive_paths)) as t:\n",
    "    pool = ThreadPool(num_threads)\n",
    "    for _ in pool.imap_unordered(extract_tar, subset_archive_paths):\n",
    "        t.update(1)"
   ]
  },
  {
   "cell_type": "code",
   "execution_count": 15,
   "metadata": {},
   "outputs": [],
   "source": [
    "def find_pending_archives():\n",
    "    subset_archive_paths = set(OPENWEBTEXT_ARCHIVES_DIR.iterdir())\n",
    "    existing_text_files = set(file.name for file in TEXTS_DIR.iterdir())\n",
    "    \n",
    "    pending_archive_paths = []\n",
    "    for archive_path in subset_archive_paths:\n",
    "        first_text_file = tarfile.open(archive_path).getnames()[0]\n",
    "        if first_text_file not in existing_text_files:\n",
    "            pending_archive_paths.append(archive_path)\n",
    "    \n",
    "    return pending_archive_paths"
   ]
  },
  {
   "cell_type": "code",
   "execution_count": 17,
   "metadata": {},
   "outputs": [],
   "source": [
    "subset_archive_paths = list(OPENWEBTEXT_ARCHIVES_DIR.iterdir())\n",
    "existing_text_files = set(file.name for file in TEXTS_DIR.iterdir())"
   ]
  },
  {
   "cell_type": "code",
   "execution_count": 24,
   "metadata": {},
   "outputs": [
    {
     "name": "stderr",
     "output_type": "stream",
     "text": [
      "100%|██████████| 20609/20609 [13:07<00:00, 26.16it/s]\n"
     ]
    }
   ],
   "source": [
    "pending_archive_paths = []\n",
    "for archive_path in tqdm(subset_archive_paths):\n",
    "    with tarfile.open(archive_path) as f:\n",
    "        if f.getnames()[0] not in existing_text_files:\n",
    "            pending_archive_paths.append(archive_path)"
   ]
  },
  {
   "cell_type": "code",
   "execution_count": 25,
   "metadata": {},
   "outputs": [
    {
     "data": {
      "text/plain": [
       "0"
      ]
     },
     "execution_count": 25,
     "metadata": {},
     "output_type": "execute_result"
    }
   ],
   "source": [
    "len(pending_archive_paths)"
   ]
  },
  {
   "cell_type": "code",
   "execution_count": null,
   "metadata": {},
   "outputs": [],
   "source": []
  }
 ],
 "metadata": {
  "accelerator": "GPU",
  "colab": {
   "name": "toxic-language.ipynb",
   "provenance": [],
   "toc_visible": true
  },
  "kernelspec": {
   "display_name": "Python 3",
   "language": "python",
   "name": "python3"
  },
  "language_info": {
   "codemirror_mode": {
    "name": "ipython",
    "version": 3
   },
   "file_extension": ".py",
   "mimetype": "text/x-python",
   "name": "python",
   "nbconvert_exporter": "python",
   "pygments_lexer": "ipython3",
   "version": "3.7.5"
  }
 },
 "nbformat": 4,
 "nbformat_minor": 4
}
