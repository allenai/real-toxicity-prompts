{
 "cells": [
  {
   "cell_type": "code",
   "execution_count": 6,
   "metadata": {},
   "outputs": [],
   "source": [
    "import os\n",
    "from pathlib import Path\n",
    "from multiprocessing.pool import ThreadPool\n",
    "from tqdm import tqdm\n",
    "import tarfile\n",
    "\n",
    "from constants import DATA_DIR, OPENWEBTEXT_ARCHIVES_DIR, TEXTS_DIR"
   ]
  },
  {
   "cell_type": "code",
   "execution_count": 7,
   "metadata": {
    "colab": {},
    "colab_type": "code",
    "id": "xAnLm1lV4Czn"
   },
   "outputs": [],
   "source": [
    "# Download and un-tar OpenWebText archive\n",
    "\n",
    "openwebtext_archive_file = DATA_DIR / 'openwebtext.tar.xz'\n",
    "\n",
    "if not OPENWEBTEXT_ARCHIVES_DIR.exists():\n",
    "    if not openwebtext_archive_file.exists():\n",
    "        # Download the dataset\n",
    "        !pip install gdown\n",
    "        !gdown https://drive.google.com/uc?id=1EA5V0oetDCOke7afsktL_JDQ-ETtNOvx\n",
    "        assert openwebtext_archive_file.exists()\n",
    "\n",
    "    # Un-archive the dataset\n",
    "    !tar -xf {openwebtext_archive_file}\n",
    "    assert OPENWEBTEXT_ARCHIVES_DIR.exists()"
   ]
  },
  {
   "cell_type": "code",
   "execution_count": null,
   "metadata": {
    "colab": {},
    "colab_type": "code",
    "id": "mwznMvt04Mz5"
   },
   "outputs": [
    {
     "name": "stderr",
     "output_type": "stream",
     "text": [
      " 91%|█████████ | 18717/20609 [14:14<01:18, 23.96it/s]"
     ]
    }
   ],
   "source": [
    "# Extract text files from OpenWebText\n",
    "# TODO: check whether an archive has already been extracted\n",
    "\n",
    "def extract_tar(tarfile_path):\n",
    "    archive = tarfile.open(tarfile_path)\n",
    "    archive.extractall(final_dataset_path)\n",
    "    archive.close()\n",
    "\n",
    "\n",
    "num_threads = 16\n",
    "\n",
    "subset_archive_paths = list(OPENWEBTEXT_ARCHIVES_DIR.iterdir())\n",
    "with tqdm(total=len(subset_archive_paths)) as t:\n",
    "    pool = ThreadPool(num_threads)\n",
    "    for _ in pool.imap_unordered(extract_tar, subset_archive_paths):\n",
    "        t.update(1)"
   ]
  }
 ],
 "metadata": {
  "accelerator": "GPU",
  "colab": {
   "name": "toxic-language.ipynb",
   "provenance": [],
   "toc_visible": true
  },
  "kernelspec": {
   "display_name": "Python 3",
   "language": "python",
   "name": "python3"
  },
  "language_info": {
   "codemirror_mode": {
    "name": "ipython",
    "version": 3
   },
   "file_extension": ".py",
   "mimetype": "text/x-python",
   "name": "python",
   "nbconvert_exporter": "python",
   "pygments_lexer": "ipython3",
   "version": "3.7.3"
  }
 },
 "nbformat": 4,
 "nbformat_minor": 2
}
