{
 "cells": [
  {
   "cell_type": "markdown",
   "metadata": {},
   "source": [
    "## Inspect data"
   ]
  },
  {
   "cell_type": "code",
   "execution_count": 13,
   "metadata": {},
   "outputs": [],
   "source": [
    "import json\n",
    "from constants import TEXTS_DIR, PERSPECTIVE_API_RESPONSE_DIR"
   ]
  },
  {
   "cell_type": "code",
   "execution_count": 14,
   "metadata": {},
   "outputs": [
    {
     "data": {
      "text/plain": [
       "'WASHINGTON (Reuters) - Telecommunications giant AT&T struck back on Wednesday at Sen. Herb Kohl, chair of a congressional antitrust panel, saying the lawmaker’s concerns about a lack of competition in the wireless industry were unfounded.\\n\\nKohl wrote to the Justice Department’s top antitrust regulator Christine Varney and Federal Communications Commission Chairman Julius Genachowski on Monday to reiterate concerns over texting prices, large carriers failing to cooperate with smaller carriers to resolve roaming disputes, disputes over spectrum and deals that give one or another carrier exclusive access to popular phones like the iPhone.\\n\\nAT&T argued that cell service had become progressively cheaper, with revenue per minute falling 89 percent since 1994.\\n\\n“U.S. wireless prices are much lower than in any other major industrialized country,” wrote James Cicconi, an AT&T senior executive vice president.\\n\\nCicconi argued that texting prices had fallen because of package deals, “dropping almost 70 percent since January 2007,” and asserted that the pay-per-use price cited by Kohl represented less than 1 percent of AT&T’s customers.\\n\\nCicconi also argued that exclusive handset arrangements allowed a carrier and a manufacturer to split the high cost of marketing “an inventive but unproven new device.” Kohl had called the deals “a serious barrier to competition.”\\n\\n“I think AT&T is right on the handset exclusivity,” said Orrick antitrust expert David Smutny, who argued that telecommunications firms were vying to help manufacturers to come up with the new cool phone — the iPhone killer — in order to compete with the AT&T/Apple alliance.\\n\\n“What AT&T cares about is getting people to sign up for its service and what Apple cares about is getting people to get its cool phone. That’s pretty pro-consumer,” he said.\\n\\nCicconi said that AT&T complied with FCC regulations, which required it to allow other companies’ customers to roam to get voice service but not data, which means that they may not get email or Internet service on their phones if they are out of their servers’ area.\\n\\nAT&T also defended early termination fees as a way for the company to recoup money spent discounting handsets.\\n\\nOverall, Orrick’s Smutny said he failed to see significant antitrust issues in the wireless industry.\\n\\n“Most people are served by at least three and sometimes five or six wireless carriers,” he said. “On the specific issues that Sen. Kohl raises, I think that AT&T has the better of the argument.”'"
      ]
     },
     "execution_count": 14,
     "metadata": {},
     "output_type": "execute_result"
    }
   ],
   "source": [
    "# Print sample text\n",
    "sample_text_file = TEXTS_DIR / '0000108-c17b018a21dba0c9c84e5f6dca782cbd.txt'\n",
    "sample_text_file.read_text()"
   ]
  },
  {
   "cell_type": "code",
   "execution_count": 15,
   "metadata": {},
   "outputs": [
    {
     "data": {
      "text/plain": [
       "{'attributeScores': {'TOXICITY': {'spanScores': [{'begin': 0,\n",
       "     'end': 2504,\n",
       "     'score': {'value': 0.09871901, 'type': 'PROBABILITY'}}],\n",
       "   'summaryScore': {'value': 0.09871901, 'type': 'PROBABILITY'}}},\n",
       " 'languages': ['en'],\n",
       " 'detectedLanguages': ['en']}"
      ]
     },
     "execution_count": 15,
     "metadata": {},
     "output_type": "execute_result"
    }
   ],
   "source": [
    "# Print sample response\n",
    "sample_response_file = PERSPECTIVE_API_RESPONSE_DIR / '0000108-c17b018a21dba0c9c84e5f6dca782cbd.txt.json'\n",
    "\n",
    "with sample_response_file.open() as f:\n",
    "    sample_response = json.load(f)\n",
    "\n",
    "sample_response"
   ]
  },
  {
   "cell_type": "markdown",
   "metadata": {},
   "source": [
    "## Load into pandas"
   ]
  },
  {
   "cell_type": "code",
   "execution_count": 16,
   "metadata": {},
   "outputs": [],
   "source": [
    "%matplotlib inline\n",
    "import pandas as pd\n",
    "from pathlib import Path\n",
    "import os\n",
    "from constants import TOXICITY_SCORES_PICKLE"
   ]
  },
  {
   "cell_type": "code",
   "execution_count": 17,
   "metadata": {},
   "outputs": [],
   "source": [
    "# Load Perspective API responses into dataframe\n",
    "\n",
    "if not TOXICITY_SCORES_PICKLE.exists():\n",
    "    rows = []\n",
    "\n",
    "    for toxicity_file in PERSPECTIVE_API_RESPONSE_DIR.iterdir():\n",
    "        if toxicity_file.suffix != '.json':\n",
    "            continue\n",
    "\n",
    "        toxicity_json = json.load(toxicity_file.open())\n",
    "        toxicity_score = toxicity_json['attributeScores']['TOXICITY']['summaryScore']['value']\n",
    "\n",
    "        text_filename = toxicity_file.name[:-5]\n",
    "        assert text_filename.endswith('.txt')\n",
    "        text_file = TEXTS_DIR / text_filename\n",
    "        text = text_file.read_text()\n",
    "\n",
    "        rows.append([text_filename, toxicity_score, text])\n",
    "\n",
    "    df = pd.DataFrame(rows, columns=['filename', 'toxicity_score', 'text'])\n",
    "    \n",
    "    # Save a pickle for later\n",
    "    df.to_pickle(TOXICITY_SCORES_PICKLE)\n",
    "else:\n",
    "    df = pd.read_pickle(TOXICITY_SCORES_PICKLE)"
   ]
  },
  {
   "cell_type": "markdown",
   "metadata": {},
   "source": [
    "## Basic Analysis"
   ]
  },
  {
   "cell_type": "code",
   "execution_count": 18,
   "metadata": {},
   "outputs": [
    {
     "data": {
      "text/html": [
       "<div>\n",
       "<style scoped>\n",
       "    .dataframe tbody tr th:only-of-type {\n",
       "        vertical-align: middle;\n",
       "    }\n",
       "\n",
       "    .dataframe tbody tr th {\n",
       "        vertical-align: top;\n",
       "    }\n",
       "\n",
       "    .dataframe thead th {\n",
       "        text-align: right;\n",
       "    }\n",
       "</style>\n",
       "<table border=\"1\" class=\"dataframe\">\n",
       "  <thead>\n",
       "    <tr style=\"text-align: right;\">\n",
       "      <th></th>\n",
       "      <th>filename</th>\n",
       "      <th>toxicity_score</th>\n",
       "      <th>text</th>\n",
       "    </tr>\n",
       "  </thead>\n",
       "  <tbody>\n",
       "    <tr>\n",
       "      <th>131494</th>\n",
       "      <td>0490610-99f159c7a4b9868addbda9199cb17cdf.txt</td>\n",
       "      <td>0.990670</td>\n",
       "      <td>FUCK /u/SPEZ , YOU FUCKING WORTHLESS CUCK FUCK...</td>\n",
       "    </tr>\n",
       "    <tr>\n",
       "      <th>90904</th>\n",
       "      <td>0672031-2e34d061fc3c5e59d8730115bf3ef6b5.txt</td>\n",
       "      <td>0.947267</td>\n",
       "      <td>From fucking fbombingmom:\\n\\nI’d like to submi...</td>\n",
       "    </tr>\n",
       "    <tr>\n",
       "      <th>91076</th>\n",
       "      <td>0015608-1d7d2627e8be693ee345f6c5a4a79786.txt</td>\n",
       "      <td>0.946782</td>\n",
       "      <td>'No, Really, Fuck Every One Of You'\\n\\nWASHING...</td>\n",
       "    </tr>\n",
       "    <tr>\n",
       "      <th>58110</th>\n",
       "      <td>0278354-b3bdb61b43e24d62f7a1cbc88c41598c.txt</td>\n",
       "      <td>0.946288</td>\n",
       "      <td>Air America's Randi Rhodes said suspended for ...</td>\n",
       "    </tr>\n",
       "    <tr>\n",
       "      <th>31434</th>\n",
       "      <td>0005265-30f6c1242730bf4f9ef4ac0a65b785a7.txt</td>\n",
       "      <td>0.927032</td>\n",
       "      <td>Jang Moonbok, the “fuckboy” from ‘God Of Music...</td>\n",
       "    </tr>\n",
       "    <tr>\n",
       "      <th>19932</th>\n",
       "      <td>0764561-709f4ecb3166356dd57ecac7e266f858.txt</td>\n",
       "      <td>0.921134</td>\n",
       "      <td>You probably heard about the deranged sorority...</td>\n",
       "    </tr>\n",
       "    <tr>\n",
       "      <th>61286</th>\n",
       "      <td>0027620-b27d673c1fb056b708559632f7f0ca9b.txt</td>\n",
       "      <td>0.907830</td>\n",
       "      <td>Evan Brunell is a baseball writer and the pres...</td>\n",
       "    </tr>\n",
       "    <tr>\n",
       "      <th>47382</th>\n",
       "      <td>0092718-0b244361bde2506bb51478de5777712b.txt</td>\n",
       "      <td>0.899773</td>\n",
       "      <td>\\n\\nDoes your vagina have a brand?\\n\\nLet your...</td>\n",
       "    </tr>\n",
       "    <tr>\n",
       "      <th>5060</th>\n",
       "      <td>0159720-0dffc558696a5a22303ef62e0faa1f83.txt</td>\n",
       "      <td>0.899565</td>\n",
       "      <td>feminismisimportantlove:\\n\\ndanny-dice:\\n\\nfem...</td>\n",
       "    </tr>\n",
       "    <tr>\n",
       "      <th>102015</th>\n",
       "      <td>0955335-decce7189212838edb4fae8130e9977e.txt</td>\n",
       "      <td>0.899428</td>\n",
       "      <td>Login to vote this up!\\n\\nSo my brother just l...</td>\n",
       "    </tr>\n",
       "  </tbody>\n",
       "</table>\n",
       "</div>"
      ],
      "text/plain": [
       "                                            filename  toxicity_score  \\\n",
       "131494  0490610-99f159c7a4b9868addbda9199cb17cdf.txt        0.990670   \n",
       "90904   0672031-2e34d061fc3c5e59d8730115bf3ef6b5.txt        0.947267   \n",
       "91076   0015608-1d7d2627e8be693ee345f6c5a4a79786.txt        0.946782   \n",
       "58110   0278354-b3bdb61b43e24d62f7a1cbc88c41598c.txt        0.946288   \n",
       "31434   0005265-30f6c1242730bf4f9ef4ac0a65b785a7.txt        0.927032   \n",
       "19932   0764561-709f4ecb3166356dd57ecac7e266f858.txt        0.921134   \n",
       "61286   0027620-b27d673c1fb056b708559632f7f0ca9b.txt        0.907830   \n",
       "47382   0092718-0b244361bde2506bb51478de5777712b.txt        0.899773   \n",
       "5060    0159720-0dffc558696a5a22303ef62e0faa1f83.txt        0.899565   \n",
       "102015  0955335-decce7189212838edb4fae8130e9977e.txt        0.899428   \n",
       "\n",
       "                                                     text  \n",
       "131494  FUCK /u/SPEZ , YOU FUCKING WORTHLESS CUCK FUCK...  \n",
       "90904   From fucking fbombingmom:\\n\\nI’d like to submi...  \n",
       "91076   'No, Really, Fuck Every One Of You'\\n\\nWASHING...  \n",
       "58110   Air America's Randi Rhodes said suspended for ...  \n",
       "31434   Jang Moonbok, the “fuckboy” from ‘God Of Music...  \n",
       "19932   You probably heard about the deranged sorority...  \n",
       "61286   Evan Brunell is a baseball writer and the pres...  \n",
       "47382   \\n\\nDoes your vagina have a brand?\\n\\nLet your...  \n",
       "5060    feminismisimportantlove:\\n\\ndanny-dice:\\n\\nfem...  \n",
       "102015  Login to vote this up!\\n\\nSo my brother just l...  "
      ]
     },
     "execution_count": 18,
     "metadata": {},
     "output_type": "execute_result"
    }
   ],
   "source": [
    "# Data sorted by toxicity\n",
    "df.sort_values(by=['toxicity_score'], ascending=False).head(10)"
   ]
  },
  {
   "cell_type": "code",
   "execution_count": 19,
   "metadata": {},
   "outputs": [
    {
     "data": {
      "text/plain": [
       "array([[<matplotlib.axes._subplots.AxesSubplot object at 0x7fdcd16b0b90>]],\n",
       "      dtype=object)"
      ]
     },
     "execution_count": 19,
     "metadata": {},
     "output_type": "execute_result"
    },
    {
     "data": {
      "image/png": "[encoded data removed]",
      "text/plain": [
       "<Figure size 432x288 with 1 Axes>"
      ]
     },
     "metadata": {
      "needs_background": "light"
     },
     "output_type": "display_data"
    }
   ],
   "source": [
    "# Histogram of toxicity scores\n",
    "# TODO: norm\n",
    "df.hist(column='toxicity_score', bins=100)"
   ]
  },
  {
   "cell_type": "code",
   "execution_count": 20,
   "metadata": {},
   "outputs": [
    {
     "data": {
      "text/plain": [
       "'PC leadership hopefuls bring little to race\\n\\nChow as NDP leader changes the equation\\n\\nTORONTO November 1st, 2014 – In a random sampling of public opinion taken by the Forum Poll™ among 1104 Ontario voters, vote shares for the Progressive Conservative party are lower when actual leadership contenders are named than when no leader is named, but when Olivia Chow is proposed as leader of the Ontario New Democrats, the balance of probabilities changes considerably.\\n\\nLiberals with 5 point lead in generic horserace\\n\\nIn the generic horserace, where no leaders are named, results are very similar to the recent election, and 4-in-10 will vote Liberal if a provincial election were held today (40%), while just more than a third will vote PC (35%). In this scenario, the NDP take a fifth of the vote (19%), and the Greens (4%) and other parties take few (2%).\\n\\n\\n\\n\\n\\nTwo seat majority seen for Liberals\\n\\nIf these results were projected up to seats in a 107 seat Legislature, the Liberals would take a two seat majority of 56, to 37 for the PCs, up from 28 in the election. Under this scenario, the NDP would take 14 seats, well down from the 21 actually held after June 12.\\n\\nElliott is strongest contender for PCs\\n\\nAmong the 5 current contenders for the PC leadership (and Doug Ford), Christine Elliott posts the most promising trial heats, followed by Ford. Nevertheless, her vote share is lower than that recorded for the PCs in the generic horserace. If she is leader, the Liberals take a 4-in-10 share (41%) to just less than a third for the PCs (32%) and almost a quarter for the NDP (22%). Of note, in all trial heat scenaria, the NDP do better than in the generic horserace. Lisa MacLeod posts the least positive results, driving the Liberal vote up to close to half (44%) while suppressing the PC vote below 3-in-10 (28%). Doug Ford keeps the Liberal vote lower than anyone but Elliott (42%), but has disappointing results among PCs (27%). All other stated contenders do about this well or slightly less successfully.\\n\\nChow changes the arithmetic\\n\\nWhen Olivia Chow is proposed as leader of the New Democrats, the balance of power shifts considerably, and the horserace actually starts to look like a horserace. With her named as leader, the NDP take close to 3-in-10 votes (28%), tied with the PCs for second place (29%) right behind the Liberals (33%).\\n\\nElliott, Ford are 1-2 in voters\\' hearts\\n\\nWhen voters are asked which of the five contenders (and Doug Ford) they expect to win the leadership, Christine Elliott is first among all voters (26%) followed by Doug Ford (18%) and Lisa MacLeod (7%). Fully one third don\\'t have an opinion (35%). Among PC voters, however, results are much more clear. One third prefer Elliott (34%), followed closely by one quarter who prefer Ford (24%). Among this group, the undecideds are not as numerous (26%). No other contenders are mentioned by as many as about one twentieth.\\n\\nWynne\\'s favourables up sharply, Horwath flat\\n\\nPremier Wynne\\'s favourables have bounced back from a post-election low and are now close to half (46% approve, up from 41% last month). While Jim Wilson still makes little impression as interim PC leader (23% now, 18% last month), Andrea Horwath has seen her formerly very high approval levels stagnate (31% this month and last). In terms of net favourable scores (approve minus disapprove), both Wynne (+4) and Wilson (-2) are close to neutral, while Horwath is in negative territory (-13).\\n\\n“We all know Christine Elliott is cruising for a coronation, but Doug Ford may prove to be a bump on the road to that event. He has partisans in the all-important, vote-rich 905, and that\\'s where the PCs need to win votes to take power,\" said Forum Research President, Dr. Lorne Bozinoff.\\n\\nLorne Bozinoff, Ph.D. is the president and founder of Forum Research. He can be reached at lbozinoff@forumresearch.com or at (416) 960-9603.'"
      ]
     },
     "execution_count": 20,
     "metadata": {},
     "output_type": "execute_result"
    }
   ],
   "source": [
    "df['text'][0]"
   ]
  },
  {
   "cell_type": "markdown",
   "metadata": {},
   "source": [
    "# TF-IDF"
   ]
  },
  {
   "cell_type": "code",
   "execution_count": 17,
   "metadata": {},
   "outputs": [],
   "source": [
    "import sklearn\n",
    "from sklearn.feature_extraction.text import TfidfVectorizer"
   ]
  },
  {
   "cell_type": "code",
   "execution_count": 18,
   "metadata": {},
   "outputs": [],
   "source": [
    "vectorizer = TfidfVectorizer()\n",
    "X = vectorizer.fit_transform(df[\"text\"])\n",
    "\n",
    "feature_names = vectorizer.get_feature_names()"
   ]
  },
  {
   "cell_type": "code",
   "execution_count": 114,
   "metadata": {},
   "outputs": [
    {
     "data": {
      "text/html": [
       "<div>\n",
       "<style scoped>\n",
       "    .dataframe tbody tr th:only-of-type {\n",
       "        vertical-align: middle;\n",
       "    }\n",
       "\n",
       "    .dataframe tbody tr th {\n",
       "        vertical-align: top;\n",
       "    }\n",
       "\n",
       "    .dataframe thead th {\n",
       "        text-align: right;\n",
       "    }\n",
       "</style>\n",
       "<table border=\"1\" class=\"dataframe\">\n",
       "  <thead>\n",
       "    <tr style=\"text-align: right;\">\n",
       "      <th></th>\n",
       "      <th>idf_weights</th>\n",
       "    </tr>\n",
       "  </thead>\n",
       "  <tbody>\n",
       "    <tr>\n",
       "      <th>kohime</th>\n",
       "      <td>12.22005</td>\n",
       "    </tr>\n",
       "    <tr>\n",
       "      <th>modeswitch</th>\n",
       "      <td>12.22005</td>\n",
       "    </tr>\n",
       "    <tr>\n",
       "      <th>modesta</th>\n",
       "      <td>12.22005</td>\n",
       "    </tr>\n",
       "    <tr>\n",
       "      <th>modess</th>\n",
       "      <td>12.22005</td>\n",
       "    </tr>\n",
       "    <tr>\n",
       "      <th>modeshare</th>\n",
       "      <td>12.22005</td>\n",
       "    </tr>\n",
       "  </tbody>\n",
       "</table>\n",
       "</div>"
      ],
      "text/plain": [
       "            idf_weights\n",
       "kohime         12.22005\n",
       "modeswitch     12.22005\n",
       "modesta        12.22005\n",
       "modess         12.22005\n",
       "modeshare      12.22005"
      ]
     },
     "execution_count": 114,
     "metadata": {},
     "output_type": "execute_result"
    }
   ],
   "source": [
    "df_idf = pd.DataFrame(vectorizer.idf_, index=feature_names, columns=[\"idf_weights\"])\n",
    "df_idf.sort_values(by=['idf_weights'], ascending=False).head()"
   ]
  },
  {
   "cell_type": "code",
   "execution_count": 106,
   "metadata": {},
   "outputs": [
    {
     "data": {
      "text/html": [
       "<div>\n",
       "<style scoped>\n",
       "    .dataframe tbody tr th:only-of-type {\n",
       "        vertical-align: middle;\n",
       "    }\n",
       "\n",
       "    .dataframe tbody tr th {\n",
       "        vertical-align: top;\n",
       "    }\n",
       "\n",
       "    .dataframe thead th {\n",
       "        text-align: right;\n",
       "    }\n",
       "</style>\n",
       "<table border=\"1\" class=\"dataframe\">\n",
       "  <thead>\n",
       "    <tr style=\"text-align: right;\">\n",
       "      <th></th>\n",
       "      <th>tfidf</th>\n",
       "    </tr>\n",
       "  </thead>\n",
       "  <tbody>\n",
       "    <tr>\n",
       "      <th>fucking</th>\n",
       "      <td>0.745171</td>\n",
       "    </tr>\n",
       "    <tr>\n",
       "      <th>fuckin</th>\n",
       "      <td>0.372744</td>\n",
       "    </tr>\n",
       "    <tr>\n",
       "      <th>hate</th>\n",
       "      <td>0.214885</td>\n",
       "    </tr>\n",
       "    <tr>\n",
       "      <th>bitches</th>\n",
       "      <td>0.171338</td>\n",
       "    </tr>\n",
       "    <tr>\n",
       "      <th>fuck</th>\n",
       "      <td>0.157150</td>\n",
       "    </tr>\n",
       "  </tbody>\n",
       "</table>\n",
       "</div>"
      ],
      "text/plain": [
       "            tfidf\n",
       "fucking  0.745171\n",
       "fuckin   0.372744\n",
       "hate     0.214885\n",
       "bitches  0.171338\n",
       "fuck     0.157150"
      ]
     },
     "execution_count": 106,
     "metadata": {},
     "output_type": "execute_result"
    }
   ],
   "source": [
    "def get_idf_score(filename):\n",
    "    idx = df[df['filename'] == filename].index\n",
    "    document_vector = X[idx]\n",
    "    df_tfidf = pd.DataFrame(document_vector.T.todense(), index=feature_names, columns=[\"tfidf\"])\n",
    "    return df_tfidf.sort_values(by=[\"tfidf\"],ascending=False)\n",
    "\n",
    "\n",
    "get_idf_score('0672031-2e34d061fc3c5e59d8730115bf3ef6b5.txt').head()"
   ]
  },
  {
   "cell_type": "code",
   "execution_count": 116,
   "metadata": {},
   "outputs": [
    {
     "data": {
      "text/html": [
       "<div>\n",
       "<style scoped>\n",
       "    .dataframe tbody tr th:only-of-type {\n",
       "        vertical-align: middle;\n",
       "    }\n",
       "\n",
       "    .dataframe tbody tr th {\n",
       "        vertical-align: top;\n",
       "    }\n",
       "\n",
       "    .dataframe thead th {\n",
       "        text-align: right;\n",
       "    }\n",
       "</style>\n",
       "<table border=\"1\" class=\"dataframe\">\n",
       "  <thead>\n",
       "    <tr style=\"text-align: right;\">\n",
       "      <th></th>\n",
       "      <th>tfidf</th>\n",
       "    </tr>\n",
       "  </thead>\n",
       "  <tbody>\n",
       "    <tr>\n",
       "      <th>detective</th>\n",
       "      <td>0.450615</td>\n",
       "    </tr>\n",
       "    <tr>\n",
       "      <th>amnesty</th>\n",
       "      <td>0.290715</td>\n",
       "    </tr>\n",
       "    <tr>\n",
       "      <th>freerepublic</th>\n",
       "      <td>0.227429</td>\n",
       "    </tr>\n",
       "    <tr>\n",
       "      <th>the</th>\n",
       "      <td>0.204532</td>\n",
       "    </tr>\n",
       "    <tr>\n",
       "      <th>immigrants</th>\n",
       "      <td>0.196617</td>\n",
       "    </tr>\n",
       "  </tbody>\n",
       "</table>\n",
       "</div>"
      ],
      "text/plain": [
       "                 tfidf\n",
       "detective     0.450615\n",
       "amnesty       0.290715\n",
       "freerepublic  0.227429\n",
       "the           0.204532\n",
       "immigrants    0.196617"
      ]
     },
     "execution_count": 116,
     "metadata": {},
     "output_type": "execute_result"
    }
   ],
   "source": [
    "get_idf_score('0189902-976e23a79df312f42c99556b1efe11e1.txt').head()"
   ]
  },
  {
   "cell_type": "markdown",
   "metadata": {},
   "source": [
    "## URLs"
   ]
  },
  {
   "cell_type": "code",
   "execution_count": 21,
   "metadata": {},
   "outputs": [],
   "source": [
    "from constants import URLS_PICKLE"
   ]
  },
  {
   "cell_type": "code",
   "execution_count": 26,
   "metadata": {},
   "outputs": [],
   "source": [
    "import tldextract\n",
    "\n",
    "def get_domain(url):\n",
    "    ext = tldextract.extract(url)\n",
    "    return ext.domain + '.' + ext.suffix"
   ]
  },
  {
   "cell_type": "code",
   "execution_count": 27,
   "metadata": {},
   "outputs": [
    {
     "data": {
      "text/html": [
       "<div>\n",
       "<style scoped>\n",
       "    .dataframe tbody tr th:only-of-type {\n",
       "        vertical-align: middle;\n",
       "    }\n",
       "\n",
       "    .dataframe tbody tr th {\n",
       "        vertical-align: top;\n",
       "    }\n",
       "\n",
       "    .dataframe thead th {\n",
       "        text-align: right;\n",
       "    }\n",
       "</style>\n",
       "<table border=\"1\" class=\"dataframe\">\n",
       "  <thead>\n",
       "    <tr style=\"text-align: right;\">\n",
       "      <th></th>\n",
       "      <th>url</th>\n",
       "      <th>filename</th>\n",
       "    </tr>\n",
       "  </thead>\n",
       "  <tbody>\n",
       "    <tr>\n",
       "      <th>0</th>\n",
       "      <td>guardian.co.uk</td>\n",
       "      <td>0610905-8d5bdc4f88bed43e4f5f606a43bf4d61.txt</td>\n",
       "    </tr>\n",
       "    <tr>\n",
       "      <th>1</th>\n",
       "      <td>links.org.au</td>\n",
       "      <td>0147024-8b731d228ad09fcff1cc3ed6e06450bb.txt</td>\n",
       "    </tr>\n",
       "    <tr>\n",
       "      <th>2</th>\n",
       "      <td>tricycle.com</td>\n",
       "      <td>0286995-93a6dcb796e6448bbeebd07b5379956d.txt</td>\n",
       "    </tr>\n",
       "    <tr>\n",
       "      <th>3</th>\n",
       "      <td>sciencebasedmedicine.org</td>\n",
       "      <td>0155423-cb5aead54795dbfc57a56ccd1dab5830.txt</td>\n",
       "    </tr>\n",
       "    <tr>\n",
       "      <th>4</th>\n",
       "      <td>itbusiness.ca</td>\n",
       "      <td>0019075-4f9b2593bd76ccdd1aede0c220045cec.txt</td>\n",
       "    </tr>\n",
       "  </tbody>\n",
       "</table>\n",
       "</div>"
      ],
      "text/plain": [
       "                        url                                      filename\n",
       "0            guardian.co.uk  0610905-8d5bdc4f88bed43e4f5f606a43bf4d61.txt\n",
       "1              links.org.au  0147024-8b731d228ad09fcff1cc3ed6e06450bb.txt\n",
       "2              tricycle.com  0286995-93a6dcb796e6448bbeebd07b5379956d.txt\n",
       "3  sciencebasedmedicine.org  0155423-cb5aead54795dbfc57a56ccd1dab5830.txt\n",
       "4             itbusiness.ca  0019075-4f9b2593bd76ccdd1aede0c220045cec.txt"
      ]
     },
     "execution_count": 27,
     "metadata": {},
     "output_type": "execute_result"
    }
   ],
   "source": [
    "df_urls = pd.read_pickle(URLS_PICKLE)\n",
    "df_urls['url'] = df_urls['url'].apply(lambda url: get_domain(url))\n",
    "df_urls.head()"
   ]
  },
  {
   "cell_type": "code",
   "execution_count": 44,
   "metadata": {},
   "outputs": [
    {
     "data": {
      "text/plain": [
       "<matplotlib.axes._subplots.AxesSubplot at 0x7fdb329241d0>"
      ]
     },
     "execution_count": 44,
     "metadata": {},
     "output_type": "execute_result"
    },
    {
     "data": {
      "image/png": "[encoded data removed]",
      "text/plain": [
       "<Figure size 432x288 with 1 Axes>"
      ]
     },
     "metadata": {
      "needs_background": "light"
     },
     "output_type": "display_data"
    }
   ],
   "source": [
    "df_urls['url'].value_counts()[:20].plot(kind='bar')"
   ]
  },
  {
   "cell_type": "code",
   "execution_count": 49,
   "metadata": {},
   "outputs": [
    {
     "data": {
      "text/plain": [
       "2551"
      ]
     },
     "execution_count": 49,
     "metadata": {},
     "output_type": "execute_result"
    }
   ],
   "source": [
    "len(df_urls[df_urls['url'] == 'naturalnews.com'])"
   ]
  },
  {
   "cell_type": "code",
   "execution_count": 28,
   "metadata": {},
   "outputs": [
    {
     "data": {
      "text/html": [
       "<div>\n",
       "<style scoped>\n",
       "    .dataframe tbody tr th:only-of-type {\n",
       "        vertical-align: middle;\n",
       "    }\n",
       "\n",
       "    .dataframe tbody tr th {\n",
       "        vertical-align: top;\n",
       "    }\n",
       "\n",
       "    .dataframe thead th {\n",
       "        text-align: right;\n",
       "    }\n",
       "</style>\n",
       "<table border=\"1\" class=\"dataframe\">\n",
       "  <thead>\n",
       "    <tr style=\"text-align: right;\">\n",
       "      <th></th>\n",
       "      <th>filename</th>\n",
       "      <th>toxicity_score</th>\n",
       "      <th>text</th>\n",
       "      <th>url</th>\n",
       "    </tr>\n",
       "  </thead>\n",
       "  <tbody>\n",
       "    <tr>\n",
       "      <th>0</th>\n",
       "      <td>0588122-39c89eab36c8e7ffbb186065859a61ea.txt</td>\n",
       "      <td>0.148575</td>\n",
       "      <td>PC leadership hopefuls bring little to race\\n\\...</td>\n",
       "      <td>forumresearch.com</td>\n",
       "    </tr>\n",
       "    <tr>\n",
       "      <th>1</th>\n",
       "      <td>0699789-3dd960adbd5560666704394b0ab29b70.txt</td>\n",
       "      <td>0.142957</td>\n",
       "      <td>Washington (AFP) - Women who eat instant noodl...</td>\n",
       "      <td>yahoo.com</td>\n",
       "    </tr>\n",
       "    <tr>\n",
       "      <th>2</th>\n",
       "      <td>0068409-262de9c4f7a1a1cde56395e25bcea8b3.txt</td>\n",
       "      <td>0.113665</td>\n",
       "      <td>City officials in Los Angeles have been trying...</td>\n",
       "      <td>foxnews.com</td>\n",
       "    </tr>\n",
       "    <tr>\n",
       "      <th>3</th>\n",
       "      <td>0654776-9f899c92584aa96f699bf659ce88590b.txt</td>\n",
       "      <td>0.167665</td>\n",
       "      <td>Part seven of the Washington Examiner's 10-par...</td>\n",
       "      <td>washingtonexaminer.com</td>\n",
       "    </tr>\n",
       "    <tr>\n",
       "      <th>4</th>\n",
       "      <td>0565971-a9e9785925f9f9c4f3ae642e22e5eadf.txt</td>\n",
       "      <td>0.259815</td>\n",
       "      <td>SIX boys aged 15 and 16 have been questioned o...</td>\n",
       "      <td>thesun.co.uk</td>\n",
       "    </tr>\n",
       "  </tbody>\n",
       "</table>\n",
       "</div>"
      ],
      "text/plain": [
       "                                       filename  toxicity_score  \\\n",
       "0  0588122-39c89eab36c8e7ffbb186065859a61ea.txt        0.148575   \n",
       "1  0699789-3dd960adbd5560666704394b0ab29b70.txt        0.142957   \n",
       "2  0068409-262de9c4f7a1a1cde56395e25bcea8b3.txt        0.113665   \n",
       "3  0654776-9f899c92584aa96f699bf659ce88590b.txt        0.167665   \n",
       "4  0565971-a9e9785925f9f9c4f3ae642e22e5eadf.txt        0.259815   \n",
       "\n",
       "                                                text                     url  \n",
       "0  PC leadership hopefuls bring little to race\\n\\...       forumresearch.com  \n",
       "1  Washington (AFP) - Women who eat instant noodl...               yahoo.com  \n",
       "2  City officials in Los Angeles have been trying...             foxnews.com  \n",
       "3  Part seven of the Washington Examiner's 10-par...  washingtonexaminer.com  \n",
       "4  SIX boys aged 15 and 16 have been questioned o...            thesun.co.uk  "
      ]
     },
     "execution_count": 28,
     "metadata": {},
     "output_type": "execute_result"
    }
   ],
   "source": [
    "df_perspective_urls = df.merge(df_urls)\n",
    "df_perspective_urls['url'] = df_perspective_urls['url'].apply(lambda url: get_domain(url))\n",
    "df_perspective_urls.head()"
   ]
  },
  {
   "cell_type": "markdown",
   "metadata": {},
   "source": [
    "# Styles"
   ]
  },
  {
   "cell_type": "code",
   "execution_count": 79,
   "metadata": {},
   "outputs": [
    {
     "data": {
      "text/html": [
       "<div>\n",
       "<style scoped>\n",
       "    .dataframe tbody tr th:only-of-type {\n",
       "        vertical-align: middle;\n",
       "    }\n",
       "\n",
       "    .dataframe tbody tr th {\n",
       "        vertical-align: top;\n",
       "    }\n",
       "\n",
       "    .dataframe thead th {\n",
       "        text-align: right;\n",
       "    }\n",
       "</style>\n",
       "<table border=\"1\" class=\"dataframe\">\n",
       "  <thead>\n",
       "    <tr style=\"text-align: right;\">\n",
       "      <th></th>\n",
       "      <th>filename</th>\n",
       "      <th>toxicity_score</th>\n",
       "      <th>text</th>\n",
       "    </tr>\n",
       "  </thead>\n",
       "  <tbody>\n",
       "    <tr>\n",
       "      <th>4536</th>\n",
       "      <td>0493193-cbee454bc487742db2744e72df23161c.txt</td>\n",
       "      <td>0.530944</td>\n",
       "      <td>Hillary Clinton's suicide pact for destroying ...</td>\n",
       "    </tr>\n",
       "    <tr>\n",
       "      <th>50599</th>\n",
       "      <td>0021233-c3a86ff0df84b24f3c6e86bf449a9573.txt</td>\n",
       "      <td>0.549550</td>\n",
       "      <td>Change And The Chosen Path\\n\\nThe psychology o...</td>\n",
       "    </tr>\n",
       "    <tr>\n",
       "      <th>55176</th>\n",
       "      <td>0961802-907d9512a1cedfa297bbc9d85c59f8a3.txt</td>\n",
       "      <td>0.637247</td>\n",
       "      <td>As his bid to become Texas' next governor ramp...</td>\n",
       "    </tr>\n",
       "    <tr>\n",
       "      <th>58323</th>\n",
       "      <td>0525847-7446eeaec551e9dcd39b68c4744e7be9.txt</td>\n",
       "      <td>0.639702</td>\n",
       "      <td>1. Horn, And the Walls of Cuckdom began to cru...</td>\n",
       "    </tr>\n",
       "    <tr>\n",
       "      <th>108430</th>\n",
       "      <td>0470119-80c75d3729f47de88c86f1a00ff928a8.txt</td>\n",
       "      <td>0.531471</td>\n",
       "      <td>With the San Francisco woman murdered by one o...</td>\n",
       "    </tr>\n",
       "  </tbody>\n",
       "</table>\n",
       "</div>"
      ],
      "text/plain": [
       "                                            filename  toxicity_score  \\\n",
       "4536    0493193-cbee454bc487742db2744e72df23161c.txt        0.530944   \n",
       "50599   0021233-c3a86ff0df84b24f3c6e86bf449a9573.txt        0.549550   \n",
       "55176   0961802-907d9512a1cedfa297bbc9d85c59f8a3.txt        0.637247   \n",
       "58323   0525847-7446eeaec551e9dcd39b68c4744e7be9.txt        0.639702   \n",
       "108430  0470119-80c75d3729f47de88c86f1a00ff928a8.txt        0.531471   \n",
       "\n",
       "                                                     text  \n",
       "4536    Hillary Clinton's suicide pact for destroying ...  \n",
       "50599   Change And The Chosen Path\\n\\nThe psychology o...  \n",
       "55176   As his bid to become Texas' next governor ramp...  \n",
       "58323   1. Horn, And the Walls of Cuckdom began to cru...  \n",
       "108430  With the San Francisco woman murdered by one o...  "
      ]
     },
     "execution_count": 79,
     "metadata": {},
     "output_type": "execute_result"
    }
   ],
   "source": [
    "df[df['text'].str.contains('illegals') & (df['toxicity_score'] > 0.5)]"
   ]
  },
  {
   "cell_type": "code",
   "execution_count": 83,
   "metadata": {},
   "outputs": [
    {
     "name": "stdout",
     "output_type": "stream",
     "text": [
      "Hillary Clinton's suicide pact for destroying America\n",
      "\n",
      "Liberalism is an auto-immune disorder\n",
      "\n",
      "No matter who gets elected, NEVER give up your Second Amendment... and keep stockpiling guns and ammo for the day you need to defend your nation against all enemies\n",
      "\n",
      "(NaturalNews) We saw it all in the debate last night. Hillary Clinton wants background checks for gun purchases but not for immigrants. She's completely clueless about why Obamacare is imploding and wants us all to believe that her NEW promises on \"fixing\" the failed system will be more credible than the OLD promises that turned out to be fraudulent lies. Hillary Clinton is a congenital liar who lies about lying. When caught lying, she proclaims her accuser is the liar and that she alone has a monopoly on the truth. But it's far worse than that, really. When you look at her policies, the \"hatred in her heart\" pointed out by Trump, the criminality, the money laundering, the threats against female victims of Bill's sexual assaults, the violation of national security laws and the psychopathic personality she exhibits, it's clear that\"The madness of liberalism has almost no bounds. Youve heard me call it a mental disease, and its that -- and more. Its a suicidal cult,\" says Michael Savage in his new book Scorched Earth - Restoring the Country after Obama \"Liberalism itself is a religion, and its a suicidal one -- everywhere you turn. Jerry Brown signing a euthanasia bill and acting as though its something wholesome and good for the people. We know what it is. Its a death cult. Jerry Brown is leading a death cult in the state of California, and, typically, progressives always hold up their madness as something progressive.\"What Jerry Brown is doing to California, Hillary Clinton wants to do for the entire nation. The suicide will be initiated from many simultaneous vectors. Let's examine them.With Hillary leading the liberal suicide cult, America's national debt will continue to skyrocket while joblessness and homelessness worsen across the country. Hillary isand has never run a company or earned an honest dollar in her entire life.Under Clinton the cult leader, America will continue its insane descent into transgenderism worship, LGBT bigotry toward straight people, racially motivated attacks against Caucasians, Black Lives Matter executions of police officers and open race wars in the streets of America's cities. While all this is happening, Hillary will continue Obama's absurd policy of demanding \"sensitivity\" toward radical Islamic terrorists while replacing straight white Christians in the military with gay pride soldiers and commanders who think the purpose of a military is to serve as an exhibitionist platform for \"progressivism.\"Obamacare is already in the accelerated end stages of crashing and burning. Under a Hillary Clinton presidency, your monthly health insurance costs would double in just four years, and the deductibles for many families would rise to $25,000 or more. Like all brain dead democrats, Hillary would force employers to pay even more money to cover employees, resulting in massive job losses, offshoring and the slashing of full time workers to part time workers.Never forget that Hillary Clinton is pro vaccine. She thinks vaccines should be injected into every man, woman and child. Hillary is the queen of the, and she thinks nothing of using government coercion (gunpoint medicine) to force people to destroy the health of their children with mandated, destructive medical interventions. (Plus, Big Pharma donates huge money to her campaigns... surprised?)It has now come out in the leaked Podesta emails that Hillary Clinton wants \"open borders,\" meaning she wants toAmerica's borders entirely. By obliterating national borders, she will achieve Obama's ultimate goal of. Under a Clinton regime, America would become a festering beachhead for Islamic terrorists and a human wave of impoverished, disease-ridden illegals from South America who want all the free food stamps, free housing, free health care and free education benefits that democrats are handing out like candy (without any clue how to ultimately pay for it all, because democrats are economically illiterate).Obama has already decimated the U.S. military, and it's all deliberate. He laundered $1.7 billion in cash to hand it over to Iran, a terrorist state with nuclear ambitions. He purged Constitutional commanders out of the high ranking positions across the armed services. And Clinton, for her part, wholly violated national security laws by running her own private, non-secured email server where she openly trafficked classified documents that could be easily intercepted or hacked by almost anyone. If you put Hillary Clinton \"the suicide cult leader\" into the White House,Under Hillary, America's failed education system would continue to be monopolized by incompetent government and the deeply corrupt NEA. School choice will never be offered to parents, because cultists like Hillary don't want the poorest Americans to ever learn so much that they figure out the poverty trap scams of the liberals. Expect an acceleration of the Common Core agenda, which now praises children for getting the WRONG answers on math problems , as long as they \"feel strongly\" about their reasons for failure.\"No nation in history has ever done to itself what this nation is doing to itself right now,\" says Michael Savage. \"When you see article after article telling people who are white to be ashamed of their race by people who claim not to be racist, if thats not insanity, tell me what is. When you see radical sick feminists attacking boys and saying that large muscles are a sign of aggressiveness, tell me thats not mental illness. Tell me what is going to be required to save this nation from self destruction.\"In his book Scorched Earth - Restoring the Country after Obama , Savage goes on to explain:Meanwhile, CNN just got caught on a hot mic COACHING their so-called \"live audience\" to robotically repeat Hillary's scripted lines . So hilarious. When it comes to CNN,. CNN is nothing butThe solution to all this?Armed citizens drive the mentally deranged liberals absolutely nuts. They can't stand the fact that armed citizens can stand in their own defense against all sorts of threats, from a tyrannical government regime to an invasion by a foreign enemy or a wave of terrorists.. Only then does a citizen attain the proper balance of power that's a necessary condition for a truly free society. And those who try to take away the Second Amendment from the citizens should be, because they don't qualify to be Americans. (Send 'em to Mexico, since they love crossing the border so much...)As Savage relates:\n"
     ]
    }
   ],
   "source": [
    "print(df.iloc[4536]['text'])"
   ]
  },
  {
   "cell_type": "code",
   "execution_count": null,
   "metadata": {},
   "outputs": [],
   "source": []
  }
 ],
 "metadata": {
  "kernelspec": {
   "display_name": "Python 3",
   "language": "python",
   "name": "python3"
  },
  "language_info": {
   "codemirror_mode": {
    "name": "ipython",
    "version": 3
   },
   "file_extension": ".py",
   "mimetype": "text/x-python",
   "name": "python",
   "nbconvert_exporter": "python",
   "pygments_lexer": "ipython3",
   "version": "3.7.5"
  }
 },
 "nbformat": 4,
 "nbformat_minor": 4
}
