{
 "cells": [
  {
   "cell_type": "code",
   "execution_count": 14,
   "metadata": {},
   "outputs": [],
   "source": [
    "import pandas as pd\n",
    "import requests\n",
    "import tldextract\n",
    "from bs4 import BeautifulSoup\n",
    "\n",
    "from constants import DATA_DIR, URLS_PICKLE, TEXTS_DIR"
   ]
  },
  {
   "cell_type": "markdown",
   "metadata": {},
   "source": [
    "# Political Bias"
   ]
  },
  {
   "cell_type": "code",
   "execution_count": 6,
   "metadata": {},
   "outputs": [],
   "source": [
    "allsides = pd.read_csv(DATA_DIR / 'allsides.csv')"
   ]
  },
  {
   "cell_type": "code",
   "execution_count": 7,
   "metadata": {},
   "outputs": [
    {
     "data": {
      "text/html": [
       "<div>\n",
       "<style scoped>\n",
       "    .dataframe tbody tr th:only-of-type {\n",
       "        vertical-align: middle;\n",
       "    }\n",
       "\n",
       "    .dataframe tbody tr th {\n",
       "        vertical-align: top;\n",
       "    }\n",
       "\n",
       "    .dataframe thead th {\n",
       "        text-align: right;\n",
       "    }\n",
       "</style>\n",
       "<table border=\"1\" class=\"dataframe\">\n",
       "  <thead>\n",
       "    <tr style=\"text-align: right;\">\n",
       "      <th></th>\n",
       "      <th>agree</th>\n",
       "      <th>agree_ratio</th>\n",
       "      <th>agreeance_text</th>\n",
       "      <th>allsides_page</th>\n",
       "      <th>bias</th>\n",
       "      <th>disagree</th>\n",
       "      <th>name</th>\n",
       "      <th>total_votes</th>\n",
       "    </tr>\n",
       "  </thead>\n",
       "  <tbody>\n",
       "    <tr>\n",
       "      <th>6</th>\n",
       "      <td>5881</td>\n",
       "      <td>2.364696</td>\n",
       "      <td>Strongly Agrees</td>\n",
       "      <td>https://www.allsides.com/news-source/american-...</td>\n",
       "      <td>right</td>\n",
       "      <td>2487</td>\n",
       "      <td>American Spectator</td>\n",
       "      <td>8368</td>\n",
       "    </tr>\n",
       "    <tr>\n",
       "      <th>7</th>\n",
       "      <td>1276</td>\n",
       "      <td>1.797183</td>\n",
       "      <td>Agrees</td>\n",
       "      <td>https://www.allsides.com/news-source/american-...</td>\n",
       "      <td>right</td>\n",
       "      <td>710</td>\n",
       "      <td>American Thinker</td>\n",
       "      <td>1986</td>\n",
       "    </tr>\n",
       "    <tr>\n",
       "      <th>16</th>\n",
       "      <td>503</td>\n",
       "      <td>1.169767</td>\n",
       "      <td>Somewhat Agrees</td>\n",
       "      <td>https://www.allsides.com/news-source/bearing-d...</td>\n",
       "      <td>right</td>\n",
       "      <td>430</td>\n",
       "      <td>Bearing Drift</td>\n",
       "      <td>933</td>\n",
       "    </tr>\n",
       "    <tr>\n",
       "      <th>23</th>\n",
       "      <td>14343</td>\n",
       "      <td>1.895467</td>\n",
       "      <td>Agrees</td>\n",
       "      <td>https://www.allsides.com/news-source/breitbart</td>\n",
       "      <td>right</td>\n",
       "      <td>7567</td>\n",
       "      <td>Breitbart News</td>\n",
       "      <td>21910</td>\n",
       "    </tr>\n",
       "    <tr>\n",
       "      <th>31</th>\n",
       "      <td>6008</td>\n",
       "      <td>1.909727</td>\n",
       "      <td>Agrees</td>\n",
       "      <td>https://www.allsides.com/news-source/cbn</td>\n",
       "      <td>right</td>\n",
       "      <td>3146</td>\n",
       "      <td>CBN</td>\n",
       "      <td>9154</td>\n",
       "    </tr>\n",
       "  </tbody>\n",
       "</table>\n",
       "</div>"
      ],
      "text/plain": [
       "    agree  agree_ratio   agreeance_text  \\\n",
       "6    5881     2.364696  Strongly Agrees   \n",
       "7    1276     1.797183           Agrees   \n",
       "16    503     1.169767  Somewhat Agrees   \n",
       "23  14343     1.895467           Agrees   \n",
       "31   6008     1.909727           Agrees   \n",
       "\n",
       "                                        allsides_page   bias  disagree  \\\n",
       "6   https://www.allsides.com/news-source/american-...  right      2487   \n",
       "7   https://www.allsides.com/news-source/american-...  right       710   \n",
       "16  https://www.allsides.com/news-source/bearing-d...  right       430   \n",
       "23     https://www.allsides.com/news-source/breitbart  right      7567   \n",
       "31           https://www.allsides.com/news-source/cbn  right      3146   \n",
       "\n",
       "                  name  total_votes  \n",
       "6   American Spectator         8368  \n",
       "7     American Thinker         1986  \n",
       "16       Bearing Drift          933  \n",
       "23      Breitbart News        21910  \n",
       "31                 CBN         9154  "
      ]
     },
     "execution_count": 7,
     "metadata": {},
     "output_type": "execute_result"
    }
   ],
   "source": [
    "right_bias = allsides[allsides['bias'] == 'right']\n",
    "right_bias.head()"
   ]
  },
  {
   "cell_type": "code",
   "execution_count": 9,
   "metadata": {},
   "outputs": [],
   "source": [
    "def get_domain(allsides_url):\n",
    "    try:\n",
    "        response = requests.get(allsides_url)\n",
    "        soup = BeautifulSoup(response.content)\n",
    "        url = soup.find(class_='fa-globe').parent['href']\n",
    "        ext = tldextract.extract(url)\n",
    "        return '.'.join(ext[1:])\n",
    "    except Exception as e:\n",
    "        print('Error:', allsides_url, e)\n",
    "        return None\n",
    "    \n",
    "\n",
    "# right_bias_domains = set(right_bias['allsides_page'].apply(get_domain).dropna())\n",
    "right_bias_domains = {\n",
    "    'americanthinker.com',\n",
    "    'bearingdrift.com',\n",
    "    'breitbart.com',\n",
    "    'cbn.com',\n",
    "    'city-journal.org',\n",
    "    'cnsnews.com',\n",
    "    'commentarymagazine.com',\n",
    "    'conservativehq.com',\n",
    "    'dailycaller.com',\n",
    "    'dailymail.co.uk',\n",
    "    'dailywire.com',\n",
    "    'foxnews.com',\n",
    "    'freebeacon.com',\n",
    "    'frontpagemag.com',\n",
    "    'inacow.com',\n",
    "    'infowars.com',\n",
    "    'ksl.com',\n",
    "    'michellemalkin.com',\n",
    "    'nationalreview.com',\n",
    "    'newsmax.com',\n",
    "    'nypost.com',\n",
    "    'pjmedia.com',\n",
    "    'rightsidenews.com',\n",
    "    'spectator.org',\n",
    "    'theblaze.com',\n",
    "    'thefederalist.com',\n",
    "    'thegatewaypundit.com',\n",
    "    'theresurgent.com',\n",
    "    'townhall.com',\n",
    "    'weeklystandard.com',\n",
    "    'westernjournalism.com',\n",
    "    'wnd.com'\n",
    "}"
   ]
  },
  {
   "cell_type": "code",
   "execution_count": 13,
   "metadata": {},
   "outputs": [],
   "source": [
    "urls = pd.read_pickle(URLS_PICKLE)"
   ]
  },
  {
   "cell_type": "code",
   "execution_count": 19,
   "metadata": {},
   "outputs": [
    {
     "data": {
      "text/html": [
       "<div>\n",
       "<style scoped>\n",
       "    .dataframe tbody tr th:only-of-type {\n",
       "        vertical-align: middle;\n",
       "    }\n",
       "\n",
       "    .dataframe tbody tr th {\n",
       "        vertical-align: top;\n",
       "    }\n",
       "\n",
       "    .dataframe thead th {\n",
       "        text-align: right;\n",
       "    }\n",
       "</style>\n",
       "<table border=\"1\" class=\"dataframe\">\n",
       "  <thead>\n",
       "    <tr style=\"text-align: right;\">\n",
       "      <th></th>\n",
       "      <th>url</th>\n",
       "      <th>filename</th>\n",
       "      <th>domain</th>\n",
       "    </tr>\n",
       "  </thead>\n",
       "  <tbody>\n",
       "    <tr>\n",
       "      <th>61</th>\n",
       "      <td>http://www.dailymail.co.uk/news/article-128287...</td>\n",
       "      <td>0214535-6820db3b971caff73944fa8ca9162324.txt</td>\n",
       "      <td>dailymail.co.uk</td>\n",
       "    </tr>\n",
       "    <tr>\n",
       "      <th>117</th>\n",
       "      <td>http://www.dailymail.co.uk/sciencetech/article...</td>\n",
       "      <td>0326574-37c4b13c26cbd8c09158641c9d6b0e76.txt</td>\n",
       "      <td>dailymail.co.uk</td>\n",
       "    </tr>\n",
       "    <tr>\n",
       "      <th>121</th>\n",
       "      <td>http://www.foxnews.com/us/2010/05/28/michigan-...</td>\n",
       "      <td>0616961-2446f25babe9c05e3cd4b350dc688627.txt</td>\n",
       "      <td>foxnews.com</td>\n",
       "    </tr>\n",
       "    <tr>\n",
       "      <th>142</th>\n",
       "      <td>http://www.dailymail.co.uk/news/worldnews/arti...</td>\n",
       "      <td>0117533-32443bac3b8dd215eafcacd15d8fffa4.txt</td>\n",
       "      <td>dailymail.co.uk</td>\n",
       "    </tr>\n",
       "    <tr>\n",
       "      <th>208</th>\n",
       "      <td>http://www.dailymail.co.uk/news/article-128307...</td>\n",
       "      <td>0232488-148972ebca8ea32c2e6a1e699412794b.txt</td>\n",
       "      <td>dailymail.co.uk</td>\n",
       "    </tr>\n",
       "  </tbody>\n",
       "</table>\n",
       "</div>"
      ],
      "text/plain": [
       "                                                   url  \\\n",
       "61   http://www.dailymail.co.uk/news/article-128287...   \n",
       "117  http://www.dailymail.co.uk/sciencetech/article...   \n",
       "121  http://www.foxnews.com/us/2010/05/28/michigan-...   \n",
       "142  http://www.dailymail.co.uk/news/worldnews/arti...   \n",
       "208  http://www.dailymail.co.uk/news/article-128307...   \n",
       "\n",
       "                                         filename           domain  \n",
       "61   0214535-6820db3b971caff73944fa8ca9162324.txt  dailymail.co.uk  \n",
       "117  0326574-37c4b13c26cbd8c09158641c9d6b0e76.txt  dailymail.co.uk  \n",
       "121  0616961-2446f25babe9c05e3cd4b350dc688627.txt      foxnews.com  \n",
       "142  0117533-32443bac3b8dd215eafcacd15d8fffa4.txt  dailymail.co.uk  \n",
       "208  0232488-148972ebca8ea32c2e6a1e699412794b.txt  dailymail.co.uk  "
      ]
     },
     "execution_count": 19,
     "metadata": {},
     "output_type": "execute_result"
    }
   ],
   "source": [
    "right_bias_df = urls[urls.domain.isin(right_bias_domains)]\n",
    "right_bias_df.head()"
   ]
  },
  {
   "cell_type": "code",
   "execution_count": 21,
   "metadata": {},
   "outputs": [
    {
     "data": {
      "text/plain": [
       "2.9772351949784612"
      ]
     },
     "execution_count": 21,
     "metadata": {},
     "output_type": "execute_result"
    }
   ],
   "source": [
    "100 * (len(right_bias_df) / len(urls))"
   ]
  },
  {
   "cell_type": "code",
   "execution_count": null,
   "metadata": {},
   "outputs": [],
   "source": []
  }
 ],
 "metadata": {
  "kernelspec": {
   "display_name": "Python 3",
   "language": "python",
   "name": "python3"
  },
  "language_info": {
   "codemirror_mode": {
    "name": "ipython",
    "version": 3
   },
   "file_extension": ".py",
   "mimetype": "text/x-python",
   "name": "python",
   "nbconvert_exporter": "python",
   "pygments_lexer": "ipython3",
   "version": "3.7.5"
  }
 },
 "nbformat": 4,
 "nbformat_minor": 4
}
