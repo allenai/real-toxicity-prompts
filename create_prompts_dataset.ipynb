{
 "cells": [
  {
   "cell_type": "markdown",
   "metadata": {},
   "source": [
    "## Create datasets"
   ]
  },
  {
   "cell_type": "code",
   "execution_count": 1,
   "metadata": {},
   "outputs": [],
   "source": [
    "import pandas as pd\n",
    "from sqlalchemy import create_engine\n",
    "\n",
    "from constants import DATA_DIR, TEXTS_DIR"
   ]
  },
  {
   "cell_type": "code",
   "execution_count": 2,
   "metadata": {},
   "outputs": [],
   "source": [
    "db_path = DATA_DIR / 'perspective-responses-v2.db'\n",
    "engine = create_engine(f'sqlite:///{db_path}', echo=False)"
   ]
  },
  {
   "cell_type": "code",
   "execution_count": 3,
   "metadata": {},
   "outputs": [],
   "source": [
    "def create_df(doc_quintile: str, sent_quintile: str):\n",
    "    doc_query = f\"\"\"\n",
    "        SELECT filename\n",
    "        FROM responses_quintiles\n",
    "        WHERE quintile = {doc_quintile}\n",
    "        \"\"\"\n",
    "\n",
    "    prompt_query = f\"\"\"\n",
    "        WITH \n",
    "            docs AS ({doc_query})\n",
    "        SELECT \n",
    "            docs.filename AS filename,\n",
    "            span_scores_quintiles.begin AS begin,\n",
    "            span_scores_quintiles.end AS end\n",
    "        FROM \n",
    "            span_scores_quintiles\n",
    "                INNER JOIN \n",
    "            docs\n",
    "                ON span_scores_quintiles.filename = docs.filename\n",
    "        WHERE \n",
    "            span_scores_quintiles.begin = 0 \n",
    "        and span_scores_quintiles.quintile = {sent_quintile}\n",
    "        \"\"\"\n",
    "    \n",
    "    toxicity_query = f\"\"\"\n",
    "        WITH\n",
    "            prompts AS ({prompt_query})\n",
    "        SELECT\n",
    "            prompts.filename AS filename,\n",
    "            prompts.begin AS begin,\n",
    "            prompts.end AS end,\n",
    "            responses.toxicity AS doc_toxicity,\n",
    "            span_scores.toxicity AS prompt_toxicity\n",
    "        FROM\n",
    "            prompts,\n",
    "            responses,\n",
    "            span_scores\n",
    "        WHERE\n",
    "            prompts.filename = span_scores.filename\n",
    "        and prompts.begin = span_scores.begin\n",
    "        and prompts.end = span_scores.end\n",
    "        and prompts.filename = responses.filename\n",
    "        \"\"\"\n",
    "\n",
    "    return pd.read_sql(toxicity_query, con=engine)"
   ]
  },
  {
   "cell_type": "code",
   "execution_count": 4,
   "metadata": {},
   "outputs": [
    {
     "data": {
      "text/plain": [
       "523774"
      ]
     },
     "execution_count": 4,
     "metadata": {},
     "output_type": "execute_result"
    }
   ],
   "source": [
    "low_doc_low_prompt = create_df(1, 1)\n",
    "len(low_doc_low_prompt)"
   ]
  },
  {
   "cell_type": "code",
   "execution_count": 5,
   "metadata": {},
   "outputs": [
    {
     "data": {
      "text/plain": [
       "101859"
      ]
     },
     "execution_count": 5,
     "metadata": {},
     "output_type": "execute_result"
    }
   ],
   "source": [
    "low_doc_high_prompt = create_df(1, 5)\n",
    "len(low_doc_high_prompt)"
   ]
  },
  {
   "cell_type": "code",
   "execution_count": 6,
   "metadata": {},
   "outputs": [
    {
     "data": {
      "text/plain": [
       "177681"
      ]
     },
     "execution_count": 6,
     "metadata": {},
     "output_type": "execute_result"
    }
   ],
   "source": [
    "high_doc_low_prompt = create_df(5, 1)\n",
    "len(high_doc_low_prompt)"
   ]
  },
  {
   "cell_type": "code",
   "execution_count": 7,
   "metadata": {},
   "outputs": [
    {
     "data": {
      "text/plain": [
       "596395"
      ]
     },
     "execution_count": 7,
     "metadata": {},
     "output_type": "execute_result"
    }
   ],
   "source": [
    "high_doc_high_prompt = create_df(5, 5)\n",
    "len(high_doc_high_prompt)"
   ]
  },
  {
   "cell_type": "code",
   "execution_count": 13,
   "metadata": {},
   "outputs": [
    {
     "data": {
      "text/plain": [
       "0.34961994635137855"
      ]
     },
     "execution_count": 13,
     "metadata": {},
     "output_type": "execute_result"
    }
   ],
   "source": [
    "high_doc_low_prompt.doc_toxicity.mean()"
   ]
  },
  {
   "cell_type": "markdown",
   "metadata": {},
   "source": [
    "## Generation"
   ]
  },
  {
   "cell_type": "code",
   "execution_count": 64,
   "metadata": {},
   "outputs": [
    {
     "data": {
      "text/plain": [
       "<gen.GPT2Generator at 0x7fc5eefe7310>"
      ]
     },
     "execution_count": 64,
     "metadata": {},
     "output_type": "execute_result"
    }
   ],
   "source": [
    "%load_ext autoreload\n",
    "%autoreload 2\n",
    "\n",
    "from gen import GPT2Generator"
   ]
  },
  {
   "cell_type": "code",
   "execution_count": null,
   "metadata": {},
   "outputs": [],
   "source": [
    "generator = gen.GPT2Generator()"
   ]
  },
  {
   "cell_type": "code",
   "execution_count": 96,
   "metadata": {},
   "outputs": [
    {
     "name": "stdout",
     "output_type": "stream",
     "text": [
      "tensor([[50256, 50256]], device='cuda:0')\n",
      "torch.Size([1, 20])\n"
     ]
    },
    {
     "data": {
      "text/plain": [
       "['']"
      ]
     },
     "execution_count": 96,
     "metadata": {},
     "output_type": "execute_result"
    }
   ],
   "source": [
    "list(generator.generate(\n",
    "    prompt=['Hello there my friend', 'Goodbye there my friend'], \n",
    "    max_length=20\n",
    "))"
   ]
  },
  {
   "cell_type": "code",
   "execution_count": 15,
   "metadata": {},
   "outputs": [],
   "source": [
    "from create_db import Response"
   ]
  },
  {
   "cell_type": "code",
   "execution_count": null,
   "metadata": {},
   "outputs": [],
   "source": []
  }
 ],
 "metadata": {
  "kernelspec": {
   "display_name": "Python 3",
   "language": "python",
   "name": "python3"
  },
  "language_info": {
   "codemirror_mode": {
    "name": "ipython",
    "version": 3
   },
   "file_extension": ".py",
   "mimetype": "text/x-python",
   "name": "python",
   "nbconvert_exporter": "python",
   "pygments_lexer": "ipython3",
   "version": "3.7.6"
  }
 },
 "nbformat": 4,
 "nbformat_minor": 4
}
