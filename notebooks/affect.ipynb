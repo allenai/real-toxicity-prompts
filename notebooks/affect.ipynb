{
 "cells": [
  {
   "cell_type": "code",
   "execution_count": 2,
   "metadata": {},
   "outputs": [
    {
     "name": "stdout",
     "output_type": "stream",
     "text": [
      "/home/sam/Desktop/research/language-model-toxicity\n"
     ]
    }
   ],
   "source": [
    "# HACK: use project root as the working directory \n",
    "from pathlib import Path\n",
    "\n",
    "while Path.cwd().name != 'language-model-toxicity':\n",
    "    %cd .."
   ]
  },
  {
   "cell_type": "code",
   "execution_count": 3,
   "metadata": {},
   "outputs": [],
   "source": [
    "import pandas as pd\n",
    "import torch\n",
    "from transformers import GPT2Tokenizer\n",
    "\n",
    "from models.affect_lm import AffectGPT2LMHeadModel\n",
    "from utils.constants import OUTPUT_DIR"
   ]
  },
  {
   "cell_type": "code",
   "execution_count": null,
   "metadata": {},
   "outputs": [],
   "source": [
    "model_dir = OUTPUT_DIR / 'affect' / 'affect_100k_1layer_randomsample_frozen' / 'finetune_output'\n",
    "model = AffectGPT2LMHeadModel.from_pretrained(model_dir)"
   ]
  },
  {
   "cell_type": "code",
   "execution_count": 4,
   "metadata": {},
   "outputs": [],
   "source": [
    "affect2vocab = model.affect.affect2vocab\n",
    "weight = affect2vocab.weight\n",
    "bias = affect2vocab.bias"
   ]
  },
  {
   "cell_type": "code",
   "execution_count": 23,
   "metadata": {},
   "outputs": [],
   "source": [
    "values, indices = weight.max(dim=0)"
   ]
  },
  {
   "cell_type": "code",
   "execution_count": 12,
   "metadata": {},
   "outputs": [],
   "source": [
    "tokenizer = GPT2Tokenizer.from_pretrained('gpt2')"
   ]
  },
  {
   "cell_type": "code",
   "execution_count": 13,
   "metadata": {},
   "outputs": [
    {
     "data": {
      "text/plain": [
       "0                    !\n",
       "1                    \"\n",
       "2                    #\n",
       "3                    $\n",
       "4                    %\n",
       "             ...      \n",
       "50252         Ġregress\n",
       "50253        ĠCollider\n",
       "50254      Ġinformants\n",
       "50255           Ġgazed\n",
       "50256    <|endoftext|>\n",
       "Length: 50257, dtype: object"
      ]
     },
     "execution_count": 13,
     "metadata": {},
     "output_type": "execute_result"
    }
   ],
   "source": [
    "vocab = tokenizer.get_vocab()\n",
    "vocab, _ = zip(*vocab.items())\n",
    "vocab = pd.Series(vocab)\n",
    "vocab"
   ]
  },
  {
   "cell_type": "code",
   "execution_count": 24,
   "metadata": {},
   "outputs": [
    {
     "data": {
      "text/plain": [
       "31030         Ġbastard\n",
       "247                  Ļ\n",
       "50256    <|endoftext|>\n",
       "25                   :\n",
       "247                  Ļ\n",
       "50256    <|endoftext|>\n",
       "50256    <|endoftext|>\n",
       "50256    <|endoftext|>\n",
       "dtype: object"
      ]
     },
     "execution_count": 24,
     "metadata": {},
     "output_type": "execute_result"
    }
   ],
   "source": [
    "vocab[indices.tolist()]"
   ]
  }
 ],
 "metadata": {
  "kernelspec": {
   "display_name": "Python 3",
   "language": "python",
   "name": "python3"
  },
  "language_info": {
   "codemirror_mode": {
    "name": "ipython",
    "version": 3
   },
   "file_extension": ".py",
   "mimetype": "text/x-python",
   "name": "python",
   "nbconvert_exporter": "python",
   "pygments_lexer": "ipython3",
   "version": "3.7.6"
  }
 },
 "nbformat": 4,
 "nbformat_minor": 4
}
