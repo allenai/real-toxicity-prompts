{
 "cells": [
  {
   "cell_type": "code",
   "execution_count": 1,
   "metadata": {},
   "outputs": [
    {
     "name": "stdout",
     "output_type": "stream",
     "text": [
      "/home/msap/research/language-model-toxicity\n"
     ]
    }
   ],
   "source": [
    "# HACK: use project root as the working directory \n",
    "from pathlib import Path\n",
    "\n",
    "while Path.cwd().name != 'language-model-toxicity':\n",
    "    %cd .."
   ]
  },
  {
   "cell_type": "code",
   "execution_count": 11,
   "metadata": {},
   "outputs": [],
   "source": [
    "import sys, os, json\n",
    "import pandas as pd\n",
    "\n",
    "sys.path.append(os.path.join(os.path.expanduser(\"~\"),\"resources/\"))\n",
    "from stats import statstools\n",
    "from idp import idp\n",
    "\n",
    "from tqdm import tqdm\n",
    "import seaborn as sns\n",
    "import matplotlib.pyplot as plt\n",
    "sns.set(color_codes=True)\n",
    "\n",
    "from utils.constants import DATA_DIR, SHARED_DIR, PERSPECTIVE_API_ATTRIBUTES_LOWER\n",
    "generations_dir = SHARED_DIR / 'generations' / 'prompt_n_50percent_toxicity_quartiles_25k_subsample'\n",
    "dialectFile = DATA_DIR / \"prompts/prompts_n_50percent_toxicity_quartiles_25k_subsample.dialects.csv\"\n",
    "gpt2_file = generations_dir / 'gpt2' / 'prompt_n_50percent_toxicity_quartiles_25k_subsample_gpt2.jsonl'"
   ]
  },
  {
   "cell_type": "code",
   "execution_count": 3,
   "metadata": {},
   "outputs": [
    {
     "data": {
      "text/plain": [
       "Index(['filename', 'begin', 'end', 'prompt.text', 'prompt.profanity',\n",
       "       'prompt.sexually_explicit', 'prompt.identity_attack',\n",
       "       'prompt.flirtation', 'prompt.threat', 'prompt.insult',\n",
       "       'prompt.severe_toxicity', 'prompt.toxicity', 'continuation.text',\n",
       "       'continuation.severe_toxicity', 'continuation.toxicity',\n",
       "       'continuation.profanity', 'continuation.sexually_explicit',\n",
       "       'continuation.identity_attack', 'continuation.flirtation',\n",
       "       'continuation.threat', 'continuation.insult', 'prompt.aav',\n",
       "       'prompt.hispanic', 'prompt.other', 'prompt.white', 'prompt.dial_argmax',\n",
       "       'continuation.aav', 'continuation.hispanic', 'continuation.other',\n",
       "       'continuation.white', 'continuation.dial_argmax'],\n",
       "      dtype='object')"
      ]
     },
     "execution_count": 3,
     "metadata": {},
     "output_type": "execute_result"
    }
   ],
   "source": [
    "# Reading dialect file\n",
    "df = pd.read_csv(dialectFile)\n",
    "df.columns"
   ]
  },
  {
   "cell_type": "markdown",
   "metadata": {},
   "source": [
    "# Prompt/Continuations: \n",
    "## Correlations with AAE\n",
    "Double checking that correlations between prompts continuations"
   ]
  },
  {
   "cell_type": "code",
   "execution_count": 4,
   "metadata": {},
   "outputs": [
    {
     "data": {
      "text/html": [
       "<div>\n",
       "<style scoped>\n",
       "    .dataframe tbody tr th:only-of-type {\n",
       "        vertical-align: middle;\n",
       "    }\n",
       "\n",
       "    .dataframe tbody tr th {\n",
       "        vertical-align: top;\n",
       "    }\n",
       "\n",
       "    .dataframe thead th {\n",
       "        text-align: right;\n",
       "    }\n",
       "</style>\n",
       "<table border=\"1\" class=\"dataframe\">\n",
       "  <thead>\n",
       "    <tr style=\"text-align: right;\">\n",
       "      <th></th>\n",
       "      <th>n</th>\n",
       "      <th>r</th>\n",
       "      <th>p</th>\n",
       "    </tr>\n",
       "  </thead>\n",
       "  <tbody>\n",
       "    <tr>\n",
       "      <th>prompt</th>\n",
       "      <td>99464.0</td>\n",
       "      <td>0.155377</td>\n",
       "      <td>0.0</td>\n",
       "    </tr>\n",
       "    <tr>\n",
       "      <th>continuation</th>\n",
       "      <td>99329.0</td>\n",
       "      <td>0.208111</td>\n",
       "      <td>0.0</td>\n",
       "    </tr>\n",
       "  </tbody>\n",
       "</table>\n",
       "</div>"
      ],
      "text/plain": [
       "                    n         r    p\n",
       "prompt        99464.0  0.155377  0.0\n",
       "continuation  99329.0  0.208111  0.0"
      ]
     },
     "execution_count": 4,
     "metadata": {},
     "output_type": "execute_result"
    }
   ],
   "source": [
    "out = {}\n",
    "for c in [\"prompt\",\"continuation\"]:\n",
    "    d = statstools.correlSummary(df,f\"{c}.aav\",f\"{c}.toxicity\")\n",
    "    out[c] = d\n",
    "pd.DataFrame(out).T"
   ]
  },
  {
   "cell_type": "markdown",
   "metadata": {},
   "source": [
    "# Generations\n",
    "## Extracting dialect categories"
   ]
  },
  {
   "cell_type": "code",
   "execution_count": 5,
   "metadata": {},
   "outputs": [],
   "source": [
    "sys.path.append(os.path.join(os.path.expanduser(\"~\"),\"tools/\"))\n",
    "import getDialect as dialExtract"
   ]
  },
  {
   "cell_type": "code",
   "execution_count": 25,
   "metadata": {},
   "outputs": [],
   "source": [
    "genData = {(i,j):g for i,l in tqdm(enumerate(open(gpt2_file)))\n",
    "           for j, g in enumerate(json.loads(l)[\"generations\"])}# if i < 1000}"
   ]
  },
  {
   "cell_type": "code",
   "execution_count": 26,
   "metadata": {},
   "outputs": [
    {
     "name": "stdout",
     "output_type": "stream",
     "text": [
      "(2500000, 11)\n"
     ]
    }
   ],
   "source": [
    "genDf = pd.DataFrame.from_dict(genData,orient=\"index\")\n",
    "genDf.index.names = [\"promptId\",\"genId\"]\n",
    "genDf.reset_index(inplace=True)\n",
    "print(genDf.shape)"
   ]
  },
  {
   "cell_type": "code",
   "execution_count": 34,
   "metadata": {},
   "outputs": [],
   "source": [
    "genDfSample = genDf.sample(500000)"
   ]
  },
  {
   "cell_type": "code",
   "execution_count": 37,
   "metadata": {},
   "outputs": [
    {
     "name": "stderr",
     "output_type": "stream",
     "text": [
      "/home/msap/anaconda3/envs/lm-toxicity/lib/python3.7/site-packages/tqdm/std.py:668: FutureWarning: The Panel class is removed from pandas. Accessing it from the top-level namespace will also be removed in the next version\n",
      "  from pandas import Panel\n",
      "100%|##########| 2500000/2500000 [1:00:13<00:00, 691.92it/s]\n"
     ]
    }
   ],
   "source": [
    "tqdm.pandas(ascii=True)\n",
    "feats = genDf[\"text\"].progress_apply(dialExtract.countDialectWords)\n",
    "genDf[feats.columns] = feats"
   ]
  },
  {
   "cell_type": "markdown",
   "metadata": {},
   "source": [
    "## Correlations with AAE"
   ]
  },
  {
   "cell_type": "code",
   "execution_count": 38,
   "metadata": {},
   "outputs": [
    {
     "data": {
      "text/html": [
       "<div>\n",
       "<style scoped>\n",
       "    .dataframe tbody tr th:only-of-type {\n",
       "        vertical-align: middle;\n",
       "    }\n",
       "\n",
       "    .dataframe tbody tr th {\n",
       "        vertical-align: top;\n",
       "    }\n",
       "\n",
       "    .dataframe thead th {\n",
       "        text-align: right;\n",
       "    }\n",
       "</style>\n",
       "<table border=\"1\" class=\"dataframe\">\n",
       "  <thead>\n",
       "    <tr style=\"text-align: right;\">\n",
       "      <th></th>\n",
       "      <th>n</th>\n",
       "      <th>r</th>\n",
       "      <th>p</th>\n",
       "    </tr>\n",
       "  </thead>\n",
       "  <tbody>\n",
       "    <tr>\n",
       "      <th>gens</th>\n",
       "      <td>2485237.0</td>\n",
       "      <td>0.141928</td>\n",
       "      <td>0.0</td>\n",
       "    </tr>\n",
       "  </tbody>\n",
       "</table>\n",
       "</div>"
      ],
      "text/plain": [
       "              n         r    p\n",
       "gens  2485237.0  0.141928  0.0"
      ]
     },
     "execution_count": 38,
     "metadata": {},
     "output_type": "execute_result"
    }
   ],
   "source": [
    "pd.Series(statstools.correlSummary(genDf,\"aav\",\"toxicity\")).to_frame(name=\"gens\").T"
   ]
  },
  {
   "cell_type": "code",
   "execution_count": 36,
   "metadata": {},
   "outputs": [
    {
     "data": {
      "text/html": [
       "<div>\n",
       "<style scoped>\n",
       "    .dataframe tbody tr th:only-of-type {\n",
       "        vertical-align: middle;\n",
       "    }\n",
       "\n",
       "    .dataframe tbody tr th {\n",
       "        vertical-align: top;\n",
       "    }\n",
       "\n",
       "    .dataframe thead th {\n",
       "        text-align: right;\n",
       "    }\n",
       "</style>\n",
       "<table border=\"1\" class=\"dataframe\">\n",
       "  <thead>\n",
       "    <tr style=\"text-align: right;\">\n",
       "      <th></th>\n",
       "      <th>n</th>\n",
       "      <th>r</th>\n",
       "      <th>p</th>\n",
       "    </tr>\n",
       "  </thead>\n",
       "  <tbody>\n",
       "    <tr>\n",
       "      <th>gens</th>\n",
       "      <td>497091.0</td>\n",
       "      <td>0.144867</td>\n",
       "      <td>0.0</td>\n",
       "    </tr>\n",
       "  </tbody>\n",
       "</table>\n",
       "</div>"
      ],
      "text/plain": [
       "             n         r    p\n",
       "gens  497091.0  0.144867  0.0"
      ]
     },
     "execution_count": 36,
     "metadata": {},
     "output_type": "execute_result"
    }
   ],
   "source": [
    "pd.Series(statstools.correlSummary(genDfSample,\"aav\",\"toxicity\")).to_frame(name=\"gens\").T"
   ]
  }
 ],
 "metadata": {
  "kernelspec": {
   "display_name": "Python 3",
   "language": "python",
   "name": "python3"
  },
  "language_info": {
   "codemirror_mode": {
    "name": "ipython",
    "version": 3
   },
   "file_extension": ".py",
   "mimetype": "text/x-python",
   "name": "python",
   "nbconvert_exporter": "python",
   "pygments_lexer": "ipython3",
   "version": "3.7.7"
  }
 },
 "nbformat": 4,
 "nbformat_minor": 4
}
