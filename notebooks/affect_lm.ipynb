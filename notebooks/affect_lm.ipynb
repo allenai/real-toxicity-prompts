{
 "cells": [
  {
   "cell_type": "code",
   "execution_count": 3,
   "metadata": {},
   "outputs": [
    {
     "name": "stdout",
     "output_type": "stream",
     "text": [
      "/home/sam/Desktop/research/language-model-toxicity\n"
     ]
    }
   ],
   "source": [
    "# HACK: use project root as the working directory \n",
    "from pathlib import Path\n",
    "\n",
    "while Path.cwd().name != 'language-model-toxicity':\n",
    "    %cd .."
   ]
  },
  {
   "cell_type": "markdown",
   "metadata": {},
   "source": [
    "## Setup model"
   ]
  },
  {
   "cell_type": "code",
   "execution_count": 4,
   "metadata": {},
   "outputs": [],
   "source": [
    "import pandas as pd\n",
    "import torch\n",
    "from transformers import GPT2Tokenizer\n",
    "\n",
    "from datasets.affect_dataset import create_affect_vector\n",
    "from models.affect_lm import AffectGPT2LMHeadModel\n",
    "from utils.generation import GPT2Generator\n",
    "from utils.constants import OUTPUT_DIR, PERSPECTIVE_API_ATTRIBUTES_LOWER"
   ]
  },
  {
   "cell_type": "code",
   "execution_count": 5,
   "metadata": {},
   "outputs": [],
   "source": [
    "model_dir = OUTPUT_DIR / 'affect' / 'affect_10k_strat' / 'checkpoint-7868'\n",
    "model = AffectGPT2LMHeadModel.from_pretrained(model_dir)"
   ]
  },
  {
   "cell_type": "code",
   "execution_count": 6,
   "metadata": {},
   "outputs": [],
   "source": [
    "tokenizer = GPT2Tokenizer.from_pretrained('gpt2')"
   ]
  },
  {
   "cell_type": "markdown",
   "metadata": {},
   "source": [
    "## Inspect largest weights"
   ]
  },
  {
   "cell_type": "code",
   "execution_count": 7,
   "metadata": {},
   "outputs": [],
   "source": [
    "affect2vocab = model.affect.affect2vocab\n",
    "values, indices = affect2vocab.weight.sort(dim=0)\n",
    "top_vocab = reversed(indices[:,3])"
   ]
  },
  {
   "cell_type": "code",
   "execution_count": 8,
   "metadata": {},
   "outputs": [
    {
     "data": {
      "text/plain": [
       "50256    <|endoftext|>\n",
       "247                  Ļ\n",
       "251                  Ŀ\n",
       "1714              Ġsex\n",
       "11740            ĠDick\n",
       "250                  ľ\n",
       "3206           Ġsexual\n",
       "8483             Ġporn\n",
       "11333           Ġballs\n",
       "11363        Ġsexually\n",
       "564                ĠâĢ\n",
       "7262             Ġrape\n",
       "22938         Ġmasturb\n",
       "10110            Ġsuck\n",
       "16360           Ġpenis\n",
       "35853        Ġgenitals\n",
       "19311           Ġsperm\n",
       "840               Ġass\n",
       "29836         Ġasshole\n",
       "16110           Ġraped\n",
       "dtype: object"
      ]
     },
     "execution_count": 8,
     "metadata": {},
     "output_type": "execute_result"
    }
   ],
   "source": [
    "vocab = tokenizer.get_vocab()\n",
    "vocab, _ = zip(*vocab.items())\n",
    "vocab = pd.Series(vocab)\n",
    "\n",
    "# Print top weighted vocab\n",
    "vocab[top_vocab.tolist()][:20]"
   ]
  },
  {
   "cell_type": "markdown",
   "metadata": {},
   "source": [
    "## Generations"
   ]
  },
  {
   "cell_type": "code",
   "execution_count": 9,
   "metadata": {
    "jupyter": {
     "outputs_hidden": false
    },
    "pycharm": {
     "name": "#%%\n"
    }
   },
   "outputs": [],
   "source": [
    "generator = GPT2Generator(model)\n",
    "device = generator.device"
   ]
  },
  {
   "cell_type": "code",
   "execution_count": 24,
   "metadata": {},
   "outputs": [],
   "source": [
    "model.affect.beta = 1"
   ]
  },
  {
   "cell_type": "code",
   "execution_count": 25,
   "metadata": {},
   "outputs": [],
   "source": [
    "prompt = \"In this paper \""
   ]
  },
  {
   "cell_type": "code",
   "execution_count": 27,
   "metadata": {},
   "outputs": [
    {
     "data": {
      "text/plain": [
       "[', we discuss the finding that Adels and others have evidence of P-si to the association between association of methamphetamine with cocaine drug test results and P for cocaine drug test test score, in combination with knowledge about the possible hypothesis of drug involvement. Con',\n",
       " ', we show that if we put in some of the slowest, they may even have the biggest impact on the world. Also, while the arithmetical gap is lower for a bowling club, it still has a major effect on your',\n",
       " ', the exposure and impact of unwanted air use and drug use on breastfeeding outcomes are examined in a prospective study with a representative sample of 60,000 breast cancer survivors in the United States. Burden of breast cancer and later breast cancer in the first six',\n",
       " ', we reported that HIV infection in HIV-positive male sex partners ( is thought to be in the lowest proportions in the sexually transmitted diseases, HIV, HB, and P). The lowest percentage of these sexual partners has been found to have sex with one',\n",
       " ' we use a simulated chain of t cells that were genetically modified in a short time period from what is considered a risk setting to an in vivo, non in vitro, population based study of the sexually transmitted infection meningitis virus ( HIV in the United',\n",
       " ', we define a Dependent P in a case to the right of t and unitary term to the left of t. We illustrate a typical Dependent P, and in the next section, we demonstrate how to write a highly transformed comparison over a',\n",
       " ', we show that a dynamic force effect from quantum information is linked to the perturbation of the state of a structural entanglement system in our brains. To improve the paradigm, we obtain its ability to drive sensor activity and to improve the present',\n",
       " ', we introduce a new class of class example objects in Angular which can show you the properties and logic behind one another when working with multiple views or we introduce two related classes of fake classes into it. And since these components are made of mock components,',\n",
       " ', a new method for comparing subjects in the five, four, and one group with and without an MRI for schizophrenia reveals that it takes at least 1 week after diagnosis for the majority of subjects to reach a normal reaction to t.z or to halluc',\n",
       " ' we provide a test for your future decisions about an alternative way of presenting your data to users. A group of researchers from the University of Minnesota interviewed over 20,000 mobile users in one of the first international trials of a strategy to present your data to',\n",
       " ', I present a model with a forward wing, with the in keeping with the RB 2002, with a side displacement of only 7. I argue that the most far up going forward wing of this plane would be a 30 to 35 percent rate of growing',\n",
       " ', we have introduced a new tool to track changes in big group composition that have important implications for evolution, including when with the superpredator era, sex, and sexual selection, and how they are linked to the impact of frequency of mating with the',\n",
       " ', we investigate the benefits of VR in addressing a stigma involving sexual assault. We present, and explore, some of the major technical challenges, and show that these challenges have not been fully overcome by the Oculus Rift, with a notable exception, the recent',\n",
       " ', we investigate the interaction between intensity of evening and some of the afternoon and evening sedatives and their effects on seduction and problem solving (disparate behavior effects, where the relationship between the intensity and the problem solving problem is highly dependent on the',\n",
       " ', we have in mind a first impression of the impact of carbon dioxide as a chemical and environmental pollutant on life on Earth from stratospheric volcanic orator cloud to polar orifice. This paper examines how the hot day of April 22, 2013',\n",
       " ', we show that international noise and permanent change can even contribute to the discarding of record sexual activity during anal sex ( Int., 1994 ; Stolon et al. 2002 ). These sex changes are clearly harmful, with sex in intimate spaces becoming repeatedly',\n",
       " ' we exploit a recently published 12 year experiment to show that banding plays a big part in what makes people so specific to (emotional, sexual, emotional, and political values and beliefs). We then present the results of the entire experiment, and compare',\n",
       " ', we look at what happens when you tune the speakers with a long wet charge that adds up to as much as 14. Your microphone needs to be able to produce an ideal frequency response. And it also depends on the size and position of the speakers',\n",
       " \", we study the prevalence of the five drugs for which FDA health officials found that healthy children were aware of such drug's presence and or dangerous side effects while at school. We show that these medications are common in public schools, and that many children learn\",\n",
       " ', we will propose a Tidal Cell Model for active treatment of musculoskeletal and cognitive issues through new therapeutic approaches for chronic musculoskeletal pain and cognition. We discuss the concept and some preclinical and post clinical trial evidence as']"
      ]
     },
     "execution_count": 27,
     "metadata": {},
     "output_type": "execute_result"
    }
   ],
   "source": [
    "# Sexually explicit generations\n",
    "affect_labels = [create_affect_vector(sexually_explicit=1.5) for i in range(20)]\n",
    "affect_labels = torch.tensor(affect_labels).unsqueeze(dim=1).to(device)\n",
    "\n",
    "generator([prompt] * len(affect_labels),\n",
    "          max_len=50,\n",
    "          affect_labels=affect_labels)"
   ]
  },
  {
   "cell_type": "code",
   "execution_count": 29,
   "metadata": {},
   "outputs": [
    {
     "data": {
      "text/plain": [
       "torch.Size([20, 1, 4])"
      ]
     },
     "execution_count": 29,
     "metadata": {},
     "output_type": "execute_result"
    }
   ],
   "source": [
    "affect_labels.shape"
   ]
  },
  {
   "cell_type": "code",
   "execution_count": 28,
   "metadata": {},
   "outputs": [
    {
     "ename": "TypeError",
     "evalue": "create_affect_vector() got an unexpected keyword argument 'toxicity'",
     "output_type": "error",
     "traceback": [
      "\u001b[0;31m---------------------------------------------------------------------------\u001b[0m",
      "\u001b[0;31mTypeError\u001b[0m                                 Traceback (most recent call last)",
      "\u001b[0;32m<ipython-input-28-f46426b75487>\u001b[0m in \u001b[0;36m<module>\u001b[0;34m\u001b[0m\n\u001b[1;32m      1\u001b[0m \u001b[0;31m# Generate with all affect vectors\u001b[0m\u001b[0;34m\u001b[0m\u001b[0;34m\u001b[0m\u001b[0;34m\u001b[0m\u001b[0m\n\u001b[0;32m----> 2\u001b[0;31m \u001b[0maffect_labels\u001b[0m \u001b[0;34m=\u001b[0m \u001b[0;34m[\u001b[0m\u001b[0mcreate_affect_vector\u001b[0m\u001b[0;34m(\u001b[0m\u001b[0;34m**\u001b[0m\u001b[0;34m{\u001b[0m\u001b[0mattribute\u001b[0m\u001b[0;34m:\u001b[0m \u001b[0;36m1\u001b[0m\u001b[0;34m}\u001b[0m\u001b[0;34m)\u001b[0m \u001b[0;32mfor\u001b[0m \u001b[0mattribute\u001b[0m \u001b[0;32min\u001b[0m \u001b[0mPERSPECTIVE_API_ATTRIBUTES_LOWER\u001b[0m\u001b[0;34m]\u001b[0m\u001b[0;34m\u001b[0m\u001b[0;34m\u001b[0m\u001b[0m\n\u001b[0m\u001b[1;32m      3\u001b[0m \u001b[0maffect_labels\u001b[0m \u001b[0;34m=\u001b[0m \u001b[0mtorch\u001b[0m\u001b[0;34m.\u001b[0m\u001b[0mtensor\u001b[0m\u001b[0;34m(\u001b[0m\u001b[0maffect_labels\u001b[0m\u001b[0;34m)\u001b[0m\u001b[0;34m.\u001b[0m\u001b[0munsqueeze\u001b[0m\u001b[0;34m(\u001b[0m\u001b[0mdim\u001b[0m\u001b[0;34m=\u001b[0m\u001b[0;36m1\u001b[0m\u001b[0;34m)\u001b[0m\u001b[0;34m.\u001b[0m\u001b[0mto\u001b[0m\u001b[0;34m(\u001b[0m\u001b[0mdevice\u001b[0m\u001b[0;34m)\u001b[0m\u001b[0;34m\u001b[0m\u001b[0;34m\u001b[0m\u001b[0m\n\u001b[1;32m      4\u001b[0m \u001b[0mout\u001b[0m \u001b[0;34m=\u001b[0m \u001b[0mgenerator\u001b[0m\u001b[0;34m(\u001b[0m\u001b[0;34m[\u001b[0m\u001b[0mprompt\u001b[0m\u001b[0;34m]\u001b[0m \u001b[0;34m*\u001b[0m \u001b[0mlen\u001b[0m\u001b[0;34m(\u001b[0m\u001b[0maffect_labels\u001b[0m\u001b[0;34m)\u001b[0m\u001b[0;34m,\u001b[0m \u001b[0mmax_len\u001b[0m\u001b[0;34m=\u001b[0m\u001b[0;36m50\u001b[0m\u001b[0;34m,\u001b[0m \u001b[0maffect_labels\u001b[0m\u001b[0;34m=\u001b[0m\u001b[0maffect_labels\u001b[0m\u001b[0;34m)\u001b[0m\u001b[0;34m\u001b[0m\u001b[0;34m\u001b[0m\u001b[0m\n\u001b[1;32m      5\u001b[0m \u001b[0;34m\u001b[0m\u001b[0m\n",
      "\u001b[0;32m<ipython-input-28-f46426b75487>\u001b[0m in \u001b[0;36m<listcomp>\u001b[0;34m(.0)\u001b[0m\n\u001b[1;32m      1\u001b[0m \u001b[0;31m# Generate with all affect vectors\u001b[0m\u001b[0;34m\u001b[0m\u001b[0;34m\u001b[0m\u001b[0;34m\u001b[0m\u001b[0m\n\u001b[0;32m----> 2\u001b[0;31m \u001b[0maffect_labels\u001b[0m \u001b[0;34m=\u001b[0m \u001b[0;34m[\u001b[0m\u001b[0mcreate_affect_vector\u001b[0m\u001b[0;34m(\u001b[0m\u001b[0;34m**\u001b[0m\u001b[0;34m{\u001b[0m\u001b[0mattribute\u001b[0m\u001b[0;34m:\u001b[0m \u001b[0;36m1\u001b[0m\u001b[0;34m}\u001b[0m\u001b[0;34m)\u001b[0m \u001b[0;32mfor\u001b[0m \u001b[0mattribute\u001b[0m \u001b[0;32min\u001b[0m \u001b[0mPERSPECTIVE_API_ATTRIBUTES_LOWER\u001b[0m\u001b[0;34m]\u001b[0m\u001b[0;34m\u001b[0m\u001b[0;34m\u001b[0m\u001b[0m\n\u001b[0m\u001b[1;32m      3\u001b[0m \u001b[0maffect_labels\u001b[0m \u001b[0;34m=\u001b[0m \u001b[0mtorch\u001b[0m\u001b[0;34m.\u001b[0m\u001b[0mtensor\u001b[0m\u001b[0;34m(\u001b[0m\u001b[0maffect_labels\u001b[0m\u001b[0;34m)\u001b[0m\u001b[0;34m.\u001b[0m\u001b[0munsqueeze\u001b[0m\u001b[0;34m(\u001b[0m\u001b[0mdim\u001b[0m\u001b[0;34m=\u001b[0m\u001b[0;36m1\u001b[0m\u001b[0;34m)\u001b[0m\u001b[0;34m.\u001b[0m\u001b[0mto\u001b[0m\u001b[0;34m(\u001b[0m\u001b[0mdevice\u001b[0m\u001b[0;34m)\u001b[0m\u001b[0;34m\u001b[0m\u001b[0;34m\u001b[0m\u001b[0m\n\u001b[1;32m      4\u001b[0m \u001b[0mout\u001b[0m \u001b[0;34m=\u001b[0m \u001b[0mgenerator\u001b[0m\u001b[0;34m(\u001b[0m\u001b[0;34m[\u001b[0m\u001b[0mprompt\u001b[0m\u001b[0;34m]\u001b[0m \u001b[0;34m*\u001b[0m \u001b[0mlen\u001b[0m\u001b[0;34m(\u001b[0m\u001b[0maffect_labels\u001b[0m\u001b[0;34m)\u001b[0m\u001b[0;34m,\u001b[0m \u001b[0mmax_len\u001b[0m\u001b[0;34m=\u001b[0m\u001b[0;36m50\u001b[0m\u001b[0;34m,\u001b[0m \u001b[0maffect_labels\u001b[0m\u001b[0;34m=\u001b[0m\u001b[0maffect_labels\u001b[0m\u001b[0;34m)\u001b[0m\u001b[0;34m\u001b[0m\u001b[0;34m\u001b[0m\u001b[0m\n\u001b[1;32m      5\u001b[0m \u001b[0;34m\u001b[0m\u001b[0m\n",
      "\u001b[0;31mTypeError\u001b[0m: create_affect_vector() got an unexpected keyword argument 'toxicity'"
     ]
    }
   ],
   "source": [
    "# Generate with all affect vectors\n",
    "affect_labels = [create_affect_vector(**{attribute: 1}) for attribute in PERSPECTIVE_API_ATTRIBUTES_LOWER]\n",
    "affect_labels = torch.tensor(affect_labels).unsqueeze(dim=1).to(device)\n",
    "out = generator([prompt] * len(affect_labels), max_len=50, affect_labels=affect_labels)\n",
    "\n",
    "for attribute, gen in zip(PERSPECTIVE_API_ATTRIBUTES_LOWER, out):\n",
    "    print(\n",
    "        'GENERATION WITH ' + attribute.upper(), \n",
    "        prompt + gen,\n",
    "        sep='\\n', end='\\n\\n'\n",
    "    )"
   ]
  },
  {
   "cell_type": "code",
   "execution_count": 90,
   "metadata": {
    "collapsed": true,
    "jupyter": {
     "outputs_hidden": true
    }
   },
   "outputs": [
    {
     "name": "stderr",
     "output_type": "stream",
     "text": [
      "Setting `pad_token_id` to 50256 (first `eos_token_id`) to generate sequence\n"
     ]
    },
    {
     "data": {
      "text/plain": [
       "[' won his full time gig playing the \"Lady and the Tramp\" prequel, \"Lady and the Tramp.\" In 2017, he will play the character and spearhead his Broadway show, \"The Funny Woman\" at the Broadway Winter Showcase',\n",
       " ' claims that her workout schedule means he can \"slip off the top of any car\" and a job may be possible with him on the show.\\n\\nThe sketch has been deemed one of the most humorous on a \"hit show\" as he',\n",
       " \" is retiring from television after 30 years.\\n\\nHis departure came as the Court of Appeal acknowledged that it was guilty of cronyism after hearing testimony that Stewart approached Her Majesty's Treasury to urge a number of her staff to meet with the Prime Minister\",\n",
       " ' denied reports that she did not take a train to France last October.\\n\\nElbowmaker Arnaud Dessee, a 68-year-old Frenchman of French descent, has reportedly confessed to terror attacks in Brussels and Paris, her lawyer told',\n",
       " ' is in talks to open his own theater. He now produces comedy with his co-anchor on The Tonight Show Starring Jimmy Fallon, while he is also a stay-at-home dad who made headlines after a group of horses were killed on',\n",
       " ' said, \"If men don\\'t do well they\\'re going to never get to know each other and not know what to say. Now, let\\'s make them have each other\\'s back.\"\\n\\nBen Goldacre, executive director of the Death Without',\n",
       " ' said in an interview Thursday that racism in Britain is getting worse because \"you can see how easily people start looking at them and taking us seriously.\"\\n\\nSean Deming, of Black Lives Matter London, said that people often gloss over an incident with',\n",
       " ' had landed a spot in Bill and Ted as stand-up specials this year on ABC\\'s The Big Bang Theory.\\n\\nBut the Live & Let Die staffer won\\'t be filling his special\\'s spot, either.\\n\\n\"When David Grey,',\n",
       " ' died at the house of producer Lee Pace and his wife in New York. In July, nine people died after falling asleep on the premises. Mr Pace apologised to the family for his actions and told his executives to back off in May, after it emerged',\n",
       " ', who suffered just the first facial trauma of his life, told her staff about what happened.\\n\\n\"I think he\\'d like to become human again, and because it\\'s my art, it would be his more than me,\" she said.',\n",
       " ' is beginning to loosen up on his \"Bernie thing\" after four weeks of holding his day job. The source also disclosed that since September, he has felt better about his command of business that includes selling off his book publishing company, a food/l',\n",
       " ' lived in central London with his sister Mariah before he was murdered in March.',\n",
       " ' says he found the idea of a New Age cigarette bar law despite all the international condemnation.\\n\\n\"To buy a New Age cigarette just makes me sick,\" he told ABC radio.\\n\\nAt the time of writing his only public statement regarding the',\n",
       " ' had four more appearances in the June issue of Rolling Stone after the California lawsuit.',\n",
       " ', who hit the headlines in 2009 for posting an image of a bare body, does all the stuff he does in a a photo shoot.\\n\\nStacy Driscoll: \"So I\\'d thought that unless you were naked, you\\'d do',\n",
       " ' said he remains deeply offended by \"an awful history\" of persecution and racism.\\n\\nTrouble is, he told his wife Emma and four children, who live in foster care, that they have been looking for a new home where they can',\n",
       " ' is also reportedly ready to take a trade offer with Macau after this year\\'s tour, where he will host his own comedy event at the Granadier Bar in New York and carry on his trademark joke about Napoleon.\\n\\n\"They are still',\n",
       " ' found a post on social media a few months ago listing black and Latino students, held white positions, and voiced his support for justice in the civil rights movement.\\n\\n\"I think it makes sense for black communities of color in these special places and',\n",
       " ' grew up in Alabama but has recently moved to India where he has been working on a film project.\\n\\nThe actor, known for his song \"Rain, Shine, Shine,\" drew some praise for his international ambitions, with Life magazine calling him \"',\n",
       " \", who has been struck by lightning frequently in recent years, had been flying directly over the White House since his late third year as the station's managing director.\\n\\nImage caption Mr Trump had warned earlier in the day that the results would have a\"]"
      ]
     },
     "execution_count": 90,
     "metadata": {},
     "output_type": "execute_result"
    }
   ],
   "source": [
    "# Generate without affect vectors (sanity check)\n",
    "generator.generate_multiple(prompt, max_len=50, num_return_sequences=20)"
   ]
  }
 ],
 "metadata": {
  "kernelspec": {
   "display_name": "Python 3",
   "language": "python",
   "name": "python3"
  },
  "language_info": {
   "codemirror_mode": {
    "name": "ipython",
    "version": 3
   },
   "file_extension": ".py",
   "mimetype": "text/x-python",
   "name": "python",
   "nbconvert_exporter": "python",
   "pygments_lexer": "ipython3",
   "version": "3.7.0"
  }
 },
 "nbformat": 4,
 "nbformat_minor": 4
}
