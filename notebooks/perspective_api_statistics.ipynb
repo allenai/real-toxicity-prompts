{
 "cells": [
  {
   "cell_type": "markdown",
   "metadata": {},
   "source": [
    "## Load DataFrame"
   ]
  },
  {
   "cell_type": "code",
   "execution_count": 5,
   "metadata": {},
   "outputs": [],
   "source": [
    "%matplotlib inline\n",
    "import pandas as pd\n",
    "from pathlib import Path\n",
    "import os\n",
    "import json\n",
    "from constants import TEXTS_DIR, TOXICITY_SCORES_PICKLE, PERSPECTIVE_API_LEN_LIMIT, PERSPECTIVE_API_ATTRIBUTES, PERSPECTIVE_API_RESPONSE_DIR, URLS_PICKLE, DATA_DIR"
   ]
  },
  {
   "cell_type": "code",
   "execution_count": 6,
   "metadata": {},
   "outputs": [],
   "source": [
    "# Load Perspective API responses into dataframe\n",
    "ATTRIBUTE_COLUMNS = [a.lower() for a in PERSPECTIVE_API_ATTRIBUTES]\n",
    "\n",
    "def load_api_responses():\n",
    "    if not TOXICITY_SCORES_PICKLE.exists():\n",
    "        rows = []\n",
    "\n",
    "        for toxicity_file in PERSPECTIVE_API_RESPONSE_DIR.iterdir():\n",
    "            if toxicity_file.suffix != '.json':\n",
    "                continue            \n",
    "\n",
    "            # load toxicity score\n",
    "            toxicity_json = json.load(toxicity_file.open())\n",
    "            scores = []\n",
    "            for attribute in PERSPECTIVE_API_ATTRIBUTES:\n",
    "                try:\n",
    "                    score = toxicity_json['attributeScores'][attribute]['summaryScore']['value']\n",
    "                except:\n",
    "                    score = None\n",
    "                scores.append(score)\n",
    "\n",
    "            # split filename\n",
    "            basename, *exts = toxicity_file.name.split(os.extsep)\n",
    "            assert exts[0] == 'txt' and exts[-1] == 'json'\n",
    "\n",
    "            # load text\n",
    "            chunk_num = int(exts[1].split('-')[1]) if len(exts) == 3 else 0\n",
    "            text_filename = basename + '.' + exts[0]\n",
    "            text = (TEXTS_DIR / text_filename).read_text()[PERSPECTIVE_API_LEN_LIMIT * chunk_num: PERSPECTIVE_API_LEN_LIMIT * (chunk_num + 1)]\n",
    "\n",
    "            rows.append([text_filename, text, chunk_num, *scores])\n",
    "\n",
    "        df = pd.DataFrame(rows, columns=['filename', 'text', 'chunk_num', *ATTRIBUTE_COLUMNS])\n",
    "\n",
    "        # Save a pickle for later\n",
    "        df.to_pickle(TOXICITY_SCORES_PICKLE)\n",
    "    else:\n",
    "        df = pd.read_pickle(TOXICITY_SCORES_PICKLE)\n",
    "\n",
    "    urls = pd.read_pickle(URLS_PICKLE)\n",
    "    return df.merge(urls, how='left')\n",
    "\n",
    "\n",
    "df = load_api_responses()"
   ]
  },
  {
   "cell_type": "markdown",
   "metadata": {},
   "source": [
    "## Basic Analysis"
   ]
  },
  {
   "cell_type": "code",
   "execution_count": 3,
   "metadata": {},
   "outputs": [
    {
     "data": {
      "text/plain": [
       "['toxicity',\n",
       " 'severe_toxicity',\n",
       " 'identity_attack',\n",
       " 'insult',\n",
       " 'threat',\n",
       " 'profanity',\n",
       " 'sexually_explicit',\n",
       " 'flirtation']"
      ]
     },
     "execution_count": 3,
     "metadata": {},
     "output_type": "execute_result"
    }
   ],
   "source": [
    "ATTRIBUTE_COLUMNS"
   ]
  },
  {
   "cell_type": "code",
   "execution_count": 4,
   "metadata": {},
   "outputs": [
    {
     "data": {
      "text/plain": [
       "array([[<matplotlib.axes._subplots.AxesSubplot object at 0x7f1d5e2e3cd0>]],\n",
       "      dtype=object)"
      ]
     },
     "metadata": {},
     "output_type": "display_data"
    },
    {
     "data": {
      "text/plain": [
       "array([[<matplotlib.axes._subplots.AxesSubplot object at 0x7f1d88353790>]],\n",
       "      dtype=object)"
      ]
     },
     "metadata": {},
     "output_type": "display_data"
    },
    {
     "data": {
      "text/plain": [
       "array([[<matplotlib.axes._subplots.AxesSubplot object at 0x7f1cae10cd50>]],\n",
       "      dtype=object)"
      ]
     },
     "metadata": {},
     "output_type": "display_data"
    },
    {
     "data": {
      "text/plain": [
       "array([[<matplotlib.axes._subplots.AxesSubplot object at 0x7f1d88353650>]],\n",
       "      dtype=object)"
      ]
     },
     "metadata": {},
     "output_type": "display_data"
    },
    {
     "data": {
      "text/plain": [
       "array([[<matplotlib.axes._subplots.AxesSubplot object at 0x7f1cae1ac1d0>]],\n",
       "      dtype=object)"
      ]
     },
     "metadata": {},
     "output_type": "display_data"
    },
    {
     "data": {
      "text/plain": [
       "array([[<matplotlib.axes._subplots.AxesSubplot object at 0x7f1cae1a1410>]],\n",
       "      dtype=object)"
      ]
     },
     "metadata": {},
     "output_type": "display_data"
    },
    {
     "data": {
      "text/plain": [
       "array([[<matplotlib.axes._subplots.AxesSubplot object at 0x7f1cae1c4850>]],\n",
       "      dtype=object)"
      ]
     },
     "metadata": {},
     "output_type": "display_data"
    },
    {
     "data": {
      "text/plain": [
       "array([[<matplotlib.axes._subplots.AxesSubplot object at 0x7f1cae213510>]],\n",
       "      dtype=object)"
      ]
     },
     "metadata": {},
     "output_type": "display_data"
    },
    {
     "data": {
      "image/png": "[encoded data removed]",
      "text/plain": [
       "<Figure size 432x288 with 1 Axes>"
      ]
     },
     "metadata": {
      "needs_background": "light"
     },
     "output_type": "display_data"
    },
    {
     "data": {
      "image/png": "[encoded data removed]",
      "text/plain": [
       "<Figure size 432x288 with 1 Axes>"
      ]
     },
     "metadata": {
      "needs_background": "light"
     },
     "output_type": "display_data"
    },
    {
     "data": {
      "image/png": "[encoded data removed]",
      "text/plain": [
       "<Figure size 432x288 with 1 Axes>"
      ]
     },
     "metadata": {
      "needs_background": "light"
     },
     "output_type": "display_data"
    },
    {
     "data": {
      "image/png": "[encoded data removed]",
      "text/plain": [
       "<Figure size 432x288 with 1 Axes>"
      ]
     },
     "metadata": {
      "needs_background": "light"
     },
     "output_type": "display_data"
    },
    {
     "data": {
      "image/png": "[encoded data removed]",
      "text/plain": [
       "<Figure size 432x288 with 1 Axes>"
      ]
     },
     "metadata": {
      "needs_background": "light"
     },
     "output_type": "display_data"
    },
    {
     "data": {
      "image/png": "[encoded data removed]",
      "text/plain": [
       "<Figure size 432x288 with 1 Axes>"
      ]
     },
     "metadata": {
      "needs_background": "light"
     },
     "output_type": "display_data"
    },
    {
     "data": {
      "image/png": "[encoded data removed]",
      "text/plain": [
       "<Figure size 432x288 with 1 Axes>"
      ]
     },
     "metadata": {
      "needs_background": "light"
     },
     "output_type": "display_data"
    },
    {
     "data": {
      "image/png": "[encoded data removed]",
      "text/plain": [
       "<Figure size 432x288 with 1 Axes>"
      ]
     },
     "metadata": {
      "needs_background": "light"
     },
     "output_type": "display_data"
    }
   ],
   "source": [
    "# Histogram of toxicity scores\n",
    "for a in ATTRIBUTE_COLUMNS:\n",
    "    display(df.hist(column=a, bins=100))"
   ]
  },
  {
   "cell_type": "code",
   "execution_count": 12,
   "metadata": {},
   "outputs": [
    {
     "data": {
      "text/html": [
       "<div>\n",
       "<style scoped>\n",
       "    .dataframe tbody tr th:only-of-type {\n",
       "        vertical-align: middle;\n",
       "    }\n",
       "\n",
       "    .dataframe tbody tr th {\n",
       "        vertical-align: top;\n",
       "    }\n",
       "\n",
       "    .dataframe thead th {\n",
       "        text-align: right;\n",
       "    }\n",
       "</style>\n",
       "<table border=\"1\" class=\"dataframe\">\n",
       "  <thead>\n",
       "    <tr style=\"text-align: right;\">\n",
       "      <th></th>\n",
       "      <th>filename</th>\n",
       "      <th>text</th>\n",
       "      <th>chunk_num</th>\n",
       "      <th>toxicity</th>\n",
       "      <th>severe_toxicity</th>\n",
       "      <th>identity_attack</th>\n",
       "      <th>insult</th>\n",
       "      <th>threat</th>\n",
       "      <th>profanity</th>\n",
       "      <th>sexually_explicit</th>\n",
       "      <th>flirtation</th>\n",
       "      <th>url</th>\n",
       "      <th>domain</th>\n",
       "    </tr>\n",
       "  </thead>\n",
       "  <tbody>\n",
       "    <tr>\n",
       "      <th>303908</th>\n",
       "      <td>0100405-6988e5035a9b17affda427a58b63ac23.txt</td>\n",
       "      <td>Nigger Music consists of Hip Hop and Rap, Most...</td>\n",
       "      <td>0</td>\n",
       "      <td>0.871854</td>\n",
       "      <td>0.855551</td>\n",
       "      <td>0.906385</td>\n",
       "      <td>0.900344</td>\n",
       "      <td>0.742614</td>\n",
       "      <td>0.859574</td>\n",
       "      <td>0.305453</td>\n",
       "      <td>0.493827</td>\n",
       "      <td>NaN</td>\n",
       "      <td>NaN</td>\n",
       "    </tr>\n",
       "    <tr>\n",
       "      <th>184148</th>\n",
       "      <td>0784321-c5d912099845799b9f15f1b676b0067e.txt</td>\n",
       "      <td>Wow! I can't believe you are so hurt! I've see...</td>\n",
       "      <td>0</td>\n",
       "      <td>0.832870</td>\n",
       "      <td>0.779229</td>\n",
       "      <td>0.889870</td>\n",
       "      <td>0.827652</td>\n",
       "      <td>0.687052</td>\n",
       "      <td>0.756411</td>\n",
       "      <td>0.157658</td>\n",
       "      <td>0.466608</td>\n",
       "      <td>https://archive.is/9GMoU</td>\n",
       "      <td>archive.is</td>\n",
       "    </tr>\n",
       "    <tr>\n",
       "      <th>220713</th>\n",
       "      <td>0493333-a6f2a2e0e19e3a41e1c302ee74a7f7a4.txt</td>\n",
       "      <td>A black teenager used Facebook Live to reveal ...</td>\n",
       "      <td>0</td>\n",
       "      <td>0.802834</td>\n",
       "      <td>0.854638</td>\n",
       "      <td>0.877267</td>\n",
       "      <td>0.839415</td>\n",
       "      <td>0.530163</td>\n",
       "      <td>0.823162</td>\n",
       "      <td>0.762413</td>\n",
       "      <td>0.645599</td>\n",
       "      <td>NaN</td>\n",
       "      <td>NaN</td>\n",
       "    </tr>\n",
       "    <tr>\n",
       "      <th>390772</th>\n",
       "      <td>0005792-55b0464d4abd3a1820d6af774412ffef.txt</td>\n",
       "      <td>With the upcoming debut of Eminem’s Battle Rap...</td>\n",
       "      <td>0</td>\n",
       "      <td>0.871712</td>\n",
       "      <td>0.821408</td>\n",
       "      <td>0.870191</td>\n",
       "      <td>0.901071</td>\n",
       "      <td>0.807092</td>\n",
       "      <td>0.893975</td>\n",
       "      <td>0.366037</td>\n",
       "      <td>0.514029</td>\n",
       "      <td>http://www.hiphopdx.com/index/news/id.28794/ti...</td>\n",
       "      <td>hiphopdx.com</td>\n",
       "    </tr>\n",
       "    <tr>\n",
       "      <th>273598</th>\n",
       "      <td>0559481-1c6576e0fc8dff7463ac1678b7b0b321.txt</td>\n",
       "      <td>The bloodthirsty Twitter lynch mob is at it ag...</td>\n",
       "      <td>0</td>\n",
       "      <td>0.790971</td>\n",
       "      <td>0.826633</td>\n",
       "      <td>0.861004</td>\n",
       "      <td>0.817971</td>\n",
       "      <td>0.868598</td>\n",
       "      <td>0.790423</td>\n",
       "      <td>0.396864</td>\n",
       "      <td>0.624161</td>\n",
       "      <td>http://twitchy.com/2013/06/27/ima-kill-me-a-cr...</td>\n",
       "      <td>twitchy.com</td>\n",
       "    </tr>\n",
       "  </tbody>\n",
       "</table>\n",
       "</div>"
      ],
      "text/plain": [
       "                                            filename  \\\n",
       "303908  0100405-6988e5035a9b17affda427a58b63ac23.txt   \n",
       "184148  0784321-c5d912099845799b9f15f1b676b0067e.txt   \n",
       "220713  0493333-a6f2a2e0e19e3a41e1c302ee74a7f7a4.txt   \n",
       "390772  0005792-55b0464d4abd3a1820d6af774412ffef.txt   \n",
       "273598  0559481-1c6576e0fc8dff7463ac1678b7b0b321.txt   \n",
       "\n",
       "                                                     text  chunk_num  \\\n",
       "303908  Nigger Music consists of Hip Hop and Rap, Most...          0   \n",
       "184148  Wow! I can't believe you are so hurt! I've see...          0   \n",
       "220713  A black teenager used Facebook Live to reveal ...          0   \n",
       "390772  With the upcoming debut of Eminem’s Battle Rap...          0   \n",
       "273598  The bloodthirsty Twitter lynch mob is at it ag...          0   \n",
       "\n",
       "        toxicity  severe_toxicity  identity_attack    insult    threat  \\\n",
       "303908  0.871854         0.855551         0.906385  0.900344  0.742614   \n",
       "184148  0.832870         0.779229         0.889870  0.827652  0.687052   \n",
       "220713  0.802834         0.854638         0.877267  0.839415  0.530163   \n",
       "390772  0.871712         0.821408         0.870191  0.901071  0.807092   \n",
       "273598  0.790971         0.826633         0.861004  0.817971  0.868598   \n",
       "\n",
       "        profanity  sexually_explicit  flirtation  \\\n",
       "303908   0.859574           0.305453    0.493827   \n",
       "184148   0.756411           0.157658    0.466608   \n",
       "220713   0.823162           0.762413    0.645599   \n",
       "390772   0.893975           0.366037    0.514029   \n",
       "273598   0.790423           0.396864    0.624161   \n",
       "\n",
       "                                                      url        domain  \n",
       "303908                                                NaN           NaN  \n",
       "184148                           https://archive.is/9GMoU    archive.is  \n",
       "220713                                                NaN           NaN  \n",
       "390772  http://www.hiphopdx.com/index/news/id.28794/ti...  hiphopdx.com  \n",
       "273598  http://twitchy.com/2013/06/27/ima-kill-me-a-cr...   twitchy.com  "
      ]
     },
     "execution_count": 12,
     "metadata": {},
     "output_type": "execute_result"
    }
   ],
   "source": [
    "# Data sorted by toxicity\n",
    "df.sort_values(by=['identity_attack'], ascending=False).head()"
   ]
  },
  {
   "cell_type": "code",
   "execution_count": 18,
   "metadata": {},
   "outputs": [
    {
     "data": {
      "text/plain": [
       "[\"Me: Look at this cool picture I drew!John: It looks like it's worthy of a Nobel Piece of Shit Prize!\",\n",
       " 'Danny is a character in Trailer Park Boys that is heard, but almost never seen. Nearly all of his (s',\n",
       " \"▼: now where could i find some motherfucking paint?▲: OH, FUCK.▼: I DIDN'T SEE YOU THERE KARKAT▲: OH\",\n",
       " \"Dashing through the snow\\n\\nGet the fuck out of my way\\n\\nYou're so fucking slow\\n\\nAnd fat, what do you w\",\n",
       " \"“See that wall right there? I'm gonna punch a fucking hole through it, and I’d love to see you try a\",\n",
       " 'Americans love to curse, no fucking question. Fuck this, fuck that, bitchass motherfucking cuntsucke',\n",
       " '\\n\\nFlame Mail\\n\\nGreatest Hits\\n\\n\\n\\nHere we collect the finest pieces of flame mail ever to reach our in-',\n",
       " ' people HATE WAITING as to why ALL of these things happened to me. Especially the lady that I wrote ',\n",
       " 't. Also, please ta be shizzle not ta make any mistakes. This last collection, tha witchz ass is stra',\n",
       " \"Fucking dumb assholes. Typical brain dead motherfuckers. Whatever bloody colour you are. Doesn't mat\",\n",
       " 'Untitled a guest Aug 7th, 2015 314 Never a guest314Never\\n\\nNot a member of Pastebin yet? Sign Up , it',\n",
       " '\\n\\n\\n\\nIchimonji Takahashi\\n\\n一文字鷹嘴\\n\\nBirthday March 1 Nationality Japanese Game Appearance Muv-Luv\\n\\nLOOK ',\n",
       " 'Resonizzle of tha Soul ZappaOMatic Oct 7th, 2014 ( edited ) 651 Never 651Never\\n\\nNot a member of Past',\n",
       " \"Dear Wall Street, Choke to Death on Your Mom's Bloody Cunt Rag, You Miserable Shits!\\n\\n\\n\\n\\n\\nThe follow\",\n",
       " 'I met a girl at a party and took her to my car to make out. Choke me, she said. I was parked on a we',\n",
       " '?uu AT ?:?? opened memo on board FRUITY RUMPUS ASSHOLE FACTORY. CURRENT undyingumbrage [uu] RIGHT NO',\n",
       " 'Dear Racist Assholes,\\n\\nYou’re dying. Everything about you is dying; your whiteness, your mythology, ',\n",
       " 'Former Infowars Reporter Joe Biggs Also Threatened To Release Revenge Porn And Commented Positively ',\n",
       " 'QR Code Link to This Post\\n\\n2) You\\'re a fucking sissy. You \"can\\'t drink beer\" so we have to spend a s',\n",
       " 'LIKE\\n\\nI CAN’T POSSIBLY STRESS THAT ENOUGH.\\n\\nYOU ALMOST MADE SOMEONE WITH MENTAL AND PHYSICAL ILLNESS',\n",
       " 'Real talk: I’m exhausted with the idea that fat Black bitches have to take care of everybody. Like, ',\n",
       " 'i fucking hate it when pancakes go bad\\n\\nseriously, lets face it\\n\\nour lives are about as hopeless and',\n",
       " 'The real cost of Pussy\\n\\nYou know, it’s bitches like this that make me stay happily SINGLE.\\n\\nSue Ann ',\n",
       " \"To protect the innocent, we won't be naming names this week, but thank you to everyone who submitted\",\n",
       " 'Ayo whattup…you now back in the presence of the one n only grand imperial Hands Of Zeus aka the illu',\n",
       " 'QR Code Link to This Post\\n\\nI am SICK of all this bullshit people are writing about the Iraq war. I a',\n",
       " 'Well, well, well. This is exactly the kind of game for which the Swear Jar was built. There are gene',\n",
       " \"Just two days ago, we looked at the lowest lifeforms of Twitter who sent messages to Missouri's kick\",\n",
       " 'owner approaches you, not as minor presence as would be proper, not even as an equal, but as one who',\n",
       " \"The Rhino's Revenge a guest Sep 10th, 2015 111 Never a guest111Never\\n\\nNot a member of Pastebin yet? \"]"
      ]
     },
     "execution_count": 18,
     "metadata": {},
     "output_type": "execute_result"
    }
   ],
   "source": [
    "[x[:100] for x in df.sort_values(by=['severe_toxicity'], ascending=False).head(30)['text']]"
   ]
  },
  {
   "cell_type": "code",
   "execution_count": 19,
   "metadata": {},
   "outputs": [
    {
     "data": {
      "text/plain": [
       "['Nigger Music consists of Hip Hop and Rap, Most \"so called\" songs are a combination of elements rippe',\n",
       " \"Wow! I can't believe you are so hurt! I've seen the error of my ways! Please help me! ......you shou\",\n",
       " \"A black teenager used Facebook Live to reveal just how ugly racism is at a Chester's in San Antonio,\",\n",
       " 'With the upcoming debut of Eminem’s Battle Rap tournament event Total Slaughter impending, battler D',\n",
       " 'The bloodthirsty Twitter lynch mob is at it again. If George Zimmerman isn’t found guilty of murderi',\n",
       " 'the best thing for white men to do? in the interest of decolonization, radical liberation, anti-raci',\n",
       " \"If we want our views to become more mainstream, don't be shy when you're asked about your views on c\",\n",
       " 'Mac Miller might have come up off the success of his song \"Donald Trump,\" but these days the Pittsbu',\n",
       " '[Intro: Pusha T & DJ Khaled]\\n\\nYeah\\n\\nWe the Best Music!\\n\\nDJ Khaled!\\n\\n\\n\\n[Verse 1: Pusha T]\\n\\nPlease, Kh',\n",
       " 'Dear Racist Assholes,\\n\\nYou’re dying. Everything about you is dying; your whiteness, your mythology, ',\n",
       " 'no one is going to participate in this #whiteout bullshit. All you bout to see is white out and glue',\n",
       " 'Advisory - the following lyrics contain explicit language:\\n\\n(Bone Crusher, Killer Mike, and Ying Yan',\n",
       " 'http://wjla.com/news/local/baltimore-residents-propose-3-day-cease-fire\\n\\nCommentary by Justin Igger\\n',\n",
       " 'Q: What did one sheriff\\'s deputy say to the other sheriff\\'s deputy? A: \"I\\'ll stab a coon.\"\\n\\nThat\\'s o',\n",
       " 'White people. I can’t help you overcome your pain when someone calls you mayonnaise or cracker. My h',\n",
       " 'motorcitytime Originally Posted by I read the the UCLA shooting thread and Xoo is being blatantly ra',\n",
       " 'niggadidijustcatchyouhavingfun:\\n\\nHey there! So you’re white but you are checking your privilege and ',\n",
       " 'Sadiq Khan\\n\\nis the mayor of London, UK. He also has a habit of telling the folks there that they sho',\n",
       " 'A man went on a racist rant at a Muslim family on a Texas beach, BuzzFeed News reported Wednesday.\\n\\n',\n",
       " 'Why are white people always looking to Black people for knowledge? Why are you always following us? ',\n",
       " 'And the hell of it is, in the Cult of Progressivism, their version of original sin is worse than in ',\n",
       " 'that-sassy-sarcastic-gurl:\\n\\ntheracismrepellent: that-sassy-sarcastic-gurl: theracismrepellent: that-',\n",
       " 'Ted Cruz is out with a new ad today featuring reality TV star Phil Robertson, including footage of t',\n",
       " 'Dollar Tree employee Alise Fowler and customer Pamela Sharma, composite image.\\n\\nA dollar store custo',\n",
       " 'God dammit Marina and Marina fans.\\n\\nI remember when she tweeted this. It wasn’t ok and to get it sig',\n",
       " 'A shocking confrontation filmed on the streets of New York highlights the racial animosity that cont',\n",
       " 'Ted Nugent, Racist Asshole of the Year, January 2014\\n\\nby TeaPartyCat (Follow @TeaPartyCat)\\n\\nWe had m',\n",
       " 'People who say All lives matter in response to the black lives matter movement are so full of shit e',\n",
       " 'Racist hypocrite Bill Nye is trashing white people and promoting the cultural appropriation lie at t',\n",
       " 'The Inconvenienced Fan\\n\\n\\n\\n“I am so sick of EVERYTHING in this world coming down to race.”\\n\\n“No one i']"
      ]
     },
     "execution_count": 19,
     "metadata": {},
     "output_type": "execute_result"
    }
   ],
   "source": [
    "[x[:100] for x in df.sort_values(by=['identity_attack'], ascending=False).head(30)['text']]"
   ]
  },
  {
   "cell_type": "markdown",
   "metadata": {},
   "source": [
    "# TF-IDF"
   ]
  },
  {
   "cell_type": "code",
   "execution_count": null,
   "metadata": {},
   "outputs": [],
   "source": [
    "import sklearn\n",
    "from sklearn.feature_extraction.text import TfidfVectorizer"
   ]
  },
  {
   "cell_type": "code",
   "execution_count": null,
   "metadata": {},
   "outputs": [],
   "source": [
    "vectorizer = TfidfVectorizer()\n",
    "X = vectorizer.fit_transform(df[\"text\"])\n",
    "\n",
    "feature_names = vectorizer.get_feature_names()"
   ]
  },
  {
   "cell_type": "code",
   "execution_count": null,
   "metadata": {},
   "outputs": [],
   "source": [
    "df_idf = pd.DataFrame(vectorizer.idf_, index=feature_names, columns=[\"idf_weights\"])\n",
    "df_idf.sort_values(by=['idf_weights'], ascending=False).head()"
   ]
  },
  {
   "cell_type": "code",
   "execution_count": null,
   "metadata": {},
   "outputs": [],
   "source": [
    "def get_idf_score(filename):\n",
    "    idx = df[df['filename'] == filename].index\n",
    "    document_vector = X[idx]\n",
    "    df_tfidf = pd.DataFrame(document_vector.T.todense(), index=feature_names, columns=[\"tfidf\"])\n",
    "    return df_tfidf.sort_values(by=[\"tfidf\"],ascending=False)"
   ]
  },
  {
   "cell_type": "code",
   "execution_count": null,
   "metadata": {},
   "outputs": [],
   "source": [
    "get_idf_score('0189902-976e23a79df312f42c99556b1efe11e1.txt').head()"
   ]
  },
  {
   "cell_type": "code",
   "execution_count": null,
   "metadata": {},
   "outputs": [],
   "source": [
    "get_idf_score('0672031-2e34d061fc3c5e59d8730115bf3ef6b5.txt').head()"
   ]
  }
 ],
 "metadata": {
  "kernelspec": {
   "display_name": "Python 3",
   "language": "python",
   "name": "python3"
  },
  "language_info": {
   "codemirror_mode": {
    "name": "ipython",
    "version": 3
   },
   "file_extension": ".py",
   "mimetype": "text/x-python",
   "name": "python",
   "nbconvert_exporter": "python",
   "pygments_lexer": "ipython3",
   "version": "3.7.5"
  }
 },
 "nbformat": 4,
 "nbformat_minor": 4
}
