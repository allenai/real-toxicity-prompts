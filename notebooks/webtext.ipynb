{
 "cells": [
  {
   "cell_type": "code",
   "execution_count": 1,
   "metadata": {},
   "outputs": [
    {
     "name": "stdout",
     "output_type": "stream",
     "text": [
      "/home/sam/research/language-model-toxicity\n"
     ]
    }
   ],
   "source": [
    "# HACK: use project root as the working directory \n",
    "from pathlib import Path\n",
    "\n",
    "while Path.cwd().name != 'language-model-toxicity':\n",
    "    %cd .."
   ]
  },
  {
   "cell_type": "code",
   "execution_count": null,
   "metadata": {},
   "outputs": [],
   "source": [
    "from utils.constants import DATA_DIR\n",
    "from pathlib import Path\n",
    "from tqdm.auto import tqdm\n",
    "import logging\n",
    "import numpy as np\n",
    "\n",
    "logging.disable(logging.CRITICAL)  # Disable logging from transformers"
   ]
  },
  {
   "cell_type": "markdown",
   "metadata": {},
   "source": [
    "## Load WebText"
   ]
  },
  {
   "cell_type": "code",
   "execution_count": 9,
   "metadata": {},
   "outputs": [
    {
     "data": {
      "text/plain": [
       "[PosixPath('/data/language-model-toxicity/data/webtext/x00_tokens.npy'),\n",
       " PosixPath('/data/language-model-toxicity/data/webtext/x01_tokens.npy'),\n",
       " PosixPath('/data/language-model-toxicity/data/webtext/x02_tokens.npy'),\n",
       " PosixPath('/data/language-model-toxicity/data/webtext/x03_tokens.npy'),\n",
       " PosixPath('/data/language-model-toxicity/data/webtext/x04_tokens.npy'),\n",
       " PosixPath('/data/language-model-toxicity/data/webtext/x05_tokens.npy'),\n",
       " PosixPath('/data/language-model-toxicity/data/webtext/x06_tokens.npy'),\n",
       " PosixPath('/data/language-model-toxicity/data/webtext/x07_tokens.npy'),\n",
       " PosixPath('/data/language-model-toxicity/data/webtext/x08_tokens.npy'),\n",
       " PosixPath('/data/language-model-toxicity/data/webtext/x09_tokens.npy'),\n",
       " PosixPath('/data/language-model-toxicity/data/webtext/x10_tokens.npy'),\n",
       " PosixPath('/data/language-model-toxicity/data/webtext/x11_tokens.npy'),\n",
       " PosixPath('/data/language-model-toxicity/data/webtext/x12_tokens.npy'),\n",
       " PosixPath('/data/language-model-toxicity/data/webtext/x13_tokens.npy'),\n",
       " PosixPath('/data/language-model-toxicity/data/webtext/x14_tokens.npy'),\n",
       " PosixPath('/data/language-model-toxicity/data/webtext/x15_tokens.npy'),\n",
       " PosixPath('/data/language-model-toxicity/data/webtext/x16_tokens.npy'),\n",
       " PosixPath('/data/language-model-toxicity/data/webtext/x17_tokens.npy'),\n",
       " PosixPath('/data/language-model-toxicity/data/webtext/x18_tokens.npy'),\n",
       " PosixPath('/data/language-model-toxicity/data/webtext/x19_tokens.npy')]"
      ]
     },
     "execution_count": 9,
     "metadata": {},
     "output_type": "execute_result"
    }
   ],
   "source": [
    "# Path to webtext subsets:\n",
    "webtext_dir = DATA_DIR / 'webtext'\n",
    "\n",
    "webtext_files = sorted([file for file in webtext_dir.iterdir() if file.suffix == '.npy'])\n",
    "webtext_files"
   ]
  },
  {
   "cell_type": "code",
   "execution_count": 42,
   "metadata": {},
   "outputs": [],
   "source": [
    "import numpy as np\n",
    "from typing import List\n",
    "\n",
    "EOS = 50256\n",
    "\n",
    "def split_docs(tokens: np.array) -> List[np.array]:\n",
    "    idx = np.nonzero(tokens == EOS)[0]\n",
    "    docs = np.split(tokens, idx)\n",
    "    docs = [doc[1:] for doc in docs if len(doc) > 1]\n",
    "    return docs"
   ]
  },
  {
   "cell_type": "code",
   "execution_count": 45,
   "metadata": {},
   "outputs": [
    {
     "data": {
      "text/plain": [
       "array([  464,  1578,  4498, 24880,   468,  1775,  1865,  1194,  1700,\n",
       "          12, 13395,  6591,  1176, 36427,  8406,    13, 13098, 43941,\n",
       "        2722,   262,  9016,    12,   964,  8406,   329,   257,  6591,\n",
       "       31392,  1628,   379,   257, 14702,   362,    13,  3682, 44359,\n",
       "          14,    74,  1199,    11,  2263,   736,   262,  3670,   286,\n",
       "       28918,  6591,  1176,  1628,   422, 17456,    13,   198,   198,\n",
       "         464,  1700,    12, 13395,  8406,   468,   587,  8948,   416,\n",
       "         257, 36451,   286,  3999,  8265, 11554,   449,   676, 34049,\n",
       "        6192,   290,  4960,  8517,  1526,   549, 43850,    13,   198,\n",
       "         198,  4826,    84, 43941, 42048,   290,  5638, 11416,  2722,\n",
       "         257,  2472,   286,   718, 27837,   329,   262,  5150, 13803,\n",
       "       29961,  6591, 31392,  1628,  6027,   284,   307,  3170,   287,\n",
       "         262,  3240,   286,  2451,  1872,  7637,    11, 13098, 43941,\n",
       "          13,  3806,   286,   718, 27837,    11,   262,  9016,  1683,\n",
       "        8406,   286,   362,    13,  3682, 44359,    14,    74,  1199,\n",
       "         468,   587,  8948,   416,   262,   449,   676, 34049,  6192,\n",
       "        1906,  7676,   549, 43850, 36451,    13,   383,  2482,   286,\n",
       "         262, 15403,   389,   407,   503,  1865,    11,   355,  4773,\n",
       "         481,   783, 13446,   262, 11628,   329,  6276,   290,  3034,\n",
       "       32141,    13,   198,   198,   464,  1459,  8406,   286,   362,\n",
       "          13,  3682, 44359,    14,    74,  1199,   318,   262,  9016,\n",
       "         523,  1290, 18309,    11,   290,   416,  2407,   257,  1643,\n",
       "         851,   340,   318, 49992,  1877,    13,   770,  8406,   318,\n",
       "        1160,     4,  2793,   621,   262,  2180,  1700,  8406,   286,\n",
       "         362,    13,  6420, 44359,    14,    74,  1199,  8948,   379,\n",
       "         281, 14389,   287, 17456,   938,  1227,    13,   198,   198,\n",
       "         464,  1218,    12,  9319,   395,  8406,   287,   262, 13098,\n",
       "       43941, 15403,   373,  7478,   407,   881,  2440,    11,   379,\n",
       "         362,    13,  4310, 44359,    14,    74,  1199,    11,   290,\n",
       "         373,  8948,   416,   257,  1957,  4081,    13,  2312, 27837,\n",
       "         635,  4405,   262,   362,    13,  2079, 44359,    14,    74,\n",
       "        1199,  8406,   357,  1477,  8629,   379,   262,   640,  3926,\n",
       "         290,   991,   284,   617,  6287,     8,  8948,   416,   257,\n",
       "       11066, 27455,    12,   992, 36451,   329,   281, 10460, 29961,\n",
       "        6591, 31392,  1628,   287, 24520,    13,   198,   198,   464,\n",
       "       13098, 43941,  6591,  3952,   373,  7317,  6027,   329, 13803,\n",
       "       29961,    13,  2102,    11,  2056,  3136,  1181,   257,  1744,\n",
       "        2620,   287,  1628,  2546,    11,   355,   275,  1638,   364,\n",
       "         547,  3142,   284,  8406,   329,  4025, 32484,    13,   383,\n",
       "        2457,  5339,   286,   262,  6591,  1176,  3952,   743,   880,\n",
       "        2620,   284,   352, 27164,    13,   198,   198,   818,  2274,\n",
       "        1933,    11,  1588,  6591,  1176, 14860,  1088,   262, 13342,\n",
       "         423,  2722, 27837,  1342,   621,   604,    13,   405, 44359,\n",
       "          14,    74,  1199,   851,   287,  3794,    11, 17456,    11,\n",
       "         262, 29367,    11,   290,  8057,    13,   198,   198,  7085,\n",
       "        1588,  6505,   851,  1390,  8031,   338,  2039,   417,    11,\n",
       "         309, 18831,    11,  7125, 15543,    11, 23547,  5476,   361,\n",
       "         449,   480,   417,    11,   290,  1985,   494,   851,  7478,\n",
       "        5954,   503,   286,   262, 13098, 43941, 15403,  2233,   284,\n",
       "        2938,  1029,  5449,   290,  2328,   625,   257, 27069,  4268,\n",
       "         287,  4536,    13], dtype=int32)"
      ]
     },
     "execution_count": 45,
     "metadata": {},
     "output_type": "execute_result"
    }
   ],
   "source": [
    "# Try loading one document from subset of WebText\n",
    "wt0 = np.load(webtext_files[0])\n",
    "wt0docs = split_docs(webtext_0)\n",
    "wt0docs[0]"
   ]
  },
  {
   "cell_type": "code",
   "execution_count": 56,
   "metadata": {},
   "outputs": [
    {
     "data": {
      "application/vnd.jupyter.widget-view+json": {
       "model_id": "327206691d534e7cb5aa9a5a2e768f0c",
       "version_major": 2,
       "version_minor": 0
      },
      "text/plain": [
       "HBox(children=(FloatProgress(value=0.0, max=20.0), HTML(value='')))"
      ]
     },
     "metadata": {},
     "output_type": "display_data"
    },
    {
     "name": "stdout",
     "output_type": "stream",
     "text": [
      "\n"
     ]
    },
    {
     "data": {
      "text/plain": [
       "8282020"
      ]
     },
     "execution_count": 56,
     "metadata": {},
     "output_type": "execute_result"
    }
   ],
   "source": [
    "total_docs = 0\n",
    "\n",
    "for file in tqdm(webtext_files):\n",
    "    tokens = np.load(file)\n",
    "    docs = split_docs(tokens)\n",
    "    total_docs += len(docs)\n",
    "\n",
    "total_docs"
   ]
  },
  {
   "cell_type": "markdown",
   "metadata": {},
   "source": [
    "## Tokenize OpenWebText"
   ]
  },
  {
   "cell_type": "code",
   "execution_count": 48,
   "metadata": {},
   "outputs": [
    {
     "name": "stdout",
     "output_type": "stream",
     "text": [
      "Loading list of OpenWebText files...\n"
     ]
    }
   ],
   "source": [
    "from datasets.openwebtext_dataset import openwebtext_dataloader\n",
    "\n",
    "owtc = openwebtext_dataloader(tokenized=True)"
   ]
  },
  {
   "cell_type": "code",
   "execution_count": null,
   "metadata": {},
   "outputs": [],
   "source": [
    "with open('filenames.txt', 'a') as ff, open('tokens.dat', 'ab') as tf:\n",
    "    for filename, tokens in tqdm(owtc):\n",
    "        print(filename, file=ff)\n",
    "        np.savetxt(tf, tokens)"
   ]
  }
 ],
 "metadata": {
  "kernelspec": {
   "display_name": "Python 3",
   "language": "python",
   "name": "python3"
  },
  "language_info": {
   "codemirror_mode": {
    "name": "ipython",
    "version": 3
   },
   "file_extension": ".py",
   "mimetype": "text/x-python",
   "name": "python",
   "nbconvert_exporter": "python",
   "pygments_lexer": "ipython3",
   "version": "3.7.7"
  }
 },
 "nbformat": 4,
 "nbformat_minor": 4
}
