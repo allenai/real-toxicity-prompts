{
 "cells": [
  {
   "cell_type": "code",
   "execution_count": 1,
   "metadata": {},
   "outputs": [],
   "source": [
    "import pandas as pd\n",
    "from pathlib import Path\n",
    "from tqdm.auto import tqdm"
   ]
  },
  {
   "cell_type": "code",
   "execution_count": 2,
   "metadata": {},
   "outputs": [],
   "source": [
    "# prompts = pd.read_csv('/data/language-model-toxicity/prompts/prompts_with_ids.csv', index_col=0)\n",
    "# pk_to_id = {tuple(pk): id_ for id_, *pk in prompts[['filename', 'begin', 'end']].itertuples()}"
   ]
  },
  {
   "cell_type": "code",
   "execution_count": 52,
   "metadata": {},
   "outputs": [
    {
     "data": {
      "text/plain": [
       "[PosixPath('/data/language-model-toxicity/generations/prompted/prompted_gens_affect_beta_3.jsonl'),\n",
       " PosixPath('/data/language-model-toxicity/generations/prompted/prompted_gens_ctrl_wiki.jsonl'),\n",
       " PosixPath('/data/language-model-toxicity/generations/prompted/prompted_gens_gpt2_ft_lte2.jsonl'),\n",
       " PosixPath('/data/language-model-toxicity/generations/prompted/prompted_gens_gpt3_davinci.jsonl'),\n",
       " PosixPath('/data/language-model-toxicity/generations/prompted/prompted_gens_ctrl.jsonl'),\n",
       " PosixPath('/data/language-model-toxicity/generations/prompted/prompted_gens_gpt2.jsonl'),\n",
       " PosixPath('/data/language-model-toxicity/generations/prompted/prompted_gens_gpt2_ctrl.jsonl'),\n",
       " PosixPath('/data/language-model-toxicity/generations/prompted/prompted_gens_gpt1.jsonl'),\n",
       " PosixPath('/data/language-model-toxicity/generations/prompted/prompted_gens_gpt2_naughty_list.jsonl')]"
      ]
     },
     "execution_count": 52,
     "metadata": {},
     "output_type": "execute_result"
    }
   ],
   "source": [
    "gen_files = [x for x in Path('/data/language-model-toxicity/generations/prompted').iterdir() if x.name.endswith('.jsonl')]\n",
    "gen_files"
   ]
  },
  {
   "cell_type": "code",
   "execution_count": 23,
   "metadata": {},
   "outputs": [
    {
     "data": {
      "text/plain": [
       "'affect_beta_3'"
      ]
     },
     "execution_count": 23,
     "metadata": {},
     "output_type": "execute_result"
    }
   ],
   "source": [
    "model_name = lambda file: file.stem[len('prompted_gens_'):]\n",
    "model_name(gen_files[0])"
   ]
  },
  {
   "cell_type": "code",
   "execution_count": 112,
   "metadata": {},
   "outputs": [
    {
     "data": {
      "application/vnd.jupyter.widget-view+json": {
       "model_id": "92b6b1e5cdcd4dc7997686bb5ed66110",
       "version_major": 2,
       "version_minor": 0
      },
      "text/plain": [
       "HBox(children=(FloatProgress(value=0.0), HTML(value='')))"
      ]
     },
     "metadata": {},
     "output_type": "display_data"
    },
    {
     "name": "stdout",
     "output_type": "stream",
     "text": [
      "\n"
     ]
    }
   ],
   "source": [
    "chunksize = 1000\n",
    "data_len = 100_000\n",
    "gen_file_iters = [pd.read_json(x, lines=True, chunksize=chunksize) for x in gen_files]\n",
    "model_names = list(map(model_name, gen_files))\n",
    "\n",
    "outs = []\n",
    "\n",
    "offset = 0\n",
    "for chunks in tqdm(zip(*gen_file_iters), total=data_len // chunksize):\n",
    "    chunk_len = len(chunks[0])\n",
    "    out = pd.DataFrame(data=range(offset, offset + chunk_len),\n",
    "                       columns=['id'])\n",
    "\n",
    "    out['prompt'] = [x['text'] for x in chunks[0]['prompt']]\n",
    "\n",
    "    gens = pd.DataFrame([c['generations'] for c in chunks]).T.applymap(lambda x: [{'text': y['text'], 'toxicity': y['toxicity']} for y in x])\n",
    "    gens.columns = model_names\n",
    "    out['generations'] = gens.to_dict(orient='records')\n",
    "\n",
    "    outs.append(out)\n",
    "\n",
    "    offset += len(chunks[0])"
   ]
  },
  {
   "cell_type": "code",
   "execution_count": 118,
   "metadata": {},
   "outputs": [],
   "source": [
    "df = pd.concat(outs, ignore_index=True)"
   ]
  },
  {
   "cell_type": "code",
   "execution_count": null,
   "metadata": {},
   "outputs": [],
   "source": [
    "df.to_json('~/Desktop/generation_demo_v1.json', orient='records')"
   ]
  },
  {
   "cell_type": "code",
   "execution_count": null,
   "metadata": {},
   "outputs": [],
   "source": []
  }
 ],
 "metadata": {
  "kernelspec": {
   "display_name": "Python 3",
   "language": "python",
   "name": "python3"
  },
  "language_info": {
   "codemirror_mode": {
    "name": "ipython",
    "version": 3
   },
   "file_extension": ".py",
   "mimetype": "text/x-python",
   "name": "python",
   "nbconvert_exporter": "python",
   "pygments_lexer": "ipython3",
   "version": "3.8.5"
  }
 },
 "nbformat": 4,
 "nbformat_minor": 4
}
