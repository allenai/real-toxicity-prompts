{
 "cells": [
  {
   "cell_type": "code",
   "execution_count": null,
   "metadata": {},
   "outputs": [],
   "source": [
    "from pathlib import Path\n",
    "\n",
    "while Path.cwd().name != 'language-model-toxicity':\n",
    "    %cd .."
   ]
  },
  {
   "cell_type": "code",
   "execution_count": 11,
   "metadata": {
    "pycharm": {
     "is_executing": false
    }
   },
   "outputs": [],
   "source": [
    "import pandas as pd\n",
    "from hashlib import md5\n",
    "import tldextract\n",
    "\n",
    "from utils.constants import TEXTS_DIR, URLS_DIR, URLS_PICKLE"
   ]
  },
  {
   "cell_type": "code",
   "execution_count": 2,
   "metadata": {},
   "outputs": [],
   "source": [
    "def get_domain(url):\n",
    "    ext = tldextract.extract(url)\n",
    "    if ext.domain == 'wordpress':\n",
    "        return '.'.join(ext)\n",
    "    else:\n",
    "        return '.'.join(ext[1:])\n",
    "\n",
    "\n",
    "def make_urls_df():\n",
    "    rows = []\n",
    "    for file in URLS_DIR.iterdir():\n",
    "        urls = file.read_text().split()\n",
    "        rows_from_file = [(url, md5(url.encode()).hexdigest()) for url in urls]\n",
    "        rows.extend(rows_from_file)\n",
    "\n",
    "    df = pd.DataFrame(rows, columns=['url', 'md5_hash'])\n",
    "    df['domain'] = df['url'].apply(lambda url: get_domain(url))\n",
    "    return df\n",
    "\n",
    "\n",
    "def make_filenames_df():\n",
    "    rows = [(file.name, file.name.split('-')[1].split('.')[0]) \n",
    "            for file in TEXTS_DIR.iterdir()]\n",
    "    return pd.DataFrame(rows, columns=['filename', 'md5_hash'])"
   ]
  },
  {
   "cell_type": "code",
   "execution_count": 3,
   "metadata": {
    "pycharm": {
     "is_executing": false
    }
   },
   "outputs": [],
   "source": [
    "if URLS_PICKLE.exists():\n",
    "    df = pd.read_pickle(URLS_PICKLE)\n",
    "else:\n",
    "    urls_df = make_urls_df()\n",
    "    filenames_df = make_filenames_df()\n",
    "    df = urls_df.merge(filenames_df)\n",
    "    df.to_pickle(URLS_PICKLE)"
   ]
  },
  {
   "cell_type": "code",
   "execution_count": 12,
   "metadata": {},
   "outputs": [
    {
     "data": {
      "text/html": [
       "<div>\n",
       "<style scoped>\n",
       "    .dataframe tbody tr th:only-of-type {\n",
       "        vertical-align: middle;\n",
       "    }\n",
       "\n",
       "    .dataframe tbody tr th {\n",
       "        vertical-align: top;\n",
       "    }\n",
       "\n",
       "    .dataframe thead th {\n",
       "        text-align: right;\n",
       "    }\n",
       "</style>\n",
       "<table border=\"1\" class=\"dataframe\">\n",
       "  <thead>\n",
       "    <tr style=\"text-align: right;\">\n",
       "      <th></th>\n",
       "      <th>url</th>\n",
       "      <th>filename</th>\n",
       "      <th>domain</th>\n",
       "    </tr>\n",
       "  </thead>\n",
       "  <tbody>\n",
       "    <tr>\n",
       "      <th>0</th>\n",
       "      <td>http://www.guardian.co.uk/world/2010/may/31/pu...</td>\n",
       "      <td>0610905-8d5bdc4f88bed43e4f5f606a43bf4d61.txt</td>\n",
       "      <td>guardian.co.uk</td>\n",
       "    </tr>\n",
       "    <tr>\n",
       "      <th>1</th>\n",
       "      <td>http://links.org.au/node/1719</td>\n",
       "      <td>0147024-8b731d228ad09fcff1cc3ed6e06450bb.txt</td>\n",
       "      <td>links.org.au</td>\n",
       "    </tr>\n",
       "    <tr>\n",
       "      <th>2</th>\n",
       "      <td>http://www.tricycle.com/blog/?p=1782</td>\n",
       "      <td>0286995-93a6dcb796e6448bbeebd07b5379956d.txt</td>\n",
       "      <td>tricycle.com</td>\n",
       "    </tr>\n",
       "    <tr>\n",
       "      <th>3</th>\n",
       "      <td>http://www.sciencebasedmedicine.org/?p=5339</td>\n",
       "      <td>0155423-cb5aead54795dbfc57a56ccd1dab5830.txt</td>\n",
       "      <td>sciencebasedmedicine.org</td>\n",
       "    </tr>\n",
       "    <tr>\n",
       "      <th>4</th>\n",
       "      <td>http://www.itbusiness.ca/it/client/en/home/New...</td>\n",
       "      <td>0019075-4f9b2593bd76ccdd1aede0c220045cec.txt</td>\n",
       "      <td>itbusiness.ca</td>\n",
       "    </tr>\n",
       "  </tbody>\n",
       "</table>\n",
       "</div>"
      ],
      "text/plain": [
       "                                                 url  \\\n",
       "0  http://www.guardian.co.uk/world/2010/may/31/pu...   \n",
       "1                      http://links.org.au/node/1719   \n",
       "2               http://www.tricycle.com/blog/?p=1782   \n",
       "3        http://www.sciencebasedmedicine.org/?p=5339   \n",
       "4  http://www.itbusiness.ca/it/client/en/home/New...   \n",
       "\n",
       "                                       filename                    domain  \n",
       "0  0610905-8d5bdc4f88bed43e4f5f606a43bf4d61.txt            guardian.co.uk  \n",
       "1  0147024-8b731d228ad09fcff1cc3ed6e06450bb.txt              links.org.au  \n",
       "2  0286995-93a6dcb796e6448bbeebd07b5379956d.txt              tricycle.com  \n",
       "3  0155423-cb5aead54795dbfc57a56ccd1dab5830.txt  sciencebasedmedicine.org  \n",
       "4  0019075-4f9b2593bd76ccdd1aede0c220045cec.txt             itbusiness.ca  "
      ]
     },
     "execution_count": 12,
     "metadata": {},
     "output_type": "execute_result"
    }
   ],
   "source": [
    "df.head(20)"
   ]
  },
  {
   "cell_type": "code",
   "execution_count": 15,
   "metadata": {},
   "outputs": [
    {
     "data": {
      "text/plain": [
       "<matplotlib.axes._subplots.AxesSubplot at 0x7f8d76f25a10>"
      ]
     },
     "execution_count": 15,
     "metadata": {},
     "output_type": "execute_result"
    },
    {
     "data": {
      "image/png": "[encoded data removed]",
      "text/plain": [
       "<Figure size 432x288 with 1 Axes>"
      ]
     },
     "metadata": {
      "needs_background": "light"
     },
     "output_type": "display_data"
    }
   ],
   "source": [
    "df['domain'].value_counts()[:20].plot(kind='bar')"
   ]
  }
 ],
 "metadata": {
  "kernelspec": {
   "display_name": "Python 3",
   "language": "python",
   "name": "python3"
  },
  "language_info": {
   "codemirror_mode": {
    "name": "ipython",
    "version": 3
   },
   "file_extension": ".py",
   "mimetype": "text/x-python",
   "name": "python",
   "nbconvert_exporter": "python",
   "pygments_lexer": "ipython3",
   "version": "3.7.0"
  },
  "pycharm": {
   "stem_cell": {
    "cell_type": "raw",
    "metadata": {
     "collapsed": false
    },
    "source": []
   }
  }
 },
 "nbformat": 4,
 "nbformat_minor": 4
}
