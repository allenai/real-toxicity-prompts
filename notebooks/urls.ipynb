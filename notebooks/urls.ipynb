{
 "cells": [
  {
   "cell_type": "code",
   "execution_count": 16,
   "metadata": {},
   "outputs": [],
   "source": [
    "from pathlib import Path\n",
    "\n",
    "while Path.cwd().name != 'language-model-toxicity':\n",
    "    %cd .."
   ]
  },
  {
   "cell_type": "code",
   "execution_count": 17,
   "metadata": {
    "pycharm": {
     "is_executing": false
    }
   },
   "outputs": [],
   "source": [
    "import pandas as pd\n",
    "from hashlib import md5\n",
    "import tldextract\n",
    "\n",
    "from utils.constants import TEXTS_DIR, DATA_DIR"
   ]
  },
  {
   "cell_type": "markdown",
   "metadata": {},
   "source": [
    "## Load URLs for OpenWebText"
   ]
  },
  {
   "cell_type": "code",
   "execution_count": 18,
   "metadata": {},
   "outputs": [],
   "source": [
    "def get_domain(url):\n",
    "    ext = tldextract.extract(url)\n",
    "    if ext.domain == 'wordpress':\n",
    "        return '.'.join(ext)\n",
    "    else:\n",
    "        return '.'.join(ext[1:])\n",
    "\n",
    "\n",
    "def make_urls_df():\n",
    "    rows = []\n",
    "    for file in URLS_DIR.iterdir():\n",
    "        urls = file.read_text().split()\n",
    "        rows_from_file = [(url, md5(url.encode()).hexdigest()) for url in urls]\n",
    "        rows.extend(rows_from_file)\n",
    "\n",
    "    df = pd.DataFrame(rows, columns=['url', 'md5_hash'])\n",
    "    df['domain'] = df['url'].apply(lambda url: get_domain(url))\n",
    "    return df\n",
    "\n",
    "\n",
    "def make_filenames_df():\n",
    "    rows = [(file.name, file.name.split('-')[1].split('.')[0]) \n",
    "            for file in TEXTS_DIR.iterdir()]\n",
    "    return pd.DataFrame(rows, columns=['filename', 'md5_hash'])"
   ]
  },
  {
   "cell_type": "code",
   "execution_count": 19,
   "metadata": {
    "pycharm": {
     "is_executing": false
    }
   },
   "outputs": [],
   "source": [
    "urls_file = DATA_DIR / 'openwebtext-urls.csv'\n",
    "\n",
    "if urls_file.exists():\n",
    "    urls = pd.read_csv(urls_file)\n",
    "else:\n",
    "    pass\n",
    "    urls = make_urls_df()\n",
    "    filenames = make_filenames_df()\n",
    "    urls = urls.merge(filenames)\n",
    "    urls.to_csv(urls_file, index=False)"
   ]
  },
  {
   "cell_type": "code",
   "execution_count": 20,
   "metadata": {},
   "outputs": [
    {
     "data": {
      "text/html": [
       "<div>\n",
       "<style scoped>\n",
       "    .dataframe tbody tr th:only-of-type {\n",
       "        vertical-align: middle;\n",
       "    }\n",
       "\n",
       "    .dataframe tbody tr th {\n",
       "        vertical-align: top;\n",
       "    }\n",
       "\n",
       "    .dataframe thead th {\n",
       "        text-align: right;\n",
       "    }\n",
       "</style>\n",
       "<table border=\"1\" class=\"dataframe\">\n",
       "  <thead>\n",
       "    <tr style=\"text-align: right;\">\n",
       "      <th></th>\n",
       "      <th>url</th>\n",
       "      <th>filename</th>\n",
       "      <th>domain</th>\n",
       "    </tr>\n",
       "  </thead>\n",
       "  <tbody>\n",
       "    <tr>\n",
       "      <th>0</th>\n",
       "      <td>http://www.guardian.co.uk/world/2010/may/31/pu...</td>\n",
       "      <td>0610905-8d5bdc4f88bed43e4f5f606a43bf4d61.txt</td>\n",
       "      <td>guardian.co.uk</td>\n",
       "    </tr>\n",
       "    <tr>\n",
       "      <th>1</th>\n",
       "      <td>http://links.org.au/node/1719</td>\n",
       "      <td>0147024-8b731d228ad09fcff1cc3ed6e06450bb.txt</td>\n",
       "      <td>links.org.au</td>\n",
       "    </tr>\n",
       "    <tr>\n",
       "      <th>2</th>\n",
       "      <td>http://www.tricycle.com/blog/?p=1782</td>\n",
       "      <td>0286995-93a6dcb796e6448bbeebd07b5379956d.txt</td>\n",
       "      <td>tricycle.com</td>\n",
       "    </tr>\n",
       "    <tr>\n",
       "      <th>3</th>\n",
       "      <td>http://www.sciencebasedmedicine.org/?p=5339</td>\n",
       "      <td>0155423-cb5aead54795dbfc57a56ccd1dab5830.txt</td>\n",
       "      <td>sciencebasedmedicine.org</td>\n",
       "    </tr>\n",
       "    <tr>\n",
       "      <th>4</th>\n",
       "      <td>http://www.itbusiness.ca/it/client/en/home/New...</td>\n",
       "      <td>0019075-4f9b2593bd76ccdd1aede0c220045cec.txt</td>\n",
       "      <td>itbusiness.ca</td>\n",
       "    </tr>\n",
       "  </tbody>\n",
       "</table>\n",
       "</div>"
      ],
      "text/plain": [
       "                                                 url  \\\n",
       "0  http://www.guardian.co.uk/world/2010/may/31/pu...   \n",
       "1                      http://links.org.au/node/1719   \n",
       "2               http://www.tricycle.com/blog/?p=1782   \n",
       "3        http://www.sciencebasedmedicine.org/?p=5339   \n",
       "4  http://www.itbusiness.ca/it/client/en/home/New...   \n",
       "\n",
       "                                       filename                    domain  \n",
       "0  0610905-8d5bdc4f88bed43e4f5f606a43bf4d61.txt            guardian.co.uk  \n",
       "1  0147024-8b731d228ad09fcff1cc3ed6e06450bb.txt              links.org.au  \n",
       "2  0286995-93a6dcb796e6448bbeebd07b5379956d.txt              tricycle.com  \n",
       "3  0155423-cb5aead54795dbfc57a56ccd1dab5830.txt  sciencebasedmedicine.org  \n",
       "4  0019075-4f9b2593bd76ccdd1aede0c220045cec.txt             itbusiness.ca  "
      ]
     },
     "execution_count": 20,
     "metadata": {},
     "output_type": "execute_result"
    }
   ],
   "source": [
    "urls.head()"
   ]
  },
  {
   "cell_type": "code",
   "execution_count": 21,
   "metadata": {},
   "outputs": [
    {
     "data": {
      "text/plain": [
       "<matplotlib.axes._subplots.AxesSubplot at 0x7f1797a52690>"
      ]
     },
     "execution_count": 21,
     "metadata": {},
     "output_type": "execute_result"
    },
    {
     "data": {
      "image/png": "[encoded data removed]",
      "text/plain": [
       "<Figure size 432x288 with 1 Axes>"
      ]
     },
     "metadata": {
      "needs_background": "light"
     },
     "output_type": "display_data"
    }
   ],
   "source": [
    "urls['domain'].value_counts()[:20].plot(kind='bar')"
   ]
  },
  {
   "cell_type": "code",
   "execution_count": 22,
   "metadata": {},
   "outputs": [],
   "source": [
    "# TODO: plot the concentration in certain domains vs total population"
   ]
  },
  {
   "cell_type": "markdown",
   "metadata": {},
   "source": [
    "## Cross-reference domains"
   ]
  },
  {
   "cell_type": "code",
   "execution_count": 23,
   "metadata": {},
   "outputs": [],
   "source": [
    "subsample_dir = DATA_DIR / 'subsample-100k'"
   ]
  },
  {
   "cell_type": "code",
   "execution_count": 24,
   "metadata": {},
   "outputs": [],
   "source": [
    "docs = pd.read_csv(subsample_dir / 'docs.csv')"
   ]
  },
  {
   "cell_type": "code",
   "execution_count": 25,
   "metadata": {},
   "outputs": [
    {
     "data": {
      "text/html": [
       "<div>\n",
       "<style scoped>\n",
       "    .dataframe tbody tr th:only-of-type {\n",
       "        vertical-align: middle;\n",
       "    }\n",
       "\n",
       "    .dataframe tbody tr th {\n",
       "        vertical-align: top;\n",
       "    }\n",
       "\n",
       "    .dataframe thead th {\n",
       "        text-align: right;\n",
       "    }\n",
       "</style>\n",
       "<table border=\"1\" class=\"dataframe\">\n",
       "  <thead>\n",
       "    <tr style=\"text-align: right;\">\n",
       "      <th></th>\n",
       "      <th>filename</th>\n",
       "      <th>insult</th>\n",
       "      <th>severe_toxicity</th>\n",
       "      <th>toxicity</th>\n",
       "      <th>profanity</th>\n",
       "      <th>sexually_explicit</th>\n",
       "      <th>flirtation</th>\n",
       "      <th>identity_attack</th>\n",
       "      <th>threat</th>\n",
       "      <th>url</th>\n",
       "      <th>domain</th>\n",
       "    </tr>\n",
       "  </thead>\n",
       "  <tbody>\n",
       "    <tr>\n",
       "      <th>0</th>\n",
       "      <td>0765989-85ee86c9a7f4c4d907c88f7c228e0993.txt</td>\n",
       "      <td>0.166259</td>\n",
       "      <td>0.095567</td>\n",
       "      <td>0.210174</td>\n",
       "      <td>0.158753</td>\n",
       "      <td>0.184674</td>\n",
       "      <td>0.438737</td>\n",
       "      <td>0.166551</td>\n",
       "      <td>0.275649</td>\n",
       "      <td>https://www.gta5-mods.com/vehicles/civilian-st...</td>\n",
       "      <td>gta5-mods.com</td>\n",
       "    </tr>\n",
       "    <tr>\n",
       "      <th>1</th>\n",
       "      <td>0413785-8cbf5890b9c855b9b3948a3b7ecc5bc4.txt</td>\n",
       "      <td>0.237159</td>\n",
       "      <td>0.110659</td>\n",
       "      <td>0.218702</td>\n",
       "      <td>0.151735</td>\n",
       "      <td>0.154429</td>\n",
       "      <td>0.383025</td>\n",
       "      <td>0.276985</td>\n",
       "      <td>0.252646</td>\n",
       "      <td>http://howgoodisthat.wordpress.com/2011/07/06/...</td>\n",
       "      <td>howgoodisthat.wordpress.com</td>\n",
       "    </tr>\n",
       "    <tr>\n",
       "      <th>2</th>\n",
       "      <td>0737098-20caa78a189e92bc57f240dd868eb4aa.txt</td>\n",
       "      <td>0.077918</td>\n",
       "      <td>0.018136</td>\n",
       "      <td>0.062015</td>\n",
       "      <td>0.051664</td>\n",
       "      <td>0.096003</td>\n",
       "      <td>0.362622</td>\n",
       "      <td>0.106488</td>\n",
       "      <td>0.200510</td>\n",
       "      <td>https://www.macobserver.com/analysis/apple-mus...</td>\n",
       "      <td>macobserver.com</td>\n",
       "    </tr>\n",
       "    <tr>\n",
       "      <th>3</th>\n",
       "      <td>0515659-13b897846bc7bcefdbb3c4257af9e6fd.txt</td>\n",
       "      <td>0.210829</td>\n",
       "      <td>0.090574</td>\n",
       "      <td>0.210703</td>\n",
       "      <td>0.155614</td>\n",
       "      <td>0.133561</td>\n",
       "      <td>0.363002</td>\n",
       "      <td>0.310020</td>\n",
       "      <td>0.259051</td>\n",
       "      <td>http://www.3quarksdaily.com/3quarksdaily/2012/...</td>\n",
       "      <td>3quarksdaily.com</td>\n",
       "    </tr>\n",
       "    <tr>\n",
       "      <th>4</th>\n",
       "      <td>0581257-0ef524eaee4732e35a4c8579a0466bd6.txt</td>\n",
       "      <td>0.115500</td>\n",
       "      <td>0.039011</td>\n",
       "      <td>0.093650</td>\n",
       "      <td>0.097293</td>\n",
       "      <td>0.181966</td>\n",
       "      <td>0.387662</td>\n",
       "      <td>0.202243</td>\n",
       "      <td>0.223344</td>\n",
       "      <td>http://www.politico.com/news/stories/1112/8424...</td>\n",
       "      <td>politico.com</td>\n",
       "    </tr>\n",
       "    <tr>\n",
       "      <th>...</th>\n",
       "      <td>...</td>\n",
       "      <td>...</td>\n",
       "      <td>...</td>\n",
       "      <td>...</td>\n",
       "      <td>...</td>\n",
       "      <td>...</td>\n",
       "      <td>...</td>\n",
       "      <td>...</td>\n",
       "      <td>...</td>\n",
       "      <td>...</td>\n",
       "      <td>...</td>\n",
       "    </tr>\n",
       "    <tr>\n",
       "      <th>93867</th>\n",
       "      <td>0654080-c4311fdcadfb0155281d9c7fbb1cc324.txt</td>\n",
       "      <td>0.249497</td>\n",
       "      <td>0.163223</td>\n",
       "      <td>0.279961</td>\n",
       "      <td>0.187659</td>\n",
       "      <td>0.143322</td>\n",
       "      <td>0.387018</td>\n",
       "      <td>0.292027</td>\n",
       "      <td>0.390952</td>\n",
       "      <td>http://greenandblackmusic.com/home/2016/09/12/...</td>\n",
       "      <td>greenandblackmusic.com</td>\n",
       "    </tr>\n",
       "    <tr>\n",
       "      <th>93868</th>\n",
       "      <td>0945155-383c49316170b908d62e3901ce5cac2a.txt</td>\n",
       "      <td>0.224601</td>\n",
       "      <td>0.074300</td>\n",
       "      <td>0.205861</td>\n",
       "      <td>0.143784</td>\n",
       "      <td>0.107139</td>\n",
       "      <td>0.333164</td>\n",
       "      <td>0.268415</td>\n",
       "      <td>0.219009</td>\n",
       "      <td>http://www.vox.com/policy-and-politics/2017/4/...</td>\n",
       "      <td>vox.com</td>\n",
       "    </tr>\n",
       "    <tr>\n",
       "      <th>93869</th>\n",
       "      <td>0224093-d65526da751240afed7d032e355c8bb7.txt</td>\n",
       "      <td>0.119187</td>\n",
       "      <td>0.056591</td>\n",
       "      <td>0.119198</td>\n",
       "      <td>0.100447</td>\n",
       "      <td>0.186757</td>\n",
       "      <td>0.366368</td>\n",
       "      <td>0.210482</td>\n",
       "      <td>0.265610</td>\n",
       "      <td>https://fcpdnews.wordpress.com/2015/01/05/bank...</td>\n",
       "      <td>fcpdnews.wordpress.com</td>\n",
       "    </tr>\n",
       "    <tr>\n",
       "      <th>93870</th>\n",
       "      <td>0193804-e52dfd2b368c1f4390be9458d1b65f35.txt</td>\n",
       "      <td>0.089158</td>\n",
       "      <td>0.042683</td>\n",
       "      <td>0.083148</td>\n",
       "      <td>0.078585</td>\n",
       "      <td>0.135900</td>\n",
       "      <td>0.386534</td>\n",
       "      <td>0.139280</td>\n",
       "      <td>0.213621</td>\n",
       "      <td>http://www.ajc.com/news/news/local-obituaries/...</td>\n",
       "      <td>ajc.com</td>\n",
       "    </tr>\n",
       "    <tr>\n",
       "      <th>93871</th>\n",
       "      <td>0261275-800ce454ece291d2699316d4523f243b.txt</td>\n",
       "      <td>0.290888</td>\n",
       "      <td>0.228497</td>\n",
       "      <td>0.353031</td>\n",
       "      <td>0.366093</td>\n",
       "      <td>0.198696</td>\n",
       "      <td>0.467260</td>\n",
       "      <td>0.284160</td>\n",
       "      <td>0.309422</td>\n",
       "      <td>http://www.geekwire.com/2017/popular-newslette...</td>\n",
       "      <td>geekwire.com</td>\n",
       "    </tr>\n",
       "  </tbody>\n",
       "</table>\n",
       "<p>93872 rows × 11 columns</p>\n",
       "</div>"
      ],
      "text/plain": [
       "                                           filename    insult  \\\n",
       "0      0765989-85ee86c9a7f4c4d907c88f7c228e0993.txt  0.166259   \n",
       "1      0413785-8cbf5890b9c855b9b3948a3b7ecc5bc4.txt  0.237159   \n",
       "2      0737098-20caa78a189e92bc57f240dd868eb4aa.txt  0.077918   \n",
       "3      0515659-13b897846bc7bcefdbb3c4257af9e6fd.txt  0.210829   \n",
       "4      0581257-0ef524eaee4732e35a4c8579a0466bd6.txt  0.115500   \n",
       "...                                             ...       ...   \n",
       "93867  0654080-c4311fdcadfb0155281d9c7fbb1cc324.txt  0.249497   \n",
       "93868  0945155-383c49316170b908d62e3901ce5cac2a.txt  0.224601   \n",
       "93869  0224093-d65526da751240afed7d032e355c8bb7.txt  0.119187   \n",
       "93870  0193804-e52dfd2b368c1f4390be9458d1b65f35.txt  0.089158   \n",
       "93871  0261275-800ce454ece291d2699316d4523f243b.txt  0.290888   \n",
       "\n",
       "       severe_toxicity  toxicity  profanity  sexually_explicit  flirtation  \\\n",
       "0             0.095567  0.210174   0.158753           0.184674    0.438737   \n",
       "1             0.110659  0.218702   0.151735           0.154429    0.383025   \n",
       "2             0.018136  0.062015   0.051664           0.096003    0.362622   \n",
       "3             0.090574  0.210703   0.155614           0.133561    0.363002   \n",
       "4             0.039011  0.093650   0.097293           0.181966    0.387662   \n",
       "...                ...       ...        ...                ...         ...   \n",
       "93867         0.163223  0.279961   0.187659           0.143322    0.387018   \n",
       "93868         0.074300  0.205861   0.143784           0.107139    0.333164   \n",
       "93869         0.056591  0.119198   0.100447           0.186757    0.366368   \n",
       "93870         0.042683  0.083148   0.078585           0.135900    0.386534   \n",
       "93871         0.228497  0.353031   0.366093           0.198696    0.467260   \n",
       "\n",
       "       identity_attack    threat  \\\n",
       "0             0.166551  0.275649   \n",
       "1             0.276985  0.252646   \n",
       "2             0.106488  0.200510   \n",
       "3             0.310020  0.259051   \n",
       "4             0.202243  0.223344   \n",
       "...                ...       ...   \n",
       "93867         0.292027  0.390952   \n",
       "93868         0.268415  0.219009   \n",
       "93869         0.210482  0.265610   \n",
       "93870         0.139280  0.213621   \n",
       "93871         0.284160  0.309422   \n",
       "\n",
       "                                                     url  \\\n",
       "0      https://www.gta5-mods.com/vehicles/civilian-st...   \n",
       "1      http://howgoodisthat.wordpress.com/2011/07/06/...   \n",
       "2      https://www.macobserver.com/analysis/apple-mus...   \n",
       "3      http://www.3quarksdaily.com/3quarksdaily/2012/...   \n",
       "4      http://www.politico.com/news/stories/1112/8424...   \n",
       "...                                                  ...   \n",
       "93867  http://greenandblackmusic.com/home/2016/09/12/...   \n",
       "93868  http://www.vox.com/policy-and-politics/2017/4/...   \n",
       "93869  https://fcpdnews.wordpress.com/2015/01/05/bank...   \n",
       "93870  http://www.ajc.com/news/news/local-obituaries/...   \n",
       "93871  http://www.geekwire.com/2017/popular-newslette...   \n",
       "\n",
       "                            domain  \n",
       "0                    gta5-mods.com  \n",
       "1      howgoodisthat.wordpress.com  \n",
       "2                  macobserver.com  \n",
       "3                 3quarksdaily.com  \n",
       "4                     politico.com  \n",
       "...                            ...  \n",
       "93867       greenandblackmusic.com  \n",
       "93868                      vox.com  \n",
       "93869       fcpdnews.wordpress.com  \n",
       "93870                      ajc.com  \n",
       "93871                 geekwire.com  \n",
       "\n",
       "[93872 rows x 11 columns]"
      ]
     },
     "execution_count": 25,
     "metadata": {},
     "output_type": "execute_result"
    }
   ],
   "source": [
    "docs = docs.merge(urls)\n",
    "docs"
   ]
  },
  {
   "cell_type": "code",
   "execution_count": 33,
   "metadata": {},
   "outputs": [],
   "source": [
    "with open('reddit.jsonl') as f:\n",
    "    responses = [json.loads(line) for line in f]"
   ]
  },
  {
   "cell_type": "code",
   "execution_count": 50,
   "metadata": {},
   "outputs": [],
   "source": [
    "df = docs[:8702].copy()"
   ]
  },
  {
   "cell_type": "code",
   "execution_count": 51,
   "metadata": {},
   "outputs": [],
   "source": [
    "first_matches = [x[0] if x else None for x in responses]\n",
    "df['subreddit'] = [x['subreddit'] if x and 'subreddit' in x else None for x in first_matches]\n",
    "df['title'] = [x['title'] if x and 'title' in x else None for x in first_matches]"
   ]
  },
  {
   "cell_type": "code",
   "execution_count": 54,
   "metadata": {},
   "outputs": [],
   "source": [
    "df.to_csv('reddit_meta_sample.csv', index=False)"
   ]
  },
  {
   "cell_type": "code",
   "execution_count": 60,
   "metadata": {},
   "outputs": [],
   "source": [
    "from collections import Counter"
   ]
  },
  {
   "cell_type": "code",
   "execution_count": 62,
   "metadata": {},
   "outputs": [],
   "source": [
    "subreddit_counts = Counter(df.subreddit)"
   ]
  },
  {
   "cell_type": "code",
   "execution_count": 64,
   "metadata": {},
   "outputs": [
    {
     "data": {
      "text/plain": [
       "[('politics', 314),\n",
       " ('POLITIC', 284),\n",
       " ('The_Donald', 182),\n",
       " ('worldnews', 174),\n",
       " ('todayilearned', 139),\n",
       " ('news', 134),\n",
       " ('india', 116),\n",
       " ('reddit.com', 94),\n",
       " ('australia', 71),\n",
       " ('conspiracy', 66),\n",
       " ('technology', 62),\n",
       " ('unitedkingdom', 55),\n",
       " ('canada', 50),\n",
       " ('nottheonion', 50),\n",
       " ('science', 49),\n",
       " ('Conservative', 47),\n",
       " ('soccer', 46),\n",
       " ('worldpolitics', 44),\n",
       " ('environment', 43),\n",
       " ('gaming', 42)]"
      ]
     },
     "execution_count": 64,
     "metadata": {},
     "output_type": "execute_result"
    }
   ],
   "source": [
    "subreddit_counts.most_common(20)"
   ]
  },
  {
   "cell_type": "code",
   "execution_count": 65,
   "metadata": {},
   "outputs": [
    {
     "data": {
      "text/plain": [
       "[('politics', 0.03608365892898184),\n",
       " ('POLITIC', 0.03263617559181797),\n",
       " ('The_Donald', 0.020914732245460813),\n",
       " ('worldnews', 0.01999540335555045),\n",
       " ('todayilearned', 0.0159733394621926),\n",
       " ('news', 0.015398758905998622),\n",
       " ('india', 0.0133302689037003),\n",
       " ('reddit.com', 0.010802114456446793),\n",
       " ('australia', 0.008159043897954493),\n",
       " ('conspiracy', 0.0075844633417605145),\n",
       " ('technology', 0.007124798896805332),\n",
       " ('unitedkingdom', 0.006320386118133762),\n",
       " ('canada', 0.005745805561939784),\n",
       " ('nottheonion', 0.005745805561939784),\n",
       " ('science', 0.005630889450700988),\n",
       " ('Conservative', 0.005401057228223397),\n",
       " ('soccer', 0.005286141116984601),\n",
       " ('worldpolitics', 0.00505630889450701),\n",
       " ('environment', 0.004941392783268214),\n",
       " ('gaming', 0.004826476672029419)]"
      ]
     },
     "execution_count": 65,
     "metadata": {},
     "output_type": "execute_result"
    }
   ],
   "source": [
    "[(name, count / len(df)) for name, count in subreddit_counts.most_common(20)]"
   ]
  },
  {
   "cell_type": "code",
   "execution_count": null,
   "metadata": {},
   "outputs": [],
   "source": []
  }
 ],
 "metadata": {
  "kernelspec": {
   "display_name": "Python 3",
   "language": "python",
   "name": "python3"
  },
  "language_info": {
   "codemirror_mode": {
    "name": "ipython",
    "version": 3
   },
   "file_extension": ".py",
   "mimetype": "text/x-python",
   "name": "python",
   "nbconvert_exporter": "python",
   "pygments_lexer": "ipython3",
   "version": "3.7.6"
  },
  "pycharm": {
   "stem_cell": {
    "cell_type": "raw",
    "metadata": {
     "collapsed": false
    },
    "source": []
   }
  }
 },
 "nbformat": 4,
 "nbformat_minor": 4
}
